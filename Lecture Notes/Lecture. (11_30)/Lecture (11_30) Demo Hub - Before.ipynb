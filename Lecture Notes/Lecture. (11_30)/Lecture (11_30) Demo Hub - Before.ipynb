{
 "cells": [
  {
   "cell_type": "markdown",
   "id": "ef4f0a85",
   "metadata": {},
   "source": [
    "# [Python Reference Link](http://www.data8.org/sp20/python-reference.html)\n",
    "*Run the cell below so that we can set our modules up*"
   ]
  },
  {
   "cell_type": "code",
   "execution_count": null,
   "id": "43e6bb51",
   "metadata": {},
   "outputs": [],
   "source": [
    "import numpy as np\n",
    "from datascience import *\n",
    "import math as m\n",
    "\n",
    "# These lines do some fancy plotting magic.\n",
    "import matplotlib\n",
    "%matplotlib inline\n",
    "import matplotlib.pyplot as plt\n",
    "plt.style.use('fivethirtyeight')\n",
    "import warnings\n",
    "warnings.simplefilter('ignore', FutureWarning)"
   ]
  },
  {
   "cell_type": "code",
   "execution_count": null,
   "id": "056a01a0",
   "metadata": {},
   "outputs": [],
   "source": [
    "tumor_data = Table.read_table(\"data.csv\").drop('id','Unnamed: 32')\n",
    "tumor_data"
   ]
  },
  {
   "cell_type": "markdown",
   "id": "21b3d43b",
   "metadata": {},
   "source": [
    "# Let's take a look at ScatterPlots"
   ]
  },
  {
   "cell_type": "code",
   "execution_count": null,
   "id": "c74ee93a",
   "metadata": {
    "scrolled": false
   },
   "outputs": [],
   "source": [
    "tumor_labels = list(tumor_data.labels)\n",
    "tumor_attribute_list = tumor_labels[1:]\n",
    "tumor_attribute_array = tumor_attribute_list"
   ]
  },
  {
   "cell_type": "code",
   "execution_count": null,
   "id": "18ba2393",
   "metadata": {},
   "outputs": [],
   "source": [
    "# Caution, this will crash the kernel due to the volume of outputs. \n",
    "\n",
    "for x in tumor_attribute_list:\n",
    "    tumor_attribute_list.remove(x)\n",
    "    for y in tumor_attribute_list:\n",
    "        tumor_data.scatter(x,y,group='diagnosis')"
   ]
  },
  {
   "cell_type": "code",
   "execution_count": null,
   "id": "e345e98f",
   "metadata": {},
   "outputs": [],
   "source": [
    "# This reduces the list of attributes to examine the means only, to avoid crashing the kernel. \n",
    "tumor_labels = list(tumor_data.labels)\n",
    "tumor_attribute_list_means_only = tumor_labels[1:11]\n",
    "tumor_attribute_array_means_only = tumor_attribute_list_means_only"
   ]
  },
  {
   "cell_type": "code",
   "execution_count": null,
   "id": "77140f34",
   "metadata": {},
   "outputs": [],
   "source": [
    "# This reduces the list of attributes to examine the means only, to avoid crashing the kernel. \n",
    "for x in tumor_attribute_list_means_only:\n",
    "    tumor_attribute_list_means_only.remove(x)\n",
    "    for y in tumor_attribute_list_means_only:\n",
    "        tumor_data.scatter(x,y,group='diagnosis')"
   ]
  },
  {
   "cell_type": "markdown",
   "id": "868cc9d1",
   "metadata": {},
   "source": [
    "# Steps covered in (5/09) lecture, now defined as functions"
   ]
  },
  {
   "cell_type": "code",
   "execution_count": null,
   "id": "6546910f",
   "metadata": {},
   "outputs": [],
   "source": [
    "# The function below will take a table, and a number as inputs. \n",
    "# Then the function will randomly shuffle the rows of the table and take the input number of rows for the training set. \n",
    "# The remaining rows will be stored as the test set. \n",
    "# The function returns both the training set and the test set. \n",
    "\n",
    "def train_test_separation(tbl,num_for_train):\n",
    "    shuffled_tbl = tbl.sample(with_replacement = False)\n",
    "    \n",
    "    train_tbl = shuffled_tbl.take(np.arange(num_for_train))\n",
    "    test_tbl = shuffled_tbl.take(np.arange(num_for_train,tbl.num_rows))\n",
    "    \n",
    "    print(\"Training set:\\t\",   train_tbl.num_rows, \"examples\")\n",
    "    print(\"Test set:\\t\",       test_tbl.num_rows, \"examples\")\n",
    "    \n",
    "    return train_tbl, test_tbl\n",
    "\n",
    "# The function below will take in two arrays of numbers as inputs. \n",
    "# It will then compute the Euclidean distance between the those two arrays as an output. \n",
    "\n",
    "def distance(array_one,array_two):\n",
    "    return (sum((array_one - array_two)**2))**(0.5)"
   ]
  },
  {
   "cell_type": "markdown",
   "id": "a414d70c",
   "metadata": {},
   "source": [
    "#### The following function below is defined for you homework 12"
   ]
  },
  {
   "cell_type": "code",
   "execution_count": null,
   "id": "07713eea",
   "metadata": {},
   "outputs": [],
   "source": [
    "# row (input): a row from the table \n",
    "# features (input): an array of column labels. These labels are the attributes that will help us classify individuals. \n",
    "# Note: the attributes must be numerical to help us pass them through the distance function defined above. \n",
    "\n",
    "def row_to_array(row, features):\n",
    "    \"\"\"Converts a row to an array of its features.\"\"\"\n",
    "    arr = make_array()\n",
    "    for feature in features:\n",
    "        arr = np.append(arr, row.item(feature))\n",
    "    return arr"
   ]
  },
  {
   "cell_type": "markdown",
   "id": "5ac99e9b",
   "metadata": {},
   "source": [
    "# Let's classify these tumor cells"
   ]
  },
  {
   "cell_type": "markdown",
   "id": "fef73b49",
   "metadata": {},
   "source": [
    "## Finding the `k` Nearest Neighbors"
   ]
  },
  {
   "cell_type": "markdown",
   "id": "d4918bb5",
   "metadata": {},
   "source": [
    "### Some pre-formatting:"
   ]
  },
  {
   "cell_type": "code",
   "execution_count": null,
   "id": "863019f3",
   "metadata": {},
   "outputs": [],
   "source": [
    "train, test = train_test_separation(tumor_data,450)"
   ]
  },
  {
   "cell_type": "code",
   "execution_count": null,
   "id": "53457484",
   "metadata": {},
   "outputs": [],
   "source": [
    "row_to_test = test.row(0)\n",
    "row_to_test"
   ]
  },
  {
   "cell_type": "code",
   "execution_count": null,
   "id": "0726d0cc",
   "metadata": {},
   "outputs": [],
   "source": [
    "test_features_array = row_to_array(row_to_test,tumor_attribute_array)\n",
    "test_features_array"
   ]
  },
  {
   "cell_type": "markdown",
   "id": "9c95cb43",
   "metadata": {},
   "source": [
    "### Find the distance between the example (i.e. test row) and each example in the training set"
   ]
  },
  {
   "cell_type": "code",
   "execution_count": null,
   "id": "c9806361",
   "metadata": {},
   "outputs": [],
   "source": [
    "# we will store the distance between the test row with all the rows in the training set. \n",
    "distances = make_array()\n",
    "\n",
    "# we will iterate through the training set row by row.  \n",
    "for train_row in train.rows:\n",
    "    #convert the train_row into an array also\n",
    "    ...\n",
    "    # compute the distance between the test row array and test row array\n",
    "    ...\n",
    "    # save the distance between these two arrays (test row and train row) into the distances array\n",
    "    ...\n",
    "    \n",
    "\n",
    "distances"
   ]
  },
  {
   "cell_type": "markdown",
   "id": "a0034901",
   "metadata": {},
   "source": [
    "### Augment the training data table with a column containing all the distances"
   ]
  },
  {
   "cell_type": "code",
   "execution_count": null,
   "id": "5c7b2e55",
   "metadata": {},
   "outputs": [],
   "source": [
    "train_with_distances = ..."
   ]
  },
  {
   "cell_type": "code",
   "execution_count": null,
   "id": "d7feaa02",
   "metadata": {},
   "outputs": [],
   "source": []
  },
  {
   "cell_type": "markdown",
   "id": "649d9032",
   "metadata": {},
   "source": [
    "### Sort the augmented table in increasing order of the distances"
   ]
  },
  {
   "cell_type": "code",
   "execution_count": null,
   "id": "4526b973",
   "metadata": {},
   "outputs": [],
   "source": [
    "sorted_training = ..."
   ]
  },
  {
   "cell_type": "code",
   "execution_count": null,
   "id": "5bcef85f",
   "metadata": {},
   "outputs": [],
   "source": []
  },
  {
   "cell_type": "markdown",
   "id": "e875fb75",
   "metadata": {},
   "source": [
    "### Take the top `k` rows of the sorted table"
   ]
  },
  {
   "cell_type": "code",
   "execution_count": null,
   "id": "506da356",
   "metadata": {},
   "outputs": [],
   "source": [
    "top_k_training = ..."
   ]
  },
  {
   "cell_type": "code",
   "execution_count": null,
   "id": "586d29d6",
   "metadata": {},
   "outputs": [],
   "source": []
  },
  {
   "cell_type": "markdown",
   "id": "09b6ffa9",
   "metadata": {},
   "source": [
    "## The Classifier"
   ]
  },
  {
   "cell_type": "markdown",
   "id": "e37453d4",
   "metadata": {},
   "source": [
    "### Take a majority vote of the `k` nearest neighbors to see which of the two classes appear most often (visually)"
   ]
  },
  {
   "cell_type": "code",
   "execution_count": null,
   "id": "b91ed8c2",
   "metadata": {},
   "outputs": [],
   "source": [
    "top_k_training.scatter(...,...,group = 'diagnosis')"
   ]
  },
  {
   "cell_type": "markdown",
   "id": "9c862a55",
   "metadata": {},
   "source": [
    "### Take a majority vote of the `k` nearest neighbors to see which of the two classes appear most often (algorithm)"
   ]
  },
  {
   "cell_type": "code",
   "execution_count": null,
   "id": "e8e3a876",
   "metadata": {},
   "outputs": [],
   "source": []
  },
  {
   "cell_type": "markdown",
   "id": "c37bea13",
   "metadata": {},
   "source": [
    "# Evaluating your classifier (Accuracy)"
   ]
  },
  {
   "cell_type": "code",
   "execution_count": null,
   "id": "d408909d",
   "metadata": {},
   "outputs": [],
   "source": []
  },
  {
   "cell_type": "code",
   "execution_count": null,
   "id": "ba4fbcbb",
   "metadata": {},
   "outputs": [],
   "source": []
  },
  {
   "cell_type": "code",
   "execution_count": null,
   "id": "72b40887",
   "metadata": {},
   "outputs": [],
   "source": []
  }
 ],
 "metadata": {
  "kernelspec": {
   "display_name": "Python 3 (ipykernel)",
   "language": "python",
   "name": "python3"
  },
  "language_info": {
   "codemirror_mode": {
    "name": "ipython",
    "version": 3
   },
   "file_extension": ".py",
   "mimetype": "text/x-python",
   "name": "python",
   "nbconvert_exporter": "python",
   "pygments_lexer": "ipython3",
   "version": "3.10.11"
  }
 },
 "nbformat": 4,
 "nbformat_minor": 5
}
