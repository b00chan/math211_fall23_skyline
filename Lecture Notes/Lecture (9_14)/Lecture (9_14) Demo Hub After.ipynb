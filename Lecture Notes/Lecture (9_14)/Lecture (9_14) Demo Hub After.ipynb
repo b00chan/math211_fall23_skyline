{
 "cells": [
  {
   "cell_type": "markdown",
   "id": "ad2e12c1",
   "metadata": {},
   "source": [
    "# [Python Reference Link](http://www.data8.org/sp20/python-reference.html)\n",
    "*Run the cell below so that we can set our modules up*"
   ]
  },
  {
   "cell_type": "code",
   "execution_count": 1,
   "id": "ed49d269",
   "metadata": {},
   "outputs": [],
   "source": [
    "import numpy as np\n",
    "from datascience import *"
   ]
  },
  {
   "cell_type": "markdown",
   "id": "c5f4467f",
   "metadata": {},
   "source": [
    "# Building Tables"
   ]
  },
  {
   "cell_type": "code",
   "execution_count": 2,
   "id": "783b5878",
   "metadata": {},
   "outputs": [
    {
     "data": {
      "text/html": [
       "<table border=\"1\" class=\"dataframe\">\n",
       "    <thead>\n",
       "        <tr>\n",
       "            <th>Timestamp</th> <th>Surveyor</th> <th>GPA</th> <th>introversion/extroversion</th> <th>Pets</th> <th>Handed</th> <th>Sleep Position</th> <th>K-Pop</th> <th>K-Pop Group</th> <th>travel destination</th> <th>Birthplace </th> <th>Transfer destination</th> <th>Fear</th> <th>Music Genre</th> <th>Color </th>\n",
       "        </tr>\n",
       "    </thead>\n",
       "    <tbody>\n",
       "        <tr>\n",
       "            <td>8/17/2023 16:33</td> <td>Christian Le</td> <td>2.86</td> <td>6                        </td> <td>Dogs</td> <td>Right-handed</td> <td>On my side    </td> <td>Yes  </td> <td>Le Sserafim</td> <td>Japan             </td> <td>Local      </td> <td>UC                  </td> <td>Working           </td> <td>Pop        </td> <td>Red   </td>\n",
       "        </tr>\n",
       "        <tr>\n",
       "            <td>8/17/2023 16:34</td> <td>Christian Le</td> <td>4   </td> <td>8                        </td> <td>nan </td> <td>Right-handed</td> <td>On my back    </td> <td>Yes  </td> <td>Le Sserafim</td> <td>Switzerland       </td> <td>Local      </td> <td>UC                  </td> <td>A regretful life  </td> <td>All        </td> <td>Black </td>\n",
       "        </tr>\n",
       "        <tr>\n",
       "            <td>8/17/2023 16:38</td> <td>Christian Le</td> <td>2.5 </td> <td>8                        </td> <td>Cats</td> <td>Right-handed</td> <td>On my stomach </td> <td>Yes  </td> <td>Seventeen  </td> <td>Hawaii            </td> <td>Local      </td> <td>UC Transfer         </td> <td>Death, Spiders    </td> <td>R&B, K-POP </td> <td>Green </td>\n",
       "        </tr>\n",
       "        <tr>\n",
       "            <td>8/17/2023 16:38</td> <td>Christian Le</td> <td>3.96</td> <td>6                        </td> <td>Cats</td> <td>Right-handed</td> <td>On my side    </td> <td>Yes  </td> <td>STAYC      </td> <td>Costa Rica        </td> <td>Local      </td> <td>UC Grad             </td> <td>Loss of loved ones</td> <td>R&B, K-POP </td> <td>Purple</td>\n",
       "        </tr>\n",
       "    </tbody>\n",
       "</table>\n",
       "<p>... (229 rows omitted)</p>"
      ],
      "text/plain": [
       "<IPython.core.display.HTML object>"
      ]
     },
     "metadata": {},
     "output_type": "display_data"
    }
   ],
   "source": [
    "math211_survey = Table.read_table('Math211_FallSurvey.csv')\n",
    "math211_survey.show(4)"
   ]
  },
  {
   "cell_type": "code",
   "execution_count": 3,
   "id": "70724c62",
   "metadata": {},
   "outputs": [
    {
     "data": {
      "text/plain": [
       "array(['Netflix', 'HBO Max', 'Hulu', 'Crunchyroll', 'Spotify', 'DoorDash',\n",
       "       'AmazonPrime', 'Discord Nitro'],\n",
       "      dtype='<U13')"
      ]
     },
     "execution_count": 3,
     "metadata": {},
     "output_type": "execute_result"
    }
   ],
   "source": [
    "subscription = make_array('Netflix','HBO Max','Hulu','Crunchyroll','Spotify','DoorDash','AmazonPrime','Discord Nitro')\n",
    "subscription"
   ]
  },
  {
   "cell_type": "code",
   "execution_count": 4,
   "id": "b8e766a5",
   "metadata": {},
   "outputs": [
    {
     "data": {
      "text/plain": [
       "array([ 19.99      ,  14.99      ,   9.99      ,   9.99      ,\n",
       "         9.99      ,   9.99      ,  10.83333333,  14.16416667])"
      ]
     },
     "execution_count": 4,
     "metadata": {},
     "output_type": "execute_result"
    }
   ],
   "source": [
    "#Amazon and Discord are annual fees\n",
    "month_fee_cost = make_array(19.99,14.99,9.99,9.99,9.99,9.99,(130/12),(169.97/12))\n",
    "month_fee_cost"
   ]
  },
  {
   "cell_type": "code",
   "execution_count": 5,
   "id": "fa5dc5ba",
   "metadata": {},
   "outputs": [
    {
     "data": {
      "text/html": [
       "<table border=\"1\" class=\"dataframe\">\n",
       "    <thead>\n",
       "        <tr>\n",
       "            <th>Subscription</th> <th>$$ per month</th>\n",
       "        </tr>\n",
       "    </thead>\n",
       "    <tbody>\n",
       "        <tr>\n",
       "            <td>Netflix      </td> <td>19.99       </td>\n",
       "        </tr>\n",
       "        <tr>\n",
       "            <td>HBO Max      </td> <td>14.99       </td>\n",
       "        </tr>\n",
       "        <tr>\n",
       "            <td>Hulu         </td> <td>9.99        </td>\n",
       "        </tr>\n",
       "        <tr>\n",
       "            <td>Crunchyroll  </td> <td>9.99        </td>\n",
       "        </tr>\n",
       "        <tr>\n",
       "            <td>Spotify      </td> <td>9.99        </td>\n",
       "        </tr>\n",
       "        <tr>\n",
       "            <td>DoorDash     </td> <td>9.99        </td>\n",
       "        </tr>\n",
       "        <tr>\n",
       "            <td>AmazonPrime  </td> <td>10.8333     </td>\n",
       "        </tr>\n",
       "        <tr>\n",
       "            <td>Discord Nitro</td> <td>14.1642     </td>\n",
       "        </tr>\n",
       "    </tbody>\n",
       "</table>"
      ],
      "text/plain": [
       "Subscription  | $$ per month\n",
       "Netflix       | 19.99\n",
       "HBO Max       | 14.99\n",
       "Hulu          | 9.99\n",
       "Crunchyroll   | 9.99\n",
       "Spotify       | 9.99\n",
       "DoorDash      | 9.99\n",
       "AmazonPrime   | 10.8333\n",
       "Discord Nitro | 14.1642"
      ]
     },
     "execution_count": 5,
     "metadata": {},
     "output_type": "execute_result"
    }
   ],
   "source": [
    "bryans_monthly_subscriptions = Table().with_columns('Subscription',subscription,'$$ per month',month_fee_cost)\n",
    "bryans_monthly_subscriptions"
   ]
  },
  {
   "cell_type": "code",
   "execution_count": 6,
   "id": "2023e898",
   "metadata": {},
   "outputs": [
    {
     "data": {
      "text/plain": [
       "array([ 239.88,  179.88,  119.88,  119.88,  119.88,  119.88,  130.  ,\n",
       "        169.97])"
      ]
     },
     "execution_count": 6,
     "metadata": {},
     "output_type": "execute_result"
    }
   ],
   "source": [
    "#annual_cost = bryans_monthly_subscriptions.column('$$ per month') * 12\n",
    "#OR, below\n",
    "annual_cost = month_fee_cost *12 \n",
    "annual_cost"
   ]
  },
  {
   "cell_type": "code",
   "execution_count": 7,
   "id": "69940014",
   "metadata": {
    "scrolled": true
   },
   "outputs": [
    {
     "data": {
      "text/html": [
       "<table border=\"1\" class=\"dataframe\">\n",
       "    <thead>\n",
       "        <tr>\n",
       "            <th>Subscription</th> <th>$$ per month</th> <th>$$ each year</th>\n",
       "        </tr>\n",
       "    </thead>\n",
       "    <tbody>\n",
       "        <tr>\n",
       "            <td>Netflix      </td> <td>19.99       </td> <td>239.88      </td>\n",
       "        </tr>\n",
       "        <tr>\n",
       "            <td>HBO Max      </td> <td>14.99       </td> <td>179.88      </td>\n",
       "        </tr>\n",
       "        <tr>\n",
       "            <td>Hulu         </td> <td>9.99        </td> <td>119.88      </td>\n",
       "        </tr>\n",
       "        <tr>\n",
       "            <td>Crunchyroll  </td> <td>9.99        </td> <td>119.88      </td>\n",
       "        </tr>\n",
       "        <tr>\n",
       "            <td>Spotify      </td> <td>9.99        </td> <td>119.88      </td>\n",
       "        </tr>\n",
       "        <tr>\n",
       "            <td>DoorDash     </td> <td>9.99        </td> <td>119.88      </td>\n",
       "        </tr>\n",
       "        <tr>\n",
       "            <td>AmazonPrime  </td> <td>10.8333     </td> <td>130         </td>\n",
       "        </tr>\n",
       "        <tr>\n",
       "            <td>Discord Nitro</td> <td>14.1642     </td> <td>169.97      </td>\n",
       "        </tr>\n",
       "    </tbody>\n",
       "</table>"
      ],
      "text/plain": [
       "Subscription  | $$ per month | $$ each year\n",
       "Netflix       | 19.99        | 239.88\n",
       "HBO Max       | 14.99        | 179.88\n",
       "Hulu          | 9.99         | 119.88\n",
       "Crunchyroll   | 9.99         | 119.88\n",
       "Spotify       | 9.99         | 119.88\n",
       "DoorDash      | 9.99         | 119.88\n",
       "AmazonPrime   | 10.8333      | 130\n",
       "Discord Nitro | 14.1642      | 169.97"
      ]
     },
     "execution_count": 7,
     "metadata": {},
     "output_type": "execute_result"
    }
   ],
   "source": [
    "new_table = bryans_monthly_subscriptions.with_column('$$ each year',annual_cost)#.drop('$$ per month')\n",
    "new_table"
   ]
  },
  {
   "cell_type": "code",
   "execution_count": 8,
   "id": "8345a7e1",
   "metadata": {},
   "outputs": [
    {
     "data": {
      "text/plain": [
       "1199.25"
      ]
     },
     "execution_count": 8,
     "metadata": {},
     "output_type": "execute_result"
    }
   ],
   "source": [
    "sum(annual_cost)"
   ]
  },
  {
   "cell_type": "code",
   "execution_count": 9,
   "id": "b0a36844",
   "metadata": {},
   "outputs": [],
   "source": [
    "new_new = new_table.take(np.arange(4))"
   ]
  },
  {
   "cell_type": "code",
   "execution_count": 10,
   "id": "0ef1f9bd",
   "metadata": {},
   "outputs": [
    {
     "data": {
      "text/html": [
       "<table border=\"1\" class=\"dataframe\">\n",
       "    <thead>\n",
       "        <tr>\n",
       "            <th>Subscription</th> <th>$$ per month</th> <th>$$ each year</th>\n",
       "        </tr>\n",
       "    </thead>\n",
       "    <tbody>\n",
       "        <tr>\n",
       "            <td>Netflix      </td> <td>19.99       </td> <td>239.88      </td>\n",
       "        </tr>\n",
       "        <tr>\n",
       "            <td>HBO Max      </td> <td>14.99       </td> <td>179.88      </td>\n",
       "        </tr>\n",
       "        <tr>\n",
       "            <td>Hulu         </td> <td>9.99        </td> <td>119.88      </td>\n",
       "        </tr>\n",
       "        <tr>\n",
       "            <td>Crunchyroll  </td> <td>9.99        </td> <td>119.88      </td>\n",
       "        </tr>\n",
       "        <tr>\n",
       "            <td>Spotify      </td> <td>9.99        </td> <td>119.88      </td>\n",
       "        </tr>\n",
       "        <tr>\n",
       "            <td>DoorDash     </td> <td>9.99        </td> <td>119.88      </td>\n",
       "        </tr>\n",
       "        <tr>\n",
       "            <td>AmazonPrime  </td> <td>10.8333     </td> <td>130         </td>\n",
       "        </tr>\n",
       "        <tr>\n",
       "            <td>Discord Nitro</td> <td>14.1642     </td> <td>169.97      </td>\n",
       "        </tr>\n",
       "    </tbody>\n",
       "</table>"
      ],
      "text/plain": [
       "Subscription  | $$ per month | $$ each year\n",
       "Netflix       | 19.99        | 239.88\n",
       "HBO Max       | 14.99        | 179.88\n",
       "Hulu          | 9.99         | 119.88\n",
       "Crunchyroll   | 9.99         | 119.88\n",
       "Spotify       | 9.99         | 119.88\n",
       "DoorDash      | 9.99         | 119.88\n",
       "AmazonPrime   | 10.8333      | 130\n",
       "Discord Nitro | 14.1642      | 169.97"
      ]
     },
     "execution_count": 10,
     "metadata": {},
     "output_type": "execute_result"
    }
   ],
   "source": [
    "#since new_table.take() was not assigned to a variable (old or new) the result of the .take() method was not saved\n",
    "new_table"
   ]
  },
  {
   "cell_type": "code",
   "execution_count": 11,
   "id": "3c6583a8",
   "metadata": {},
   "outputs": [
    {
     "data": {
      "text/html": [
       "<table border=\"1\" class=\"dataframe\">\n",
       "    <thead>\n",
       "        <tr>\n",
       "            <th>Subscription</th> <th>$$ per month</th> <th>$$ each year</th>\n",
       "        </tr>\n",
       "    </thead>\n",
       "    <tbody>\n",
       "        <tr>\n",
       "            <td>Netflix     </td> <td>19.99       </td> <td>239.88      </td>\n",
       "        </tr>\n",
       "        <tr>\n",
       "            <td>HBO Max     </td> <td>14.99       </td> <td>179.88      </td>\n",
       "        </tr>\n",
       "        <tr>\n",
       "            <td>Hulu        </td> <td>9.99        </td> <td>119.88      </td>\n",
       "        </tr>\n",
       "        <tr>\n",
       "            <td>Crunchyroll </td> <td>9.99        </td> <td>119.88      </td>\n",
       "        </tr>\n",
       "    </tbody>\n",
       "</table>"
      ],
      "text/plain": [
       "Subscription | $$ per month | $$ each year\n",
       "Netflix      | 19.99        | 239.88\n",
       "HBO Max      | 14.99        | 179.88\n",
       "Hulu         | 9.99         | 119.88\n",
       "Crunchyroll  | 9.99         | 119.88"
      ]
     },
     "execution_count": 11,
     "metadata": {},
     "output_type": "execute_result"
    }
   ],
   "source": [
    "new_new"
   ]
  },
  {
   "cell_type": "markdown",
   "id": "f518ca57",
   "metadata": {},
   "source": [
    "# Order of Operations with tables"
   ]
  },
  {
   "cell_type": "markdown",
   "id": "868124cc",
   "metadata": {},
   "source": [
    "Let's run the cell below and take a look at the following movie dataset:"
   ]
  },
  {
   "cell_type": "code",
   "execution_count": 12,
   "id": "62f6f472",
   "metadata": {},
   "outputs": [
    {
     "data": {
      "text/html": [
       "<table border=\"1\" class=\"dataframe\">\n",
       "    <thead>\n",
       "        <tr>\n",
       "            <th>index</th> <th>Title</th> <th>Release Date</th> <th>Year</th> <th>Description</th> <th>URL</th> <th>IMDb Rating</th> <th>Runtime (mins)</th> <th>Genres</th> <th>Num Votes</th> <th>Directors</th> <th>Movie Series</th> <th>Order</th>\n",
       "        </tr>\n",
       "    </thead>\n",
       "    <tbody>\n",
       "        <tr>\n",
       "            <td>0    </td> <td>101 Dalmatians       </td> <td>18-11-1996  </td> <td>1996</td> <td>nan        </td> <td>https://www.imdb.com/title/tt0115433/</td> <td>5.7        </td> <td>103           </td> <td>Adventure, Comedy, Crime, Family</td> <td>98439    </td> <td>Stephen Herek                </td> <td>101 Dalmatians</td> <td>1    </td>\n",
       "        </tr>\n",
       "        <tr>\n",
       "            <td>1    </td> <td>102 Dalmatians       </td> <td>22-11-2000  </td> <td>2000</td> <td>nan        </td> <td>https://www.imdb.com/title/tt0211181/</td> <td>4.9        </td> <td>100           </td> <td>Adventure, Comedy, Family       </td> <td>33823    </td> <td>Kevin Lima                   </td> <td>101 Dalmatians</td> <td>2    </td>\n",
       "        </tr>\n",
       "        <tr>\n",
       "            <td>2    </td> <td>12 Rounds            </td> <td>19-03-2009  </td> <td>2009</td> <td>nan        </td> <td>https://www.imdb.com/title/tt1160368/</td> <td>5.6        </td> <td>108           </td> <td>Action, Crime, Thriller         </td> <td>26828    </td> <td>Renny Harlin                 </td> <td>12 Rounds     </td> <td>1    </td>\n",
       "        </tr>\n",
       "        <tr>\n",
       "            <td>3    </td> <td>12 Rounds 2: Reloaded</td> <td>04-06-2013  </td> <td>2013</td> <td>nan        </td> <td>https://www.imdb.com/title/tt2317524/</td> <td>5.3        </td> <td>95            </td> <td>Action, Adventure, Thriller     </td> <td>5141     </td> <td>Roel Reiné                   </td> <td>12 Rounds     </td> <td>2    </td>\n",
       "        </tr>\n",
       "        <tr>\n",
       "            <td>4    </td> <td>21 Jump Street       </td> <td>12-03-2012  </td> <td>2012</td> <td>nan        </td> <td>https://www.imdb.com/title/tt1232829/</td> <td>7.2        </td> <td>109           </td> <td>Action, Comedy, Crime           </td> <td>498876   </td> <td>Christopher Miller, Phil Lord</td> <td>21 Jump Street</td> <td>1    </td>\n",
       "        </tr>\n",
       "    </tbody>\n",
       "</table>\n",
       "<p>... (861 rows omitted)</p>"
      ],
      "text/plain": [
       "<IPython.core.display.HTML object>"
      ]
     },
     "metadata": {},
     "output_type": "display_data"
    }
   ],
   "source": [
    "movies = Table.read_table('Movies - Cleaned.csv')\n",
    "movies.show(5)"
   ]
  },
  {
   "cell_type": "markdown",
   "id": "a2c6cab6",
   "metadata": {},
   "source": [
    "## Question: How many movies in this data set were sequels?"
   ]
  },
  {
   "cell_type": "code",
   "execution_count": 16,
   "id": "51de610b",
   "metadata": {},
   "outputs": [
    {
     "data": {
      "text/plain": [
       "490"
      ]
     },
     "execution_count": 16,
     "metadata": {},
     "output_type": "execute_result"
    }
   ],
   "source": [
    "movies.where('Order',are.above(1)).num_rows"
   ]
  },
  {
   "cell_type": "code",
   "execution_count": 17,
   "id": "442dd524",
   "metadata": {},
   "outputs": [],
   "source": [
    "sequel_movies = movies.where('Order',are.above(1))"
   ]
  },
  {
   "cell_type": "code",
   "execution_count": 19,
   "id": "85d298a0",
   "metadata": {},
   "outputs": [
    {
     "data": {
      "text/plain": [
       "490"
      ]
     },
     "execution_count": 19,
     "metadata": {},
     "output_type": "execute_result"
    }
   ],
   "source": [
    "sequel_movies.num_rows"
   ]
  },
  {
   "cell_type": "markdown",
   "id": "50cb13e9",
   "metadata": {},
   "source": [
    "## How many movies had sequels that were rated higher than the original? On average, do they perform better, or worse? "
   ]
  },
  {
   "cell_type": "code",
   "execution_count": 21,
   "id": "dc20ed54",
   "metadata": {},
   "outputs": [
    {
     "data": {
      "text/html": [
       "<table border=\"1\" class=\"dataframe\">\n",
       "    <thead>\n",
       "        <tr>\n",
       "            <th>index</th> <th>Title</th> <th>Release Date</th> <th>Year</th> <th>Description</th> <th>URL</th> <th>IMDb Rating</th> <th>Runtime (mins)</th> <th>Genres</th> <th>Num Votes</th> <th>Directors</th> <th>Movie Series</th> <th>Order</th>\n",
       "        </tr>\n",
       "    </thead>\n",
       "    <tbody>\n",
       "        <tr>\n",
       "            <td>0    </td> <td>101 Dalmatians       </td> <td>18-11-1996  </td> <td>1996</td> <td>nan        </td> <td>https://www.imdb.com/title/tt0115433/</td> <td>5.7        </td> <td>103           </td> <td>Adventure, Comedy, Crime, Family</td> <td>98439    </td> <td>Stephen Herek</td> <td>101 Dalmatians</td> <td>1    </td>\n",
       "        </tr>\n",
       "        <tr>\n",
       "            <td>1    </td> <td>102 Dalmatians       </td> <td>22-11-2000  </td> <td>2000</td> <td>nan        </td> <td>https://www.imdb.com/title/tt0211181/</td> <td>4.9        </td> <td>100           </td> <td>Adventure, Comedy, Family       </td> <td>33823    </td> <td>Kevin Lima   </td> <td>101 Dalmatians</td> <td>2    </td>\n",
       "        </tr>\n",
       "        <tr>\n",
       "            <td>2    </td> <td>12 Rounds            </td> <td>19-03-2009  </td> <td>2009</td> <td>nan        </td> <td>https://www.imdb.com/title/tt1160368/</td> <td>5.6        </td> <td>108           </td> <td>Action, Crime, Thriller         </td> <td>26828    </td> <td>Renny Harlin </td> <td>12 Rounds     </td> <td>1    </td>\n",
       "        </tr>\n",
       "        <tr>\n",
       "            <td>3    </td> <td>12 Rounds 2: Reloaded</td> <td>04-06-2013  </td> <td>2013</td> <td>nan        </td> <td>https://www.imdb.com/title/tt2317524/</td> <td>5.3        </td> <td>95            </td> <td>Action, Adventure, Thriller     </td> <td>5141     </td> <td>Roel Reiné   </td> <td>12 Rounds     </td> <td>2    </td>\n",
       "        </tr>\n",
       "    </tbody>\n",
       "</table>\n",
       "<p>... (862 rows omitted)</p>"
      ],
      "text/plain": [
       "<IPython.core.display.HTML object>"
      ]
     },
     "metadata": {},
     "output_type": "display_data"
    }
   ],
   "source": [
    "movies.show(4)"
   ]
  },
  {
   "cell_type": "code",
   "execution_count": 23,
   "id": "7df75cff",
   "metadata": {},
   "outputs": [
    {
     "data": {
      "text/html": [
       "<table border=\"1\" class=\"dataframe\">\n",
       "    <thead>\n",
       "        <tr>\n",
       "            <th>index</th> <th>Title</th> <th>Release Date</th> <th>Year</th> <th>Description</th> <th>URL</th> <th>IMDb Rating</th> <th>Runtime (mins)</th> <th>Genres</th> <th>Num Votes</th> <th>Directors</th> <th>Movie Series</th> <th>Order</th>\n",
       "        </tr>\n",
       "    </thead>\n",
       "    <tbody>\n",
       "        <tr>\n",
       "            <td>1    </td> <td>102 Dalmatians       </td> <td>22-11-2000  </td> <td>2000</td> <td>nan        </td> <td>https://www.imdb.com/title/tt0211181/</td> <td>4.9        </td> <td>100           </td> <td>Adventure, Comedy, Family  </td> <td>33823    </td> <td>Kevin Lima</td> <td>101 Dalmatians</td> <td>2    </td>\n",
       "        </tr>\n",
       "        <tr>\n",
       "            <td>3    </td> <td>12 Rounds 2: Reloaded</td> <td>04-06-2013  </td> <td>2013</td> <td>nan        </td> <td>https://www.imdb.com/title/tt2317524/</td> <td>5.3        </td> <td>95            </td> <td>Action, Adventure, Thriller</td> <td>5141     </td> <td>Roel Reiné</td> <td>12 Rounds     </td> <td>2    </td>\n",
       "        </tr>\n",
       "    </tbody>\n",
       "</table>\n",
       "<p>... (488 rows omitted)</p>"
      ],
      "text/plain": [
       "<IPython.core.display.HTML object>"
      ]
     },
     "metadata": {},
     "output_type": "display_data"
    }
   ],
   "source": [
    "sequel_movies.show(2)"
   ]
  },
  {
   "cell_type": "code",
   "execution_count": 25,
   "id": "fe6768b2",
   "metadata": {
    "scrolled": true
   },
   "outputs": [
    {
     "data": {
      "text/html": [
       "<table border=\"1\" class=\"dataframe\">\n",
       "    <thead>\n",
       "        <tr>\n",
       "            <th>index</th> <th>Title</th> <th>Release Date</th> <th>Year</th> <th>Description</th> <th>URL</th> <th>IMDb Rating</th> <th>Runtime (mins)</th> <th>Genres</th> <th>Num Votes</th> <th>Directors</th> <th>Movie Series</th> <th>Order</th>\n",
       "        </tr>\n",
       "    </thead>\n",
       "    <tbody>\n",
       "        <tr>\n",
       "            <td>0    </td> <td>101 Dalmatians        </td> <td>18-11-1996  </td> <td>1996</td> <td>nan        </td> <td>https://www.imdb.com/title/tt0115433/</td> <td>5.7        </td> <td>103           </td> <td>Adventure, Comedy, Crime, Family         </td> <td>98439    </td> <td>Stephen Herek                </td> <td>101 Dalmatians        </td> <td>1    </td>\n",
       "        </tr>\n",
       "        <tr>\n",
       "            <td>2    </td> <td>12 Rounds             </td> <td>19-03-2009  </td> <td>2009</td> <td>nan        </td> <td>https://www.imdb.com/title/tt1160368/</td> <td>5.6        </td> <td>108           </td> <td>Action, Crime, Thriller                  </td> <td>26828    </td> <td>Renny Harlin                 </td> <td>12 Rounds             </td> <td>1    </td>\n",
       "        </tr>\n",
       "        <tr>\n",
       "            <td>4    </td> <td>21 Jump Street        </td> <td>12-03-2012  </td> <td>2012</td> <td>nan        </td> <td>https://www.imdb.com/title/tt1232829/</td> <td>7.2        </td> <td>109           </td> <td>Action, Comedy, Crime                    </td> <td>498876   </td> <td>Christopher Miller, Phil Lord</td> <td>21 Jump Street        </td> <td>1    </td>\n",
       "        </tr>\n",
       "        <tr>\n",
       "            <td>6    </td> <td>28 Days Later...      </td> <td>01-11-2002  </td> <td>2002</td> <td>nan        </td> <td>https://www.imdb.com/title/tt0289043/</td> <td>7.6        </td> <td>113           </td> <td>Drama, Horror, Sci-Fi, Thriller          </td> <td>366735   </td> <td>Danny Boyle                  </td> <td>28 Days Later...      </td> <td>1    </td>\n",
       "        </tr>\n",
       "        <tr>\n",
       "            <td>8    </td> <td>30 Days of Night      </td> <td>16-10-2007  </td> <td>2007</td> <td>nan        </td> <td>https://www.imdb.com/title/tt0389722/</td> <td>6.6        </td> <td>113           </td> <td>Action, Horror, Thriller                 </td> <td>160930   </td> <td>David Slade                  </td> <td>30 Days of Night      </td> <td>1    </td>\n",
       "        </tr>\n",
       "        <tr>\n",
       "            <td>9    </td> <td>48 Hrs.               </td> <td>08-12-1982  </td> <td>1982</td> <td>nan        </td> <td>https://www.imdb.com/title/tt0083511/</td> <td>6.9        </td> <td>96            </td> <td>Action, Comedy, Crime, Drama, Thriller   </td> <td>66889    </td> <td>Walter Hill                  </td> <td>48 Hrs.               </td> <td>1    </td>\n",
       "        </tr>\n",
       "        <tr>\n",
       "            <td>11   </td> <td>8MM                   </td> <td>19-02-1999  </td> <td>1999</td> <td>nan        </td> <td>https://www.imdb.com/title/tt0134273/</td> <td>6.5        </td> <td>123           </td> <td>Mystery, Thriller                        </td> <td>120511   </td> <td>Joel Schumacher              </td> <td>8MM                   </td> <td>1    </td>\n",
       "        </tr>\n",
       "        <tr>\n",
       "            <td>12   </td> <td>A Dog's Purpose       </td> <td>19-01-2017  </td> <td>2017</td> <td>nan        </td> <td>https://www.imdb.com/title/tt1753383/</td> <td>7.2        </td> <td>100           </td> <td>Adventure, Comedy, Drama, Family, Fantasy</td> <td>62603    </td> <td>Lasse Hallström              </td> <td>A Dog's Purpose       </td> <td>1    </td>\n",
       "        </tr>\n",
       "        <tr>\n",
       "            <td>14   </td> <td>A Good Day to Die Hard</td> <td>06-02-2013  </td> <td>2013</td> <td>nan        </td> <td>https://www.imdb.com/title/tt1606378/</td> <td>5.3        </td> <td>98            </td> <td>Action, Thriller                         </td> <td>194603   </td> <td>John Moore                   </td> <td>A Good Day to Die Hard</td> <td>1    </td>\n",
       "        </tr>\n",
       "        <tr>\n",
       "            <td>15   </td> <td>A Haunted House       </td> <td>11-01-2013  </td> <td>2013</td> <td>nan        </td> <td>https://www.imdb.com/title/tt2243537/</td> <td>5          </td> <td>86            </td> <td>Comedy, Fantasy                          </td> <td>42526    </td> <td>Michael Tiddes               </td> <td>A Haunted House       </td> <td>1    </td>\n",
       "        </tr>\n",
       "    </tbody>\n",
       "</table>\n",
       "<p>... (366 rows omitted)</p>"
      ],
      "text/plain": [
       "index | Title                  | Release Date | Year | Description | URL                                   | IMDb Rating | Runtime (mins) | Genres                                    | Num Votes | Directors                     | Movie Series           | Order\n",
       "0     | 101 Dalmatians         | 18-11-1996   | 1996 | nan         | https://www.imdb.com/title/tt0115433/ | 5.7         | 103            | Adventure, Comedy, Crime, Family          | 98439     | Stephen Herek                 | 101 Dalmatians         | 1\n",
       "2     | 12 Rounds              | 19-03-2009   | 2009 | nan         | https://www.imdb.com/title/tt1160368/ | 5.6         | 108            | Action, Crime, Thriller                   | 26828     | Renny Harlin                  | 12 Rounds              | 1\n",
       "4     | 21 Jump Street         | 12-03-2012   | 2012 | nan         | https://www.imdb.com/title/tt1232829/ | 7.2         | 109            | Action, Comedy, Crime                     | 498876    | Christopher Miller, Phil Lord | 21 Jump Street         | 1\n",
       "6     | 28 Days Later...       | 01-11-2002   | 2002 | nan         | https://www.imdb.com/title/tt0289043/ | 7.6         | 113            | Drama, Horror, Sci-Fi, Thriller           | 366735    | Danny Boyle                   | 28 Days Later...       | 1\n",
       "8     | 30 Days of Night       | 16-10-2007   | 2007 | nan         | https://www.imdb.com/title/tt0389722/ | 6.6         | 113            | Action, Horror, Thriller                  | 160930    | David Slade                   | 30 Days of Night       | 1\n",
       "9     | 48 Hrs.                | 08-12-1982   | 1982 | nan         | https://www.imdb.com/title/tt0083511/ | 6.9         | 96             | Action, Comedy, Crime, Drama, Thriller    | 66889     | Walter Hill                   | 48 Hrs.                | 1\n",
       "11    | 8MM                    | 19-02-1999   | 1999 | nan         | https://www.imdb.com/title/tt0134273/ | 6.5         | 123            | Mystery, Thriller                         | 120511    | Joel Schumacher               | 8MM                    | 1\n",
       "12    | A Dog's Purpose        | 19-01-2017   | 2017 | nan         | https://www.imdb.com/title/tt1753383/ | 7.2         | 100            | Adventure, Comedy, Drama, Family, Fantasy | 62603     | Lasse Hallström               | A Dog's Purpose        | 1\n",
       "14    | A Good Day to Die Hard | 06-02-2013   | 2013 | nan         | https://www.imdb.com/title/tt1606378/ | 5.3         | 98             | Action, Thriller                          | 194603    | John Moore                    | A Good Day to Die Hard | 1\n",
       "15    | A Haunted House        | 11-01-2013   | 2013 | nan         | https://www.imdb.com/title/tt2243537/ | 5           | 86             | Comedy, Fantasy                           | 42526     | Michael Tiddes                | A Haunted House        | 1\n",
       "... (366 rows omitted)"
      ]
     },
     "execution_count": 25,
     "metadata": {},
     "output_type": "execute_result"
    }
   ],
   "source": [
    "original_movies = movies.where('Order',are.equal_to(1))\n",
    "original_movies"
   ]
  },
  {
   "cell_type": "code",
   "execution_count": 36,
   "id": "87f86867",
   "metadata": {},
   "outputs": [
    {
     "data": {
      "text/plain": [
       "6.1192148760330571"
      ]
     },
     "execution_count": 36,
     "metadata": {},
     "output_type": "execute_result"
    }
   ],
   "source": [
    "np.average(sequel_movies.where('IMDb Rating',are.above(0)).column('IMDb Rating'))"
   ]
  },
  {
   "cell_type": "code",
   "execution_count": 37,
   "id": "d4a79643",
   "metadata": {},
   "outputs": [
    {
     "data": {
      "text/plain": [
       "6.7162534435261705"
      ]
     },
     "execution_count": 37,
     "metadata": {},
     "output_type": "execute_result"
    }
   ],
   "source": [
    "np.average(original_movies.where('IMDb Rating',are.above(0)).column('IMDb Rating'))"
   ]
  },
  {
   "cell_type": "code",
   "execution_count": 33,
   "id": "2ca623c7",
   "metadata": {},
   "outputs": [
    {
     "data": {
      "text/plain": [
       "float"
      ]
     },
     "execution_count": 33,
     "metadata": {},
     "output_type": "execute_result"
    }
   ],
   "source": [
    "type(sequel_movies.column('IMDb Rating').item(0))"
   ]
  },
  {
   "cell_type": "markdown",
   "id": "47adac9f",
   "metadata": {},
   "source": [
    "## Challenge!"
   ]
  },
  {
   "cell_type": "markdown",
   "id": "9fc6c2f4",
   "metadata": {},
   "source": [
    "Let's suppose that you had the movies data stored in a USB Drive. You know how computers almost always scream at you for yanking out the USB Drive before you 'eject' it? Usually, nothing happens...\n",
    "\n",
    "But in this situation, let's say it does and you get the following table below: "
   ]
  },
  {
   "cell_type": "code",
   "execution_count": 39,
   "id": "0d5f34f3",
   "metadata": {},
   "outputs": [
    {
     "data": {
      "text/html": [
       "<table border=\"1\" class=\"dataframe\">\n",
       "    <thead>\n",
       "        <tr>\n",
       "            <th>index</th> <th>Title</th> <th>Release Date</th> <th>Year</th> <th>Description</th> <th>URL</th> <th>IMDb Rating</th> <th>Runtime (mins)</th> <th>Genres</th> <th>Num Votes</th> <th>Directors</th> <th>Movie Series</th> <th>Order</th>\n",
       "        </tr>\n",
       "    </thead>\n",
       "    <tbody>\n",
       "        <tr>\n",
       "            <td>0    </td> <td>101 Dalmatians       </td> <td>18-11-1996  </td> <td>1996</td> <td>nan        </td> <td>https://www.imdb.com/title/tt0115433/</td> <td>5.7        </td> <td>103           </td> <td>Adventure, Comedy, Crime, Family      </td> <td>98439    </td> <td>Stephen Herek                </td> <td>101 Dalmatians  </td> <td>1    </td>\n",
       "        </tr>\n",
       "        <tr>\n",
       "            <td>1    </td> <td>102 Dalmatians       </td> <td>22-11-2000  </td> <td>2000</td> <td>nan        </td> <td>https://www.imdb.com/title/tt0211181/</td> <td>4.9        </td> <td>100           </td> <td>Adventure, Comedy, Family             </td> <td>33823    </td> <td>Kevin Lima                   </td> <td>101 Dalmatians  </td> <td>2    </td>\n",
       "        </tr>\n",
       "        <tr>\n",
       "            <td>2    </td> <td>12 Rounds            </td> <td>19-03-2009  </td> <td>2009</td> <td>nan        </td> <td>https://www.imdb.com/title/tt1160368/</td> <td>5.6        </td> <td>108           </td> <td>Action, Crime, Thriller               </td> <td>26828    </td> <td>Renny Harlin                 </td> <td>12 Rounds       </td> <td>1    </td>\n",
       "        </tr>\n",
       "        <tr>\n",
       "            <td>3    </td> <td>12 Rounds 2: Reloaded</td> <td>04-06-2013  </td> <td>2013</td> <td>nan        </td> <td>https://www.imdb.com/title/tt2317524/</td> <td>5.3        </td> <td>95            </td> <td>Action, Adventure, Thriller           </td> <td>5141     </td> <td>Roel Reiné                   </td> <td>12 Rounds       </td> <td>2    </td>\n",
       "        </tr>\n",
       "        <tr>\n",
       "            <td>4    </td> <td>21 Jump Street       </td> <td>12-03-2012  </td> <td>2012</td> <td>nan        </td> <td>https://www.imdb.com/title/tt1232829/</td> <td>7.2        </td> <td>109           </td> <td>Action, Comedy, Crime                 </td> <td>498876   </td> <td>Christopher Miller, Phil Lord</td> <td>21 Jump Street  </td> <td>1    </td>\n",
       "        </tr>\n",
       "        <tr>\n",
       "            <td>5    </td> <td>22 Jump Street       </td> <td>04-06-2014  </td> <td>2014</td> <td>nan        </td> <td>https://www.imdb.com/title/tt2294449/</td> <td>7          </td> <td>112           </td> <td>Action, Comedy, Crime                 </td> <td>336672   </td> <td>Christopher Miller, Phil Lord</td> <td>21 Jump Street  </td> <td>2    </td>\n",
       "        </tr>\n",
       "        <tr>\n",
       "            <td>6    </td> <td>28 Days Later...     </td> <td>01-11-2002  </td> <td>2002</td> <td>nan        </td> <td>https://www.imdb.com/title/tt0289043/</td> <td>7.6        </td> <td>113           </td> <td>Drama, Horror, Sci-Fi, Thriller       </td> <td>366735   </td> <td>Danny Boyle                  </td> <td>28 Days Later...</td> <td>1    </td>\n",
       "        </tr>\n",
       "        <tr>\n",
       "            <td>7    </td> <td>28 Weeks Later       </td> <td>26-04-2007  </td> <td>2007</td> <td>nan        </td> <td>https://www.imdb.com/title/tt0463854/</td> <td>7          </td> <td>100           </td> <td>Horror, Sci-Fi                        </td> <td>253260   </td> <td>Juan Carlos Fresnadillo      </td> <td>28 Days Later...</td> <td>2    </td>\n",
       "        </tr>\n",
       "        <tr>\n",
       "            <td>8    </td> <td>30 Days of Night     </td> <td>16-10-2007  </td> <td>2007</td> <td>nan        </td> <td>https://www.imdb.com/title/tt0389722/</td> <td>6.6        </td> <td>113           </td> <td>Action, Horror, Thriller              </td> <td>160930   </td> <td>David Slade                  </td> <td>30 Days of Night</td> <td>1    </td>\n",
       "        </tr>\n",
       "        <tr>\n",
       "            <td>9    </td> <td>48 Hrs.              </td> <td>08-12-1982  </td> <td>1982</td> <td>nan        </td> <td>https://www.imdb.com/title/tt0083511/</td> <td>6.9        </td> <td>96            </td> <td>Action, Comedy, Crime, Drama, Thriller</td> <td>66889    </td> <td>Walter Hill                  </td> <td>48 Hrs.         </td> <td>1    </td>\n",
       "        </tr>\n",
       "    </tbody>\n",
       "</table>\n",
       "<p>... (856 rows omitted)</p>"
      ],
      "text/plain": [
       "index | Title                 | Release Date | Year | Description | URL                                   | IMDb Rating | Runtime (mins) | Genres                                 | Num Votes | Directors                     | Movie Series     | Order\n",
       "0     | 101 Dalmatians        | 18-11-1996   | 1996 | nan         | https://www.imdb.com/title/tt0115433/ | 5.7         | 103            | Adventure, Comedy, Crime, Family       | 98439     | Stephen Herek                 | 101 Dalmatians   | 1\n",
       "1     | 102 Dalmatians        | 22-11-2000   | 2000 | nan         | https://www.imdb.com/title/tt0211181/ | 4.9         | 100            | Adventure, Comedy, Family              | 33823     | Kevin Lima                    | 101 Dalmatians   | 2\n",
       "2     | 12 Rounds             | 19-03-2009   | 2009 | nan         | https://www.imdb.com/title/tt1160368/ | 5.6         | 108            | Action, Crime, Thriller                | 26828     | Renny Harlin                  | 12 Rounds        | 1\n",
       "3     | 12 Rounds 2: Reloaded | 04-06-2013   | 2013 | nan         | https://www.imdb.com/title/tt2317524/ | 5.3         | 95             | Action, Adventure, Thriller            | 5141      | Roel Reiné                    | 12 Rounds        | 2\n",
       "4     | 21 Jump Street        | 12-03-2012   | 2012 | nan         | https://www.imdb.com/title/tt1232829/ | 7.2         | 109            | Action, Comedy, Crime                  | 498876    | Christopher Miller, Phil Lord | 21 Jump Street   | 1\n",
       "5     | 22 Jump Street        | 04-06-2014   | 2014 | nan         | https://www.imdb.com/title/tt2294449/ | 7           | 112            | Action, Comedy, Crime                  | 336672    | Christopher Miller, Phil Lord | 21 Jump Street   | 2\n",
       "6     | 28 Days Later...      | 01-11-2002   | 2002 | nan         | https://www.imdb.com/title/tt0289043/ | 7.6         | 113            | Drama, Horror, Sci-Fi, Thriller        | 366735    | Danny Boyle                   | 28 Days Later... | 1\n",
       "7     | 28 Weeks Later        | 26-04-2007   | 2007 | nan         | https://www.imdb.com/title/tt0463854/ | 7           | 100            | Horror, Sci-Fi                         | 253260    | Juan Carlos Fresnadillo       | 28 Days Later... | 2\n",
       "8     | 30 Days of Night      | 16-10-2007   | 2007 | nan         | https://www.imdb.com/title/tt0389722/ | 6.6         | 113            | Action, Horror, Thriller               | 160930    | David Slade                   | 30 Days of Night | 1\n",
       "9     | 48 Hrs.               | 08-12-1982   | 1982 | nan         | https://www.imdb.com/title/tt0083511/ | 6.9         | 96             | Action, Comedy, Crime, Drama, Thriller | 66889     | Walter Hill                   | 48 Hrs.          | 1\n",
       "... (856 rows omitted)"
      ]
     },
     "execution_count": 39,
     "metadata": {},
     "output_type": "execute_result"
    }
   ],
   "source": [
    "movies"
   ]
  },
  {
   "cell_type": "code",
   "execution_count": 43,
   "id": "d33b6b45",
   "metadata": {
    "scrolled": true
   },
   "outputs": [
    {
     "data": {
      "text/html": [
       "<table border=\"1\" class=\"dataframe\">\n",
       "    <thead>\n",
       "        <tr>\n",
       "            <th>Title</th> <th>Year</th> <th>IMDb Rating</th> <th>Runtime (mins)</th> <th>Genres</th> <th>Movie Series</th>\n",
       "        </tr>\n",
       "    </thead>\n",
       "    <tbody>\n",
       "        <tr>\n",
       "            <td>The Secret Life of Pets 2                         </td> <td>2019</td> <td>6.5        </td> <td>86            </td> <td>Animation, Adventure, Comedy, Family        </td> <td>The Secret Life of Pets  </td>\n",
       "        </tr>\n",
       "        <tr>\n",
       "            <td>Independence Day                                  </td> <td>1996</td> <td>7          </td> <td>145           </td> <td>Action, Adventure, Sci-Fi                   </td> <td>Independence Day         </td>\n",
       "        </tr>\n",
       "        <tr>\n",
       "            <td>Guardians of the Galaxy Vol. 3                    </td> <td>2021</td> <td>nan        </td> <td>nan           </td> <td>Action, Adventure, Comedy, Sci-Fi, Thriller </td> <td>Guardians of the Galaxy  </td>\n",
       "        </tr>\n",
       "        <tr>\n",
       "            <td>Wall Street                                       </td> <td>1987</td> <td>7.4        </td> <td>126           </td> <td>Crime, Drama                                </td> <td>Wall Street              </td>\n",
       "        </tr>\n",
       "        <tr>\n",
       "            <td>Harry Potter and the Deathly Hallows: Part 2      </td> <td>2011</td> <td>8.1        </td> <td>130           </td> <td>Adventure, Drama, Fantasy, Mystery          </td> <td>Harry Potter             </td>\n",
       "        </tr>\n",
       "        <tr>\n",
       "            <td>Biohazard: Damnation                              </td> <td>2012</td> <td>6.5        </td> <td>100           </td> <td>Animation, Action, Horror, Sci-Fi, Thriller </td> <td>Biohazard                </td>\n",
       "        </tr>\n",
       "        <tr>\n",
       "            <td>A Nightmare on Elm Street Part 2: Freddy's Revenge</td> <td>1985</td> <td>5.5        </td> <td>87            </td> <td>Horror                                      </td> <td>A Nightmare on Elm Street</td>\n",
       "        </tr>\n",
       "        <tr>\n",
       "            <td>Kung Fu Panda                                     </td> <td>2008</td> <td>7.5        </td> <td>92            </td> <td>Animation, Action, Adventure, Comedy, Family</td> <td>Kung Fu Panda            </td>\n",
       "        </tr>\n",
       "        <tr>\n",
       "            <td>Universal Soldier: Regeneration                   </td> <td>2009</td> <td>5.2        </td> <td>97            </td> <td>Action, Adventure, Sci-Fi                   </td> <td>Universal Soldier        </td>\n",
       "        </tr>\n",
       "        <tr>\n",
       "            <td>In the Name of the King: The Last Mission         </td> <td>2014</td> <td>3.1        </td> <td>86            </td> <td>Action, Adventure, Fantasy, Thriller        </td> <td>In the Name of the King  </td>\n",
       "        </tr>\n",
       "    </tbody>\n",
       "</table>\n",
       "<p>... (856 rows omitted)</p>"
      ],
      "text/plain": [
       "Title                                              | Year | IMDb Rating | Runtime (mins) | Genres                                       | Movie Series\n",
       "The Secret Life of Pets 2                          | 2019 | 6.5         | 86             | Animation, Adventure, Comedy, Family         | The Secret Life of Pets\n",
       "Independence Day                                   | 1996 | 7           | 145            | Action, Adventure, Sci-Fi                    | Independence Day\n",
       "Guardians of the Galaxy Vol. 3                     | 2021 | nan         | nan            | Action, Adventure, Comedy, Sci-Fi, Thriller  | Guardians of the Galaxy\n",
       "Wall Street                                        | 1987 | 7.4         | 126            | Crime, Drama                                 | Wall Street\n",
       "Harry Potter and the Deathly Hallows: Part 2       | 2011 | 8.1         | 130            | Adventure, Drama, Fantasy, Mystery           | Harry Potter\n",
       "Biohazard: Damnation                               | 2012 | 6.5         | 100            | Animation, Action, Horror, Sci-Fi, Thriller  | Biohazard\n",
       "A Nightmare on Elm Street Part 2: Freddy's Revenge | 1985 | 5.5         | 87             | Horror                                       | A Nightmare on Elm Street\n",
       "Kung Fu Panda                                      | 2008 | 7.5         | 92             | Animation, Action, Adventure, Comedy, Family | Kung Fu Panda\n",
       "Universal Soldier: Regeneration                    | 2009 | 5.2         | 97             | Action, Adventure, Sci-Fi                    | Universal Soldier\n",
       "In the Name of the King: The Last Mission          | 2014 | 3.1         | 86             | Action, Adventure, Fantasy, Thriller         | In the Name of the King\n",
       "... (856 rows omitted)"
      ]
     },
     "execution_count": 43,
     "metadata": {},
     "output_type": "execute_result"
    }
   ],
   "source": [
    "challenge_movies = movies.drop('Order','index','Description','URL','Num Votes','Directors','Release Date').sample(movies.num_rows,with_replacement = False)\n",
    "challenge_movies"
   ]
  },
  {
   "cell_type": "markdown",
   "id": "17189703",
   "metadata": {},
   "source": [
    "### Question: How can we use our methods to re-order our rows back to their original state? We unfortunately lost the columns for good... :("
   ]
  },
  {
   "cell_type": "code",
   "execution_count": 46,
   "id": "69dc6698",
   "metadata": {},
   "outputs": [
    {
     "data": {
      "text/html": [
       "<table border=\"1\" class=\"dataframe\">\n",
       "    <thead>\n",
       "        <tr>\n",
       "            <th>Title</th> <th>Year</th> <th>IMDb Rating</th> <th>Runtime (mins)</th> <th>Genres</th> <th>Movie Series</th>\n",
       "        </tr>\n",
       "    </thead>\n",
       "    <tbody>\n",
       "        <tr>\n",
       "            <td>102 Dalmatians       </td> <td>2000</td> <td>4.9        </td> <td>100           </td> <td>Adventure, Comedy, Family                      </td> <td>101 Dalmatians  </td>\n",
       "        </tr>\n",
       "        <tr>\n",
       "            <td>101 Dalmatians       </td> <td>1996</td> <td>5.7        </td> <td>103           </td> <td>Adventure, Comedy, Crime, Family               </td> <td>101 Dalmatians  </td>\n",
       "        </tr>\n",
       "        <tr>\n",
       "            <td>12 Rounds            </td> <td>2009</td> <td>5.6        </td> <td>108           </td> <td>Action, Crime, Thriller                        </td> <td>12 Rounds       </td>\n",
       "        </tr>\n",
       "        <tr>\n",
       "            <td>12 Rounds 2: Reloaded</td> <td>2013</td> <td>5.3        </td> <td>95            </td> <td>Action, Adventure, Thriller                    </td> <td>12 Rounds       </td>\n",
       "        </tr>\n",
       "        <tr>\n",
       "            <td>21 Jump Street       </td> <td>2012</td> <td>7.2        </td> <td>109           </td> <td>Action, Comedy, Crime                          </td> <td>21 Jump Street  </td>\n",
       "        </tr>\n",
       "        <tr>\n",
       "            <td>22 Jump Street       </td> <td>2014</td> <td>7          </td> <td>112           </td> <td>Action, Comedy, Crime                          </td> <td>21 Jump Street  </td>\n",
       "        </tr>\n",
       "        <tr>\n",
       "            <td>28 Weeks Later       </td> <td>2007</td> <td>7          </td> <td>100           </td> <td>Horror, Sci-Fi                                 </td> <td>28 Days Later...</td>\n",
       "        </tr>\n",
       "        <tr>\n",
       "            <td>28 Days Later...     </td> <td>2002</td> <td>7.6        </td> <td>113           </td> <td>Drama, Horror, Sci-Fi, Thriller                </td> <td>28 Days Later...</td>\n",
       "        </tr>\n",
       "        <tr>\n",
       "            <td>30 Days of Night     </td> <td>2007</td> <td>6.6        </td> <td>113           </td> <td>Action, Horror, Thriller                       </td> <td>30 Days of Night</td>\n",
       "        </tr>\n",
       "        <tr>\n",
       "            <td>Another 48 Hrs.      </td> <td>1990</td> <td>5.9        </td> <td>93            </td> <td>Action, Comedy, Crime, Drama, Mystery, Thriller</td> <td>48 Hrs.         </td>\n",
       "        </tr>\n",
       "    </tbody>\n",
       "</table>\n",
       "<p>... (856 rows omitted)</p>"
      ],
      "text/plain": [
       "Title                 | Year | IMDb Rating | Runtime (mins) | Genres                                          | Movie Series\n",
       "102 Dalmatians        | 2000 | 4.9         | 100            | Adventure, Comedy, Family                       | 101 Dalmatians\n",
       "101 Dalmatians        | 1996 | 5.7         | 103            | Adventure, Comedy, Crime, Family                | 101 Dalmatians\n",
       "12 Rounds             | 2009 | 5.6         | 108            | Action, Crime, Thriller                         | 12 Rounds\n",
       "12 Rounds 2: Reloaded | 2013 | 5.3         | 95             | Action, Adventure, Thriller                     | 12 Rounds\n",
       "21 Jump Street        | 2012 | 7.2         | 109            | Action, Comedy, Crime                           | 21 Jump Street\n",
       "22 Jump Street        | 2014 | 7           | 112            | Action, Comedy, Crime                           | 21 Jump Street\n",
       "28 Weeks Later        | 2007 | 7           | 100            | Horror, Sci-Fi                                  | 28 Days Later...\n",
       "28 Days Later...      | 2002 | 7.6         | 113            | Drama, Horror, Sci-Fi, Thriller                 | 28 Days Later...\n",
       "30 Days of Night      | 2007 | 6.6         | 113            | Action, Horror, Thriller                        | 30 Days of Night\n",
       "Another 48 Hrs.       | 1990 | 5.9         | 93             | Action, Comedy, Crime, Drama, Mystery, Thriller | 48 Hrs.\n",
       "... (856 rows omitted)"
      ]
     },
     "execution_count": 46,
     "metadata": {},
     "output_type": "execute_result"
    }
   ],
   "source": [
    "first_sort = challenge_movies.sort('Movie Series')\n",
    "first_sort"
   ]
  },
  {
   "cell_type": "code",
   "execution_count": null,
   "id": "f7426923",
   "metadata": {},
   "outputs": [],
   "source": []
  },
  {
   "cell_type": "code",
   "execution_count": 48,
   "id": "a47ac607",
   "metadata": {
    "scrolled": true
   },
   "outputs": [
    {
     "data": {
      "text/html": [
       "<table border=\"1\" class=\"dataframe\">\n",
       "    <thead>\n",
       "        <tr>\n",
       "            <th>Title</th> <th>Year</th> <th>IMDb Rating</th> <th>Runtime (mins)</th> <th>Genres</th> <th>Movie Series</th>\n",
       "        </tr>\n",
       "    </thead>\n",
       "    <tbody>\n",
       "        <tr>\n",
       "            <td>10 Cloverfield Lane  </td> <td>2016</td> <td>7.2        </td> <td>103           </td> <td>Drama, Horror, Mystery, Sci-Fi, Thriller</td> <td>Cloverfield             </td>\n",
       "        </tr>\n",
       "        <tr>\n",
       "            <td>101 Dalmatians       </td> <td>1996</td> <td>5.7        </td> <td>103           </td> <td>Adventure, Comedy, Crime, Family        </td> <td>101 Dalmatians          </td>\n",
       "        </tr>\n",
       "        <tr>\n",
       "            <td>102 Dalmatians       </td> <td>2000</td> <td>4.9        </td> <td>100           </td> <td>Adventure, Comedy, Family               </td> <td>101 Dalmatians          </td>\n",
       "        </tr>\n",
       "        <tr>\n",
       "            <td>12 Rounds            </td> <td>2009</td> <td>5.6        </td> <td>108           </td> <td>Action, Crime, Thriller                 </td> <td>12 Rounds               </td>\n",
       "        </tr>\n",
       "        <tr>\n",
       "            <td>12 Rounds 2: Reloaded</td> <td>2013</td> <td>5.3        </td> <td>95            </td> <td>Action, Adventure, Thriller             </td> <td>12 Rounds               </td>\n",
       "        </tr>\n",
       "        <tr>\n",
       "            <td>2 Fast 2 Furious     </td> <td>2003</td> <td>5.9        </td> <td>107           </td> <td>Action, Crime, Thriller                 </td> <td>The Fast and the Furious</td>\n",
       "        </tr>\n",
       "        <tr>\n",
       "            <td>21 Jump Street       </td> <td>2012</td> <td>7.2        </td> <td>109           </td> <td>Action, Comedy, Crime                   </td> <td>21 Jump Street          </td>\n",
       "        </tr>\n",
       "        <tr>\n",
       "            <td>22 Jump Street       </td> <td>2014</td> <td>7          </td> <td>112           </td> <td>Action, Comedy, Crime                   </td> <td>21 Jump Street          </td>\n",
       "        </tr>\n",
       "        <tr>\n",
       "            <td>28 Days Later...     </td> <td>2002</td> <td>7.6        </td> <td>113           </td> <td>Drama, Horror, Sci-Fi, Thriller         </td> <td>28 Days Later...        </td>\n",
       "        </tr>\n",
       "        <tr>\n",
       "            <td>28 Weeks Later       </td> <td>2007</td> <td>7          </td> <td>100           </td> <td>Horror, Sci-Fi                          </td> <td>28 Days Later...        </td>\n",
       "        </tr>\n",
       "    </tbody>\n",
       "</table>\n",
       "<p>... (856 rows omitted)</p>"
      ],
      "text/plain": [
       "Title                 | Year | IMDb Rating | Runtime (mins) | Genres                                   | Movie Series\n",
       "10 Cloverfield Lane   | 2016 | 7.2         | 103            | Drama, Horror, Mystery, Sci-Fi, Thriller | Cloverfield\n",
       "101 Dalmatians        | 1996 | 5.7         | 103            | Adventure, Comedy, Crime, Family         | 101 Dalmatians\n",
       "102 Dalmatians        | 2000 | 4.9         | 100            | Adventure, Comedy, Family                | 101 Dalmatians\n",
       "12 Rounds             | 2009 | 5.6         | 108            | Action, Crime, Thriller                  | 12 Rounds\n",
       "12 Rounds 2: Reloaded | 2013 | 5.3         | 95             | Action, Adventure, Thriller              | 12 Rounds\n",
       "2 Fast 2 Furious      | 2003 | 5.9         | 107            | Action, Crime, Thriller                  | The Fast and the Furious\n",
       "21 Jump Street        | 2012 | 7.2         | 109            | Action, Comedy, Crime                    | 21 Jump Street\n",
       "22 Jump Street        | 2014 | 7           | 112            | Action, Comedy, Crime                    | 21 Jump Street\n",
       "28 Days Later...      | 2002 | 7.6         | 113            | Drama, Horror, Sci-Fi, Thriller          | 28 Days Later...\n",
       "28 Weeks Later        | 2007 | 7           | 100            | Horror, Sci-Fi                           | 28 Days Later...\n",
       "... (856 rows omitted)"
      ]
     },
     "execution_count": 48,
     "metadata": {},
     "output_type": "execute_result"
    }
   ],
   "source": [
    "second_sort = first_sort.sort('Title')\n",
    "second_sort"
   ]
  },
  {
   "cell_type": "code",
   "execution_count": 52,
   "id": "3f570792",
   "metadata": {},
   "outputs": [
    {
     "data": {
      "text/html": [
       "<table border=\"1\" class=\"dataframe\">\n",
       "    <thead>\n",
       "        <tr>\n",
       "            <th>Title</th> <th>Year</th> <th>IMDb Rating</th> <th>Runtime (mins)</th> <th>Genres</th> <th>Movie Series</th>\n",
       "        </tr>\n",
       "    </thead>\n",
       "    <tbody>\n",
       "        <tr>\n",
       "            <td>101 Dalmatians       </td> <td>1996</td> <td>5.7        </td> <td>103           </td> <td>Adventure, Comedy, Crime, Family      </td> <td>101 Dalmatians  </td>\n",
       "        </tr>\n",
       "        <tr>\n",
       "            <td>102 Dalmatians       </td> <td>2000</td> <td>4.9        </td> <td>100           </td> <td>Adventure, Comedy, Family             </td> <td>101 Dalmatians  </td>\n",
       "        </tr>\n",
       "        <tr>\n",
       "            <td>12 Rounds            </td> <td>2009</td> <td>5.6        </td> <td>108           </td> <td>Action, Crime, Thriller               </td> <td>12 Rounds       </td>\n",
       "        </tr>\n",
       "        <tr>\n",
       "            <td>12 Rounds 2: Reloaded</td> <td>2013</td> <td>5.3        </td> <td>95            </td> <td>Action, Adventure, Thriller           </td> <td>12 Rounds       </td>\n",
       "        </tr>\n",
       "        <tr>\n",
       "            <td>21 Jump Street       </td> <td>2012</td> <td>7.2        </td> <td>109           </td> <td>Action, Comedy, Crime                 </td> <td>21 Jump Street  </td>\n",
       "        </tr>\n",
       "        <tr>\n",
       "            <td>22 Jump Street       </td> <td>2014</td> <td>7          </td> <td>112           </td> <td>Action, Comedy, Crime                 </td> <td>21 Jump Street  </td>\n",
       "        </tr>\n",
       "        <tr>\n",
       "            <td>28 Days Later...     </td> <td>2002</td> <td>7.6        </td> <td>113           </td> <td>Drama, Horror, Sci-Fi, Thriller       </td> <td>28 Days Later...</td>\n",
       "        </tr>\n",
       "        <tr>\n",
       "            <td>28 Weeks Later       </td> <td>2007</td> <td>7          </td> <td>100           </td> <td>Horror, Sci-Fi                        </td> <td>28 Days Later...</td>\n",
       "        </tr>\n",
       "        <tr>\n",
       "            <td>30 Days of Night     </td> <td>2007</td> <td>6.6        </td> <td>113           </td> <td>Action, Horror, Thriller              </td> <td>30 Days of Night</td>\n",
       "        </tr>\n",
       "        <tr>\n",
       "            <td>48 Hrs.              </td> <td>1982</td> <td>6.9        </td> <td>96            </td> <td>Action, Comedy, Crime, Drama, Thriller</td> <td>48 Hrs.         </td>\n",
       "        </tr>\n",
       "    </tbody>\n",
       "</table>\n",
       "<p>... (856 rows omitted)</p>"
      ],
      "text/plain": [
       "Title                 | Year | IMDb Rating | Runtime (mins) | Genres                                 | Movie Series\n",
       "101 Dalmatians        | 1996 | 5.7         | 103            | Adventure, Comedy, Crime, Family       | 101 Dalmatians\n",
       "102 Dalmatians        | 2000 | 4.9         | 100            | Adventure, Comedy, Family              | 101 Dalmatians\n",
       "12 Rounds             | 2009 | 5.6         | 108            | Action, Crime, Thriller                | 12 Rounds\n",
       "12 Rounds 2: Reloaded | 2013 | 5.3         | 95             | Action, Adventure, Thriller            | 12 Rounds\n",
       "21 Jump Street        | 2012 | 7.2         | 109            | Action, Comedy, Crime                  | 21 Jump Street\n",
       "22 Jump Street        | 2014 | 7           | 112            | Action, Comedy, Crime                  | 21 Jump Street\n",
       "28 Days Later...      | 2002 | 7.6         | 113            | Drama, Horror, Sci-Fi, Thriller        | 28 Days Later...\n",
       "28 Weeks Later        | 2007 | 7           | 100            | Horror, Sci-Fi                         | 28 Days Later...\n",
       "30 Days of Night      | 2007 | 6.6         | 113            | Action, Horror, Thriller               | 30 Days of Night\n",
       "48 Hrs.               | 1982 | 6.9         | 96             | Action, Comedy, Crime, Drama, Thriller | 48 Hrs.\n",
       "... (856 rows omitted)"
      ]
     },
     "execution_count": 52,
     "metadata": {},
     "output_type": "execute_result"
    }
   ],
   "source": [
    "challenge_movies.sort('Year').sort('Movie Series')"
   ]
  },
  {
   "cell_type": "markdown",
   "id": "15a0f120",
   "metadata": {},
   "source": [
    "# "
   ]
  }
 ],
 "metadata": {
  "kernelspec": {
   "display_name": "Python 3 (ipykernel)",
   "language": "python",
   "name": "python3"
  },
  "language_info": {
   "codemirror_mode": {
    "name": "ipython",
    "version": 3
   },
   "file_extension": ".py",
   "mimetype": "text/x-python",
   "name": "python",
   "nbconvert_exporter": "python",
   "pygments_lexer": "ipython3",
   "version": "3.10.11"
  }
 },
 "nbformat": 4,
 "nbformat_minor": 5
}
