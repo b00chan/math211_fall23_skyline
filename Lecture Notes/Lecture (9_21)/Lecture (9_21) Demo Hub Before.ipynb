{
 "cells": [
  {
   "cell_type": "markdown",
   "id": "20df7587",
   "metadata": {},
   "source": [
    "# [Python Reference Link](http://www.data8.org/sp20/python-reference.html)\n",
    "*Run the cell below so that we can set our modules up*"
   ]
  },
  {
   "cell_type": "code",
   "execution_count": null,
   "id": "fc7de2b7",
   "metadata": {},
   "outputs": [],
   "source": [
    "import numpy as np\n",
    "from datascience import *"
   ]
  },
  {
   "cell_type": "code",
   "execution_count": null,
   "id": "2e9c6569",
   "metadata": {},
   "outputs": [],
   "source": [
    "# These lines set up graphing capabilities.\n",
    "import matplotlib\n",
    "%matplotlib inline\n",
    "import matplotlib.pyplot as plt\n",
    "plt.style.use('fivethirtyeight')\n",
    "import warnings\n",
    "warnings.simplefilter('ignore', FutureWarning)\n",
    "\n",
    "from ipywidgets import interact, interactive, fixed, interact_manual\n",
    "import ipywidgets as widgets"
   ]
  },
  {
   "cell_type": "markdown",
   "id": "0dff7630",
   "metadata": {},
   "source": [
    "# Data Visualizations"
   ]
  },
  {
   "cell_type": "code",
   "execution_count": null,
   "id": "e106cac9",
   "metadata": {},
   "outputs": [],
   "source": [
    "math211_survey = Table.read_table('Math211_FallSurvey.csv')\n",
    "math211_survey.show(3)"
   ]
  },
  {
   "cell_type": "markdown",
   "id": "3377c61a",
   "metadata": {},
   "source": [
    "## Histograms"
   ]
  },
  {
   "cell_type": "code",
   "execution_count": null,
   "id": "94758f26",
   "metadata": {},
   "outputs": [],
   "source": [
    "no_gpa_outlier = math211_survey.where('GPA',are.below(10))\n",
    "no_gpa_outlier.hist('GPA')"
   ]
  },
  {
   "cell_type": "code",
   "execution_count": null,
   "id": "448fc344",
   "metadata": {},
   "outputs": [],
   "source": [
    "#taking a look at optional arguments: units and bins"
   ]
  },
  {
   "cell_type": "code",
   "execution_count": null,
   "id": "76171b88",
   "metadata": {},
   "outputs": [],
   "source": []
  },
  {
   "cell_type": "markdown",
   "id": "92da55dd",
   "metadata": {},
   "source": [
    "## Line Graph"
   ]
  },
  {
   "cell_type": "code",
   "execution_count": null,
   "id": "1754fe8d",
   "metadata": {},
   "outputs": [],
   "source": [
    "population_amounts = Table.read_table(\"world_population.csv\").column(\"Population\")\n",
    "years = np.arange(1950, 2015+1)\n",
    "\n",
    "population = Table().with_columns(\n",
    "    \"Population\", population_amounts,\n",
    "    \"Year\", years\n",
    ")\n",
    "population"
   ]
  },
  {
   "cell_type": "code",
   "execution_count": null,
   "id": "611edad1",
   "metadata": {},
   "outputs": [],
   "source": [
    "population.plot('Year','Population')"
   ]
  },
  {
   "cell_type": "code",
   "execution_count": null,
   "id": "910bfba6",
   "metadata": {},
   "outputs": [],
   "source": []
  },
  {
   "cell_type": "markdown",
   "id": "1c9f9441",
   "metadata": {},
   "source": [
    "## Scatter Plot"
   ]
  },
  {
   "cell_type": "code",
   "execution_count": null,
   "id": "3b4063c2",
   "metadata": {},
   "outputs": [],
   "source": [
    "no_gpa_outlier.scatter('introversion/extroversion','GPA')"
   ]
  },
  {
   "cell_type": "code",
   "execution_count": null,
   "id": "2ff703dd",
   "metadata": {},
   "outputs": [],
   "source": []
  },
  {
   "cell_type": "code",
   "execution_count": null,
   "id": "ab407055",
   "metadata": {},
   "outputs": [],
   "source": []
  },
  {
   "cell_type": "markdown",
   "id": "8b0e9178",
   "metadata": {},
   "source": [
    "## Bar Graph"
   ]
  },
  {
   "cell_type": "code",
   "execution_count": null,
   "id": "7c80a88d",
   "metadata": {},
   "outputs": [],
   "source": [
    "def extract_date(timestamp):\n",
    "    return timestamp.split(' ')[0]\n",
    "\n",
    "survey_with_dates = math211_survey.with_columns('Date',math211_survey.apply(extract_date,'Timestamp'))\n",
    "survey_with_dates.group('Date').barh('Date')"
   ]
  },
  {
   "cell_type": "code",
   "execution_count": null,
   "id": "3e150164",
   "metadata": {},
   "outputs": [],
   "source": []
  },
  {
   "cell_type": "code",
   "execution_count": null,
   "id": "2881e35c",
   "metadata": {},
   "outputs": [],
   "source": []
  }
 ],
 "metadata": {
  "kernelspec": {
   "display_name": "Python 3 (ipykernel)",
   "language": "python",
   "name": "python3"
  },
  "language_info": {
   "codemirror_mode": {
    "name": "ipython",
    "version": 3
   },
   "file_extension": ".py",
   "mimetype": "text/x-python",
   "name": "python",
   "nbconvert_exporter": "python",
   "pygments_lexer": "ipython3",
   "version": "3.10.11"
  }
 },
 "nbformat": 4,
 "nbformat_minor": 5
}
