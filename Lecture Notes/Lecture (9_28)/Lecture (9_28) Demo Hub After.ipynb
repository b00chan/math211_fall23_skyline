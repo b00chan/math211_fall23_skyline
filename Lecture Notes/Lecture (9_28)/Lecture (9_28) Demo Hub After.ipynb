{
 "cells": [
  {
   "cell_type": "markdown",
   "id": "b2e231b9",
   "metadata": {},
   "source": [
    "# [Python Reference Link](http://www.data8.org/sp20/python-reference.html)\n",
    "*Run the cell below so that we can set our modules up*"
   ]
  },
  {
   "cell_type": "code",
   "execution_count": 4,
   "id": "6db2d9f8",
   "metadata": {},
   "outputs": [],
   "source": [
    "import numpy as np\n",
    "from datascience import *"
   ]
  },
  {
   "cell_type": "code",
   "execution_count": 5,
   "id": "c1467ad3",
   "metadata": {},
   "outputs": [],
   "source": [
    "# These lines set up graphing capabilities.\n",
    "import matplotlib\n",
    "%matplotlib inline\n",
    "import matplotlib.pyplot as plt\n",
    "plt.style.use('fivethirtyeight')\n",
    "import warnings\n",
    "warnings.simplefilter('ignore', FutureWarning)\n",
    "\n",
    "from ipywidgets import interact, interactive, fixed, interact_manual\n",
    "import ipywidgets as widgets"
   ]
  },
  {
   "cell_type": "markdown",
   "id": "542e328e",
   "metadata": {},
   "source": [
    "The previous cell below was the result of our work from the [Lecture Demo on 9/19](https://skyline.cloudbank.2i2c.cloud/hub/user-redirect/git-pull?repo=https%3A%2F%2Fgithub.com%2Fb00chan%2Fmath211_fall23_skyline&urlpath=tree%2Fmath211_fall23_skyline%2FLecture+Notes%2FLecture+%289_19%29%2FLecture+%289_19%29+Demo+Hub+After.ipynb&branch=main)"
   ]
  },
  {
   "cell_type": "code",
   "execution_count": 9,
   "id": "aea6b5d8",
   "metadata": {},
   "outputs": [
    {
     "data": {
      "text/html": [
       "<table border=\"1\" class=\"dataframe\">\n",
       "    <thead>\n",
       "        <tr>\n",
       "            <th>Timestamp</th> <th>Surveyor</th> <th>GPA</th> <th>introversion/extroversion</th> <th>Pets</th> <th>Handed</th> <th>Sleep Position</th> <th>K-Pop</th> <th>K-Pop Group</th> <th>travel destination</th> <th>Birthplace </th> <th>Transfer destination</th> <th>Fear</th> <th>Music Genre</th> <th>Color </th>\n",
       "        </tr>\n",
       "    </thead>\n",
       "    <tbody>\n",
       "        <tr>\n",
       "            <td>8/17/2023 16:33</td> <td>Christian Le</td> <td>2.86</td> <td>6                        </td> <td>Dogs</td> <td>Right-handed</td> <td>On my side    </td> <td>Yes  </td> <td>Le Sserafim</td> <td>Japan             </td> <td>Local      </td> <td>UC                  </td> <td>Working          </td> <td>Pop        </td> <td>Red   </td>\n",
       "        </tr>\n",
       "        <tr>\n",
       "            <td>8/17/2023 16:34</td> <td>Christian Le</td> <td>4   </td> <td>8                        </td> <td>nan </td> <td>Right-handed</td> <td>On my back    </td> <td>Yes  </td> <td>Le Sserafim</td> <td>Switzerland       </td> <td>Local      </td> <td>UC                  </td> <td>A regretful life </td> <td>All        </td> <td>Black </td>\n",
       "        </tr>\n",
       "        <tr>\n",
       "            <td>8/17/2023 16:38</td> <td>Christian Le</td> <td>2.5 </td> <td>8                        </td> <td>Cats</td> <td>Right-handed</td> <td>On my stomach </td> <td>Yes  </td> <td>Seventeen  </td> <td>Hawaii            </td> <td>Local      </td> <td>UC Transfer         </td> <td>Death, Spiders   </td> <td>R&B, K-POP </td> <td>Green </td>\n",
       "        </tr>\n",
       "    </tbody>\n",
       "</table>\n",
       "<p>... (230 rows omitted)</p>"
      ],
      "text/plain": [
       "<IPython.core.display.HTML object>"
      ]
     },
     "metadata": {},
     "output_type": "display_data"
    }
   ],
   "source": [
    "math211_survey.show(3)"
   ]
  },
  {
   "cell_type": "code",
   "execution_count": 8,
   "id": "5a650d2f",
   "metadata": {},
   "outputs": [
    {
     "data": {
      "text/html": [
       "<table border=\"1\" class=\"dataframe\">\n",
       "    <thead>\n",
       "        <tr>\n",
       "            <th>Travel Destination</th> <th>Distance (mi)</th>\n",
       "        </tr>\n",
       "    </thead>\n",
       "    <tbody>\n",
       "        <tr>\n",
       "            <td>Amsterdam                </td> <td>5459.31      </td>\n",
       "        </tr>\n",
       "        <tr>\n",
       "            <td>Asia, South Korea,Vietnam</td> <td>6765.77      </td>\n",
       "        </tr>\n",
       "        <tr>\n",
       "            <td>Asia                     </td> <td>6765.77      </td>\n",
       "        </tr>\n",
       "    </tbody>\n",
       "</table>\n",
       "<p>... (79 rows omitted)</p>"
      ],
      "text/plain": [
       "<IPython.core.display.HTML object>"
      ]
     },
     "metadata": {},
     "output_type": "display_data"
    }
   ],
   "source": [
    "travel_distances.show(3)"
   ]
  },
  {
   "cell_type": "code",
   "execution_count": 3,
   "id": "672dcd1f",
   "metadata": {},
   "outputs": [
    {
     "data": {
      "text/html": [
       "<table border=\"1\" class=\"dataframe\">\n",
       "    <thead>\n",
       "        <tr>\n",
       "            <th>Timestamp</th> <th>Surveyor</th> <th>GPA</th> <th>introversion/extroversion</th> <th>Pets</th> <th>Handed</th> <th>Sleep Position</th> <th>K-Pop</th> <th>K-Pop Group</th> <th>travel destination</th> <th>Birthplace </th> <th>Transfer destination</th> <th>Fear</th> <th>Music Genre</th> <th>Color </th> <th>Distance to Dest.</th>\n",
       "        </tr>\n",
       "    </thead>\n",
       "    <tbody>\n",
       "        <tr>\n",
       "            <td>8/17/2023 16:33</td> <td>Christian Le</td> <td>2.86</td> <td>6                        </td> <td>Dogs                </td> <td>Right-handed</td> <td>On my side    </td> <td>Yes  </td> <td>Le Sserafim</td> <td>Japan             </td> <td>Local                    </td> <td>UC                  </td> <td>Working                                </td> <td>Pop        </td> <td>Red       </td> <td>5142.42          </td>\n",
       "        </tr>\n",
       "        <tr>\n",
       "            <td>8/17/2023 16:34</td> <td>Christian Le</td> <td>4   </td> <td>8                        </td> <td>nan                 </td> <td>Right-handed</td> <td>On my back    </td> <td>Yes  </td> <td>Le Sserafim</td> <td>Switzerland       </td> <td>Local                    </td> <td>UC                  </td> <td>A regretful life                       </td> <td>All        </td> <td>Black     </td> <td>5836.59          </td>\n",
       "        </tr>\n",
       "        <tr>\n",
       "            <td>8/17/2023 16:38</td> <td>Christian Le</td> <td>2.5 </td> <td>8                        </td> <td>Cats                </td> <td>Right-handed</td> <td>On my stomach </td> <td>Yes  </td> <td>Seventeen  </td> <td>Hawaii            </td> <td>Local                    </td> <td>UC Transfer         </td> <td>Death, Spiders                         </td> <td>R&B, K-POP </td> <td>Green     </td> <td>2344.8           </td>\n",
       "        </tr>\n",
       "        <tr>\n",
       "            <td>8/17/2023 16:38</td> <td>Christian Le</td> <td>3.96</td> <td>6                        </td> <td>Cats                </td> <td>Right-handed</td> <td>On my side    </td> <td>Yes  </td> <td>STAYC      </td> <td>Costa Rica        </td> <td>Local                    </td> <td>UC Grad             </td> <td>Loss of loved ones                     </td> <td>R&B, K-POP </td> <td>Purple    </td> <td>3076.66          </td>\n",
       "        </tr>\n",
       "        <tr>\n",
       "            <td>8/17/2023 16:54</td> <td>Christian Le</td> <td>2.98</td> <td>6                        </td> <td>nan                 </td> <td>Left-handed </td> <td>On my side    </td> <td>Yes  </td> <td>New Jeans  </td> <td>Hawaii            </td> <td>Local                    </td> <td>nan                 </td> <td>Death                                  </td> <td>R&B        </td> <td>Green     </td> <td>2344.8           </td>\n",
       "        </tr>\n",
       "        <tr>\n",
       "            <td>8/17/2023 16:55</td> <td>Christian Le</td> <td>3.8 </td> <td>8                        </td> <td>Dogs                </td> <td>Right-handed</td> <td>On my side    </td> <td>Yes  </td> <td>New Jeans  </td> <td>Hawaii            </td> <td>Local                    </td> <td>UC                  </td> <td>Being alone                            </td> <td>R&B        </td> <td>Blue      </td> <td>2344.8           </td>\n",
       "        </tr>\n",
       "        <tr>\n",
       "            <td>8/17/2023 17:00</td> <td>Christian Le</td> <td>4   </td> <td>3                        </td> <td>nan                 </td> <td>Right-handed</td> <td>On my back    </td> <td>No   </td> <td>nan        </td> <td>Japan             </td> <td>California (not Bay Area)</td> <td>CSU                 </td> <td>Not being accepted into career program </td> <td>Hip hop    </td> <td>Khaki     </td> <td>5142.42          </td>\n",
       "        </tr>\n",
       "        <tr>\n",
       "            <td>8/17/2023 18:13</td> <td>Christian Le</td> <td>4   </td> <td>2                        </td> <td>Cats, Dogs, Reptiles</td> <td>Both        </td> <td>On my stomach </td> <td>Yes  </td> <td>New Jeans  </td> <td>Dubai             </td> <td>Local                    </td> <td>UC                  </td> <td>Insects                                </td> <td>Pop        </td> <td>Red       </td> <td>8102.07          </td>\n",
       "        </tr>\n",
       "        <tr>\n",
       "            <td>8/17/2023 20:38</td> <td>Casey So    </td> <td>3.86</td> <td>3                        </td> <td>Dogs                </td> <td>Right-handed</td> <td>On my back    </td> <td>Yes  </td> <td>Seventeen  </td> <td>Korea             </td> <td>Local                    </td> <td>UC                  </td> <td>Birds                                  </td> <td>Pop        </td> <td>Light Blue</td> <td>5660.08          </td>\n",
       "        </tr>\n",
       "        <tr>\n",
       "            <td>8/17/2023 20:43</td> <td>Casey So    </td> <td>3.2 </td> <td>4                        </td> <td>nan                 </td> <td>Right-handed</td> <td>On my side    </td> <td>Yes  </td> <td>Twice      </td> <td>Philippines       </td> <td>Local                    </td> <td>UC                  </td> <td>Death                                  </td> <td>Pop        </td> <td>Blue      </td> <td>6999.15          </td>\n",
       "        </tr>\n",
       "    </tbody>\n",
       "</table>\n",
       "<p>... (223 rows omitted)</p>"
      ],
      "text/plain": [
       "Timestamp       | Surveyor     | GPA  | introversion/extroversion | Pets                 | Handed       | Sleep Position | K-Pop | K-Pop Group | travel destination | Birthplace                | Transfer destination | Fear                                    | Music Genre | Color      | Distance to Dest.\n",
       "8/17/2023 16:33 | Christian Le | 2.86 | 6                         | Dogs                 | Right-handed | On my side     | Yes   | Le Sserafim | Japan              | Local                     | UC                   | Working                                 | Pop         | Red        | 5142.42\n",
       "8/17/2023 16:34 | Christian Le | 4    | 8                         | nan                  | Right-handed | On my back     | Yes   | Le Sserafim | Switzerland        | Local                     | UC                   | A regretful life                        | All         | Black      | 5836.59\n",
       "8/17/2023 16:38 | Christian Le | 2.5  | 8                         | Cats                 | Right-handed | On my stomach  | Yes   | Seventeen   | Hawaii             | Local                     | UC Transfer          | Death, Spiders                          | R&B, K-POP  | Green      | 2344.8\n",
       "8/17/2023 16:38 | Christian Le | 3.96 | 6                         | Cats                 | Right-handed | On my side     | Yes   | STAYC       | Costa Rica         | Local                     | UC Grad              | Loss of loved ones                      | R&B, K-POP  | Purple     | 3076.66\n",
       "8/17/2023 16:54 | Christian Le | 2.98 | 6                         | nan                  | Left-handed  | On my side     | Yes   | New Jeans   | Hawaii             | Local                     | nan                  | Death                                   | R&B         | Green      | 2344.8\n",
       "8/17/2023 16:55 | Christian Le | 3.8  | 8                         | Dogs                 | Right-handed | On my side     | Yes   | New Jeans   | Hawaii             | Local                     | UC                   | Being alone                             | R&B         | Blue       | 2344.8\n",
       "8/17/2023 17:00 | Christian Le | 4    | 3                         | nan                  | Right-handed | On my back     | No    | nan         | Japan              | California (not Bay Area) | CSU                  | Not being accepted into career program  | Hip hop     | Khaki      | 5142.42\n",
       "8/17/2023 18:13 | Christian Le | 4    | 2                         | Cats, Dogs, Reptiles | Both         | On my stomach  | Yes   | New Jeans   | Dubai              | Local                     | UC                   | Insects                                 | Pop         | Red        | 8102.07\n",
       "8/17/2023 20:38 | Casey So     | 3.86 | 3                         | Dogs                 | Right-handed | On my back     | Yes   | Seventeen   | Korea              | Local                     | UC                   | Birds                                   | Pop         | Light Blue | 5660.08\n",
       "8/17/2023 20:43 | Casey So     | 3.2  | 4                         | nan                  | Right-handed | On my side     | Yes   | Twice       | Philippines        | Local                     | UC                   | Death                                   | Pop         | Blue       | 6999.15\n",
       "... (223 rows omitted)"
      ]
     },
     "execution_count": 3,
     "metadata": {},
     "output_type": "execute_result"
    }
   ],
   "source": [
    "#Please run the cell to load the important functions and data\n",
    "\n",
    "math211_survey = Table.read_table('Math211_FallSurvey.csv')\n",
    "travel_distances = Table.read_table('Travel_destination_distances.csv')\n",
    "\n",
    "def find_travel_distance(destination):\n",
    "    destination_table = travel_distances.where('Travel Destination',destination)\n",
    "    distance_array = destination_table.column('Distance (mi)')\n",
    "    destination_distance = distance_array.item(0)\n",
    "    return destination_distance\n",
    "\n",
    "travel_distance_array = math211_survey.apply(find_travel_distance,'travel destination')\n",
    "survey_with_travel_distances = math211_survey.with_column('Distance to Dest.',travel_distance_array)\n",
    "survey_with_travel_distances"
   ]
  },
  {
   "cell_type": "markdown",
   "id": "eb266a2c",
   "metadata": {},
   "source": [
    "# Joining Tables "
   ]
  },
  {
   "cell_type": "markdown",
   "id": "ee3708c4",
   "metadata": {},
   "source": [
    "As it turns out, we can use the `join` method to achieve the same result without `apply`ing the function."
   ]
  },
  {
   "cell_type": "code",
   "execution_count": 14,
   "id": "3e359a84",
   "metadata": {
    "scrolled": true
   },
   "outputs": [
    {
     "data": {
      "text/html": [
       "<table border=\"1\" class=\"dataframe\">\n",
       "    <thead>\n",
       "        <tr>\n",
       "            <th>travel destination</th> <th>Distance (mi)</th>\n",
       "        </tr>\n",
       "    </thead>\n",
       "    <tbody>\n",
       "        <tr>\n",
       "            <td>Amsterdam                </td> <td>5459.31      </td>\n",
       "        </tr>\n",
       "        <tr>\n",
       "            <td>Asia, South Korea,Vietnam</td> <td>6765.77      </td>\n",
       "        </tr>\n",
       "        <tr>\n",
       "            <td>Asia                     </td> <td>6765.77      </td>\n",
       "        </tr>\n",
       "        <tr>\n",
       "            <td>Bangkok                  </td> <td>7926.61      </td>\n",
       "        </tr>\n",
       "        <tr>\n",
       "            <td>Beach                    </td> <td>0            </td>\n",
       "        </tr>\n",
       "        <tr>\n",
       "            <td>Beach, Forests           </td> <td>0            </td>\n",
       "        </tr>\n",
       "        <tr>\n",
       "            <td>Bed                      </td> <td>0            </td>\n",
       "        </tr>\n",
       "        <tr>\n",
       "            <td>Brazil                   </td> <td>5447.27      </td>\n",
       "        </tr>\n",
       "        <tr>\n",
       "            <td>Burma                    </td> <td>7678.57      </td>\n",
       "        </tr>\n",
       "        <tr>\n",
       "            <td>California               </td> <td>148.26       </td>\n",
       "        </tr>\n",
       "    </tbody>\n",
       "</table>\n",
       "<p>... (72 rows omitted)</p>"
      ],
      "text/plain": [
       "travel destination        | Distance (mi)\n",
       "Amsterdam                 | 5459.31\n",
       "Asia, South Korea,Vietnam | 6765.77\n",
       "Asia                      | 6765.77\n",
       "Bangkok                   | 7926.61\n",
       "Beach                     | 0\n",
       "Beach, Forests            | 0\n",
       "Bed                       | 0\n",
       "Brazil                    | 5447.27\n",
       "Burma                     | 7678.57\n",
       "California                | 148.26\n",
       "... (72 rows omitted)"
      ]
     },
     "execution_count": 14,
     "metadata": {},
     "output_type": "execute_result"
    }
   ],
   "source": [
    "travel_distances = Table.read_table('Travel_destination_distances.csv')\n",
    "new_travel_distances = travel_distances.relabel('Travel Destination','travel destination')\n",
    "new_travel_distances"
   ]
  },
  {
   "cell_type": "code",
   "execution_count": 15,
   "id": "863c5de9",
   "metadata": {},
   "outputs": [
    {
     "data": {
      "text/html": [
       "<table border=\"1\" class=\"dataframe\">\n",
       "    <thead>\n",
       "        <tr>\n",
       "            <th>travel destination</th> <th>Timestamp</th> <th>Surveyor</th> <th>GPA</th> <th>introversion/extroversion</th> <th>Pets</th> <th>Handed</th> <th>Sleep Position</th> <th>K-Pop</th> <th>K-Pop Group</th> <th>Birthplace </th> <th>Transfer destination</th> <th>Fear</th> <th>Music Genre</th> <th>Color </th> <th>Distance (mi)</th>\n",
       "        </tr>\n",
       "    </thead>\n",
       "    <tbody>\n",
       "        <tr>\n",
       "            <td>Amsterdam                </td> <td>8/20/2023 21:30</td> <td>Thanh Nguyen</td> <td>3.94</td> <td>7                        </td> <td>nan       </td> <td>Right-handed</td> <td>On my side      </td> <td>Yes  </td> <td>ICHILLIN', GOT7, Mamamoo, Monsta X, Stray Kids</td> <td>Local                    </td> <td>UC                  </td> <td>Heights             </td> <td>Pop        </td> <td>Cream </td> <td>5459.31      </td>\n",
       "        </tr>\n",
       "        <tr>\n",
       "            <td>Asia                     </td> <td>8/18/2023 10:32</td> <td>Jonnald     </td> <td>2.53</td> <td>5                        </td> <td>Cats, Dogs</td> <td>Right-handed</td> <td>On my side      </td> <td>No   </td> <td>nan                                           </td> <td>Local                    </td> <td>CSU                 </td> <td>World Ending        </td> <td>Hip hop    </td> <td>Green </td> <td>6765.77      </td>\n",
       "        </tr>\n",
       "        <tr>\n",
       "            <td>Asia, South Korea,Vietnam</td> <td>8/31/2023 16:33</td> <td>Christian Le</td> <td>4   </td> <td>8                        </td> <td>nan       </td> <td>Both        </td> <td>On my side      </td> <td>Yes  </td> <td>Red Velvet                                    </td> <td>Local                    </td> <td>USC                 </td> <td>Not liking myself   </td> <td>R&B        </td> <td>Gray  </td> <td>6765.77      </td>\n",
       "        </tr>\n",
       "        <tr>\n",
       "            <td>Bangkok                  </td> <td>8/18/2023 10:02</td> <td>Jackie      </td> <td>3.8 </td> <td>1                        </td> <td>Dogs      </td> <td>Right-handed</td> <td>On my stomach   </td> <td>Yes  </td> <td>IVE                                           </td> <td>out of country           </td> <td>UC                  </td> <td>You                 </td> <td>Pop        </td> <td>Pink  </td> <td>7926.61      </td>\n",
       "        </tr>\n",
       "        <tr>\n",
       "            <td>Bangkok                  </td> <td>8/21/2023 11:02</td> <td>Kaitlyn W   </td> <td>3.6 </td> <td>6                        </td> <td>Dogs      </td> <td>Right-handed</td> <td>On my back      </td> <td>Yes  </td> <td>Big Bang                                      </td> <td>out of country           </td> <td>UC                  </td> <td>Heights             </td> <td>Pop        </td> <td>Blue  </td> <td>7926.61      </td>\n",
       "        </tr>\n",
       "        <tr>\n",
       "            <td>Beach                    </td> <td>8/21/2023 20:58</td> <td>Allison     </td> <td>4   </td> <td>7                        </td> <td>Dogs      </td> <td>Right-handed</td> <td>On my side      </td> <td>No   </td> <td>nan                                           </td> <td>Local                    </td> <td>UC                  </td> <td>My mom              </td> <td>Hip hop    </td> <td>Blue  </td> <td>0            </td>\n",
       "        </tr>\n",
       "        <tr>\n",
       "            <td>Beach                    </td> <td>8/22/2023 17:04</td> <td>Linxue Guo  </td> <td>4   </td> <td>4                        </td> <td>Cats      </td> <td>Left-handed </td> <td>On my side      </td> <td>Yes  </td> <td>BTS ,GOT7 , SKZ, Mamamoo, Itzy                </td> <td>Local                    </td> <td>UC                  </td> <td>The ocean/deep water</td> <td>Hip hop    </td> <td>Green </td> <td>0            </td>\n",
       "        </tr>\n",
       "        <tr>\n",
       "            <td>Beach                    </td> <td>8/24/2023 10:29</td> <td>Kaitlyn W   </td> <td>3.49</td> <td>7                        </td> <td>nan       </td> <td>Right-handed</td> <td>On my side      </td> <td>Yes  </td> <td>Blackpink                                     </td> <td>out of country           </td> <td>UC                  </td> <td>Drowning            </td> <td>R&B        </td> <td>Brown </td> <td>0            </td>\n",
       "        </tr>\n",
       "        <tr>\n",
       "            <td>Beach                    </td> <td>8/31/2023 13:56</td> <td>Bea         </td> <td>3.71</td> <td>4                        </td> <td>nan       </td> <td>Right-handed</td> <td>All of the above</td> <td>No   </td> <td>Blackpink                                     </td> <td>California (not Bay Area)</td> <td>UC                  </td> <td>Being alone         </td> <td>EDM        </td> <td>Purple</td> <td>0            </td>\n",
       "        </tr>\n",
       "        <tr>\n",
       "            <td>Beach                    </td> <td>8/31/2023 22:46</td> <td>Casey So    </td> <td>3.8 </td> <td>4                        </td> <td>Dogs      </td> <td>Right-handed</td> <td>On my side      </td> <td>Yes  </td> <td>Ateez                                         </td> <td>US (not CA)              </td> <td>UC                  </td> <td>not being happy     </td> <td>Pop        </td> <td>Green </td> <td>0            </td>\n",
       "        </tr>\n",
       "    </tbody>\n",
       "</table>\n",
       "<p>... (223 rows omitted)</p>"
      ],
      "text/plain": [
       "travel destination        | Timestamp       | Surveyor     | GPA  | introversion/extroversion | Pets       | Handed       | Sleep Position   | K-Pop | K-Pop Group                                    | Birthplace                | Transfer destination | Fear                 | Music Genre | Color  | Distance (mi)\n",
       "Amsterdam                 | 8/20/2023 21:30 | Thanh Nguyen | 3.94 | 7                         | nan        | Right-handed | On my side       | Yes   | ICHILLIN', GOT7, Mamamoo, Monsta X, Stray Kids | Local                     | UC                   | Heights              | Pop         | Cream  | 5459.31\n",
       "Asia                      | 8/18/2023 10:32 | Jonnald      | 2.53 | 5                         | Cats, Dogs | Right-handed | On my side       | No    | nan                                            | Local                     | CSU                  | World Ending         | Hip hop     | Green  | 6765.77\n",
       "Asia, South Korea,Vietnam | 8/31/2023 16:33 | Christian Le | 4    | 8                         | nan        | Both         | On my side       | Yes   | Red Velvet                                     | Local                     | USC                  | Not liking myself    | R&B         | Gray   | 6765.77\n",
       "Bangkok                   | 8/18/2023 10:02 | Jackie       | 3.8  | 1                         | Dogs       | Right-handed | On my stomach    | Yes   | IVE                                            | out of country            | UC                   | You                  | Pop         | Pink   | 7926.61\n",
       "Bangkok                   | 8/21/2023 11:02 | Kaitlyn W    | 3.6  | 6                         | Dogs       | Right-handed | On my back       | Yes   | Big Bang                                       | out of country            | UC                   | Heights              | Pop         | Blue   | 7926.61\n",
       "Beach                     | 8/21/2023 20:58 | Allison      | 4    | 7                         | Dogs       | Right-handed | On my side       | No    | nan                                            | Local                     | UC                   | My mom               | Hip hop     | Blue   | 0\n",
       "Beach                     | 8/22/2023 17:04 | Linxue Guo   | 4    | 4                         | Cats       | Left-handed  | On my side       | Yes   | BTS ,GOT7 , SKZ, Mamamoo, Itzy                 | Local                     | UC                   | The ocean/deep water | Hip hop     | Green  | 0\n",
       "Beach                     | 8/24/2023 10:29 | Kaitlyn W    | 3.49 | 7                         | nan        | Right-handed | On my side       | Yes   | Blackpink                                      | out of country            | UC                   | Drowning             | R&B         | Brown  | 0\n",
       "Beach                     | 8/31/2023 13:56 | Bea          | 3.71 | 4                         | nan        | Right-handed | All of the above | No    | Blackpink                                      | California (not Bay Area) | UC                   | Being alone          | EDM         | Purple | 0\n",
       "Beach                     | 8/31/2023 22:46 | Casey So     | 3.8  | 4                         | Dogs       | Right-handed | On my side       | Yes   | Ateez                                          | US (not CA)               | UC                   | not being happy      | Pop         | Green  | 0\n",
       "... (223 rows omitted)"
      ]
     },
     "execution_count": 15,
     "metadata": {},
     "output_type": "execute_result"
    }
   ],
   "source": [
    "math211_survey.join('travel destination',new_travel_distances)"
   ]
  },
  {
   "cell_type": "code",
   "execution_count": 10,
   "id": "1544ea46",
   "metadata": {},
   "outputs": [
    {
     "data": {
      "text/html": [
       "<table border=\"1\" class=\"dataframe\">\n",
       "    <thead>\n",
       "        <tr>\n",
       "            <th>travel destination</th> <th>Timestamp</th> <th>Surveyor</th> <th>GPA</th> <th>introversion/extroversion</th> <th>Pets</th> <th>Handed</th> <th>Sleep Position</th> <th>K-Pop</th> <th>K-Pop Group</th> <th>Birthplace </th> <th>Transfer destination</th> <th>Fear</th> <th>Music Genre</th> <th>Color </th> <th>Distance (mi)</th>\n",
       "        </tr>\n",
       "    </thead>\n",
       "    <tbody>\n",
       "        <tr>\n",
       "            <td>Amsterdam                </td> <td>8/20/2023 21:30</td> <td>Thanh Nguyen</td> <td>3.94</td> <td>7                        </td> <td>nan       </td> <td>Right-handed</td> <td>On my side      </td> <td>Yes  </td> <td>ICHILLIN', GOT7, Mamamoo, Monsta X, Stray Kids</td> <td>Local                    </td> <td>UC                  </td> <td>Heights             </td> <td>Pop        </td> <td>Cream </td> <td>5459.31      </td>\n",
       "        </tr>\n",
       "        <tr>\n",
       "            <td>Asia                     </td> <td>8/18/2023 10:32</td> <td>Jonnald     </td> <td>2.53</td> <td>5                        </td> <td>Cats, Dogs</td> <td>Right-handed</td> <td>On my side      </td> <td>No   </td> <td>nan                                           </td> <td>Local                    </td> <td>CSU                 </td> <td>World Ending        </td> <td>Hip hop    </td> <td>Green </td> <td>6765.77      </td>\n",
       "        </tr>\n",
       "        <tr>\n",
       "            <td>Asia, South Korea,Vietnam</td> <td>8/31/2023 16:33</td> <td>Christian Le</td> <td>4   </td> <td>8                        </td> <td>nan       </td> <td>Both        </td> <td>On my side      </td> <td>Yes  </td> <td>Red Velvet                                    </td> <td>Local                    </td> <td>USC                 </td> <td>Not liking myself   </td> <td>R&B        </td> <td>Gray  </td> <td>6765.77      </td>\n",
       "        </tr>\n",
       "        <tr>\n",
       "            <td>Bangkok                  </td> <td>8/18/2023 10:02</td> <td>Jackie      </td> <td>3.8 </td> <td>1                        </td> <td>Dogs      </td> <td>Right-handed</td> <td>On my stomach   </td> <td>Yes  </td> <td>IVE                                           </td> <td>out of country           </td> <td>UC                  </td> <td>You                 </td> <td>Pop        </td> <td>Pink  </td> <td>7926.61      </td>\n",
       "        </tr>\n",
       "        <tr>\n",
       "            <td>Bangkok                  </td> <td>8/21/2023 11:02</td> <td>Kaitlyn W   </td> <td>3.6 </td> <td>6                        </td> <td>Dogs      </td> <td>Right-handed</td> <td>On my back      </td> <td>Yes  </td> <td>Big Bang                                      </td> <td>out of country           </td> <td>UC                  </td> <td>Heights             </td> <td>Pop        </td> <td>Blue  </td> <td>7926.61      </td>\n",
       "        </tr>\n",
       "        <tr>\n",
       "            <td>Beach                    </td> <td>8/21/2023 20:58</td> <td>Allison     </td> <td>4   </td> <td>7                        </td> <td>Dogs      </td> <td>Right-handed</td> <td>On my side      </td> <td>No   </td> <td>nan                                           </td> <td>Local                    </td> <td>UC                  </td> <td>My mom              </td> <td>Hip hop    </td> <td>Blue  </td> <td>0            </td>\n",
       "        </tr>\n",
       "        <tr>\n",
       "            <td>Beach                    </td> <td>8/22/2023 17:04</td> <td>Linxue Guo  </td> <td>4   </td> <td>4                        </td> <td>Cats      </td> <td>Left-handed </td> <td>On my side      </td> <td>Yes  </td> <td>BTS ,GOT7 , SKZ, Mamamoo, Itzy                </td> <td>Local                    </td> <td>UC                  </td> <td>The ocean/deep water</td> <td>Hip hop    </td> <td>Green </td> <td>0            </td>\n",
       "        </tr>\n",
       "        <tr>\n",
       "            <td>Beach                    </td> <td>8/24/2023 10:29</td> <td>Kaitlyn W   </td> <td>3.49</td> <td>7                        </td> <td>nan       </td> <td>Right-handed</td> <td>On my side      </td> <td>Yes  </td> <td>Blackpink                                     </td> <td>out of country           </td> <td>UC                  </td> <td>Drowning            </td> <td>R&B        </td> <td>Brown </td> <td>0            </td>\n",
       "        </tr>\n",
       "        <tr>\n",
       "            <td>Beach                    </td> <td>8/31/2023 13:56</td> <td>Bea         </td> <td>3.71</td> <td>4                        </td> <td>nan       </td> <td>Right-handed</td> <td>All of the above</td> <td>No   </td> <td>Blackpink                                     </td> <td>California (not Bay Area)</td> <td>UC                  </td> <td>Being alone         </td> <td>EDM        </td> <td>Purple</td> <td>0            </td>\n",
       "        </tr>\n",
       "        <tr>\n",
       "            <td>Beach                    </td> <td>8/31/2023 22:46</td> <td>Casey So    </td> <td>3.8 </td> <td>4                        </td> <td>Dogs      </td> <td>Right-handed</td> <td>On my side      </td> <td>Yes  </td> <td>Ateez                                         </td> <td>US (not CA)              </td> <td>UC                  </td> <td>not being happy     </td> <td>Pop        </td> <td>Green </td> <td>0            </td>\n",
       "        </tr>\n",
       "    </tbody>\n",
       "</table>\n",
       "<p>... (223 rows omitted)</p>"
      ],
      "text/plain": [
       "travel destination        | Timestamp       | Surveyor     | GPA  | introversion/extroversion | Pets       | Handed       | Sleep Position   | K-Pop | K-Pop Group                                    | Birthplace                | Transfer destination | Fear                 | Music Genre | Color  | Distance (mi)\n",
       "Amsterdam                 | 8/20/2023 21:30 | Thanh Nguyen | 3.94 | 7                         | nan        | Right-handed | On my side       | Yes   | ICHILLIN', GOT7, Mamamoo, Monsta X, Stray Kids | Local                     | UC                   | Heights              | Pop         | Cream  | 5459.31\n",
       "Asia                      | 8/18/2023 10:32 | Jonnald      | 2.53 | 5                         | Cats, Dogs | Right-handed | On my side       | No    | nan                                            | Local                     | CSU                  | World Ending         | Hip hop     | Green  | 6765.77\n",
       "Asia, South Korea,Vietnam | 8/31/2023 16:33 | Christian Le | 4    | 8                         | nan        | Both         | On my side       | Yes   | Red Velvet                                     | Local                     | USC                  | Not liking myself    | R&B         | Gray   | 6765.77\n",
       "Bangkok                   | 8/18/2023 10:02 | Jackie       | 3.8  | 1                         | Dogs       | Right-handed | On my stomach    | Yes   | IVE                                            | out of country            | UC                   | You                  | Pop         | Pink   | 7926.61\n",
       "Bangkok                   | 8/21/2023 11:02 | Kaitlyn W    | 3.6  | 6                         | Dogs       | Right-handed | On my back       | Yes   | Big Bang                                       | out of country            | UC                   | Heights              | Pop         | Blue   | 7926.61\n",
       "Beach                     | 8/21/2023 20:58 | Allison      | 4    | 7                         | Dogs       | Right-handed | On my side       | No    | nan                                            | Local                     | UC                   | My mom               | Hip hop     | Blue   | 0\n",
       "Beach                     | 8/22/2023 17:04 | Linxue Guo   | 4    | 4                         | Cats       | Left-handed  | On my side       | Yes   | BTS ,GOT7 , SKZ, Mamamoo, Itzy                 | Local                     | UC                   | The ocean/deep water | Hip hop     | Green  | 0\n",
       "Beach                     | 8/24/2023 10:29 | Kaitlyn W    | 3.49 | 7                         | nan        | Right-handed | On my side       | Yes   | Blackpink                                      | out of country            | UC                   | Drowning             | R&B         | Brown  | 0\n",
       "Beach                     | 8/31/2023 13:56 | Bea          | 3.71 | 4                         | nan        | Right-handed | All of the above | No    | Blackpink                                      | California (not Bay Area) | UC                   | Being alone          | EDM         | Purple | 0\n",
       "Beach                     | 8/31/2023 22:46 | Casey So     | 3.8  | 4                         | Dogs       | Right-handed | On my side       | Yes   | Ateez                                          | US (not CA)               | UC                   | not being happy      | Pop         | Green  | 0\n",
       "... (223 rows omitted)"
      ]
     },
     "execution_count": 10,
     "metadata": {},
     "output_type": "execute_result"
    }
   ],
   "source": [
    "math211_survey.join('travel destination',travel_distances,'Travel Destination')"
   ]
  },
  {
   "cell_type": "markdown",
   "id": "add66159",
   "metadata": {},
   "source": [
    "# Pivoting Data"
   ]
  },
  {
   "cell_type": "code",
   "execution_count": 27,
   "id": "b79f8d49",
   "metadata": {
    "scrolled": false
   },
   "outputs": [
    {
     "data": {
      "text/html": [
       "<table border=\"1\" class=\"dataframe\">\n",
       "    <thead>\n",
       "        <tr>\n",
       "            <th>Surveyor</th> <th>travel destination</th> <th>Birthplace </th> <th>Distance to Dest.</th> <th>introversion/extroversion</th>\n",
       "        </tr>\n",
       "    </thead>\n",
       "    <tbody>\n",
       "        <tr>\n",
       "            <td>Kaitlyn W   </td> <td>Singapore         </td> <td>out of country</td> <td>8445.31          </td> <td>4                        </td>\n",
       "        </tr>\n",
       "        <tr>\n",
       "            <td>Christian Le</td> <td>Dubai             </td> <td>Local         </td> <td>8102.07          </td> <td>2                        </td>\n",
       "        </tr>\n",
       "        <tr>\n",
       "            <td>Thanh Nguyen</td> <td>Indonesia         </td> <td>out of country</td> <td>7928.19          </td> <td>5                        </td>\n",
       "        </tr>\n",
       "    </tbody>\n",
       "</table>\n",
       "<p>... (230 rows omitted)</p>"
      ],
      "text/plain": [
       "<IPython.core.display.HTML object>"
      ]
     },
     "metadata": {},
     "output_type": "display_data"
    }
   ],
   "source": [
    "(survey_with_travel_distances.select('Surveyor','travel destination','Birthplace ','Distance to Dest.','introversion/extroversion')\n",
    "                                .sort('Distance to Dest.',descending=True)).show(3)"
   ]
  },
  {
   "cell_type": "code",
   "execution_count": 29,
   "id": "49b988a1",
   "metadata": {
    "scrolled": false
   },
   "outputs": [
    {
     "data": {
      "text/html": [
       "<table border=\"1\" class=\"dataframe\">\n",
       "    <thead>\n",
       "        <tr>\n",
       "            <th>introversion/extroversion</th> <th>California (not Bay Area)</th> <th>Local</th> <th>US (not CA)</th> <th>out of country</th>\n",
       "        </tr>\n",
       "    </thead>\n",
       "    <tbody>\n",
       "        <tr>\n",
       "            <td>1                        </td> <td>0                        </td> <td>3051.53</td> <td>0          </td> <td>5898.66       </td>\n",
       "        </tr>\n",
       "        <tr>\n",
       "            <td>2                        </td> <td>6708.69                  </td> <td>4245.29</td> <td>0          </td> <td>4946.61       </td>\n",
       "        </tr>\n",
       "        <tr>\n",
       "            <td>3                        </td> <td>1894.69                  </td> <td>2621.07</td> <td>5142.42    </td> <td>3519.95       </td>\n",
       "        </tr>\n",
       "        <tr>\n",
       "            <td>4                        </td> <td>1172.4                   </td> <td>3531.68</td> <td>2903.36    </td> <td>3769.32       </td>\n",
       "        </tr>\n",
       "        <tr>\n",
       "            <td>5                        </td> <td>867.69                   </td> <td>3424.86</td> <td>0          </td> <td>4947.48       </td>\n",
       "        </tr>\n",
       "        <tr>\n",
       "            <td>6                        </td> <td>2875.91                  </td> <td>3819.3 </td> <td>0          </td> <td>4144.64       </td>\n",
       "        </tr>\n",
       "        <tr>\n",
       "            <td>7                        </td> <td>3359.18                  </td> <td>3681.36</td> <td>3828.67    </td> <td>4849.27       </td>\n",
       "        </tr>\n",
       "        <tr>\n",
       "            <td>8                        </td> <td>642.62                   </td> <td>3337.49</td> <td>0          </td> <td>4360.69       </td>\n",
       "        </tr>\n",
       "        <tr>\n",
       "            <td>9                        </td> <td>0                        </td> <td>2140.57</td> <td>0          </td> <td>4706.03       </td>\n",
       "        </tr>\n",
       "        <tr>\n",
       "            <td>10                       </td> <td>2570.48                  </td> <td>6715.53</td> <td>0          </td> <td>1819.36       </td>\n",
       "        </tr>\n",
       "    </tbody>\n",
       "</table>"
      ],
      "text/plain": [
       "introversion/extroversion | California (not Bay Area) | Local   | US (not CA) | out of country\n",
       "1                         | 0                         | 3051.53 | 0           | 5898.66\n",
       "2                         | 6708.69                   | 4245.29 | 0           | 4946.61\n",
       "3                         | 1894.69                   | 2621.07 | 5142.42     | 3519.95\n",
       "4                         | 1172.4                    | 3531.68 | 2903.36     | 3769.32\n",
       "5                         | 867.69                    | 3424.86 | 0           | 4947.48\n",
       "6                         | 2875.91                   | 3819.3  | 0           | 4144.64\n",
       "7                         | 3359.18                   | 3681.36 | 3828.67     | 4849.27\n",
       "8                         | 642.62                    | 3337.49 | 0           | 4360.69\n",
       "9                         | 0                         | 2140.57 | 0           | 4706.03\n",
       "10                        | 2570.48                   | 6715.53 | 0           | 1819.36"
      ]
     },
     "execution_count": 29,
     "metadata": {},
     "output_type": "execute_result"
    }
   ],
   "source": [
    "survey_with_travel_distances.pivot('Birthplace ','introversion/extroversion','Distance to Dest.',np.average)"
   ]
  },
  {
   "cell_type": "code",
   "execution_count": 30,
   "id": "373c90c0",
   "metadata": {},
   "outputs": [
    {
     "data": {
      "text/html": [
       "<table border=\"1\" class=\"dataframe\">\n",
       "    <thead>\n",
       "        <tr>\n",
       "            <th>introversion/extroversion</th> <th>California (not Bay Area)</th> <th>Local</th> <th>US (not CA)</th> <th>out of country</th>\n",
       "        </tr>\n",
       "    </thead>\n",
       "    <tbody>\n",
       "        <tr>\n",
       "            <td>1                        </td> <td>0                        </td> <td>5592.38</td> <td>0          </td> <td>7926.61       </td>\n",
       "        </tr>\n",
       "        <tr>\n",
       "            <td>2                        </td> <td>6899.86                  </td> <td>8102.07</td> <td>0          </td> <td>5806.71       </td>\n",
       "        </tr>\n",
       "        <tr>\n",
       "            <td>3                        </td> <td>5142.42                  </td> <td>6999.15</td> <td>5142.42    </td> <td>6999.15       </td>\n",
       "        </tr>\n",
       "        <tr>\n",
       "            <td>4                        </td> <td>2344.8                   </td> <td>6999.15</td> <td>5806.71    </td> <td>8445.31       </td>\n",
       "        </tr>\n",
       "        <tr>\n",
       "            <td>5                        </td> <td>1575.94                  </td> <td>6999.15</td> <td>0          </td> <td>7928.19       </td>\n",
       "        </tr>\n",
       "        <tr>\n",
       "            <td>6                        </td> <td>5592.38                  </td> <td>6999.15</td> <td>0          </td> <td>7926.61       </td>\n",
       "        </tr>\n",
       "        <tr>\n",
       "            <td>7                        </td> <td>5142.42                  </td> <td>6999.15</td> <td>5312.54    </td> <td>6999.15       </td>\n",
       "        </tr>\n",
       "        <tr>\n",
       "            <td>8                        </td> <td>2570.48                  </td> <td>6999.15</td> <td>0          </td> <td>7809.68       </td>\n",
       "        </tr>\n",
       "        <tr>\n",
       "            <td>9                        </td> <td>0                        </td> <td>4281.14</td> <td>0          </td> <td>7809.68       </td>\n",
       "        </tr>\n",
       "        <tr>\n",
       "            <td>10                       </td> <td>2570.48                  </td> <td>6715.53</td> <td>0          </td> <td>2344.8        </td>\n",
       "        </tr>\n",
       "    </tbody>\n",
       "</table>"
      ],
      "text/plain": [
       "introversion/extroversion | California (not Bay Area) | Local   | US (not CA) | out of country\n",
       "1                         | 0                         | 5592.38 | 0           | 7926.61\n",
       "2                         | 6899.86                   | 8102.07 | 0           | 5806.71\n",
       "3                         | 5142.42                   | 6999.15 | 5142.42     | 6999.15\n",
       "4                         | 2344.8                    | 6999.15 | 5806.71     | 8445.31\n",
       "5                         | 1575.94                   | 6999.15 | 0           | 7928.19\n",
       "6                         | 5592.38                   | 6999.15 | 0           | 7926.61\n",
       "7                         | 5142.42                   | 6999.15 | 5312.54     | 6999.15\n",
       "8                         | 2570.48                   | 6999.15 | 0           | 7809.68\n",
       "9                         | 0                         | 4281.14 | 0           | 7809.68\n",
       "10                        | 2570.48                   | 6715.53 | 0           | 2344.8"
      ]
     },
     "execution_count": 30,
     "metadata": {},
     "output_type": "execute_result"
    }
   ],
   "source": [
    "survey_with_travel_distances.pivot('Birthplace ','introversion/extroversion','Distance to Dest.',max)"
   ]
  },
  {
   "cell_type": "code",
   "execution_count": 31,
   "id": "037bcf6b",
   "metadata": {},
   "outputs": [
    {
     "data": {
      "text/html": [
       "<table border=\"1\" class=\"dataframe\">\n",
       "    <thead>\n",
       "        <tr>\n",
       "            <th>introversion/extroversion</th> <th>California (not Bay Area)</th> <th>Local</th> <th>US (not CA)</th> <th>out of country</th>\n",
       "        </tr>\n",
       "    </thead>\n",
       "    <tbody>\n",
       "        <tr>\n",
       "            <td>1                        </td> <td>0                        </td> <td>2344.8 </td> <td>0          </td> <td>1600.18       </td>\n",
       "        </tr>\n",
       "        <tr>\n",
       "            <td>2                        </td> <td>6517.52                  </td> <td>0      </td> <td>0          </td> <td>3890.7        </td>\n",
       "        </tr>\n",
       "        <tr>\n",
       "            <td>3                        </td> <td>0                        </td> <td>0      </td> <td>5142.42    </td> <td>0             </td>\n",
       "        </tr>\n",
       "        <tr>\n",
       "            <td>4                        </td> <td>0                        </td> <td>0      </td> <td>0          </td> <td>0             </td>\n",
       "        </tr>\n",
       "        <tr>\n",
       "            <td>5                        </td> <td>159.44                   </td> <td>0      </td> <td>0          </td> <td>0             </td>\n",
       "        </tr>\n",
       "        <tr>\n",
       "            <td>6                        </td> <td>159.44                   </td> <td>0      </td> <td>0          </td> <td>0             </td>\n",
       "        </tr>\n",
       "        <tr>\n",
       "            <td>7                        </td> <td>1575.94                  </td> <td>0      </td> <td>2344.8     </td> <td>0             </td>\n",
       "        </tr>\n",
       "        <tr>\n",
       "            <td>8                        </td> <td>0                        </td> <td>0      </td> <td>0          </td> <td>9.99          </td>\n",
       "        </tr>\n",
       "        <tr>\n",
       "            <td>9                        </td> <td>0                        </td> <td>0      </td> <td>0          </td> <td>0             </td>\n",
       "        </tr>\n",
       "        <tr>\n",
       "            <td>10                       </td> <td>2570.48                  </td> <td>6715.53</td> <td>0          </td> <td>1293.92       </td>\n",
       "        </tr>\n",
       "    </tbody>\n",
       "</table>"
      ],
      "text/plain": [
       "introversion/extroversion | California (not Bay Area) | Local   | US (not CA) | out of country\n",
       "1                         | 0                         | 2344.8  | 0           | 1600.18\n",
       "2                         | 6517.52                   | 0       | 0           | 3890.7\n",
       "3                         | 0                         | 0       | 5142.42     | 0\n",
       "4                         | 0                         | 0       | 0           | 0\n",
       "5                         | 159.44                    | 0       | 0           | 0\n",
       "6                         | 159.44                    | 0       | 0           | 0\n",
       "7                         | 1575.94                   | 0       | 2344.8      | 0\n",
       "8                         | 0                         | 0       | 0           | 9.99\n",
       "9                         | 0                         | 0       | 0           | 0\n",
       "10                        | 2570.48                   | 6715.53 | 0           | 1293.92"
      ]
     },
     "execution_count": 31,
     "metadata": {},
     "output_type": "execute_result"
    }
   ],
   "source": [
    "survey_with_travel_distances.pivot('Birthplace ','introversion/extroversion','Distance to Dest.',min)"
   ]
  },
  {
   "cell_type": "code",
   "execution_count": null,
   "id": "c42becee",
   "metadata": {},
   "outputs": [],
   "source": []
  }
 ],
 "metadata": {
  "kernelspec": {
   "display_name": "Python 3 (ipykernel)",
   "language": "python",
   "name": "python3"
  },
  "language_info": {
   "codemirror_mode": {
    "name": "ipython",
    "version": 3
   },
   "file_extension": ".py",
   "mimetype": "text/x-python",
   "name": "python",
   "nbconvert_exporter": "python",
   "pygments_lexer": "ipython3",
   "version": "3.10.11"
  }
 },
 "nbformat": 4,
 "nbformat_minor": 5
}
