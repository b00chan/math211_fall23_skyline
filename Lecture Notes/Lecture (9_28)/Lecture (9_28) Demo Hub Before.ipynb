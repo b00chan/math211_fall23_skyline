{
 "cells": [
  {
   "cell_type": "markdown",
   "id": "b2e231b9",
   "metadata": {},
   "source": [
    "# [Python Reference Link](http://www.data8.org/sp20/python-reference.html)\n",
    "*Run the cell below so that we can set our modules up*"
   ]
  },
  {
   "cell_type": "code",
   "execution_count": null,
   "id": "6db2d9f8",
   "metadata": {},
   "outputs": [],
   "source": [
    "import numpy as np\n",
    "from datascience import *"
   ]
  },
  {
   "cell_type": "code",
   "execution_count": null,
   "id": "c1467ad3",
   "metadata": {},
   "outputs": [],
   "source": [
    "# These lines set up graphing capabilities.\n",
    "import matplotlib\n",
    "%matplotlib inline\n",
    "import matplotlib.pyplot as plt\n",
    "plt.style.use('fivethirtyeight')\n",
    "import warnings\n",
    "warnings.simplefilter('ignore', FutureWarning)\n",
    "\n",
    "from ipywidgets import interact, interactive, fixed, interact_manual\n",
    "import ipywidgets as widgets"
   ]
  },
  {
   "cell_type": "markdown",
   "id": "542e328e",
   "metadata": {},
   "source": [
    "The previous cell below was the result of our work from the [Lecture Demo on 9/19](https://skyline.cloudbank.2i2c.cloud/hub/user-redirect/git-pull?repo=https%3A%2F%2Fgithub.com%2Fb00chan%2Fmath211_fall23_skyline&urlpath=tree%2Fmath211_fall23_skyline%2FLecture+Notes%2FLecture+%289_19%29%2FLecture+%289_19%29+Demo+Hub+After.ipynb&branch=main)"
   ]
  },
  {
   "cell_type": "code",
   "execution_count": null,
   "id": "672dcd1f",
   "metadata": {},
   "outputs": [],
   "source": [
    "#Please run the cell to load the important functions and data\n",
    "\n",
    "math211_survey = Table.read_table('Math211_FallSurvey.csv')\n",
    "travel_distances = Table.read_table('Travel_destination_distances.csv')\n",
    "\n",
    "def find_travel_distance(destination):\n",
    "    destination_table = travel_distances.where('Travel Destination',destination)\n",
    "    distance_array = destination_table.column('Distance (mi)')\n",
    "    destination_distance = distance_array.item(0)\n",
    "    return destination_distance\n",
    "\n",
    "travel_distance_array = math211_survey.apply(find_travel_distance,'travel destination')\n",
    "survey_with_travel_distances = math211_survey.with_column('Distance to Dest.',travel_distance_array)\n",
    "survey_with_travel_distances"
   ]
  },
  {
   "cell_type": "markdown",
   "id": "eb266a2c",
   "metadata": {},
   "source": [
    "# Joining Tables "
   ]
  },
  {
   "cell_type": "markdown",
   "id": "ee3708c4",
   "metadata": {},
   "source": [
    "As it turns out, we can use the `join` method to achieve the same result without `apply`ing the function."
   ]
  },
  {
   "cell_type": "code",
   "execution_count": null,
   "id": "1544ea46",
   "metadata": {},
   "outputs": [],
   "source": []
  },
  {
   "cell_type": "markdown",
   "id": "add66159",
   "metadata": {},
   "source": [
    "# Pivoting Data"
   ]
  },
  {
   "cell_type": "code",
   "execution_count": null,
   "id": "b79f8d49",
   "metadata": {},
   "outputs": [],
   "source": []
  }
 ],
 "metadata": {
  "kernelspec": {
   "display_name": "Python 3 (ipykernel)",
   "language": "python",
   "name": "python3"
  },
  "language_info": {
   "codemirror_mode": {
    "name": "ipython",
    "version": 3
   },
   "file_extension": ".py",
   "mimetype": "text/x-python",
   "name": "python",
   "nbconvert_exporter": "python",
   "pygments_lexer": "ipython3",
   "version": "3.10.11"
  }
 },
 "nbformat": 4,
 "nbformat_minor": 5
}
