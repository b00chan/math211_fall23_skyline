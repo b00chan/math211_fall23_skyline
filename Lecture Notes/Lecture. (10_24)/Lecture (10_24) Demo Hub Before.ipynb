{
 "cells": [
  {
   "cell_type": "markdown",
   "id": "23d1a243",
   "metadata": {},
   "source": [
    "# [Python Reference Link](http://www.data8.org/sp20/python-reference.html)\n",
    "*Run the cell below so that we can set our modules up*"
   ]
  },
  {
   "cell_type": "code",
   "execution_count": null,
   "id": "469420ff",
   "metadata": {},
   "outputs": [],
   "source": [
    "import numpy as np\n",
    "from datascience import *"
   ]
  },
  {
   "cell_type": "code",
   "execution_count": null,
   "id": "0ff26be6",
   "metadata": {},
   "outputs": [],
   "source": [
    "# These lines set up graphing capabilities.\n",
    "import matplotlib\n",
    "%matplotlib inline\n",
    "import matplotlib.pyplot as plt\n",
    "plt.style.use('fivethirtyeight')\n",
    "import warnings\n",
    "warnings.simplefilter('ignore', FutureWarning)\n",
    "\n",
    "from ipywidgets import interact, interactive, fixed, interact_manual\n",
    "import ipywidgets as widgets"
   ]
  },
  {
   "cell_type": "markdown",
   "id": "9c439ed5",
   "metadata": {},
   "source": [
    "### Loading the datasets for this notebook:"
   ]
  },
  {
   "cell_type": "code",
   "execution_count": null,
   "id": "b34d7975",
   "metadata": {},
   "outputs": [],
   "source": [
    "# For Demo Request:\n",
    "player_data = Table().read_table(\"player_data.csv\")\n",
    "salary_data = Table().read_table(\"salary_data.csv\")\n",
    "full_data = salary_data.join(\"PlayerName\", player_data, \"Name\")\n",
    "\n",
    "# For the Lecture: \n"
   ]
  },
  {
   "cell_type": "markdown",
   "id": "5fd8fb0e",
   "metadata": {},
   "source": [
    "## From the [Demo Request](https://forms.gle/aPK6vTf3FdQwmMVG8): \n",
    "### [Lab05](https://skyline.cloudbank.2i2c.cloud/hub/user-redirect/git-pull?repo=https%3A%2F%2Fgithub.com%2Fb00chan%2Fmath211_fall23_skyline&urlpath=tree%2Fmath211_fall23_skyline%2Flab%2Flab05%2Flab05.ipynb&branch=main) (Section 2, Question 2)"
   ]
  },
  {
   "cell_type": "markdown",
   "id": "cc6d950a",
   "metadata": {},
   "source": [
    "**Question 2.2** Using a simulation with 10,000 trials, assign `num_different` to the number of times, in 10,000 trials, that two words picked uniformly at random (with replacement) from Pride and Prejudice have different lengths. \n",
    "\n",
    "*Hint 1*: What function did we use in section 1 to sample at random with replacement from an array? \n",
    "\n",
    "*Hint 2*: Remember that `!=` checks for non-equality between two items."
   ]
  },
  {
   "cell_type": "code",
   "execution_count": null,
   "id": "2fd8802a",
   "metadata": {},
   "outputs": [],
   "source": [
    "austen_string = open('Austen_PrideAndPrejudice.txt', encoding='utf-8').read()\n",
    "p_and_p_words = np.array(austen_string.split())\n",
    "\n",
    "trials = 10000\n",
    "num_different = ...\n",
    "\n",
    "for ... in ...:\n",
    "    ...\n",
    "\n",
    "num_different"
   ]
  },
  {
   "cell_type": "markdown",
   "id": "877fbe7e",
   "metadata": {},
   "source": [
    "### [Lab05](https://skyline.cloudbank.2i2c.cloud/hub/user-redirect/git-pull?repo=https%3A%2F%2Fgithub.com%2Fb00chan%2Fmath211_fall23_skyline&urlpath=tree%2Fmath211_fall23_skyline%2Flab%2Flab05%2Flab05.ipynb&branch=main) (Section 3, Question 1)"
   ]
  },
  {
   "cell_type": "markdown",
   "id": "1829534f",
   "metadata": {},
   "source": [
    "We've defined the `histograms` function below, which takes a table with columns `Age` and `Salary` and draws a histogram for each one. It uses bin widths of 1 year for `Age` and $1,000,000 for `Salary`."
   ]
  },
  {
   "cell_type": "code",
   "execution_count": null,
   "id": "71c17ac9",
   "metadata": {},
   "outputs": [],
   "source": [
    "def histograms(t):\n",
    "    ages = t.column('Age')\n",
    "    salaries = t.column('Salary')/1000000\n",
    "    t1 = t.drop('Salary').with_column('Salary', salaries)\n",
    "    age_bins = np.arange(min(ages), max(ages) + 2, 1) \n",
    "    salary_bins = np.arange(min(salaries), max(salaries) + 1, 1)\n",
    "    t1.hist('Age', bins=age_bins, unit='year')\n",
    "    plt.title('Age distribution')\n",
    "    t1.hist('Salary', bins=salary_bins, unit='million dollars')\n",
    "    plt.title('Salary distribution') \n",
    "    \n",
    "histograms(full_data)\n",
    "print('Two histograms should be displayed below')"
   ]
  },
  {
   "cell_type": "markdown",
   "id": "678c47d6",
   "metadata": {},
   "source": [
    "**Question 3.1**. Create a function called `compute_statistics` that takes a table containing an \"Age\" column and a \"Salary\" column and:\n",
    "- Draws a histogram of ages\n",
    "- Draws a histogram of salaries\n",
    "- Returns a two-element array containing the average age and average salary (in that order)\n",
    "\n",
    "You can call the `histograms` function to draw the histograms! \n",
    "\n",
    "*Note:* More charts will be displayed when running the test cell. Please feel free to ignore the charts."
   ]
  },
  {
   "cell_type": "code",
   "execution_count": null,
   "id": "58372ec1",
   "metadata": {},
   "outputs": [],
   "source": [
    "def compute_statistics(age_and_salary_data):\n",
    "    ...\n",
    "    age = ...\n",
    "    salary = ...\n",
    "    return ...\n",
    "    \n",
    "\n",
    "full_stats = compute_statistics(full_data)\n",
    "full_stats"
   ]
  }
 ],
 "metadata": {
  "kernelspec": {
   "display_name": "Python 3 (ipykernel)",
   "language": "python",
   "name": "python3"
  },
  "language_info": {
   "codemirror_mode": {
    "name": "ipython",
    "version": 3
   },
   "file_extension": ".py",
   "mimetype": "text/x-python",
   "name": "python",
   "nbconvert_exporter": "python",
   "pygments_lexer": "ipython3",
   "version": "3.10.11"
  }
 },
 "nbformat": 4,
 "nbformat_minor": 5
}
