{
 "cells": [
  {
   "cell_type": "markdown",
   "id": "822f4a7a",
   "metadata": {},
   "source": [
    "# [Python Reference Link](http://www.data8.org/sp20/python-reference.html)\n",
    "*Run the cell below so that we can set our modules up*"
   ]
  },
  {
   "cell_type": "code",
   "execution_count": 1,
   "id": "924ca172",
   "metadata": {},
   "outputs": [],
   "source": [
    "#Setting up the demo notebook\n",
    "import otter\n",
    "grader = otter.Notebook(\"lab01.ipynb\")\n",
    "from datascience import *\n",
    "import numpy as np"
   ]
  },
  {
   "cell_type": "markdown",
   "id": "d5c33119",
   "metadata": {},
   "source": [
    "# Demo Request: 5.1.1 from [Lab01](https://skyline.cloudbank.2i2c.cloud/hub/user-redirect/git-pull?repo=https%3A%2F%2Fgithub.com%2Fb00chan%2Fmath211_fall23_skyline&urlpath=tree%2Fmath211_fall23_skyline%2Flab%2Flab01%2Flab01.ipynb&branch=main)"
   ]
  },
  {
   "cell_type": "markdown",
   "id": "f312a0cb",
   "metadata": {},
   "source": [
    "Ok, your turn. \n",
    "\n",
    "**Question 5.1.1.** Given the lengths of Yanay's cats Hummus, Gatkes, and Zeepty, write an expression that computes the smallest difference between any of the three lengths. Your expression shouldn't have any numbers in it, only function calls and the names `hummus`, `gatkes`, and `zeepty`. Give the value of your expression the name `min_length_difference`.\n"
   ]
  },
  {
   "cell_type": "code",
   "execution_count": 19,
   "id": "bbd3b90f",
   "metadata": {},
   "outputs": [
    {
     "data": {
      "text/plain": [
       "3.8999999999999986"
      ]
     },
     "execution_count": 19,
     "metadata": {},
     "output_type": "execute_result"
    }
   ],
   "source": [
    "# The three cats' lengths, in meters:\n",
    "hummus =  24.5 # Hummus is 24.5 inches long\n",
    "gatkes = 19.7 # Gatkes is 19.7 inches long\n",
    "zeepty = 15.8 # Zeepty is 15.8 inches long\n",
    "             \n",
    "# We'd like to look at all 3 pairs of lengths, \n",
    "# compute the absolute difference between each pair, \n",
    "# and then find the smallest of those 3 absolute differences.  \n",
    "# This is left to you!  \n",
    "# If you're stuck, try computing the value for each step of the process \n",
    "# (like the difference between Hummus's length and Gatkes's length) \n",
    "# on a separate line and giving it a name (like hummus_gatkes_length_diff)\n",
    "min_length_difference = min(abs(gatkes - hummus),abs(gatkes - zeepty),abs(zeepty - hummus))\n",
    "min_length_difference"
   ]
  },
  {
   "cell_type": "code",
   "execution_count": 12,
   "id": "75cddea6",
   "metadata": {},
   "outputs": [
    {
     "data": {
      "text/plain": [
       "4.800000000000001"
      ]
     },
     "execution_count": 12,
     "metadata": {},
     "output_type": "execute_result"
    }
   ],
   "source": [
    "gatkes_hummus_length_diff = abs(gatkes - hummus)\n",
    "gatkes_hummus_length_diff"
   ]
  },
  {
   "cell_type": "code",
   "execution_count": 13,
   "id": "cc6a75bb",
   "metadata": {},
   "outputs": [
    {
     "data": {
      "text/plain": [
       "3.8999999999999986"
      ]
     },
     "execution_count": 13,
     "metadata": {},
     "output_type": "execute_result"
    }
   ],
   "source": [
    "abs(gatkes - zeepty)"
   ]
  },
  {
   "cell_type": "code",
   "execution_count": 14,
   "id": "0dcfb0ca",
   "metadata": {},
   "outputs": [
    {
     "data": {
      "text/plain": [
       "8.7"
      ]
     },
     "execution_count": 14,
     "metadata": {},
     "output_type": "execute_result"
    }
   ],
   "source": [
    "abs(zeepty - hummus)"
   ]
  },
  {
   "cell_type": "code",
   "execution_count": 16,
   "id": "6c45e4b8",
   "metadata": {},
   "outputs": [
    {
     "data": {
      "text/html": [
       "<p><strong><pre style='display: inline;'>q5_1_1</pre></strong> passed! ✨</p>"
      ],
      "text/plain": [
       "q5_1_1 results: All test cases passed!"
      ]
     },
     "execution_count": 16,
     "metadata": {},
     "output_type": "execute_result"
    }
   ],
   "source": [
    "grader.check(\"q5_1_1\")"
   ]
  },
  {
   "cell_type": "code",
   "execution_count": null,
   "id": "16873a6c",
   "metadata": {},
   "outputs": [],
   "source": [
    "round(5,1)"
   ]
  },
  {
   "cell_type": "markdown",
   "id": "c4063189",
   "metadata": {},
   "source": [
    "# Arrays  "
   ]
  },
  {
   "cell_type": "code",
   "execution_count": 30,
   "id": "04bf0e65",
   "metadata": {},
   "outputs": [
    {
     "data": {
      "text/plain": [
       "array([1, 2, 3, 4, 5])"
      ]
     },
     "execution_count": 30,
     "metadata": {},
     "output_type": "execute_result"
    }
   ],
   "source": [
    "tester = make_array(1,2,3,4,5)\n",
    "tester"
   ]
  },
  {
   "cell_type": "code",
   "execution_count": 23,
   "id": "4de9d088",
   "metadata": {},
   "outputs": [],
   "source": [
    "len?"
   ]
  },
  {
   "cell_type": "code",
   "execution_count": 31,
   "id": "5cab3775",
   "metadata": {},
   "outputs": [
    {
     "name": "stdout",
     "output_type": "stream",
     "text": [
      "[ 6  7  8  9 10]\n",
      "[11 12 13 14 15]\n",
      "[16 17 18 19 20]\n",
      "5\n"
     ]
    },
    {
     "data": {
      "text/plain": [
       "int"
      ]
     },
     "execution_count": 31,
     "metadata": {},
     "output_type": "execute_result"
    }
   ],
   "source": [
    "tester = tester+5\n",
    "print(tester)\n",
    "tester = tester+5\n",
    "print(tester)\n",
    "tester = tester+5\n",
    "\n",
    "print(tester)\n",
    "print(len(tester))\n",
    "type(len(tester))"
   ]
  },
  {
   "cell_type": "code",
   "execution_count": 32,
   "id": "abb29989",
   "metadata": {},
   "outputs": [
    {
     "data": {
      "text/plain": [
       "array([160, 170, 180, 190, 200])"
      ]
     },
     "execution_count": 32,
     "metadata": {},
     "output_type": "execute_result"
    }
   ],
   "source": [
    "tester*10"
   ]
  },
  {
   "cell_type": "code",
   "execution_count": 34,
   "id": "68755c11",
   "metadata": {},
   "outputs": [
    {
     "data": {
      "text/plain": [
       "90"
      ]
     },
     "execution_count": 34,
     "metadata": {},
     "output_type": "execute_result"
    }
   ],
   "source": [
    "sum(tester)"
   ]
  },
  {
   "cell_type": "code",
   "execution_count": 35,
   "id": "89fbd829",
   "metadata": {},
   "outputs": [
    {
     "data": {
      "text/plain": [
       "90"
      ]
     },
     "execution_count": 35,
     "metadata": {},
     "output_type": "execute_result"
    }
   ],
   "source": [
    "16+17+18+19+20"
   ]
  },
  {
   "cell_type": "code",
   "execution_count": 37,
   "id": "c1f000c4",
   "metadata": {},
   "outputs": [
    {
     "data": {
      "text/plain": [
       "18.0"
      ]
     },
     "execution_count": 37,
     "metadata": {},
     "output_type": "execute_result"
    }
   ],
   "source": [
    "np.average(tester)"
   ]
  },
  {
   "cell_type": "markdown",
   "id": "758a9eea",
   "metadata": {},
   "source": [
    "# Columns of Tables are Arrays"
   ]
  },
  {
   "cell_type": "code",
   "execution_count": 38,
   "id": "8d450636",
   "metadata": {},
   "outputs": [
    {
     "data": {
      "text/html": [
       "<table border=\"1\" class=\"dataframe\">\n",
       "    <thead>\n",
       "        <tr>\n",
       "            <th>Timestamp</th> <th>Surveyor</th> <th>GPA</th> <th>introversion/extroversion</th> <th>Pets</th> <th>Handed</th> <th>Sleep Position</th> <th>K-Pop</th> <th>K-Pop Group</th> <th>travel destination</th> <th>Birthplace </th> <th>Transfer destination</th> <th>Fear</th> <th>Music Genre</th> <th>Color </th>\n",
       "        </tr>\n",
       "    </thead>\n",
       "    <tbody>\n",
       "        <tr>\n",
       "            <td>8/17/2023 16:33</td> <td>Christian Le</td> <td>2.86</td> <td>6                        </td> <td>Dogs                </td> <td>Right-handed</td> <td>On my side    </td> <td>Yes  </td> <td>Le Sserafim</td> <td>Japan             </td> <td>Local                    </td> <td>UC                  </td> <td>Working                               </td> <td>Pop        </td> <td>Red       </td>\n",
       "        </tr>\n",
       "        <tr>\n",
       "            <td>8/17/2023 16:34</td> <td>Christian Le</td> <td>4   </td> <td>8                        </td> <td>nan                 </td> <td>Right-handed</td> <td>On my back    </td> <td>Yes  </td> <td>Le Sserafim</td> <td>Switzerland       </td> <td>Local                    </td> <td>UC                  </td> <td>A regretful life                      </td> <td>All        </td> <td>Black     </td>\n",
       "        </tr>\n",
       "        <tr>\n",
       "            <td>8/17/2023 16:38</td> <td>Christian Le</td> <td>2.5 </td> <td>8                        </td> <td>Cats                </td> <td>Right-handed</td> <td>On my stomach </td> <td>Yes  </td> <td>Seventeen  </td> <td>Hawaii            </td> <td>Local                    </td> <td>UC Transfer         </td> <td>Death, Spiders                        </td> <td>R&B, K-POP </td> <td>Green     </td>\n",
       "        </tr>\n",
       "        <tr>\n",
       "            <td>8/17/2023 16:38</td> <td>Christian Le</td> <td>3.96</td> <td>6                        </td> <td>Cats                </td> <td>Right-handed</td> <td>On my side    </td> <td>Yes  </td> <td>STAYC      </td> <td>Costa Rica        </td> <td>Local                    </td> <td>UC Grad             </td> <td>Loss of loved ones                    </td> <td>R&B, K-POP </td> <td>Purple    </td>\n",
       "        </tr>\n",
       "        <tr>\n",
       "            <td>8/17/2023 16:54</td> <td>Christian Le</td> <td>2.98</td> <td>6                        </td> <td>nan                 </td> <td>Left-handed </td> <td>On my side    </td> <td>Yes  </td> <td>New Jeans  </td> <td>Hawaii            </td> <td>Local                    </td> <td>nan                 </td> <td>Death                                 </td> <td>R&B        </td> <td>Green     </td>\n",
       "        </tr>\n",
       "        <tr>\n",
       "            <td>8/17/2023 16:55</td> <td>Christian Le</td> <td>3.8 </td> <td>8                        </td> <td>Dogs                </td> <td>Right-handed</td> <td>On my side    </td> <td>Yes  </td> <td>New Jeans  </td> <td>Hawaii            </td> <td>Local                    </td> <td>UC                  </td> <td>Being alone                           </td> <td>R&B        </td> <td>Blue      </td>\n",
       "        </tr>\n",
       "        <tr>\n",
       "            <td>8/17/2023 17:00</td> <td>Christian Le</td> <td>4   </td> <td>3                        </td> <td>nan                 </td> <td>Right-handed</td> <td>On my back    </td> <td>No   </td> <td>nan        </td> <td>Japan             </td> <td>California (not Bay Area)</td> <td>CSU                 </td> <td>Not being accepted into career program</td> <td>Hip hop    </td> <td>Khaki     </td>\n",
       "        </tr>\n",
       "        <tr>\n",
       "            <td>8/17/2023 18:13</td> <td>Christian Le</td> <td>4   </td> <td>2                        </td> <td>Cats, Dogs, Reptiles</td> <td>Both        </td> <td>On my stomach </td> <td>Yes  </td> <td>New Jeans  </td> <td>Dubai             </td> <td>Local                    </td> <td>UC                  </td> <td>Insects                               </td> <td>Pop        </td> <td>Red       </td>\n",
       "        </tr>\n",
       "        <tr>\n",
       "            <td>8/17/2023 20:38</td> <td>Casey So    </td> <td>3.86</td> <td>3                        </td> <td>Dogs                </td> <td>Right-handed</td> <td>On my back    </td> <td>Yes  </td> <td>Seventeen  </td> <td>Korea             </td> <td>Local                    </td> <td>UC                  </td> <td>Birds                                 </td> <td>Pop        </td> <td>Light Blue</td>\n",
       "        </tr>\n",
       "        <tr>\n",
       "            <td>8/17/2023 20:43</td> <td>Casey So    </td> <td>3.2 </td> <td>4                        </td> <td>nan                 </td> <td>Right-handed</td> <td>On my side    </td> <td>Yes  </td> <td>Twice      </td> <td>Philippines       </td> <td>Local                    </td> <td>UC                  </td> <td>Death                                 </td> <td>Pop        </td> <td>Blue      </td>\n",
       "        </tr>\n",
       "    </tbody>\n",
       "</table>\n",
       "<p>... (223 rows omitted)</p>"
      ],
      "text/plain": [
       "Timestamp       | Surveyor     | GPA  | introversion/extroversion | Pets                 | Handed       | Sleep Position | K-Pop | K-Pop Group | travel destination | Birthplace                | Transfer destination | Fear                                   | Music Genre | Color\n",
       "8/17/2023 16:33 | Christian Le | 2.86 | 6                         | Dogs                 | Right-handed | On my side     | Yes   | Le Sserafim | Japan              | Local                     | UC                   | Working                                | Pop         | Red\n",
       "8/17/2023 16:34 | Christian Le | 4    | 8                         | nan                  | Right-handed | On my back     | Yes   | Le Sserafim | Switzerland        | Local                     | UC                   | A regretful life                       | All         | Black\n",
       "8/17/2023 16:38 | Christian Le | 2.5  | 8                         | Cats                 | Right-handed | On my stomach  | Yes   | Seventeen   | Hawaii             | Local                     | UC Transfer          | Death, Spiders                         | R&B, K-POP  | Green\n",
       "8/17/2023 16:38 | Christian Le | 3.96 | 6                         | Cats                 | Right-handed | On my side     | Yes   | STAYC       | Costa Rica         | Local                     | UC Grad              | Loss of loved ones                     | R&B, K-POP  | Purple\n",
       "8/17/2023 16:54 | Christian Le | 2.98 | 6                         | nan                  | Left-handed  | On my side     | Yes   | New Jeans   | Hawaii             | Local                     | nan                  | Death                                  | R&B         | Green\n",
       "8/17/2023 16:55 | Christian Le | 3.8  | 8                         | Dogs                 | Right-handed | On my side     | Yes   | New Jeans   | Hawaii             | Local                     | UC                   | Being alone                            | R&B         | Blue\n",
       "8/17/2023 17:00 | Christian Le | 4    | 3                         | nan                  | Right-handed | On my back     | No    | nan         | Japan              | California (not Bay Area) | CSU                  | Not being accepted into career program | Hip hop     | Khaki\n",
       "8/17/2023 18:13 | Christian Le | 4    | 2                         | Cats, Dogs, Reptiles | Both         | On my stomach  | Yes   | New Jeans   | Dubai              | Local                     | UC                   | Insects                                | Pop         | Red\n",
       "8/17/2023 20:38 | Casey So     | 3.86 | 3                         | Dogs                 | Right-handed | On my back     | Yes   | Seventeen   | Korea              | Local                     | UC                   | Birds                                  | Pop         | Light Blue\n",
       "8/17/2023 20:43 | Casey So     | 3.2  | 4                         | nan                  | Right-handed | On my side     | Yes   | Twice       | Philippines        | Local                     | UC                   | Death                                  | Pop         | Blue\n",
       "... (223 rows omitted)"
      ]
     },
     "execution_count": 38,
     "metadata": {},
     "output_type": "execute_result"
    }
   ],
   "source": [
    "math211_survey = Table.read_table('Math211_FallSurvey.csv')\n",
    "math211_survey"
   ]
  },
  {
   "cell_type": "code",
   "execution_count": 58,
   "id": "e853b810",
   "metadata": {},
   "outputs": [
    {
     "data": {
      "text/plain": [
       "233"
      ]
     },
     "execution_count": 58,
     "metadata": {},
     "output_type": "execute_result"
    }
   ],
   "source": [
    "# pulling out the GPA column as an array \n",
    "gpa_col = math211_survey.column('GPA')\n",
    "len(gpa_col)"
   ]
  },
  {
   "cell_type": "code",
   "execution_count": 59,
   "id": "1d546f4d",
   "metadata": {},
   "outputs": [
    {
     "data": {
      "text/plain": [
       "3.5450732758620691"
      ]
     },
     "execution_count": 59,
     "metadata": {},
     "output_type": "execute_result"
    }
   ],
   "source": [
    "fixed_gpa_col = math211_survey.where('GPA',are.below(10)).column('GPA')\n",
    "np.average(fixed_gpa_col)"
   ]
  },
  {
   "cell_type": "code",
   "execution_count": 40,
   "id": "800b9287",
   "metadata": {},
   "outputs": [
    {
     "data": {
      "text/plain": [
       "numpy.ndarray"
      ]
     },
     "execution_count": 40,
     "metadata": {},
     "output_type": "execute_result"
    }
   ],
   "source": [
    "type(gpa_col)"
   ]
  },
  {
   "cell_type": "code",
   "execution_count": 42,
   "id": "4a52f40b",
   "metadata": {},
   "outputs": [
    {
     "data": {
      "text/plain": [
       "3.9075407725321893"
      ]
     },
     "execution_count": 42,
     "metadata": {},
     "output_type": "execute_result"
    }
   ],
   "source": [
    "np.average(gpa_col)"
   ]
  },
  {
   "cell_type": "markdown",
   "id": "57bd8eac",
   "metadata": {},
   "source": [
    "# np.arange"
   ]
  },
  {
   "cell_type": "code",
   "execution_count": 43,
   "id": "5e956b94",
   "metadata": {},
   "outputs": [],
   "source": [
    "import numpy as np\n",
    "#np.arange(stop)\n",
    "#np.arange(*start,stop)\n",
    "#np.arange(*start,stop,*step)"
   ]
  },
  {
   "cell_type": "code",
   "execution_count": 44,
   "id": "1dd63dfe",
   "metadata": {},
   "outputs": [
    {
     "data": {
      "text/plain": [
       "array([0, 1, 2, 3, 4])"
      ]
     },
     "execution_count": 44,
     "metadata": {},
     "output_type": "execute_result"
    }
   ],
   "source": [
    "np.arange(5)"
   ]
  },
  {
   "cell_type": "code",
   "execution_count": 45,
   "id": "da6fa4e1",
   "metadata": {},
   "outputs": [
    {
     "data": {
      "text/plain": [
       "array([1, 2, 3, 4, 5])"
      ]
     },
     "execution_count": 45,
     "metadata": {},
     "output_type": "execute_result"
    }
   ],
   "source": [
    "np.arange(1,6)"
   ]
  },
  {
   "cell_type": "code",
   "execution_count": 46,
   "id": "4dcc1c80",
   "metadata": {},
   "outputs": [
    {
     "data": {
      "text/plain": [
       "array([  2,   4,   6,   8,  10,  12,  14,  16,  18,  20,  22,  24,  26,\n",
       "        28,  30,  32,  34,  36,  38,  40,  42,  44,  46,  48,  50,  52,\n",
       "        54,  56,  58,  60,  62,  64,  66,  68,  70,  72,  74,  76,  78,\n",
       "        80,  82,  84,  86,  88,  90,  92,  94,  96,  98, 100])"
      ]
     },
     "execution_count": 46,
     "metadata": {},
     "output_type": "execute_result"
    }
   ],
   "source": [
    "np.arange(2,102,2)"
   ]
  },
  {
   "cell_type": "code",
   "execution_count": 48,
   "id": "29bc537a",
   "metadata": {},
   "outputs": [],
   "source": [
    "np.arange?"
   ]
  },
  {
   "cell_type": "markdown",
   "id": "09886493",
   "metadata": {},
   "source": [
    "# Building Tables"
   ]
  },
  {
   "cell_type": "code",
   "execution_count": 50,
   "id": "09c599a1",
   "metadata": {},
   "outputs": [
    {
     "data": {
      "text/plain": [
       "array(['Netflix', 'Max', 'Hulu', 'Crunchyroll', 'Spotify', 'DoorDash',\n",
       "       'AmazonPrime', 'Discord Nitro'],\n",
       "      dtype='<U13')"
      ]
     },
     "execution_count": 50,
     "metadata": {},
     "output_type": "execute_result"
    }
   ],
   "source": [
    "subscription = make_array('Netflix','Max','Hulu','Crunchyroll','Spotify','DoorDash','AmazonPrime','Discord Nitro')\n",
    "subscription"
   ]
  },
  {
   "cell_type": "code",
   "execution_count": 51,
   "id": "329c5ca0",
   "metadata": {},
   "outputs": [
    {
     "data": {
      "text/plain": [
       "array([ 19.99      ,  14.99      ,   9.99      ,   9.99      ,\n",
       "         9.99      ,   9.99      ,  10.83333333,  14.16416667])"
      ]
     },
     "execution_count": 51,
     "metadata": {},
     "output_type": "execute_result"
    }
   ],
   "source": [
    "#Amazon and Discord are annual fees\n",
    "month_fee_cost = make_array(19.99,14.99,9.99,9.99,9.99,9.99,(130/12),(169.97/12))\n",
    "month_fee_cost"
   ]
  },
  {
   "cell_type": "code",
   "execution_count": 52,
   "id": "a6a03e5e",
   "metadata": {},
   "outputs": [
    {
     "data": {
      "text/html": [
       "<table border=\"1\" class=\"dataframe\">\n",
       "    <thead>\n",
       "        <tr>\n",
       "            <th>Subscription</th> <th>$$ per month</th>\n",
       "        </tr>\n",
       "    </thead>\n",
       "    <tbody>\n",
       "        <tr>\n",
       "            <td>Netflix      </td> <td>19.99       </td>\n",
       "        </tr>\n",
       "        <tr>\n",
       "            <td>Max          </td> <td>14.99       </td>\n",
       "        </tr>\n",
       "        <tr>\n",
       "            <td>Hulu         </td> <td>9.99        </td>\n",
       "        </tr>\n",
       "        <tr>\n",
       "            <td>Crunchyroll  </td> <td>9.99        </td>\n",
       "        </tr>\n",
       "        <tr>\n",
       "            <td>Spotify      </td> <td>9.99        </td>\n",
       "        </tr>\n",
       "        <tr>\n",
       "            <td>DoorDash     </td> <td>9.99        </td>\n",
       "        </tr>\n",
       "        <tr>\n",
       "            <td>AmazonPrime  </td> <td>10.8333     </td>\n",
       "        </tr>\n",
       "        <tr>\n",
       "            <td>Discord Nitro</td> <td>14.1642     </td>\n",
       "        </tr>\n",
       "    </tbody>\n",
       "</table>"
      ],
      "text/plain": [
       "Subscription  | $$ per month\n",
       "Netflix       | 19.99\n",
       "Max           | 14.99\n",
       "Hulu          | 9.99\n",
       "Crunchyroll   | 9.99\n",
       "Spotify       | 9.99\n",
       "DoorDash      | 9.99\n",
       "AmazonPrime   | 10.8333\n",
       "Discord Nitro | 14.1642"
      ]
     },
     "execution_count": 52,
     "metadata": {},
     "output_type": "execute_result"
    }
   ],
   "source": [
    "bryans_monthly_subscriptions = Table().with_columns('Subscription',subscription,'$$ per month',month_fee_cost)\n",
    "bryans_monthly_subscriptions"
   ]
  },
  {
   "cell_type": "code",
   "execution_count": 53,
   "id": "33ddf52a",
   "metadata": {},
   "outputs": [
    {
     "data": {
      "text/plain": [
       "array([ 239.88,  179.88,  119.88,  119.88,  119.88,  119.88,  130.  ,\n",
       "        169.97])"
      ]
     },
     "execution_count": 53,
     "metadata": {},
     "output_type": "execute_result"
    }
   ],
   "source": [
    "annual_cost = bryans_monthly_subscriptions.column('$$ per month') * 12\n",
    "annual_cost"
   ]
  },
  {
   "cell_type": "code",
   "execution_count": 55,
   "id": "f4e98419",
   "metadata": {},
   "outputs": [
    {
     "data": {
      "text/html": [
       "<table border=\"1\" class=\"dataframe\">\n",
       "    <thead>\n",
       "        <tr>\n",
       "            <th>Subscription</th> <th>$$ each year</th>\n",
       "        </tr>\n",
       "    </thead>\n",
       "    <tbody>\n",
       "        <tr>\n",
       "            <td>Netflix      </td> <td>239.88      </td>\n",
       "        </tr>\n",
       "        <tr>\n",
       "            <td>Max          </td> <td>179.88      </td>\n",
       "        </tr>\n",
       "        <tr>\n",
       "            <td>Hulu         </td> <td>119.88      </td>\n",
       "        </tr>\n",
       "        <tr>\n",
       "            <td>Crunchyroll  </td> <td>119.88      </td>\n",
       "        </tr>\n",
       "        <tr>\n",
       "            <td>Spotify      </td> <td>119.88      </td>\n",
       "        </tr>\n",
       "        <tr>\n",
       "            <td>DoorDash     </td> <td>119.88      </td>\n",
       "        </tr>\n",
       "        <tr>\n",
       "            <td>AmazonPrime  </td> <td>130         </td>\n",
       "        </tr>\n",
       "        <tr>\n",
       "            <td>Discord Nitro</td> <td>169.97      </td>\n",
       "        </tr>\n",
       "    </tbody>\n",
       "</table>"
      ],
      "text/plain": [
       "Subscription  | $$ each year\n",
       "Netflix       | 239.88\n",
       "Max           | 179.88\n",
       "Hulu          | 119.88\n",
       "Crunchyroll   | 119.88\n",
       "Spotify       | 119.88\n",
       "DoorDash      | 119.88\n",
       "AmazonPrime   | 130\n",
       "Discord Nitro | 169.97"
      ]
     },
     "execution_count": 55,
     "metadata": {},
     "output_type": "execute_result"
    }
   ],
   "source": [
    "new_table = bryans_monthly_subscriptions.with_column('$$ each year',annual_cost).drop('$$ per month')\n",
    "new_table"
   ]
  },
  {
   "cell_type": "code",
   "execution_count": null,
   "id": "9cddd6a0",
   "metadata": {},
   "outputs": [],
   "source": []
  }
 ],
 "metadata": {
  "kernelspec": {
   "display_name": "Python 3 (ipykernel)",
   "language": "python",
   "name": "python3"
  },
  "language_info": {
   "codemirror_mode": {
    "name": "ipython",
    "version": 3
   },
   "file_extension": ".py",
   "mimetype": "text/x-python",
   "name": "python",
   "nbconvert_exporter": "python",
   "pygments_lexer": "ipython3",
   "version": "3.10.11"
  }
 },
 "nbformat": 4,
 "nbformat_minor": 5
}
