{
 "cells": [
  {
   "cell_type": "markdown",
   "id": "822f4a7a",
   "metadata": {},
   "source": [
    "# [Python Reference Link](http://www.data8.org/sp20/python-reference.html)\n",
    "*Run the cell below so that we can set our modules up*"
   ]
  },
  {
   "cell_type": "code",
   "execution_count": null,
   "id": "924ca172",
   "metadata": {},
   "outputs": [],
   "source": [
    "#Setting up the demo notebook\n",
    "import otter\n",
    "grader = otter.Notebook(\"lab01.ipynb\")\n",
    "from datascience import *\n",
    "import numpy as np"
   ]
  },
  {
   "cell_type": "markdown",
   "id": "d5c33119",
   "metadata": {},
   "source": [
    "# Demo Request: 5.1.1 from [Lab01](https://skyline.cloudbank.2i2c.cloud/hub/user-redirect/git-pull?repo=https%3A%2F%2Fgithub.com%2Fb00chan%2Fmath211_fall23_skyline&urlpath=tree%2Fmath211_fall23_skyline%2Flab%2Flab01%2Flab01.ipynb&branch=main)"
   ]
  },
  {
   "cell_type": "markdown",
   "id": "f312a0cb",
   "metadata": {},
   "source": [
    "Ok, your turn. \n",
    "\n",
    "**Question 5.1.1.** Given the lengths of Yanay's cats Hummus, Gatkes, and Zeepty, write an expression that computes the smallest difference between any of the three lengths. Your expression shouldn't have any numbers in it, only function calls and the names `hummus`, `gatkes`, and `zeepty`. Give the value of your expression the name `min_length_difference`.\n"
   ]
  },
  {
   "cell_type": "code",
   "execution_count": null,
   "id": "bbd3b90f",
   "metadata": {},
   "outputs": [],
   "source": [
    "# The three cats' lengths, in meters:\n",
    "hummus =  24.5 # Hummus is 24.5 inches long\n",
    "gatkes = 19.7 # Gatkes is 19.7 inches long\n",
    "zeepty = 15.8 # Zeepty is 15.8 inches long\n",
    "             \n",
    "# We'd like to look at all 3 pairs of lengths, \n",
    "# compute the absolute difference between each pair, \n",
    "# and then find the smallest of those 3 absolute differences.  \n",
    "# This is left to you!  \n",
    "# If you're stuck, try computing the value for each step of the process \n",
    "# (like the difference between Hummus's length and Gatkes's length) \n",
    "# on a separate line and giving it a name (like hummus_gatkes_length_diff)\n",
    "min_length_difference = ...\n",
    "min_length_difference"
   ]
  },
  {
   "cell_type": "code",
   "execution_count": null,
   "id": "6c45e4b8",
   "metadata": {},
   "outputs": [],
   "source": [
    "grader.check(\"q5_1_1\")"
   ]
  },
  {
   "cell_type": "code",
   "execution_count": null,
   "id": "16873a6c",
   "metadata": {},
   "outputs": [],
   "source": []
  },
  {
   "cell_type": "markdown",
   "id": "c4063189",
   "metadata": {},
   "source": [
    "# Arrays  "
   ]
  },
  {
   "cell_type": "code",
   "execution_count": null,
   "id": "04bf0e65",
   "metadata": {},
   "outputs": [],
   "source": [
    "tester = make_array(1,2,3,4,5)\n",
    "tester"
   ]
  },
  {
   "cell_type": "code",
   "execution_count": null,
   "id": "4de9d088",
   "metadata": {},
   "outputs": [],
   "source": [
    "len?"
   ]
  },
  {
   "cell_type": "code",
   "execution_count": null,
   "id": "5cab3775",
   "metadata": {},
   "outputs": [],
   "source": [
    "tester = tester+5\n",
    "print(tester)\n",
    "tester = tester+5\n",
    "print(tester)\n",
    "tester = tester+5\n",
    "\n",
    "print(tester)\n",
    "print(len(tester))\n",
    "type(len(tester))"
   ]
  },
  {
   "cell_type": "code",
   "execution_count": null,
   "id": "abb29989",
   "metadata": {},
   "outputs": [],
   "source": [
    "tester*10"
   ]
  },
  {
   "cell_type": "code",
   "execution_count": null,
   "id": "68755c11",
   "metadata": {},
   "outputs": [],
   "source": [
    "sum(tester)"
   ]
  },
  {
   "cell_type": "code",
   "execution_count": null,
   "id": "c1f000c4",
   "metadata": {},
   "outputs": [],
   "source": [
    "average(tester)"
   ]
  },
  {
   "cell_type": "markdown",
   "id": "758a9eea",
   "metadata": {},
   "source": [
    "# Columns of Tables are Arrays"
   ]
  },
  {
   "cell_type": "code",
   "execution_count": null,
   "id": "8d450636",
   "metadata": {},
   "outputs": [],
   "source": [
    "math211_survey = Table.read_table('Math211_FallSurvey.csv')\n",
    "math211_survey"
   ]
  },
  {
   "cell_type": "code",
   "execution_count": null,
   "id": "e853b810",
   "metadata": {},
   "outputs": [],
   "source": [
    "# pulling out the GPA column as an array \n",
    "gpa_col = ...\n",
    "gpa_col"
   ]
  },
  {
   "cell_type": "code",
   "execution_count": null,
   "id": "800b9287",
   "metadata": {},
   "outputs": [],
   "source": [
    "type(gpa_col)"
   ]
  },
  {
   "cell_type": "markdown",
   "id": "57bd8eac",
   "metadata": {},
   "source": [
    "# np.arange"
   ]
  },
  {
   "cell_type": "code",
   "execution_count": null,
   "id": "5e956b94",
   "metadata": {},
   "outputs": [],
   "source": [
    "import numpy as np\n",
    "#np.arange(stop)\n",
    "#np.arange(*start,stop)\n",
    "#np.arange(*start,stop,*step)"
   ]
  },
  {
   "cell_type": "code",
   "execution_count": null,
   "id": "1dd63dfe",
   "metadata": {},
   "outputs": [],
   "source": [
    "np.arange(5)"
   ]
  },
  {
   "cell_type": "code",
   "execution_count": null,
   "id": "da6fa4e1",
   "metadata": {},
   "outputs": [],
   "source": [
    "np.arange(1,6)"
   ]
  },
  {
   "cell_type": "code",
   "execution_count": null,
   "id": "4dcc1c80",
   "metadata": {},
   "outputs": [],
   "source": [
    "np.arange(2,102,2)"
   ]
  },
  {
   "cell_type": "code",
   "execution_count": null,
   "id": "29bc537a",
   "metadata": {},
   "outputs": [],
   "source": [
    "np.arange?"
   ]
  },
  {
   "cell_type": "markdown",
   "id": "09886493",
   "metadata": {},
   "source": [
    "# Building Tables"
   ]
  },
  {
   "cell_type": "code",
   "execution_count": null,
   "id": "09c599a1",
   "metadata": {},
   "outputs": [],
   "source": [
    "subscription = make_array('Netflix','HBO Max','Hulu','Crunchyroll','Spotify','DoorDash','AmazonPrime','Discord Nitro')\n",
    "subscription"
   ]
  },
  {
   "cell_type": "code",
   "execution_count": null,
   "id": "329c5ca0",
   "metadata": {},
   "outputs": [],
   "source": [
    "#Amazon and Discord are annual fees\n",
    "month_fee_cost = make_array(19.99,14.99,9.99,9.99,9.99,9.99,(130/12),(169.97/12))\n",
    "month_fee_cost"
   ]
  },
  {
   "cell_type": "code",
   "execution_count": null,
   "id": "a6a03e5e",
   "metadata": {},
   "outputs": [],
   "source": [
    "bryans_monthly_subscriptions = Table().with_columns('Subscription',subscription,'$$ per month',month_fee_cost)\n",
    "bryans_monthly_subscriptions"
   ]
  },
  {
   "cell_type": "code",
   "execution_count": null,
   "id": "33ddf52a",
   "metadata": {},
   "outputs": [],
   "source": [
    "annual_cost = bryans_monthly_subscriptions.column('$$ per month') * 12\n",
    "annual_cost"
   ]
  },
  {
   "cell_type": "code",
   "execution_count": null,
   "id": "f4e98419",
   "metadata": {},
   "outputs": [],
   "source": [
    "new_table = bryans_monthly_subscriptions.with_column('$$ each year',annual_cost).drop('$$ per month')\n",
    "new_table"
   ]
  }
 ],
 "metadata": {
  "kernelspec": {
   "display_name": "Python 3 (ipykernel)",
   "language": "python",
   "name": "python3"
  },
  "language_info": {
   "codemirror_mode": {
    "name": "ipython",
    "version": 3
   },
   "file_extension": ".py",
   "mimetype": "text/x-python",
   "name": "python",
   "nbconvert_exporter": "python",
   "pygments_lexer": "ipython3",
   "version": "3.10.11"
  }
 },
 "nbformat": 4,
 "nbformat_minor": 5
}
