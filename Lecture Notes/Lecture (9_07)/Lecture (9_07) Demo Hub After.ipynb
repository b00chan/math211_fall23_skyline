{
 "cells": [
  {
   "cell_type": "code",
   "execution_count": 1,
   "id": "435f0796",
   "metadata": {},
   "outputs": [],
   "source": [
    "import math \n",
    "from datascience import *"
   ]
  },
  {
   "cell_type": "markdown",
   "id": "ce024c7d",
   "metadata": {},
   "source": [
    "# Numbers"
   ]
  },
  {
   "cell_type": "code",
   "execution_count": 4,
   "id": "798a46b6",
   "metadata": {},
   "outputs": [
    {
     "data": {
      "text/plain": [
       "3.3333333333333335"
      ]
     },
     "execution_count": 4,
     "metadata": {},
     "output_type": "execute_result"
    }
   ],
   "source": [
    "10/3"
   ]
  },
  {
   "cell_type": "code",
   "execution_count": 5,
   "id": "6307aef2",
   "metadata": {},
   "outputs": [
    {
     "data": {
      "text/plain": [
       "3"
      ]
     },
     "execution_count": 5,
     "metadata": {},
     "output_type": "execute_result"
    }
   ],
   "source": [
    "3"
   ]
  },
  {
   "cell_type": "code",
   "execution_count": 6,
   "id": "192ac8a3",
   "metadata": {},
   "outputs": [
    {
     "data": {
      "text/plain": [
       "3.0"
      ]
     },
     "execution_count": 6,
     "metadata": {},
     "output_type": "execute_result"
    }
   ],
   "source": [
    "3.0"
   ]
  },
  {
   "cell_type": "code",
   "execution_count": 7,
   "id": "fabe401f",
   "metadata": {},
   "outputs": [
    {
     "data": {
      "text/plain": [
       "1.3294875692384767"
      ]
     },
     "execution_count": 7,
     "metadata": {},
     "output_type": "execute_result"
    }
   ],
   "source": [
    "1.329487569238476592348765293456293478650234875029438083709873098709827350987234087"
   ]
  },
  {
   "cell_type": "code",
   "execution_count": 10,
   "id": "578bc136",
   "metadata": {},
   "outputs": [
    {
     "data": {
      "text/plain": [
       "1.8838043016463903e+257"
      ]
     },
     "execution_count": 10,
     "metadata": {},
     "output_type": "execute_result"
    }
   ],
   "source": [
    "123.5**123"
   ]
  },
  {
   "cell_type": "markdown",
   "id": "04a2e53f",
   "metadata": {},
   "source": [
    "# Strings"
   ]
  },
  {
   "cell_type": "code",
   "execution_count": 11,
   "id": "9c5654f6",
   "metadata": {},
   "outputs": [
    {
     "data": {
      "text/plain": [
       "'Here is a string'"
      ]
     },
     "execution_count": 11,
     "metadata": {},
     "output_type": "execute_result"
    }
   ],
   "source": [
    "'Here is a string'"
   ]
  },
  {
   "cell_type": "code",
   "execution_count": 14,
   "id": "18d6bd2e",
   "metadata": {},
   "outputs": [
    {
     "data": {
      "text/plain": [
       "'Here is a string as well'"
      ]
     },
     "execution_count": 14,
     "metadata": {},
     "output_type": "execute_result"
    }
   ],
   "source": [
    "\"Here is a string as well\""
   ]
  },
  {
   "cell_type": "code",
   "execution_count": 15,
   "id": "923ffcd0",
   "metadata": {},
   "outputs": [
    {
     "data": {
      "text/plain": [
       "'Bobby says \"Hi!\"'"
      ]
     },
     "execution_count": 15,
     "metadata": {},
     "output_type": "execute_result"
    }
   ],
   "source": [
    "'Bobby says \"Hi!\"'"
   ]
  },
  {
   "cell_type": "code",
   "execution_count": 16,
   "id": "2f632947",
   "metadata": {},
   "outputs": [],
   "source": [
    "greeting = 'hi, wassup'"
   ]
  },
  {
   "cell_type": "code",
   "execution_count": 17,
   "id": "4e7c2799",
   "metadata": {},
   "outputs": [
    {
     "data": {
      "text/plain": [
       "'hi, wassup'"
      ]
     },
     "execution_count": 17,
     "metadata": {},
     "output_type": "execute_result"
    }
   ],
   "source": [
    "greeting"
   ]
  },
  {
   "cell_type": "code",
   "execution_count": 20,
   "id": "7ba6705e",
   "metadata": {},
   "outputs": [
    {
     "data": {
      "text/plain": [
       "'hi, wassup class'"
      ]
     },
     "execution_count": 20,
     "metadata": {},
     "output_type": "execute_result"
    }
   ],
   "source": [
    "greeting +' class'"
   ]
  },
  {
   "cell_type": "code",
   "execution_count": 21,
   "id": "52df26fb",
   "metadata": {},
   "outputs": [
    {
     "data": {
      "text/plain": [
       "'muahahahahahahahahahaha'"
      ]
     },
     "execution_count": 21,
     "metadata": {},
     "output_type": "execute_result"
    }
   ],
   "source": [
    "x = 'ha'\n",
    "'mua'+x*10"
   ]
  },
  {
   "cell_type": "code",
   "execution_count": 22,
   "id": "49c0994d",
   "metadata": {},
   "outputs": [
    {
     "name": "stdout",
     "output_type": "stream",
     "text": [
      "44\n",
      "8\n"
     ]
    }
   ],
   "source": [
    "print('4'+'4')\n",
    "print(4+4)"
   ]
  },
  {
   "cell_type": "code",
   "execution_count": 23,
   "id": "2c756c17",
   "metadata": {},
   "outputs": [
    {
     "data": {
      "text/plain": [
       "'Shakespeare once said, \"Oh no!\"'"
      ]
     },
     "execution_count": 23,
     "metadata": {},
     "output_type": "execute_result"
    }
   ],
   "source": [
    "'Shakespeare once said, \"Oh no!\"'"
   ]
  },
  {
   "cell_type": "code",
   "execution_count": null,
   "id": "87c265da",
   "metadata": {},
   "outputs": [],
   "source": []
  },
  {
   "cell_type": "code",
   "execution_count": 24,
   "id": "ee06260b",
   "metadata": {},
   "outputs": [
    {
     "data": {
      "text/plain": [
       "array(['this', 'that', 'the other'],\n",
       "      dtype='<U9')"
      ]
     },
     "execution_count": 24,
     "metadata": {},
     "output_type": "execute_result"
    }
   ],
   "source": [
    "string_array = make_array(\"this\",\"that\", \"the other\")\n",
    "string_array"
   ]
  },
  {
   "cell_type": "code",
   "execution_count": 25,
   "id": "e406f1f3",
   "metadata": {},
   "outputs": [
    {
     "data": {
      "text/plain": [
       "'this,that,the other'"
      ]
     },
     "execution_count": 25,
     "metadata": {},
     "output_type": "execute_result"
    }
   ],
   "source": [
    "joined_by_commas = \",\".join(string_array)\n",
    "joined_by_commas"
   ]
  },
  {
   "cell_type": "code",
   "execution_count": null,
   "id": "1dc88eb8",
   "metadata": {},
   "outputs": [],
   "source": []
  },
  {
   "cell_type": "markdown",
   "id": "b2fbcfe2",
   "metadata": {},
   "source": [
    "# Types"
   ]
  },
  {
   "cell_type": "code",
   "execution_count": 26,
   "id": "27600e1f",
   "metadata": {},
   "outputs": [
    {
     "data": {
      "text/plain": [
       "5678.0"
      ]
     },
     "execution_count": 26,
     "metadata": {},
     "output_type": "execute_result"
    }
   ],
   "source": [
    "float(str(5678))"
   ]
  },
  {
   "cell_type": "code",
   "execution_count": 28,
   "id": "6074af9e",
   "metadata": {},
   "outputs": [
    {
     "data": {
      "text/plain": [
       "5678.0"
      ]
     },
     "execution_count": 28,
     "metadata": {},
     "output_type": "execute_result"
    }
   ],
   "source": [
    "float('5678')"
   ]
  },
  {
   "cell_type": "code",
   "execution_count": 29,
   "id": "eb1d3db2",
   "metadata": {},
   "outputs": [
    {
     "data": {
      "text/plain": [
       "str"
      ]
     },
     "execution_count": 29,
     "metadata": {},
     "output_type": "execute_result"
    }
   ],
   "source": [
    "type(greeting)"
   ]
  },
  {
   "cell_type": "code",
   "execution_count": 39,
   "id": "47e1b004",
   "metadata": {},
   "outputs": [],
   "source": [
    "type?"
   ]
  },
  {
   "cell_type": "code",
   "execution_count": null,
   "id": "9767990e",
   "metadata": {},
   "outputs": [],
   "source": []
  },
  {
   "cell_type": "markdown",
   "id": "be866036",
   "metadata": {},
   "source": [
    "# Arrays"
   ]
  },
  {
   "cell_type": "code",
   "execution_count": 36,
   "id": "8ab255a8",
   "metadata": {},
   "outputs": [],
   "source": [
    "import numpy as np\n",
    "from datascience import *"
   ]
  },
  {
   "cell_type": "code",
   "execution_count": 37,
   "id": "dd6440d9",
   "metadata": {},
   "outputs": [
    {
     "data": {
      "text/plain": [
       "array([1, 2, 3, 4])"
      ]
     },
     "execution_count": 37,
     "metadata": {},
     "output_type": "execute_result"
    }
   ],
   "source": [
    "first_four = make_array(1,2,3,4)\n",
    "first_four"
   ]
  },
  {
   "cell_type": "code",
   "execution_count": 38,
   "id": "ff7016ed",
   "metadata": {},
   "outputs": [
    {
     "data": {
      "text/plain": [
       "2.5"
      ]
     },
     "execution_count": 38,
     "metadata": {},
     "output_type": "execute_result"
    }
   ],
   "source": [
    "np.average(first_four)"
   ]
  },
  {
   "cell_type": "code",
   "execution_count": null,
   "id": "90e853af",
   "metadata": {},
   "outputs": [],
   "source": []
  },
  {
   "cell_type": "markdown",
   "id": "adec044f",
   "metadata": {},
   "source": [
    "# Tables"
   ]
  },
  {
   "cell_type": "code",
   "execution_count": 40,
   "id": "97ed2f38",
   "metadata": {},
   "outputs": [],
   "source": [
    "from datascience import *"
   ]
  },
  {
   "cell_type": "code",
   "execution_count": 42,
   "id": "4e399fc0",
   "metadata": {},
   "outputs": [
    {
     "data": {
      "text/html": [
       "<table border=\"1\" class=\"dataframe\">\n",
       "    <thead>\n",
       "        <tr>\n",
       "            <th>Timestamp</th> <th>Surveyor</th> <th>GPA</th> <th>introversion/extroversion</th> <th>Pets</th> <th>Handed</th> <th>Sleep Position</th> <th>K-Pop</th> <th>K-Pop Group</th> <th>travel destination</th> <th>Birthplace </th> <th>Transfer destination</th> <th>Fear</th> <th>Music Genre</th> <th>Color </th>\n",
       "        </tr>\n",
       "    </thead>\n",
       "    <tbody>\n",
       "        <tr>\n",
       "            <td>8/17/2023 16:33</td> <td>Christian Le</td> <td>2.86</td> <td>6                        </td> <td>Dogs                </td> <td>Right-handed</td> <td>On my side    </td> <td>Yes  </td> <td>Le Sserafim</td> <td>Japan             </td> <td>Local                    </td> <td>UC                  </td> <td>Working                               </td> <td>Pop        </td> <td>Red       </td>\n",
       "        </tr>\n",
       "        <tr>\n",
       "            <td>8/17/2023 16:34</td> <td>Christian Le</td> <td>4   </td> <td>8                        </td> <td>nan                 </td> <td>Right-handed</td> <td>On my back    </td> <td>Yes  </td> <td>Le Sserafim</td> <td>Switzerland       </td> <td>Local                    </td> <td>UC                  </td> <td>A regretful life                      </td> <td>All        </td> <td>Black     </td>\n",
       "        </tr>\n",
       "        <tr>\n",
       "            <td>8/17/2023 16:38</td> <td>Christian Le</td> <td>2.5 </td> <td>8                        </td> <td>Cats                </td> <td>Right-handed</td> <td>On my stomach </td> <td>Yes  </td> <td>Seventeen  </td> <td>Hawaii            </td> <td>Local                    </td> <td>UC Transfer         </td> <td>Death, Spiders                        </td> <td>R&B, K-POP </td> <td>Green     </td>\n",
       "        </tr>\n",
       "        <tr>\n",
       "            <td>8/17/2023 16:38</td> <td>Christian Le</td> <td>3.96</td> <td>6                        </td> <td>Cats                </td> <td>Right-handed</td> <td>On my side    </td> <td>Yes  </td> <td>STAYC      </td> <td>Costa Rica        </td> <td>Local                    </td> <td>UC Grad             </td> <td>Loss of loved ones                    </td> <td>R&B, K-POP </td> <td>Purple    </td>\n",
       "        </tr>\n",
       "        <tr>\n",
       "            <td>8/17/2023 16:54</td> <td>Christian Le</td> <td>2.98</td> <td>6                        </td> <td>nan                 </td> <td>Left-handed </td> <td>On my side    </td> <td>Yes  </td> <td>New Jeans  </td> <td>Hawaii            </td> <td>Local                    </td> <td>nan                 </td> <td>Death                                 </td> <td>R&B        </td> <td>Green     </td>\n",
       "        </tr>\n",
       "        <tr>\n",
       "            <td>8/17/2023 16:55</td> <td>Christian Le</td> <td>3.8 </td> <td>8                        </td> <td>Dogs                </td> <td>Right-handed</td> <td>On my side    </td> <td>Yes  </td> <td>New Jeans  </td> <td>Hawaii            </td> <td>Local                    </td> <td>UC                  </td> <td>Being alone                           </td> <td>R&B        </td> <td>Blue      </td>\n",
       "        </tr>\n",
       "        <tr>\n",
       "            <td>8/17/2023 17:00</td> <td>Christian Le</td> <td>4   </td> <td>3                        </td> <td>nan                 </td> <td>Right-handed</td> <td>On my back    </td> <td>No   </td> <td>nan        </td> <td>Japan             </td> <td>California (not Bay Area)</td> <td>CSU                 </td> <td>Not being accepted into career program</td> <td>Hip hop    </td> <td>Khaki     </td>\n",
       "        </tr>\n",
       "        <tr>\n",
       "            <td>8/17/2023 18:13</td> <td>Christian Le</td> <td>4   </td> <td>2                        </td> <td>Cats, Dogs, Reptiles</td> <td>Both        </td> <td>On my stomach </td> <td>Yes  </td> <td>New Jeans  </td> <td>Dubai             </td> <td>Local                    </td> <td>UC                  </td> <td>Insects                               </td> <td>Pop        </td> <td>Red       </td>\n",
       "        </tr>\n",
       "        <tr>\n",
       "            <td>8/17/2023 20:38</td> <td>Casey So    </td> <td>3.86</td> <td>3                        </td> <td>Dogs                </td> <td>Right-handed</td> <td>On my back    </td> <td>Yes  </td> <td>Seventeen  </td> <td>Korea             </td> <td>Local                    </td> <td>UC                  </td> <td>Birds                                 </td> <td>Pop        </td> <td>Light Blue</td>\n",
       "        </tr>\n",
       "        <tr>\n",
       "            <td>8/17/2023 20:43</td> <td>Casey So    </td> <td>3.2 </td> <td>4                        </td> <td>nan                 </td> <td>Right-handed</td> <td>On my side    </td> <td>Yes  </td> <td>Twice      </td> <td>Philippines       </td> <td>Local                    </td> <td>UC                  </td> <td>Death                                 </td> <td>Pop        </td> <td>Blue      </td>\n",
       "        </tr>\n",
       "    </tbody>\n",
       "</table>\n",
       "<p>... (223 rows omitted)</p>"
      ],
      "text/plain": [
       "Timestamp       | Surveyor     | GPA  | introversion/extroversion | Pets                 | Handed       | Sleep Position | K-Pop | K-Pop Group | travel destination | Birthplace                | Transfer destination | Fear                                   | Music Genre | Color\n",
       "8/17/2023 16:33 | Christian Le | 2.86 | 6                         | Dogs                 | Right-handed | On my side     | Yes   | Le Sserafim | Japan              | Local                     | UC                   | Working                                | Pop         | Red\n",
       "8/17/2023 16:34 | Christian Le | 4    | 8                         | nan                  | Right-handed | On my back     | Yes   | Le Sserafim | Switzerland        | Local                     | UC                   | A regretful life                       | All         | Black\n",
       "8/17/2023 16:38 | Christian Le | 2.5  | 8                         | Cats                 | Right-handed | On my stomach  | Yes   | Seventeen   | Hawaii             | Local                     | UC Transfer          | Death, Spiders                         | R&B, K-POP  | Green\n",
       "8/17/2023 16:38 | Christian Le | 3.96 | 6                         | Cats                 | Right-handed | On my side     | Yes   | STAYC       | Costa Rica         | Local                     | UC Grad              | Loss of loved ones                     | R&B, K-POP  | Purple\n",
       "8/17/2023 16:54 | Christian Le | 2.98 | 6                         | nan                  | Left-handed  | On my side     | Yes   | New Jeans   | Hawaii             | Local                     | nan                  | Death                                  | R&B         | Green\n",
       "8/17/2023 16:55 | Christian Le | 3.8  | 8                         | Dogs                 | Right-handed | On my side     | Yes   | New Jeans   | Hawaii             | Local                     | UC                   | Being alone                            | R&B         | Blue\n",
       "8/17/2023 17:00 | Christian Le | 4    | 3                         | nan                  | Right-handed | On my back     | No    | nan         | Japan              | California (not Bay Area) | CSU                  | Not being accepted into career program | Hip hop     | Khaki\n",
       "8/17/2023 18:13 | Christian Le | 4    | 2                         | Cats, Dogs, Reptiles | Both         | On my stomach  | Yes   | New Jeans   | Dubai              | Local                     | UC                   | Insects                                | Pop         | Red\n",
       "8/17/2023 20:38 | Casey So     | 3.86 | 3                         | Dogs                 | Right-handed | On my back     | Yes   | Seventeen   | Korea              | Local                     | UC                   | Birds                                  | Pop         | Light Blue\n",
       "8/17/2023 20:43 | Casey So     | 3.2  | 4                         | nan                  | Right-handed | On my side     | Yes   | Twice       | Philippines        | Local                     | UC                   | Death                                  | Pop         | Blue\n",
       "... (223 rows omitted)"
      ]
     },
     "execution_count": 42,
     "metadata": {},
     "output_type": "execute_result"
    }
   ],
   "source": [
    "math211_survey = Table.read_table('Math211_FallSurvey.csv')\n",
    "math211_survey"
   ]
  },
  {
   "cell_type": "code",
   "execution_count": 43,
   "id": "1a57c7c1",
   "metadata": {},
   "outputs": [
    {
     "data": {
      "text/html": [
       "<table border=\"1\" class=\"dataframe\">\n",
       "    <thead>\n",
       "        <tr>\n",
       "            <th>Timestamp</th> <th>Surveyor</th> <th>GPA</th> <th>introversion/extroversion</th> <th>Pets</th> <th>Handed</th> <th>Sleep Position</th> <th>K-Pop</th> <th>K-Pop Group</th> <th>travel destination</th> <th>Birthplace </th> <th>Transfer destination</th> <th>Fear</th> <th>Music Genre</th> <th>Color </th>\n",
       "        </tr>\n",
       "    </thead>\n",
       "    <tbody>\n",
       "        <tr>\n",
       "            <td>8/17/2023 16:33</td> <td>Christian Le</td> <td>2.86</td> <td>6                        </td> <td>Dogs                </td> <td>Right-handed</td> <td>On my side    </td> <td>Yes  </td> <td>Le Sserafim        </td> <td>Japan             </td> <td>Local                    </td> <td>UC                  </td> <td>Working                               </td> <td>Pop            </td> <td>Red       </td>\n",
       "        </tr>\n",
       "        <tr>\n",
       "            <td>8/17/2023 16:34</td> <td>Christian Le</td> <td>4   </td> <td>8                        </td> <td>nan                 </td> <td>Right-handed</td> <td>On my back    </td> <td>Yes  </td> <td>Le Sserafim        </td> <td>Switzerland       </td> <td>Local                    </td> <td>UC                  </td> <td>A regretful life                      </td> <td>All            </td> <td>Black     </td>\n",
       "        </tr>\n",
       "        <tr>\n",
       "            <td>8/17/2023 16:38</td> <td>Christian Le</td> <td>2.5 </td> <td>8                        </td> <td>Cats                </td> <td>Right-handed</td> <td>On my stomach </td> <td>Yes  </td> <td>Seventeen          </td> <td>Hawaii            </td> <td>Local                    </td> <td>UC Transfer         </td> <td>Death, Spiders                        </td> <td>R&B, K-POP     </td> <td>Green     </td>\n",
       "        </tr>\n",
       "        <tr>\n",
       "            <td>8/17/2023 16:38</td> <td>Christian Le</td> <td>3.96</td> <td>6                        </td> <td>Cats                </td> <td>Right-handed</td> <td>On my side    </td> <td>Yes  </td> <td>STAYC              </td> <td>Costa Rica        </td> <td>Local                    </td> <td>UC Grad             </td> <td>Loss of loved ones                    </td> <td>R&B, K-POP     </td> <td>Purple    </td>\n",
       "        </tr>\n",
       "        <tr>\n",
       "            <td>8/17/2023 16:54</td> <td>Christian Le</td> <td>2.98</td> <td>6                        </td> <td>nan                 </td> <td>Left-handed </td> <td>On my side    </td> <td>Yes  </td> <td>New Jeans          </td> <td>Hawaii            </td> <td>Local                    </td> <td>nan                 </td> <td>Death                                 </td> <td>R&B            </td> <td>Green     </td>\n",
       "        </tr>\n",
       "        <tr>\n",
       "            <td>8/17/2023 16:55</td> <td>Christian Le</td> <td>3.8 </td> <td>8                        </td> <td>Dogs                </td> <td>Right-handed</td> <td>On my side    </td> <td>Yes  </td> <td>New Jeans          </td> <td>Hawaii            </td> <td>Local                    </td> <td>UC                  </td> <td>Being alone                           </td> <td>R&B            </td> <td>Blue      </td>\n",
       "        </tr>\n",
       "        <tr>\n",
       "            <td>8/17/2023 17:00</td> <td>Christian Le</td> <td>4   </td> <td>3                        </td> <td>nan                 </td> <td>Right-handed</td> <td>On my back    </td> <td>No   </td> <td>nan                </td> <td>Japan             </td> <td>California (not Bay Area)</td> <td>CSU                 </td> <td>Not being accepted into career program</td> <td>Hip hop        </td> <td>Khaki     </td>\n",
       "        </tr>\n",
       "        <tr>\n",
       "            <td>8/17/2023 18:13</td> <td>Christian Le</td> <td>4   </td> <td>2                        </td> <td>Cats, Dogs, Reptiles</td> <td>Both        </td> <td>On my stomach </td> <td>Yes  </td> <td>New Jeans          </td> <td>Dubai             </td> <td>Local                    </td> <td>UC                  </td> <td>Insects                               </td> <td>Pop            </td> <td>Red       </td>\n",
       "        </tr>\n",
       "        <tr>\n",
       "            <td>8/17/2023 20:38</td> <td>Casey So    </td> <td>3.86</td> <td>3                        </td> <td>Dogs                </td> <td>Right-handed</td> <td>On my back    </td> <td>Yes  </td> <td>Seventeen          </td> <td>Korea             </td> <td>Local                    </td> <td>UC                  </td> <td>Birds                                 </td> <td>Pop            </td> <td>Light Blue</td>\n",
       "        </tr>\n",
       "        <tr>\n",
       "            <td>8/17/2023 20:43</td> <td>Casey So    </td> <td>3.2 </td> <td>4                        </td> <td>nan                 </td> <td>Right-handed</td> <td>On my side    </td> <td>Yes  </td> <td>Twice              </td> <td>Philippines       </td> <td>Local                    </td> <td>UC                  </td> <td>Death                                 </td> <td>Pop            </td> <td>Blue      </td>\n",
       "        </tr>\n",
       "        <tr>\n",
       "            <td>8/17/2023 20:46</td> <td>Casey So    </td> <td>3.8 </td> <td>3                        </td> <td>Reptiles            </td> <td>Right-handed</td> <td>On my back    </td> <td>No   </td> <td>nan                </td> <td>nan               </td> <td>Local                    </td> <td>UC                  </td> <td>Not being accepted into career program</td> <td>Rock           </td> <td>Purple    </td>\n",
       "        </tr>\n",
       "        <tr>\n",
       "            <td>8/17/2023 21:01</td> <td>Casey So    </td> <td>3.5 </td> <td>5                        </td> <td>Dogs                </td> <td>Right-handed</td> <td>On my side    </td> <td>Yes  </td> <td>Tomorrow X Together</td> <td>France            </td> <td>Local                    </td> <td>UC                  </td> <td>Loss of loved ones                    </td> <td>Hip hop        </td> <td>Blue      </td>\n",
       "        </tr>\n",
       "        <tr>\n",
       "            <td>8/17/2023 21:09</td> <td>Jackie      </td> <td>4   </td> <td>5                        </td> <td>nan                 </td> <td>Left-handed </td> <td>On my side    </td> <td>Yes  </td> <td>NCT                </td> <td>Mexico            </td> <td>Local                    </td> <td>CSU                 </td> <td>Heights                               </td> <td>Hip hop        </td> <td>Blue      </td>\n",
       "        </tr>\n",
       "        <tr>\n",
       "            <td>8/17/2023 21:13</td> <td>Casey So    </td> <td>4   </td> <td>5                        </td> <td>nan                 </td> <td>Right-handed</td> <td>On my side    </td> <td>Yes  </td> <td>Red Velvet         </td> <td>SF                </td> <td>Local                    </td> <td>UC                  </td> <td>Failure                               </td> <td>R&B, Bossa nova</td> <td>Pink      </td>\n",
       "        </tr>\n",
       "        <tr>\n",
       "            <td>8/17/2023 21:15</td> <td>Jackie      </td> <td>3.36</td> <td>4                        </td> <td>Dogs, Fish          </td> <td>Right-handed</td> <td>On my side    </td> <td>No   </td> <td>nan                </td> <td>Oregon            </td> <td>Local                    </td> <td>CSU                 </td> <td>Being alone                           </td> <td>Hip hop        </td> <td>Red       </td>\n",
       "        </tr>\n",
       "    </tbody>\n",
       "</table>\n",
       "<p>... (218 rows omitted)</p>"
      ],
      "text/plain": [
       "<IPython.core.display.HTML object>"
      ]
     },
     "metadata": {},
     "output_type": "display_data"
    }
   ],
   "source": [
    "math211_survey.show(15)"
   ]
  },
  {
   "cell_type": "code",
   "execution_count": 44,
   "id": "84768b51",
   "metadata": {},
   "outputs": [
    {
     "data": {
      "text/plain": [
       "233"
      ]
     },
     "execution_count": 44,
     "metadata": {},
     "output_type": "execute_result"
    }
   ],
   "source": [
    "math211_survey.num_rows"
   ]
  },
  {
   "cell_type": "code",
   "execution_count": 49,
   "id": "f508d758",
   "metadata": {},
   "outputs": [
    {
     "data": {
      "text/html": [
       "<table border=\"1\" class=\"dataframe\">\n",
       "    <thead>\n",
       "        <tr>\n",
       "            <th>Timestamp</th> <th>Surveyor</th> <th>GPA</th> <th>introversion/extroversion</th>\n",
       "        </tr>\n",
       "    </thead>\n",
       "    <tbody>\n",
       "        <tr>\n",
       "            <td>8/17/2023 16:33</td> <td>Christian Le</td> <td>2.86</td> <td>6                        </td>\n",
       "        </tr>\n",
       "        <tr>\n",
       "            <td>8/17/2023 16:34</td> <td>Christian Le</td> <td>4   </td> <td>8                        </td>\n",
       "        </tr>\n",
       "        <tr>\n",
       "            <td>8/17/2023 16:38</td> <td>Christian Le</td> <td>2.5 </td> <td>8                        </td>\n",
       "        </tr>\n",
       "        <tr>\n",
       "            <td>8/17/2023 16:38</td> <td>Christian Le</td> <td>3.96</td> <td>6                        </td>\n",
       "        </tr>\n",
       "        <tr>\n",
       "            <td>8/17/2023 16:54</td> <td>Christian Le</td> <td>2.98</td> <td>6                        </td>\n",
       "        </tr>\n",
       "        <tr>\n",
       "            <td>8/17/2023 16:55</td> <td>Christian Le</td> <td>3.8 </td> <td>8                        </td>\n",
       "        </tr>\n",
       "        <tr>\n",
       "            <td>8/17/2023 17:00</td> <td>Christian Le</td> <td>4   </td> <td>3                        </td>\n",
       "        </tr>\n",
       "        <tr>\n",
       "            <td>8/17/2023 18:13</td> <td>Christian Le</td> <td>4   </td> <td>2                        </td>\n",
       "        </tr>\n",
       "        <tr>\n",
       "            <td>8/17/2023 20:38</td> <td>Casey So    </td> <td>3.86</td> <td>3                        </td>\n",
       "        </tr>\n",
       "        <tr>\n",
       "            <td>8/17/2023 20:43</td> <td>Casey So    </td> <td>3.2 </td> <td>4                        </td>\n",
       "        </tr>\n",
       "    </tbody>\n",
       "</table>\n",
       "<p>... (223 rows omitted)</p>"
      ],
      "text/plain": [
       "Timestamp       | Surveyor     | GPA  | introversion/extroversion\n",
       "8/17/2023 16:33 | Christian Le | 2.86 | 6\n",
       "8/17/2023 16:34 | Christian Le | 4    | 8\n",
       "8/17/2023 16:38 | Christian Le | 2.5  | 8\n",
       "8/17/2023 16:38 | Christian Le | 3.96 | 6\n",
       "8/17/2023 16:54 | Christian Le | 2.98 | 6\n",
       "8/17/2023 16:55 | Christian Le | 3.8  | 8\n",
       "8/17/2023 17:00 | Christian Le | 4    | 3\n",
       "8/17/2023 18:13 | Christian Le | 4    | 2\n",
       "8/17/2023 20:38 | Casey So     | 3.86 | 3\n",
       "8/17/2023 20:43 | Casey So     | 3.2  | 4\n",
       "... (223 rows omitted)"
      ]
     },
     "execution_count": 49,
     "metadata": {},
     "output_type": "execute_result"
    }
   ],
   "source": [
    "math211_survey.select(0,1,2,3)"
   ]
  },
  {
   "cell_type": "code",
   "execution_count": 47,
   "id": "013b0cfa",
   "metadata": {},
   "outputs": [
    {
     "data": {
      "text/html": [
       "<table border=\"1\" class=\"dataframe\">\n",
       "    <thead>\n",
       "        <tr>\n",
       "            <th>Surveyor</th> <th>GPA</th> <th>introversion/extroversion</th> <th>Pets</th> <th>Handed</th> <th>Sleep Position</th> <th>K-Pop</th> <th>K-Pop Group</th> <th>travel destination</th> <th>Birthplace </th> <th>Transfer destination</th> <th>Fear</th> <th>Music Genre</th> <th>Color </th>\n",
       "        </tr>\n",
       "    </thead>\n",
       "    <tbody>\n",
       "        <tr>\n",
       "            <td>Christian Le</td> <td>2.86</td> <td>6                        </td> <td>Dogs                </td> <td>Right-handed</td> <td>On my side    </td> <td>Yes  </td> <td>Le Sserafim</td> <td>Japan             </td> <td>Local                    </td> <td>UC                  </td> <td>Working                               </td> <td>Pop        </td> <td>Red       </td>\n",
       "        </tr>\n",
       "        <tr>\n",
       "            <td>Christian Le</td> <td>4   </td> <td>8                        </td> <td>nan                 </td> <td>Right-handed</td> <td>On my back    </td> <td>Yes  </td> <td>Le Sserafim</td> <td>Switzerland       </td> <td>Local                    </td> <td>UC                  </td> <td>A regretful life                      </td> <td>All        </td> <td>Black     </td>\n",
       "        </tr>\n",
       "        <tr>\n",
       "            <td>Christian Le</td> <td>2.5 </td> <td>8                        </td> <td>Cats                </td> <td>Right-handed</td> <td>On my stomach </td> <td>Yes  </td> <td>Seventeen  </td> <td>Hawaii            </td> <td>Local                    </td> <td>UC Transfer         </td> <td>Death, Spiders                        </td> <td>R&B, K-POP </td> <td>Green     </td>\n",
       "        </tr>\n",
       "        <tr>\n",
       "            <td>Christian Le</td> <td>3.96</td> <td>6                        </td> <td>Cats                </td> <td>Right-handed</td> <td>On my side    </td> <td>Yes  </td> <td>STAYC      </td> <td>Costa Rica        </td> <td>Local                    </td> <td>UC Grad             </td> <td>Loss of loved ones                    </td> <td>R&B, K-POP </td> <td>Purple    </td>\n",
       "        </tr>\n",
       "        <tr>\n",
       "            <td>Christian Le</td> <td>2.98</td> <td>6                        </td> <td>nan                 </td> <td>Left-handed </td> <td>On my side    </td> <td>Yes  </td> <td>New Jeans  </td> <td>Hawaii            </td> <td>Local                    </td> <td>nan                 </td> <td>Death                                 </td> <td>R&B        </td> <td>Green     </td>\n",
       "        </tr>\n",
       "        <tr>\n",
       "            <td>Christian Le</td> <td>3.8 </td> <td>8                        </td> <td>Dogs                </td> <td>Right-handed</td> <td>On my side    </td> <td>Yes  </td> <td>New Jeans  </td> <td>Hawaii            </td> <td>Local                    </td> <td>UC                  </td> <td>Being alone                           </td> <td>R&B        </td> <td>Blue      </td>\n",
       "        </tr>\n",
       "        <tr>\n",
       "            <td>Christian Le</td> <td>4   </td> <td>3                        </td> <td>nan                 </td> <td>Right-handed</td> <td>On my back    </td> <td>No   </td> <td>nan        </td> <td>Japan             </td> <td>California (not Bay Area)</td> <td>CSU                 </td> <td>Not being accepted into career program</td> <td>Hip hop    </td> <td>Khaki     </td>\n",
       "        </tr>\n",
       "        <tr>\n",
       "            <td>Christian Le</td> <td>4   </td> <td>2                        </td> <td>Cats, Dogs, Reptiles</td> <td>Both        </td> <td>On my stomach </td> <td>Yes  </td> <td>New Jeans  </td> <td>Dubai             </td> <td>Local                    </td> <td>UC                  </td> <td>Insects                               </td> <td>Pop        </td> <td>Red       </td>\n",
       "        </tr>\n",
       "        <tr>\n",
       "            <td>Casey So    </td> <td>3.86</td> <td>3                        </td> <td>Dogs                </td> <td>Right-handed</td> <td>On my back    </td> <td>Yes  </td> <td>Seventeen  </td> <td>Korea             </td> <td>Local                    </td> <td>UC                  </td> <td>Birds                                 </td> <td>Pop        </td> <td>Light Blue</td>\n",
       "        </tr>\n",
       "        <tr>\n",
       "            <td>Casey So    </td> <td>3.2 </td> <td>4                        </td> <td>nan                 </td> <td>Right-handed</td> <td>On my side    </td> <td>Yes  </td> <td>Twice      </td> <td>Philippines       </td> <td>Local                    </td> <td>UC                  </td> <td>Death                                 </td> <td>Pop        </td> <td>Blue      </td>\n",
       "        </tr>\n",
       "    </tbody>\n",
       "</table>\n",
       "<p>... (223 rows omitted)</p>"
      ],
      "text/plain": [
       "Surveyor     | GPA  | introversion/extroversion | Pets                 | Handed       | Sleep Position | K-Pop | K-Pop Group | travel destination | Birthplace                | Transfer destination | Fear                                   | Music Genre | Color\n",
       "Christian Le | 2.86 | 6                         | Dogs                 | Right-handed | On my side     | Yes   | Le Sserafim | Japan              | Local                     | UC                   | Working                                | Pop         | Red\n",
       "Christian Le | 4    | 8                         | nan                  | Right-handed | On my back     | Yes   | Le Sserafim | Switzerland        | Local                     | UC                   | A regretful life                       | All         | Black\n",
       "Christian Le | 2.5  | 8                         | Cats                 | Right-handed | On my stomach  | Yes   | Seventeen   | Hawaii             | Local                     | UC Transfer          | Death, Spiders                         | R&B, K-POP  | Green\n",
       "Christian Le | 3.96 | 6                         | Cats                 | Right-handed | On my side     | Yes   | STAYC       | Costa Rica         | Local                     | UC Grad              | Loss of loved ones                     | R&B, K-POP  | Purple\n",
       "Christian Le | 2.98 | 6                         | nan                  | Left-handed  | On my side     | Yes   | New Jeans   | Hawaii             | Local                     | nan                  | Death                                  | R&B         | Green\n",
       "Christian Le | 3.8  | 8                         | Dogs                 | Right-handed | On my side     | Yes   | New Jeans   | Hawaii             | Local                     | UC                   | Being alone                            | R&B         | Blue\n",
       "Christian Le | 4    | 3                         | nan                  | Right-handed | On my back     | No    | nan         | Japan              | California (not Bay Area) | CSU                  | Not being accepted into career program | Hip hop     | Khaki\n",
       "Christian Le | 4    | 2                         | Cats, Dogs, Reptiles | Both         | On my stomach  | Yes   | New Jeans   | Dubai              | Local                     | UC                   | Insects                                | Pop         | Red\n",
       "Casey So     | 3.86 | 3                         | Dogs                 | Right-handed | On my back     | Yes   | Seventeen   | Korea              | Local                     | UC                   | Birds                                  | Pop         | Light Blue\n",
       "Casey So     | 3.2  | 4                         | nan                  | Right-handed | On my side     | Yes   | Twice       | Philippines        | Local                     | UC                   | Death                                  | Pop         | Blue\n",
       "... (223 rows omitted)"
      ]
     },
     "execution_count": 47,
     "metadata": {},
     "output_type": "execute_result"
    }
   ],
   "source": [
    "math211_survey.drop(\"Timestamp\")"
   ]
  },
  {
   "cell_type": "code",
   "execution_count": 53,
   "id": "f96709e0",
   "metadata": {},
   "outputs": [
    {
     "data": {
      "text/html": [
       "<table border=\"1\" class=\"dataframe\">\n",
       "    <thead>\n",
       "        <tr>\n",
       "            <th>Timestamp</th> <th>Surveyor</th> <th>GPA</th> <th>introversion/extroversion</th> <th>Pets</th> <th>Handed</th> <th>Sleep Position</th> <th>K-Pop</th> <th>K-Pop Group</th> <th>travel destination</th> <th>Birthplace </th> <th>Transfer destination</th> <th>Fear</th> <th>Music Genre</th> <th>Color </th>\n",
       "        </tr>\n",
       "    </thead>\n",
       "    <tbody>\n",
       "        <tr>\n",
       "            <td>8/21/2023 9:27 </td> <td>Jonnald     </td> <td>88   </td> <td>8                        </td> <td>Dogs      </td> <td>Right-handed</td> <td>On my back      </td> <td>No   </td> <td>nan                                        </td> <td>California        </td> <td>Local                    </td> <td>CSU                 </td> <td>Public Speaking</td> <td>Classical      </td> <td>White                </td>\n",
       "        </tr>\n",
       "        <tr>\n",
       "            <td>8/31/2023 0:31 </td> <td>Christian Le</td> <td>4.5  </td> <td>7                        </td> <td>Cats, Dogs</td> <td>Right-handed</td> <td>all of the above</td> <td>No   </td> <td>nan                                        </td> <td>Japan             </td> <td>California (not Bay Area)</td> <td>UC                  </td> <td>Monkeys        </td> <td>Pop            </td> <td>Light Cornflower Blue</td>\n",
       "        </tr>\n",
       "        <tr>\n",
       "            <td>8/24/2023 9:31 </td> <td>Casey So    </td> <td>4.214</td> <td>8                        </td> <td>Dogs      </td> <td>Left-handed </td> <td>On my side      </td> <td>Yes  </td> <td>Enhypen                                    </td> <td>Japan             </td> <td>Local                    </td> <td>UC                  </td> <td>Hatred,Bullying</td> <td>Pop            </td> <td>Pink,Yellow          </td>\n",
       "        </tr>\n",
       "        <tr>\n",
       "            <td>8/18/2023 12:05</td> <td>Allison     </td> <td>4    </td> <td>4                        </td> <td>Dogs      </td> <td>Right-handed</td> <td>On my side      </td> <td>Yes  </td> <td>BTS                                        </td> <td>Mexico            </td> <td>out of country           </td> <td>CSU                 </td> <td>Spiders,Snakes </td> <td>Pop            </td> <td>Black                </td>\n",
       "        </tr>\n",
       "        <tr>\n",
       "            <td>8/21/2023 15:12</td> <td>Allison     </td> <td>4    </td> <td>7                        </td> <td>Cats, Dogs</td> <td>Left-handed </td> <td>On my side      </td> <td>Yes  </td> <td>Le Sserafim , New Jeans, BTS, Itzy, Enhypen</td> <td>Philippines       </td> <td>out of country           </td> <td>UC                  </td> <td>Rejection      </td> <td>Pop            </td> <td>Pink                 </td>\n",
       "        </tr>\n",
       "        <tr>\n",
       "            <td>8/21/2023 16:04</td> <td>Allison     </td> <td>4    </td> <td>7                        </td> <td>nan       </td> <td>Right-handed</td> <td>On my side      </td> <td>No   </td> <td>nan                                        </td> <td>Mexico            </td> <td>Local                    </td> <td>CSU                 </td> <td>Failure        </td> <td>Pop            </td> <td>Light Blue           </td>\n",
       "        </tr>\n",
       "        <tr>\n",
       "            <td>8/21/2023 20:58</td> <td>Allison     </td> <td>4    </td> <td>7                        </td> <td>Dogs      </td> <td>Right-handed</td> <td>On my side      </td> <td>No   </td> <td>nan                                        </td> <td>Beach             </td> <td>Local                    </td> <td>UC                  </td> <td>My mom         </td> <td>Hip hop        </td> <td>Blue                 </td>\n",
       "        </tr>\n",
       "        <tr>\n",
       "            <td>8/22/2023 12:51</td> <td>Allison     </td> <td>4    </td> <td>3                        </td> <td>nan       </td> <td>Right-handed</td> <td>On my side      </td> <td>No   </td> <td>nan                                        </td> <td>Philippines       </td> <td>Local                    </td> <td>CSU                 </td> <td>Bugs           </td> <td>Pop            </td> <td>Purple               </td>\n",
       "        </tr>\n",
       "        <tr>\n",
       "            <td>8/21/2023 16:22</td> <td>Alyssa      </td> <td>4    </td> <td>5                        </td> <td>Cats      </td> <td>Right-handed</td> <td>All of the above</td> <td>No   </td> <td>nan                                        </td> <td>Italy             </td> <td>Local                    </td> <td>UC                  </td> <td>Failure        </td> <td>None of them   </td> <td>Pastel baby blue     </td>\n",
       "        </tr>\n",
       "        <tr>\n",
       "            <td>8/17/2023 21:13</td> <td>Casey So    </td> <td>4    </td> <td>5                        </td> <td>nan       </td> <td>Right-handed</td> <td>On my side      </td> <td>Yes  </td> <td>Red Velvet                                 </td> <td>SF                </td> <td>Local                    </td> <td>UC                  </td> <td>Failure        </td> <td>R&B, Bossa nova</td> <td>Pink                 </td>\n",
       "        </tr>\n",
       "    </tbody>\n",
       "</table>\n",
       "<p>... (223 rows omitted)</p>"
      ],
      "text/plain": [
       "Timestamp       | Surveyor     | GPA   | introversion/extroversion | Pets       | Handed       | Sleep Position   | K-Pop | K-Pop Group                                 | travel destination | Birthplace                | Transfer destination | Fear            | Music Genre     | Color\n",
       "8/21/2023 9:27  | Jonnald      | 88    | 8                         | Dogs       | Right-handed | On my back       | No    | nan                                         | California         | Local                     | CSU                  | Public Speaking | Classical       | White\n",
       "8/31/2023 0:31  | Christian Le | 4.5   | 7                         | Cats, Dogs | Right-handed | all of the above | No    | nan                                         | Japan              | California (not Bay Area) | UC                   | Monkeys         | Pop             | Light Cornflower Blue\n",
       "8/24/2023 9:31  | Casey So     | 4.214 | 8                         | Dogs       | Left-handed  | On my side       | Yes   | Enhypen                                     | Japan              | Local                     | UC                   | Hatred,Bullying | Pop             | Pink,Yellow\n",
       "8/18/2023 12:05 | Allison      | 4     | 4                         | Dogs       | Right-handed | On my side       | Yes   | BTS                                         | Mexico             | out of country            | CSU                  | Spiders,Snakes  | Pop             | Black\n",
       "8/21/2023 15:12 | Allison      | 4     | 7                         | Cats, Dogs | Left-handed  | On my side       | Yes   | Le Sserafim , New Jeans, BTS, Itzy, Enhypen | Philippines        | out of country            | UC                   | Rejection       | Pop             | Pink\n",
       "8/21/2023 16:04 | Allison      | 4     | 7                         | nan        | Right-handed | On my side       | No    | nan                                         | Mexico             | Local                     | CSU                  | Failure         | Pop             | Light Blue\n",
       "8/21/2023 20:58 | Allison      | 4     | 7                         | Dogs       | Right-handed | On my side       | No    | nan                                         | Beach              | Local                     | UC                   | My mom          | Hip hop         | Blue\n",
       "8/22/2023 12:51 | Allison      | 4     | 3                         | nan        | Right-handed | On my side       | No    | nan                                         | Philippines        | Local                     | CSU                  | Bugs            | Pop             | Purple\n",
       "8/21/2023 16:22 | Alyssa       | 4     | 5                         | Cats       | Right-handed | All of the above | No    | nan                                         | Italy              | Local                     | UC                   | Failure         | None of them    | Pastel baby blue\n",
       "8/17/2023 21:13 | Casey So     | 4     | 5                         | nan        | Right-handed | On my side       | Yes   | Red Velvet                                  | SF                 | Local                     | UC                   | Failure         | R&B, Bossa nova | Pink\n",
       "... (223 rows omitted)"
      ]
     },
     "execution_count": 53,
     "metadata": {},
     "output_type": "execute_result"
    }
   ],
   "source": [
    "math211_survey.sort('Surveyor').sort('GPA',descending=True)"
   ]
  },
  {
   "cell_type": "code",
   "execution_count": 59,
   "id": "0c7c74ac",
   "metadata": {},
   "outputs": [
    {
     "data": {
      "text/html": [
       "<table border=\"1\" class=\"dataframe\">\n",
       "    <thead>\n",
       "        <tr>\n",
       "            <th>Timestamp</th> <th>Surveyor</th> <th>GPA</th> <th>introversion/extroversion</th> <th>Pets</th> <th>Handed</th> <th>Sleep Position</th> <th>K-Pop</th> <th>K-Pop Group</th> <th>travel destination</th> <th>Birthplace </th> <th>Transfer destination</th> <th>Fear</th> <th>Music Genre</th> <th>Color </th>\n",
       "        </tr>\n",
       "    </thead>\n",
       "    <tbody>\n",
       "        <tr>\n",
       "            <td>8/17/2023 16:55</td> <td>Christian Le</td> <td>3.8 </td> <td>8                        </td> <td>Dogs</td> <td>Right-handed</td> <td>On my side    </td> <td>Yes  </td> <td>New Jeans                                            </td> <td>Hawaii            </td> <td>Local                    </td> <td>UC                  </td> <td>Being alone       </td> <td>R&B        </td> <td>Blue      </td>\n",
       "        </tr>\n",
       "        <tr>\n",
       "            <td>8/17/2023 20:38</td> <td>Casey So    </td> <td>3.86</td> <td>3                        </td> <td>Dogs</td> <td>Right-handed</td> <td>On my back    </td> <td>Yes  </td> <td>Seventeen                                            </td> <td>Korea             </td> <td>Local                    </td> <td>UC                  </td> <td>Birds             </td> <td>Pop        </td> <td>Light Blue</td>\n",
       "        </tr>\n",
       "        <tr>\n",
       "            <td>8/17/2023 20:43</td> <td>Casey So    </td> <td>3.2 </td> <td>4                        </td> <td>nan </td> <td>Right-handed</td> <td>On my side    </td> <td>Yes  </td> <td>Twice                                                </td> <td>Philippines       </td> <td>Local                    </td> <td>UC                  </td> <td>Death             </td> <td>Pop        </td> <td>Blue      </td>\n",
       "        </tr>\n",
       "        <tr>\n",
       "            <td>8/17/2023 21:01</td> <td>Casey So    </td> <td>3.5 </td> <td>5                        </td> <td>Dogs</td> <td>Right-handed</td> <td>On my side    </td> <td>Yes  </td> <td>Tomorrow X Together                                  </td> <td>France            </td> <td>Local                    </td> <td>UC                  </td> <td>Loss of loved ones</td> <td>Hip hop    </td> <td>Blue      </td>\n",
       "        </tr>\n",
       "        <tr>\n",
       "            <td>8/17/2023 21:09</td> <td>Jackie      </td> <td>4   </td> <td>5                        </td> <td>nan </td> <td>Left-handed </td> <td>On my side    </td> <td>Yes  </td> <td>NCT                                                  </td> <td>Mexico            </td> <td>Local                    </td> <td>CSU                 </td> <td>Heights           </td> <td>Hip hop    </td> <td>Blue      </td>\n",
       "        </tr>\n",
       "        <tr>\n",
       "            <td>8/17/2023 21:23</td> <td>Christian Le</td> <td>3.98</td> <td>5                        </td> <td>nan </td> <td>Right-handed</td> <td>On my back    </td> <td>Yes  </td> <td>New Jeans                                            </td> <td>Taiwan            </td> <td>Local                    </td> <td>UC                  </td> <td>Clowns            </td> <td>Pop        </td> <td>Blue      </td>\n",
       "        </tr>\n",
       "        <tr>\n",
       "            <td>8/17/2023 23:55</td> <td>Casey So    </td> <td>4   </td> <td>3                        </td> <td>Dogs</td> <td>Right-handed</td> <td>On my side    </td> <td>Yes  </td> <td>BTS, Stray Kids, TXT, Enhypen, Twice, Itzy, Blackpink</td> <td>Lake Tahoe,Reno   </td> <td>Local                    </td> <td>UC                  </td> <td>Heights           </td> <td>Pop        </td> <td>Blue      </td>\n",
       "        </tr>\n",
       "        <tr>\n",
       "            <td>8/18/2023 9:56 </td> <td>Jackie      </td> <td>4   </td> <td>2                        </td> <td>Cats</td> <td>Right-handed</td> <td>On my side    </td> <td>Yes  </td> <td>Blackpink                                            </td> <td>Japan             </td> <td>out of country           </td> <td>UC                  </td> <td>Socializing       </td> <td>R&B        </td> <td>Blue      </td>\n",
       "        </tr>\n",
       "        <tr>\n",
       "            <td>8/18/2023 10:00</td> <td>Jackie      </td> <td>3.9 </td> <td>4                        </td> <td>Dogs</td> <td>Right-handed</td> <td>On my back    </td> <td>No   </td> <td>nan                                                  </td> <td>nan               </td> <td>out of country           </td> <td>Out of State        </td> <td>Failure           </td> <td>Pop        </td> <td>Blue      </td>\n",
       "        </tr>\n",
       "        <tr>\n",
       "            <td>8/18/2023 10:10</td> <td>Jonnald     </td> <td>3.2 </td> <td>3                        </td> <td>Dogs</td> <td>Right-handed</td> <td>On my side    </td> <td>No   </td> <td>nan                                                  </td> <td>Orlando           </td> <td>California (not Bay Area)</td> <td>CSU                 </td> <td>Heights           </td> <td>Pop        </td> <td>Blue      </td>\n",
       "        </tr>\n",
       "    </tbody>\n",
       "</table>\n",
       "<p>... (54 rows omitted)</p>"
      ],
      "text/plain": [
       "Timestamp       | Surveyor     | GPA  | introversion/extroversion | Pets | Handed       | Sleep Position | K-Pop | K-Pop Group                                           | travel destination | Birthplace                | Transfer destination | Fear               | Music Genre | Color\n",
       "8/17/2023 16:55 | Christian Le | 3.8  | 8                         | Dogs | Right-handed | On my side     | Yes   | New Jeans                                             | Hawaii             | Local                     | UC                   | Being alone        | R&B         | Blue\n",
       "8/17/2023 20:38 | Casey So     | 3.86 | 3                         | Dogs | Right-handed | On my back     | Yes   | Seventeen                                             | Korea              | Local                     | UC                   | Birds              | Pop         | Light Blue\n",
       "8/17/2023 20:43 | Casey So     | 3.2  | 4                         | nan  | Right-handed | On my side     | Yes   | Twice                                                 | Philippines        | Local                     | UC                   | Death              | Pop         | Blue\n",
       "8/17/2023 21:01 | Casey So     | 3.5  | 5                         | Dogs | Right-handed | On my side     | Yes   | Tomorrow X Together                                   | France             | Local                     | UC                   | Loss of loved ones | Hip hop     | Blue\n",
       "8/17/2023 21:09 | Jackie       | 4    | 5                         | nan  | Left-handed  | On my side     | Yes   | NCT                                                   | Mexico             | Local                     | CSU                  | Heights            | Hip hop     | Blue\n",
       "8/17/2023 21:23 | Christian Le | 3.98 | 5                         | nan  | Right-handed | On my back     | Yes   | New Jeans                                             | Taiwan             | Local                     | UC                   | Clowns             | Pop         | Blue\n",
       "8/17/2023 23:55 | Casey So     | 4    | 3                         | Dogs | Right-handed | On my side     | Yes   | BTS, Stray Kids, TXT, Enhypen, Twice, Itzy, Blackpink | Lake Tahoe,Reno    | Local                     | UC                   | Heights            | Pop         | Blue\n",
       "8/18/2023 9:56  | Jackie       | 4    | 2                         | Cats | Right-handed | On my side     | Yes   | Blackpink                                             | Japan              | out of country            | UC                   | Socializing        | R&B         | Blue\n",
       "8/18/2023 10:00 | Jackie       | 3.9  | 4                         | Dogs | Right-handed | On my back     | No    | nan                                                   | nan                | out of country            | Out of State         | Failure            | Pop         | Blue\n",
       "8/18/2023 10:10 | Jonnald      | 3.2  | 3                         | Dogs | Right-handed | On my side     | No    | nan                                                   | Orlando            | California (not Bay Area) | CSU                  | Heights            | Pop         | Blue\n",
       "... (54 rows omitted)"
      ]
     },
     "execution_count": 59,
     "metadata": {},
     "output_type": "execute_result"
    }
   ],
   "source": [
    " math211_survey.where('Color ', are.containing('Blue'))"
   ]
  },
  {
   "cell_type": "code",
   "execution_count": 61,
   "id": "61f851d2",
   "metadata": {
    "scrolled": false
   },
   "outputs": [
    {
     "data": {
      "text/html": [
       "<table border=\"1\" class=\"dataframe\">\n",
       "    <thead>\n",
       "        <tr>\n",
       "            <th>Timestamp</th> <th>Surveyor</th> <th>GPA</th> <th>introversion/extroversion</th> <th>Pets</th> <th>Handed</th> <th>Sleep Position</th> <th>K-Pop</th> <th>K-Pop Group</th> <th>travel destination</th> <th>Birthplace </th> <th>Transfer destination</th> <th>Fear</th> <th>Music Genre</th> <th>Color </th>\n",
       "        </tr>\n",
       "    </thead>\n",
       "    <tbody>\n",
       "        <tr>\n",
       "            <td>8/17/2023 16:33</td> <td>Christian Le    </td> <td>2.86 </td> <td>6                        </td> <td>Dogs                      </td> <td>Right-handed</td> <td>On my side            </td> <td>Yes  </td> <td>Le Sserafim                                                 </td> <td>Japan                      </td> <td>Local                    </td> <td>UC                                    </td> <td>Working                               </td> <td>Pop                                                      </td> <td>Red                  </td>\n",
       "        </tr>\n",
       "        <tr>\n",
       "            <td>8/17/2023 16:34</td> <td>Christian Le    </td> <td>4    </td> <td>8                        </td> <td>nan                       </td> <td>Right-handed</td> <td>On my back            </td> <td>Yes  </td> <td>Le Sserafim                                                 </td> <td>Switzerland                </td> <td>Local                    </td> <td>UC                                    </td> <td>A regretful life                      </td> <td>All                                                      </td> <td>Black                </td>\n",
       "        </tr>\n",
       "        <tr>\n",
       "            <td>8/17/2023 16:38</td> <td>Christian Le    </td> <td>2.5  </td> <td>8                        </td> <td>Cats                      </td> <td>Right-handed</td> <td>On my stomach         </td> <td>Yes  </td> <td>Seventeen                                                   </td> <td>Hawaii                     </td> <td>Local                    </td> <td>UC Transfer                           </td> <td>Death, Spiders                        </td> <td>R&B, K-POP                                               </td> <td>Green                </td>\n",
       "        </tr>\n",
       "        <tr>\n",
       "            <td>8/17/2023 16:38</td> <td>Christian Le    </td> <td>3.96 </td> <td>6                        </td> <td>Cats                      </td> <td>Right-handed</td> <td>On my side            </td> <td>Yes  </td> <td>STAYC                                                       </td> <td>Costa Rica                 </td> <td>Local                    </td> <td>UC Grad                               </td> <td>Loss of loved ones                    </td> <td>R&B, K-POP                                               </td> <td>Purple               </td>\n",
       "        </tr>\n",
       "        <tr>\n",
       "            <td>8/17/2023 16:54</td> <td>Christian Le    </td> <td>2.98 </td> <td>6                        </td> <td>nan                       </td> <td>Left-handed </td> <td>On my side            </td> <td>Yes  </td> <td>New Jeans                                                   </td> <td>Hawaii                     </td> <td>Local                    </td> <td>nan                                   </td> <td>Death                                 </td> <td>R&B                                                      </td> <td>Green                </td>\n",
       "        </tr>\n",
       "        <tr>\n",
       "            <td>8/17/2023 16:55</td> <td>Christian Le    </td> <td>3.8  </td> <td>8                        </td> <td>Dogs                      </td> <td>Right-handed</td> <td>On my side            </td> <td>Yes  </td> <td>New Jeans                                                   </td> <td>Hawaii                     </td> <td>Local                    </td> <td>UC                                    </td> <td>Being alone                           </td> <td>R&B                                                      </td> <td>Blue                 </td>\n",
       "        </tr>\n",
       "        <tr>\n",
       "            <td>8/17/2023 17:00</td> <td>Christian Le    </td> <td>4    </td> <td>3                        </td> <td>nan                       </td> <td>Right-handed</td> <td>On my back            </td> <td>No   </td> <td>nan                                                         </td> <td>Japan                      </td> <td>California (not Bay Area)</td> <td>CSU                                   </td> <td>Not being accepted into career program</td> <td>Hip hop                                                  </td> <td>Khaki                </td>\n",
       "        </tr>\n",
       "        <tr>\n",
       "            <td>8/17/2023 18:13</td> <td>Christian Le    </td> <td>4    </td> <td>2                        </td> <td>Cats, Dogs, Reptiles      </td> <td>Both        </td> <td>On my stomach         </td> <td>Yes  </td> <td>New Jeans                                                   </td> <td>Dubai                      </td> <td>Local                    </td> <td>UC                                    </td> <td>Insects                               </td> <td>Pop                                                      </td> <td>Red                  </td>\n",
       "        </tr>\n",
       "        <tr>\n",
       "            <td>8/17/2023 20:38</td> <td>Casey So        </td> <td>3.86 </td> <td>3                        </td> <td>Dogs                      </td> <td>Right-handed</td> <td>On my back            </td> <td>Yes  </td> <td>Seventeen                                                   </td> <td>Korea                      </td> <td>Local                    </td> <td>UC                                    </td> <td>Birds                                 </td> <td>Pop                                                      </td> <td>Light Blue           </td>\n",
       "        </tr>\n",
       "        <tr>\n",
       "            <td>8/17/2023 20:43</td> <td>Casey So        </td> <td>3.2  </td> <td>4                        </td> <td>nan                       </td> <td>Right-handed</td> <td>On my side            </td> <td>Yes  </td> <td>Twice                                                       </td> <td>Philippines                </td> <td>Local                    </td> <td>UC                                    </td> <td>Death                                 </td> <td>Pop                                                      </td> <td>Blue                 </td>\n",
       "        </tr>\n",
       "        <tr>\n",
       "            <td>8/17/2023 20:46</td> <td>Casey So        </td> <td>3.8  </td> <td>3                        </td> <td>Reptiles                  </td> <td>Right-handed</td> <td>On my back            </td> <td>No   </td> <td>nan                                                         </td> <td>nan                        </td> <td>Local                    </td> <td>UC                                    </td> <td>Not being accepted into career program</td> <td>Rock                                                     </td> <td>Purple               </td>\n",
       "        </tr>\n",
       "        <tr>\n",
       "            <td>8/17/2023 21:01</td> <td>Casey So        </td> <td>3.5  </td> <td>5                        </td> <td>Dogs                      </td> <td>Right-handed</td> <td>On my side            </td> <td>Yes  </td> <td>Tomorrow X Together                                         </td> <td>France                     </td> <td>Local                    </td> <td>UC                                    </td> <td>Loss of loved ones                    </td> <td>Hip hop                                                  </td> <td>Blue                 </td>\n",
       "        </tr>\n",
       "        <tr>\n",
       "            <td>8/17/2023 21:09</td> <td>Jackie          </td> <td>4    </td> <td>5                        </td> <td>nan                       </td> <td>Left-handed </td> <td>On my side            </td> <td>Yes  </td> <td>NCT                                                         </td> <td>Mexico                     </td> <td>Local                    </td> <td>CSU                                   </td> <td>Heights                               </td> <td>Hip hop                                                  </td> <td>Blue                 </td>\n",
       "        </tr>\n",
       "        <tr>\n",
       "            <td>8/17/2023 21:13</td> <td>Casey So        </td> <td>4    </td> <td>5                        </td> <td>nan                       </td> <td>Right-handed</td> <td>On my side            </td> <td>Yes  </td> <td>Red Velvet                                                  </td> <td>SF                         </td> <td>Local                    </td> <td>UC                                    </td> <td>Failure                               </td> <td>R&B, Bossa nova                                          </td> <td>Pink                 </td>\n",
       "        </tr>\n",
       "        <tr>\n",
       "            <td>8/17/2023 21:15</td> <td>Jackie          </td> <td>3.36 </td> <td>4                        </td> <td>Dogs, Fish                </td> <td>Right-handed</td> <td>On my side            </td> <td>No   </td> <td>nan                                                         </td> <td>Oregon                     </td> <td>Local                    </td> <td>CSU                                   </td> <td>Being alone                           </td> <td>Hip hop                                                  </td> <td>Red                  </td>\n",
       "        </tr>\n",
       "        <tr>\n",
       "            <td>8/17/2023 21:19</td> <td>Casey So        </td> <td>3.7  </td> <td>4                        </td> <td>nan                       </td> <td>Right-handed</td> <td>On my back            </td> <td>Yes  </td> <td>Apink                                                       </td> <td>Hawaii                     </td> <td>Local                    </td> <td>CSU                                   </td> <td>Spiders                               </td> <td>R&B                                                      </td> <td>Pink                 </td>\n",
       "        </tr>\n",
       "        <tr>\n",
       "            <td>8/17/2023 21:21</td> <td>Jackie          </td> <td>3.8  </td> <td>7                        </td> <td>nan                       </td> <td>Right-handed</td> <td>On my side            </td> <td>No   </td> <td>New Jeans                                                   </td> <td>Mexico                     </td> <td>Local                    </td> <td>UC                                    </td> <td>Death                                 </td> <td>R&B                                                      </td> <td>Bone                 </td>\n",
       "        </tr>\n",
       "        <tr>\n",
       "            <td>8/17/2023 21:23</td> <td>Christian Le    </td> <td>3.98 </td> <td>5                        </td> <td>nan                       </td> <td>Right-handed</td> <td>On my back            </td> <td>Yes  </td> <td>New Jeans                                                   </td> <td>Taiwan                     </td> <td>Local                    </td> <td>UC                                    </td> <td>Clowns                                </td> <td>Pop                                                      </td> <td>Blue                 </td>\n",
       "        </tr>\n",
       "        <tr>\n",
       "            <td>8/17/2023 21:29</td> <td>Casey So        </td> <td>3    </td> <td>5                        </td> <td>nan                       </td> <td>Right-handed</td> <td>On my side            </td> <td>Yes  </td> <td>Le Sserafim                                                 </td> <td>LA                         </td> <td>Local                    </td> <td>UC                                    </td> <td>nan                                   </td> <td>Pop                                                      </td> <td>Black                </td>\n",
       "        </tr>\n",
       "        <tr>\n",
       "            <td>8/17/2023 21:31</td> <td>Casey So        </td> <td>3.8  </td> <td>3                        </td> <td>nan                       </td> <td>Right-handed</td> <td>On my stomach         </td> <td>Yes  </td> <td>Red Velvet                                                  </td> <td>Bed                        </td> <td>Local                    </td> <td>UC                                    </td> <td>Spiders                               </td> <td>Pop                                                      </td> <td>Green                </td>\n",
       "        </tr>\n",
       "        <tr>\n",
       "            <td>8/17/2023 21:33</td> <td>Jackie          </td> <td>3    </td> <td>7                        </td> <td>nan                       </td> <td>Right-handed</td> <td>On my stomach         </td> <td>No   </td> <td>nan                                                         </td> <td>Mexico                     </td> <td>out of country           </td> <td>CSU                                   </td> <td>Death                                 </td> <td>Mexican Country                                          </td> <td>Red                  </td>\n",
       "        </tr>\n",
       "        <tr>\n",
       "            <td>8/17/2023 23:55</td> <td>Casey So        </td> <td>4    </td> <td>3                        </td> <td>Dogs                      </td> <td>Right-handed</td> <td>On my side            </td> <td>Yes  </td> <td>BTS, Stray Kids, TXT, Enhypen, Twice, Itzy, Blackpink       </td> <td>Lake Tahoe,Reno            </td> <td>Local                    </td> <td>UC                                    </td> <td>Heights                               </td> <td>Pop                                                      </td> <td>Blue                 </td>\n",
       "        </tr>\n",
       "        <tr>\n",
       "            <td>8/18/2023 9:56 </td> <td>Jackie          </td> <td>4    </td> <td>2                        </td> <td>Cats                      </td> <td>Right-handed</td> <td>On my side            </td> <td>Yes  </td> <td>Blackpink                                                   </td> <td>Japan                      </td> <td>out of country           </td> <td>UC                                    </td> <td>Socializing                           </td> <td>R&B                                                      </td> <td>Blue                 </td>\n",
       "        </tr>\n",
       "        <tr>\n",
       "            <td>8/18/2023 9:59 </td> <td>Jackie          </td> <td>3.8  </td> <td>5                        </td> <td>Cats, Dogs                </td> <td>Right-handed</td> <td>On my stomach         </td> <td>No   </td> <td>nan                                                         </td> <td>London                     </td> <td>Local                    </td> <td>UC                                    </td> <td>Being alone                           </td> <td>Gothic                                                   </td> <td>Black                </td>\n",
       "        </tr>\n",
       "        <tr>\n",
       "            <td>8/18/2023 10:00</td> <td>Jackie          </td> <td>3.9  </td> <td>4                        </td> <td>Dogs                      </td> <td>Right-handed</td> <td>On my back            </td> <td>No   </td> <td>nan                                                         </td> <td>nan                        </td> <td>out of country           </td> <td>Out of State                          </td> <td>Failure                               </td> <td>Pop                                                      </td> <td>Blue                 </td>\n",
       "        </tr>\n",
       "        <tr>\n",
       "            <td>8/18/2023 10:02</td> <td>Jackie          </td> <td>3.8  </td> <td>1                        </td> <td>Dogs                      </td> <td>Right-handed</td> <td>On my stomach         </td> <td>Yes  </td> <td>IVE                                                         </td> <td>Bangkok                    </td> <td>out of country           </td> <td>UC                                    </td> <td>You                                   </td> <td>Pop                                                      </td> <td>Pink                 </td>\n",
       "        </tr>\n",
       "        <tr>\n",
       "            <td>8/18/2023 10:05</td> <td>Jackie          </td> <td>3.8  </td> <td>6                        </td> <td>nan                       </td> <td>Right-handed</td> <td>On my side            </td> <td>Yes  </td> <td>TXT                                                         </td> <td>Philippines                </td> <td>Local                    </td> <td>CSU                                   </td> <td>Dissapointment                        </td> <td>Pop                                                      </td> <td>Pink                 </td>\n",
       "        </tr>\n",
       "        <tr>\n",
       "            <td>8/18/2023 10:05</td> <td>Jackie          </td> <td>3.94 </td> <td>3                        </td> <td>Cats                      </td> <td>Right-handed</td> <td>On my side            </td> <td>Yes  </td> <td>K/DA                                                        </td> <td>Home                       </td> <td>Local                    </td> <td>UC                                    </td> <td>Heights                               </td> <td>Indie                                                    </td> <td>Purple               </td>\n",
       "        </tr>\n",
       "        <tr>\n",
       "            <td>8/18/2023 10:07</td> <td>Jonnald         </td> <td>4    </td> <td>3                        </td> <td>nan                       </td> <td>Right-handed</td> <td>On my side            </td> <td>Yes  </td> <td>Twice                                                       </td> <td>Philippines                </td> <td>out of country           </td> <td>CSU                                   </td> <td>Pregnancy                             </td> <td>Pop                                                      </td> <td>Yellow               </td>\n",
       "        </tr>\n",
       "        <tr>\n",
       "            <td>8/18/2023 10:10</td> <td>Jonnald         </td> <td>3.2  </td> <td>3                        </td> <td>Dogs                      </td> <td>Right-handed</td> <td>On my side            </td> <td>No   </td> <td>nan                                                         </td> <td>Orlando                    </td> <td>California (not Bay Area)</td> <td>CSU                                   </td> <td>Heights                               </td> <td>Pop                                                      </td> <td>Blue                 </td>\n",
       "        </tr>\n",
       "        <tr>\n",
       "            <td>8/18/2023 10:13</td> <td>Jonnald         </td> <td>3.7  </td> <td>7                        </td> <td>nan                       </td> <td>Right-handed</td> <td>On my side            </td> <td>No   </td> <td>nan                                                         </td> <td>Philippines                </td> <td>Local                    </td> <td>CSU                                   </td> <td>Failure                               </td> <td>Hip hop                                                  </td> <td>Blue                 </td>\n",
       "        </tr>\n",
       "        <tr>\n",
       "            <td>8/18/2023 10:32</td> <td>Jonnald         </td> <td>2.53 </td> <td>5                        </td> <td>Cats, Dogs                </td> <td>Right-handed</td> <td>On my side            </td> <td>No   </td> <td>nan                                                         </td> <td>Asian                      </td> <td>Local                    </td> <td>CSU                                   </td> <td>World Ending                          </td> <td>Hip hop                                                  </td> <td>Green                </td>\n",
       "        </tr>\n",
       "        <tr>\n",
       "            <td>8/18/2023 10:33</td> <td>Jonnald         </td> <td>3.95 </td> <td>6                        </td> <td>Cats, Dogs                </td> <td>Right-handed</td> <td>On my side            </td> <td>Yes  </td> <td>Twice                                                       </td> <td>Hawaii                     </td> <td>Local                    </td> <td>UC                                    </td> <td>Lose money                            </td> <td>Hip hop                                                  </td> <td>Red                  </td>\n",
       "        </tr>\n",
       "        <tr>\n",
       "            <td>8/18/2023 10:33</td> <td>Jonnald         </td> <td>2.8  </td> <td>5                        </td> <td>Reptiles, Fish            </td> <td>Right-handed</td> <td>On my side            </td> <td>Yes  </td> <td>Dynamic Duo                                                 </td> <td>Hawaii                     </td> <td>Local                    </td> <td>CSU                                   </td> <td>Failure                               </td> <td>Hip hop                                                  </td> <td>Green                </td>\n",
       "        </tr>\n",
       "        <tr>\n",
       "            <td>8/18/2023 10:40</td> <td>Jonnald         </td> <td>2.5  </td> <td>6                        </td> <td>nan                       </td> <td>Right-handed</td> <td>On my side            </td> <td>No   </td> <td>nan                                                         </td> <td>Philippines                </td> <td>Local                    </td> <td>CSU                                   </td> <td>Death                                 </td> <td>Pop                                                      </td> <td>Blue                 </td>\n",
       "        </tr>\n",
       "        <tr>\n",
       "            <td>8/18/2023 10:45</td> <td>Jonnald         </td> <td>3.5  </td> <td>3                        </td> <td>Dogs                      </td> <td>Right-handed</td> <td>On my side            </td> <td>No   </td> <td>nan                                                         </td> <td>Spain, Greece, Italy       </td> <td>Local                    </td> <td>UC                                    </td> <td>Difficulty with love                  </td> <td>Vocaloid                                                 </td> <td>Beige                </td>\n",
       "        </tr>\n",
       "        <tr>\n",
       "            <td>8/18/2023 10:46</td> <td>Jonnald         </td> <td>3.8  </td> <td>4                        </td> <td>nan                       </td> <td>Right-handed</td> <td>On my side            </td> <td>Yes  </td> <td>IU                                                          </td> <td>Outer Space                </td> <td>out of country           </td> <td>CSU                                   </td> <td>Tryphobia                             </td> <td>Pop                                                      </td> <td>Black                </td>\n",
       "        </tr>\n",
       "        <tr>\n",
       "            <td>8/18/2023 10:49</td> <td>Jonnald         </td> <td>2    </td> <td>6                        </td> <td>Dogs                      </td> <td>Right-handed</td> <td>On my side            </td> <td>No   </td> <td>nan                                                         </td> <td>Beach, Forests             </td> <td>Local                    </td> <td>UC                                    </td> <td>A regretful life                      </td> <td>Classical                                                </td> <td>Blue                 </td>\n",
       "        </tr>\n",
       "        <tr>\n",
       "            <td>8/18/2023 10:52</td> <td>Jonnald         </td> <td>3.5  </td> <td>7                        </td> <td>Dogs, Fish                </td> <td>Right-handed</td> <td>On my back            </td> <td>Yes  </td> <td>New Jeans                                                   </td> <td>Hawaii                     </td> <td>Local                    </td> <td>UC                                    </td> <td>A regretful life                      </td> <td>Hip hop                                                  </td> <td>Green                </td>\n",
       "        </tr>\n",
       "        <tr>\n",
       "            <td>8/18/2023 11:08</td> <td>Jackie          </td> <td>3.88 </td> <td>3                        </td> <td>nan                       </td> <td>Right-handed</td> <td>On my side            </td> <td>No   </td> <td>Loona                                                       </td> <td>Mt Sashta                  </td> <td>out of country           </td> <td>CSU                                   </td> <td>Heights                               </td> <td>Rock                                                     </td> <td>Blue                 </td>\n",
       "        </tr>\n",
       "        <tr>\n",
       "            <td>8/18/2023 11:17</td> <td>Jonnald         </td> <td>4    </td> <td>6                        </td> <td>nan                       </td> <td>Right-handed</td> <td>On my side            </td> <td>Yes  </td> <td>New Jeans                                                   </td> <td>Japan                      </td> <td>Local                    </td> <td>UC                                    </td> <td>Spiders                               </td> <td>Hip hop                                                  </td> <td>Blue                 </td>\n",
       "        </tr>\n",
       "        <tr>\n",
       "            <td>8/18/2023 11:29</td> <td>Jackie          </td> <td>3.6  </td> <td>7                        </td> <td>nan                       </td> <td>Right-handed</td> <td>On my side            </td> <td>No   </td> <td>nan                                                         </td> <td>Philippines                </td> <td>out of country           </td> <td>UC                                    </td> <td>Raccoons                              </td> <td>Hip hop                                                  </td> <td>Blue,Pink            </td>\n",
       "        </tr>\n",
       "        <tr>\n",
       "            <td>8/18/2023 12:05</td> <td>Allison         </td> <td>4    </td> <td>4                        </td> <td>Dogs                      </td> <td>Right-handed</td> <td>On my side            </td> <td>Yes  </td> <td>BTS                                                         </td> <td>Mexico                     </td> <td>out of country           </td> <td>CSU                                   </td> <td>Spiders,Snakes                        </td> <td>Pop                                                      </td> <td>Black                </td>\n",
       "        </tr>\n",
       "        <tr>\n",
       "            <td>8/18/2023 12:38</td> <td>Jackie          </td> <td>3    </td> <td>8                        </td> <td>nan                       </td> <td>Right-handed</td> <td>On my back            </td> <td>No   </td> <td>nan                                                         </td> <td>Mexico                     </td> <td>Local                    </td> <td>CSU                                   </td> <td>Loss of loved ones                    </td> <td>Hip hop                                                  </td> <td>Light Blue           </td>\n",
       "        </tr>\n",
       "        <tr>\n",
       "            <td>8/18/2023 12:55</td> <td>Jackie          </td> <td>4    </td> <td>1                        </td> <td>nan                       </td> <td>Right-handed</td> <td>On my side            </td> <td>No   </td> <td>nan                                                         </td> <td>Cancun                     </td> <td>Local                    </td> <td>Out of State                          </td> <td>nan                                   </td> <td>Hip hop                                                  </td> <td>Red                  </td>\n",
       "        </tr>\n",
       "        <tr>\n",
       "            <td>8/18/2023 13:05</td> <td>Jonnald         </td> <td>3    </td> <td>7                        </td> <td>nan                       </td> <td>Both        </td> <td>On my side            </td> <td>Yes  </td> <td>Twice                                                       </td> <td>China                      </td> <td>out of country           </td> <td>UC                                    </td> <td>The ocean/deep water                  </td> <td>Hip hop                                                  </td> <td>Red                  </td>\n",
       "        </tr>\n",
       "        <tr>\n",
       "            <td>8/18/2023 13:23</td> <td>Jackie          </td> <td>2.8  </td> <td>8                        </td> <td>nan                       </td> <td>Right-handed</td> <td>On my side            </td> <td>No   </td> <td>nan                                                         </td> <td>Rivers                     </td> <td>California (not Bay Area)</td> <td>CSU (SFSU)                            </td> <td>Loss of loved ones                    </td> <td>Rock                                                     </td> <td>Black                </td>\n",
       "        </tr>\n",
       "        <tr>\n",
       "            <td>8/18/2023 17:07</td> <td>Jonnald         </td> <td>3    </td> <td>4                        </td> <td>Cats, Dogs                </td> <td>Both        </td> <td>Sitting               </td> <td>Yes  </td> <td>SOB x RBE                                                   </td> <td>Serramonte Shopping Center </td> <td>Local                    </td> <td>UC                                    </td> <td>Losing all my clout                   </td> <td>Nightcore CyberRock Dystopian Hip Hop 40hz Binaural Beats</td> <td>Pink                 </td>\n",
       "        </tr>\n",
       "        <tr>\n",
       "            <td>8/18/2023 18:43</td> <td>Casey So        </td> <td>3.87 </td> <td>2                        </td> <td>nan                       </td> <td>Right-handed</td> <td>On my back            </td> <td>Yes  </td> <td>DPR LIVE                                                    </td> <td>Japan                      </td> <td>Local                    </td> <td>CSU                                   </td> <td>Being forgotten                       </td> <td>Pop                                                      </td> <td>Purple               </td>\n",
       "        </tr>\n",
       "        <tr>\n",
       "            <td>8/18/2023 19:38</td> <td>Jackie          </td> <td>3.7  </td> <td>7                        </td> <td>nan                       </td> <td>Right-handed</td> <td>On my back            </td> <td>Yes  </td> <td>Twice                                                       </td> <td>Hawaii                     </td> <td>Local                    </td> <td>UC                                    </td> <td>Spiders                               </td> <td>R&B                                                      </td> <td>Red                  </td>\n",
       "        </tr>\n",
       "        <tr>\n",
       "            <td>8/18/2023 20:43</td> <td>Jonnald         </td> <td>3.01 </td> <td>5                        </td> <td>Cats, Reptiles            </td> <td>Right-handed</td> <td>All of the above      </td> <td>Yes  </td> <td>ODD EYE CIRCLE                                              </td> <td>Philippines                </td> <td>Local                    </td> <td>CSU                                   </td> <td>Difficulty with love                  </td> <td>K-POP                                                    </td> <td>Pink                 </td>\n",
       "        </tr>\n",
       "        <tr>\n",
       "            <td>8/18/2023 22:25</td> <td>Jonnald         </td> <td>3.9  </td> <td>6                        </td> <td>nan                       </td> <td>Right-handed</td> <td>On my side            </td> <td>No   </td> <td>nan                                                         </td> <td>Tokyo                      </td> <td>Local                    </td> <td>UC                                    </td> <td>Failure                               </td> <td>Rap                                                      </td> <td>Clear                </td>\n",
       "        </tr>\n",
       "        <tr>\n",
       "            <td>8/19/2023 18:34</td> <td>Terry Ton       </td> <td>4    </td> <td>8                        </td> <td>nan                       </td> <td>Right-handed</td> <td>On my side            </td> <td>Yes  </td> <td>Red Velvet, New Jeans                                       </td> <td>Home                       </td> <td>California (not Bay Area)</td> <td>UC                                    </td> <td>Cockroaches                           </td> <td>Pop                                                      </td> <td>Purple               </td>\n",
       "        </tr>\n",
       "        <tr>\n",
       "            <td>8/19/2023 18:36</td> <td>Terry Ton       </td> <td>3.8  </td> <td>6                        </td> <td>nan                       </td> <td>Right-handed</td> <td>On my side            </td> <td>No   </td> <td>nan                                                         </td> <td>Europe                     </td> <td>California (not Bay Area)</td> <td>Out of State                          </td> <td>nan                                   </td> <td>Jazz                                                     </td> <td>Blue                 </td>\n",
       "        </tr>\n",
       "        <tr>\n",
       "            <td>8/19/2023 18:50</td> <td>Terry Ton       </td> <td>3.2  </td> <td>7                        </td> <td>Dogs                      </td> <td>Right-handed</td> <td>On my back            </td> <td>No   </td> <td>nan                                                         </td> <td>England                    </td> <td>US (not CA)              </td> <td>Home school                           </td> <td>God                                   </td> <td>Hip hop                                                  </td> <td>Blue                 </td>\n",
       "        </tr>\n",
       "        <tr>\n",
       "            <td>8/20/2023 10:53</td> <td>Kaitlyn W       </td> <td>3.7  </td> <td>5                        </td> <td>Dogs                      </td> <td>Right-handed</td> <td>On my back            </td> <td>Yes  </td> <td>Blackpink                                                   </td> <td>Europe                     </td> <td>out of country           </td> <td>CSU                                   </td> <td>Difficulty with love                  </td> <td>EDM                                                      </td> <td>White                </td>\n",
       "        </tr>\n",
       "        <tr>\n",
       "            <td>8/20/2023 10:59</td> <td>Kaitlyn W       </td> <td>3.94 </td> <td>3                        </td> <td>nan                       </td> <td>Right-handed</td> <td>On my side            </td> <td>No   </td> <td>nan                                                         </td> <td>Theme parks                </td> <td>out of country           </td> <td>UC                                    </td> <td>Trypophobia                           </td> <td>Pop                                                      </td> <td>Pastel Pink          </td>\n",
       "        </tr>\n",
       "        <tr>\n",
       "            <td>8/20/2023 15:18</td> <td>Casey So        </td> <td>3.5  </td> <td>5                        </td> <td>Dogs                      </td> <td>Right-handed</td> <td>On my stomach         </td> <td>No   </td> <td>nan                                                         </td> <td>Hawaii                     </td> <td>Local                    </td> <td>CSU                                   </td> <td>Failure                               </td> <td>Hip hop                                                  </td> <td>Blue                 </td>\n",
       "        </tr>\n",
       "        <tr>\n",
       "            <td>8/20/2023 17:09</td> <td>Casey So        </td> <td>3    </td> <td>6                        </td> <td>Dogs, Reptiles, Birds,Fish</td> <td>Right-handed</td> <td>On my side            </td> <td>Yes  </td> <td>BTS                                                         </td> <td>Disney Land                </td> <td>Local                    </td> <td>CSU                                   </td> <td>Dark, the unknown                     </td> <td>Rock                                                     </td> <td>Sage green           </td>\n",
       "        </tr>\n",
       "        <tr>\n",
       "            <td>8/20/2023 17:41</td> <td>Casey So        </td> <td>3.5  </td> <td>4                        </td> <td>nan                       </td> <td>Right-handed</td> <td>On my side            </td> <td>Yes  </td> <td>Seventeen                                                   </td> <td>Japan                      </td> <td>Local                    </td> <td>Out of State                          </td> <td>Spiders                               </td> <td>Pop                                                      </td> <td>Red                  </td>\n",
       "        </tr>\n",
       "        <tr>\n",
       "            <td>8/20/2023 18:33</td> <td>Casey So        </td> <td>4    </td> <td>8                        </td> <td>nan                       </td> <td>Right-handed</td> <td>On my side            </td> <td>Yes  </td> <td>Ateez                                                       </td> <td>Japan                      </td> <td>Local                    </td> <td>UC                                    </td> <td>Spiders                               </td> <td>Country                                                  </td> <td>Blue                 </td>\n",
       "        </tr>\n",
       "        <tr>\n",
       "            <td>8/20/2023 20:14</td> <td>Thanh Nguyen    </td> <td>3.93 </td> <td>8                        </td> <td>nan                       </td> <td>Right-handed</td> <td>On my side            </td> <td>No   </td> <td>nan                                                         </td> <td>Thailand                   </td> <td>out of country           </td> <td>UC                                    </td> <td>Trypophobia                           </td> <td>Pop                                                      </td> <td>Black                </td>\n",
       "        </tr>\n",
       "        <tr>\n",
       "            <td>8/20/2023 20:15</td> <td>Thanh Nguyen    </td> <td>3.75 </td> <td>5                        </td> <td>Dogs                      </td> <td>Right-handed</td> <td>On my side            </td> <td>Yes  </td> <td>New Jeans                                                   </td> <td>Indonesia                  </td> <td>out of country           </td> <td>UC                                    </td> <td>Failure                               </td> <td>Classical                                                </td> <td>Pink                 </td>\n",
       "        </tr>\n",
       "        <tr>\n",
       "            <td>8/20/2023 20:16</td> <td>Thanh Nguyen    </td> <td>3.65 </td> <td>5                        </td> <td>Dogs, Reptiles            </td> <td>Right-handed</td> <td>On my stomach         </td> <td>Yes  </td> <td>2ne1                                                        </td> <td>Taiwan                     </td> <td>out of country           </td> <td>UC                                    </td> <td>Failure                               </td> <td>Hip hop                                                  </td> <td>Sage green           </td>\n",
       "        </tr>\n",
       "        <tr>\n",
       "            <td>8/20/2023 20:16</td> <td>Thanh Nguyen    </td> <td>3.84 </td> <td>4                        </td> <td>nan                       </td> <td>Right-handed</td> <td>On my side            </td> <td>Yes  </td> <td>(G)I-DLE                                                    </td> <td>China                      </td> <td>out of country           </td> <td>UC                                    </td> <td>Insects,Dark                          </td> <td>Country                                                  </td> <td>Yellow               </td>\n",
       "        </tr>\n",
       "        <tr>\n",
       "            <td>8/20/2023 20:18</td> <td>Thanh Nguyen    </td> <td>4    </td> <td>3                        </td> <td>Dogs                      </td> <td>Right-handed</td> <td>On my stomach         </td> <td>No   </td> <td>nan                                                         </td> <td>nan                        </td> <td>Local                    </td> <td>Private                               </td> <td>Public Speaking                       </td> <td>Country                                                  </td> <td>Red                  </td>\n",
       "        </tr>\n",
       "        <tr>\n",
       "            <td>8/20/2023 20:19</td> <td>Thanh Nguyen    </td> <td>4    </td> <td>5                        </td> <td>nan                       </td> <td>Right-handed</td> <td>On my side            </td> <td>No   </td> <td>nan                                                         </td> <td>Switzerland                </td> <td>out of country           </td> <td>UC                                    </td> <td>Loss of self                          </td> <td>Pop                                                      </td> <td>Caribbean Blue       </td>\n",
       "        </tr>\n",
       "        <tr>\n",
       "            <td>8/20/2023 20:19</td> <td>Thanh Nguyen    </td> <td>3.96 </td> <td>4                        </td> <td>nan                       </td> <td>Right-handed</td> <td>On my side            </td> <td>No   </td> <td>nan                                                         </td> <td>Seattle, Washington        </td> <td>Local                    </td> <td>UC or CSU                             </td> <td>Academic Difficulty                   </td> <td>Pop                                                      </td> <td>Red                  </td>\n",
       "        </tr>\n",
       "        <tr>\n",
       "            <td>8/20/2023 20:26</td> <td>Thanh Nguyen    </td> <td>4    </td> <td>2                        </td> <td>Cats                      </td> <td>Right-handed</td> <td>On my side            </td> <td>No   </td> <td>nan                                                         </td> <td>San Francisco              </td> <td>Local                    </td> <td>UC                                    </td> <td>Spiders,Public Speaking               </td> <td>Pop                                                      </td> <td>Blue                 </td>\n",
       "        </tr>\n",
       "        <tr>\n",
       "            <td>8/20/2023 21:05</td> <td>Thanh Nguyen    </td> <td>3.85 </td> <td>7                        </td> <td>Dogs                      </td> <td>Both        </td> <td>All of the above      </td> <td>Yes  </td> <td>Enhypen                                                     </td> <td>Europe                     </td> <td>out of country           </td> <td>UC                                    </td> <td>Dissapointment                        </td> <td>Classical                                                </td> <td>nan                  </td>\n",
       "        </tr>\n",
       "        <tr>\n",
       "            <td>8/20/2023 21:27</td> <td>Thanh Nguyen    </td> <td>3.9  </td> <td>7                        </td> <td>nan                       </td> <td>Right-handed</td> <td>On my side            </td> <td>Yes  </td> <td>Blackpink                                                   </td> <td>South of France            </td> <td>Local                    </td> <td>UC                                    </td> <td>Heights                               </td> <td>R&B                                                      </td> <td>Lilac,Beige          </td>\n",
       "        </tr>\n",
       "        <tr>\n",
       "            <td>8/20/2023 21:30</td> <td>Thanh Nguyen    </td> <td>3.94 </td> <td>7                        </td> <td>nan                       </td> <td>Right-handed</td> <td>On my side            </td> <td>Yes  </td> <td>ICHILLIN', GOT7, Mamamoo, Monsta X, Stray Kids              </td> <td>Amsterdam                  </td> <td>Local                    </td> <td>UC                                    </td> <td>Heights                               </td> <td>Pop                                                      </td> <td>Cream                </td>\n",
       "        </tr>\n",
       "        <tr>\n",
       "            <td>8/20/2023 22:40</td> <td>Cristel         </td> <td>3.1  </td> <td>3                        </td> <td>nan                       </td> <td>Right-handed</td> <td>On my side            </td> <td>No   </td> <td>okpop                                                       </td> <td>Hawaii                     </td> <td>Local                    </td> <td>CSU                                   </td> <td>Failure                               </td> <td>Jazz                                                     </td> <td>Purple               </td>\n",
       "        </tr>\n",
       "        <tr>\n",
       "            <td>8/20/2023 22:41</td> <td>Thanh Nguyen    </td> <td>3.58 </td> <td>3                        </td> <td>Dogs                      </td> <td>Right-handed</td> <td>On my back            </td> <td>Yes  </td> <td>New Jeans                                                   </td> <td>Bed                        </td> <td>California (not Bay Area)</td> <td>UC                                    </td> <td>Betrayal                              </td> <td>Pop                                                      </td> <td>Orange               </td>\n",
       "        </tr>\n",
       "        <tr>\n",
       "            <td>8/21/2023 8:55 </td> <td>Jonnald         </td> <td>3.6  </td> <td>5                        </td> <td>nan                       </td> <td>Right-handed</td> <td>On my side            </td> <td>Yes  </td> <td>New Jeans                                                   </td> <td>Europe                     </td> <td>Local                    </td> <td>UC                                    </td> <td>A regretful life                      </td> <td>Hip hop                                                  </td> <td>Purple               </td>\n",
       "        </tr>\n",
       "        <tr>\n",
       "            <td>8/21/2023 9:02 </td> <td>Hansen Xiao     </td> <td>3.9  </td> <td>4                        </td> <td>nan                       </td> <td>Left-handed </td> <td>On my side            </td> <td>No   </td> <td>nan                                                         </td> <td>Japan                      </td> <td>Local                    </td> <td>UC                                    </td> <td>Heights                               </td> <td>Hip hop                                                  </td> <td>Navy Blue            </td>\n",
       "        </tr>\n",
       "        <tr>\n",
       "            <td>8/21/2023 9:27 </td> <td>Jonnald         </td> <td>88   </td> <td>8                        </td> <td>Dogs                      </td> <td>Right-handed</td> <td>On my back            </td> <td>No   </td> <td>nan                                                         </td> <td>California                 </td> <td>Local                    </td> <td>CSU                                   </td> <td>Public Speaking                       </td> <td>Classical                                                </td> <td>White                </td>\n",
       "        </tr>\n",
       "        <tr>\n",
       "            <td>8/21/2023 9:28 </td> <td>Jonnald         </td> <td>3.9  </td> <td>5                        </td> <td>nan                       </td> <td>Right-handed</td> <td>On my side            </td> <td>No   </td> <td>nan                                                         </td> <td>Japan                      </td> <td>out of country           </td> <td>UC                                    </td> <td>nan                                   </td> <td>Classical                                                </td> <td>Blue                 </td>\n",
       "        </tr>\n",
       "        <tr>\n",
       "            <td>8/21/2023 9:31 </td> <td>Jonnald         </td> <td>3.9  </td> <td>2                        </td> <td>nan                       </td> <td>Left-handed </td> <td>On my back            </td> <td>No   </td> <td>nan                                                         </td> <td>Taiwan                     </td> <td>California (not Bay Area)</td> <td>UC                                    </td> <td>Wasp                                  </td> <td>Classical                                                </td> <td>Light                </td>\n",
       "        </tr>\n",
       "        <tr>\n",
       "            <td>8/21/2023 9:33 </td> <td>Jonnald         </td> <td>4    </td> <td>6                        </td> <td>nan                       </td> <td>Left-handed </td> <td>On my side            </td> <td>No   </td> <td>nan                                                         </td> <td>Lake Tahoe                 </td> <td>out of country           </td> <td>UC                                    </td> <td>Insignificance                        </td> <td>D&B                                                      </td> <td>Blue                 </td>\n",
       "        </tr>\n",
       "        <tr>\n",
       "            <td>8/21/2023 9:47 </td> <td>Jackie          </td> <td>3    </td> <td>6                        </td> <td>Dogs                      </td> <td>Left-handed </td> <td>On my side            </td> <td>No   </td> <td>nan                                                         </td> <td>Philippines                </td> <td>Local                    </td> <td>CSU                                   </td> <td>Dying                                 </td> <td>Hip hop                                                  </td> <td>Blue                 </td>\n",
       "        </tr>\n",
       "        <tr>\n",
       "            <td>8/21/2023 9:55 </td> <td>Jackie          </td> <td>2.54 </td> <td>8                        </td> <td>nan                       </td> <td>Left-handed </td> <td>On my side            </td> <td>Yes  </td> <td>Blackpink                                                   </td> <td>Los Angeles                </td> <td>Local                    </td> <td>UC                                    </td> <td>Heights                               </td> <td>Rock                                                     </td> <td>Green                </td>\n",
       "        </tr>\n",
       "        <tr>\n",
       "            <td>8/21/2023 10:04</td> <td>Hansen Xiao     </td> <td>3.5  </td> <td>8                        </td> <td>Dogs                      </td> <td>Right-handed</td> <td>On my back            </td> <td>Yes  </td> <td>New Jeans                                                   </td> <td>New York                   </td> <td>California (not Bay Area)</td> <td>UC                                    </td> <td>Clowns                                </td> <td>Rock                                                     </td> <td>Green                </td>\n",
       "        </tr>\n",
       "        <tr>\n",
       "            <td>8/21/2023 10:13</td> <td>Hansen Xiao     </td> <td>3.3  </td> <td>3                        </td> <td>Cats                      </td> <td>Right-handed</td> <td>On my side            </td> <td>Yes  </td> <td>BTS                                                         </td> <td>Mexico                     </td> <td>Local                    </td> <td>UC                                    </td> <td>Death                                 </td> <td>Pop                                                      </td> <td>Purple               </td>\n",
       "        </tr>\n",
       "        <tr>\n",
       "            <td>8/21/2023 10:33</td> <td>Hansen Xiao     </td> <td>2.7  </td> <td>8                        </td> <td>nan                       </td> <td>Right-handed</td> <td>On my side            </td> <td>No   </td> <td>nan                                                         </td> <td>New York                   </td> <td>Local                    </td> <td>UC                                    </td> <td>Spiders                               </td> <td>Hip hop                                                  </td> <td>Black                </td>\n",
       "        </tr>\n",
       "        <tr>\n",
       "            <td>8/21/2023 10:39</td> <td>Allison         </td> <td>3.36 </td> <td>9                        </td> <td>Dogs                      </td> <td>Right-handed</td> <td>On my side            </td> <td>No   </td> <td>nan                                                         </td> <td>Iceland                    </td> <td>Local                    </td> <td>UC                                    </td> <td>Airplanes                             </td> <td>Indie, folk rock                                         </td> <td>Green                </td>\n",
       "        </tr>\n",
       "        <tr>\n",
       "            <td>8/21/2023 10:58</td> <td>Kaitlyn W       </td> <td>3.94 </td> <td>3                        </td> <td>Cats                      </td> <td>Right-handed</td> <td>On my side            </td> <td>No   </td> <td>K/DA                                                        </td> <td>Japan                      </td> <td>out of country           </td> <td>UC                                    </td> <td>Heights                               </td> <td>Indie                                                    </td> <td>Purple               </td>\n",
       "        </tr>\n",
       "        <tr>\n",
       "            <td>8/21/2023 10:58</td> <td>Kaitlyn W       </td> <td>4    </td> <td>1                        </td> <td>Cats                      </td> <td>Right-handed</td> <td>On my back            </td> <td>Yes  </td> <td>Day6                                                        </td> <td>Canada                     </td> <td>out of country           </td> <td>UC                                    </td> <td>Cockroaches                           </td> <td>Pop                                                      </td> <td>Blue                 </td>\n",
       "        </tr>\n",
       "        <tr>\n",
       "            <td>8/21/2023 11:02</td> <td>Kaitlyn W       </td> <td>3.6  </td> <td>6                        </td> <td>Dogs                      </td> <td>Right-handed</td> <td>On my back            </td> <td>Yes  </td> <td>Big Bang                                                    </td> <td>Bangkok                    </td> <td>out of country           </td> <td>UC                                    </td> <td>Heights                               </td> <td>Pop                                                      </td> <td>Blue                 </td>\n",
       "        </tr>\n",
       "        <tr>\n",
       "            <td>8/21/2023 11:02</td> <td>Allison         </td> <td>3.97 </td> <td>5                        </td> <td>nan                       </td> <td>Right-handed</td> <td>On my back            </td> <td>No   </td> <td>Blackpink                                                   </td> <td>New York                   </td> <td>out of country           </td> <td>UC                                    </td> <td>A regretful life                      </td> <td>EDM                                                      </td> <td>Black/Gray           </td>\n",
       "        </tr>\n",
       "        <tr>\n",
       "            <td>8/21/2023 11:03</td> <td>Allison         </td> <td>3.85 </td> <td>3                        </td> <td>nan                       </td> <td>Right-handed</td> <td>On my side            </td> <td>Yes  </td> <td>Twice                                                       </td> <td>Japan                      </td> <td>Local                    </td> <td>UC                                    </td> <td>Hatred                                </td> <td>Pop                                                      </td> <td>Pink                 </td>\n",
       "        </tr>\n",
       "        <tr>\n",
       "            <td>8/21/2023 11:08</td> <td>Jackie          </td> <td>4    </td> <td>7                        </td> <td>Dogs                      </td> <td>Right-handed</td> <td>On my back            </td> <td>No   </td> <td>nan                                                         </td> <td>Hawaii                     </td> <td>Local                    </td> <td>UC                                    </td> <td>Lose money                            </td> <td>Hip hop                                                  </td> <td>Red                  </td>\n",
       "        </tr>\n",
       "        <tr>\n",
       "            <td>8/21/2023 11:12</td> <td>Kaitlyn W       </td> <td>3.6  </td> <td>5                        </td> <td>Dogs                      </td> <td>Right-handed</td> <td>On my side            </td> <td>Yes  </td> <td>BTOB                                                        </td> <td>Japan                      </td> <td>out of country           </td> <td>CSU                                   </td> <td>Commitment                            </td> <td>Rap                                                      </td> <td>Red                  </td>\n",
       "        </tr>\n",
       "        <tr>\n",
       "            <td>8/21/2023 11:13</td> <td>Cristel         </td> <td>3.7  </td> <td>1                        </td> <td>Dogs                      </td> <td>Right-handed</td> <td>On my side            </td> <td>No   </td> <td>nan                                                         </td> <td>Hawaii                     </td> <td>Local                    </td> <td>Private                               </td> <td>Heights                               </td> <td>Reggaeton                                                </td> <td>Blue                 </td>\n",
       "        </tr>\n",
       "        <tr>\n",
       "            <td>8/21/2023 11:14</td> <td>Allison         </td> <td>3.2  </td> <td>5                        </td> <td>Cats                      </td> <td>Right-handed</td> <td>On my side            </td> <td>Yes  </td> <td>BTS, Twice                                                  </td> <td>Hawaii                     </td> <td>Local                    </td> <td>CSU                                   </td> <td>Rejection                             </td> <td>Hip hop                                                  </td> <td>Green                </td>\n",
       "        </tr>\n",
       "        <tr>\n",
       "            <td>8/21/2023 11:19</td> <td>Cristel         </td> <td>3.47 </td> <td>5                        </td> <td>Dogs                      </td> <td>Right-handed</td> <td>On my stomach         </td> <td>Yes  </td> <td>BTS                                                         </td> <td>New York                   </td> <td>Local                    </td> <td>Unknown                               </td> <td>Hurting other people really bad       </td> <td>Pop                                                      </td> <td>Burgundy             </td>\n",
       "        </tr>\n",
       "        <tr>\n",
       "            <td>8/21/2023 11:21</td> <td>Cristel         </td> <td>3.8  </td> <td>10                       </td> <td>Dogs                      </td> <td>Right-handed</td> <td>On my stomach         </td> <td>No   </td> <td>nan                                                         </td> <td>Hawaii                     </td> <td>out of country           </td> <td>UC                                    </td> <td>Drowning                              </td> <td>Hip hop                                                  </td> <td>Green                </td>\n",
       "        </tr>\n",
       "        <tr>\n",
       "            <td>8/21/2023 11:24</td> <td>Allison         </td> <td>3.9  </td> <td>5                        </td> <td>nan                       </td> <td>Left-handed </td> <td>On my stomach         </td> <td>Yes  </td> <td>New Jeans, Twice, BTS                                       </td> <td>Greece                     </td> <td>Local                    </td> <td>CSU                                   </td> <td>Loneliness                            </td> <td>Techno                                                   </td> <td>Sage green           </td>\n",
       "        </tr>\n",
       "        <tr>\n",
       "            <td>8/21/2023 11:25</td> <td>Kaitlyn W       </td> <td>3.2  </td> <td>6                        </td> <td>nan                       </td> <td>Right-handed</td> <td>On my side            </td> <td>No   </td> <td>nan                                                         </td> <td>Jungle                     </td> <td>out of country           </td> <td>CSU                                   </td> <td>Death                                 </td> <td>Rock                                                     </td> <td>nan                  </td>\n",
       "        </tr>\n",
       "        <tr>\n",
       "            <td>8/21/2023 11:26</td> <td>Kaitlyn W       </td> <td>3.7  </td> <td>8                        </td> <td>nan                       </td> <td>Right-handed</td> <td>On my side            </td> <td>Yes  </td> <td>K                                                           </td> <td>National Park              </td> <td>Local                    </td> <td>UC                                    </td> <td>Lose money                            </td> <td>Country                                                  </td> <td>Blue                 </td>\n",
       "        </tr>\n",
       "        <tr>\n",
       "            <td>8/21/2023 11:37</td> <td>Kaitlyn W       </td> <td>4    </td> <td>10                       </td> <td>Dogs                      </td> <td>Right-handed</td> <td>On my side            </td> <td>Yes  </td> <td>BTS                                                         </td> <td>USA                        </td> <td>out of country           </td> <td>UC                                    </td> <td>Darkness                              </td> <td>Pop                                                      </td> <td>Blue                 </td>\n",
       "        </tr>\n",
       "        <tr>\n",
       "            <td>8/21/2023 11:38</td> <td>Kaitlyn W       </td> <td>2.5  </td> <td>6                        </td> <td>nan                       </td> <td>Left-handed </td> <td>On my side            </td> <td>Yes  </td> <td>Psy                                                         </td> <td>Tahoe                      </td> <td>California (not Bay Area)</td> <td>CSU                                   </td> <td>Humans                                </td> <td>Hip hop                                                  </td> <td>Black                </td>\n",
       "        </tr>\n",
       "        <tr>\n",
       "            <td>8/21/2023 11:48</td> <td>Kaitlyn W       </td> <td>3.75 </td> <td>8                        </td> <td>nan                       </td> <td>Right-handed</td> <td>On my side            </td> <td>Yes  </td> <td>Twice                                                       </td> <td>Philippines                </td> <td>Local                    </td> <td>UC                                    </td> <td>Dissapointment                        </td> <td>Pop                                                      </td> <td>Purple               </td>\n",
       "        </tr>\n",
       "        <tr>\n",
       "            <td>8/21/2023 12:06</td> <td>Kaitlyn W       </td> <td>4    </td> <td>5                        </td> <td>nan                       </td> <td>Right-handed</td> <td>On my back            </td> <td>Yes  </td> <td>Blackpink                                                   </td> <td>Switzerland                </td> <td>out of country           </td> <td>CSU                                   </td> <td>Snakes                                </td> <td>Pop                                                      </td> <td>Black                </td>\n",
       "        </tr>\n",
       "        <tr>\n",
       "            <td>8/21/2023 12:10</td> <td>Kaitlyn W       </td> <td>4    </td> <td>4                        </td> <td>nan                       </td> <td>Right-handed</td> <td>On my side            </td> <td>No   </td> <td>nan                                                         </td> <td>Indonesia                  </td> <td>out of country           </td> <td>CSU                                   </td> <td>Afterlife                             </td> <td>Classical                                                </td> <td>Black                </td>\n",
       "        </tr>\n",
       "        <tr>\n",
       "            <td>8/21/2023 12:13</td> <td>Kaitlyn W       </td> <td>4    </td> <td>6                        </td> <td>nan                       </td> <td>Right-handed</td> <td>On my side            </td> <td>No   </td> <td>nan                                                         </td> <td>Burma                      </td> <td>out of country           </td> <td>UC                                    </td> <td>nan                                   </td> <td>Country                                                  </td> <td>Black                </td>\n",
       "        </tr>\n",
       "        <tr>\n",
       "            <td>8/21/2023 12:29</td> <td>Cristel         </td> <td>4    </td> <td>8                        </td> <td>Rodents                   </td> <td>Right-handed</td> <td>On my back            </td> <td>No   </td> <td>nan                                                         </td> <td>Southern California        </td> <td>Local                    </td> <td>Menlo College                         </td> <td>A regretful life                      </td> <td>Hip hop                                                  </td> <td>Blue                 </td>\n",
       "        </tr>\n",
       "        <tr>\n",
       "            <td>8/21/2023 12:38</td> <td>Phyu Phyu theint</td> <td>3.97 </td> <td>6                        </td> <td>nan                       </td> <td>Right-handed</td> <td>On my side            </td> <td>Yes  </td> <td>Blackpink                                                   </td> <td>Europe                     </td> <td>out of country           </td> <td>UC                                    </td> <td>Failure                               </td> <td>Pop                                                      </td> <td>Black                </td>\n",
       "        </tr>\n",
       "        <tr>\n",
       "            <td>8/21/2023 12:43</td> <td>Kaitlyn W       </td> <td>3.9  </td> <td>10                       </td> <td>Cats, Dogs                </td> <td>Right-handed</td> <td>On my side            </td> <td>Yes  </td> <td>New Jeans                                                   </td> <td>New York                   </td> <td>California (not Bay Area)</td> <td>CSU                                   </td> <td>Rats                                  </td> <td>Jazz                                                     </td> <td>Purple               </td>\n",
       "        </tr>\n",
       "        <tr>\n",
       "            <td>8/21/2023 13:24</td> <td>Jackie          </td> <td>3.2  </td> <td>4                        </td> <td>Dogs                      </td> <td>Right-handed</td> <td>On my back            </td> <td>No   </td> <td>nan                                                         </td> <td>Hawaii                     </td> <td>Local                    </td> <td>UC                                    </td> <td>Loss of loved ones                    </td> <td>R&B                                                      </td> <td>Black                </td>\n",
       "        </tr>\n",
       "        <tr>\n",
       "            <td>8/21/2023 13:28</td> <td>Kaitlyn W       </td> <td>4    </td> <td>4                        </td> <td>nan                       </td> <td>Right-handed</td> <td>On my back            </td> <td>Yes  </td> <td>Blackpink                                                   </td> <td>Singapore                  </td> <td>out of country           </td> <td>Out of State                          </td> <td>Failure                               </td> <td>Pop                                                      </td> <td>Purple               </td>\n",
       "        </tr>\n",
       "        <tr>\n",
       "            <td>8/21/2023 13:34</td> <td>Cristel         </td> <td>3.8  </td> <td>5                        </td> <td>nan                       </td> <td>Right-handed</td> <td>On my side            </td> <td>Yes  </td> <td>Blackpink                                                   </td> <td>Japan                      </td> <td>out of country           </td> <td>UC                                    </td> <td>Death                                 </td> <td>Jazz                                                     </td> <td>Red, Blue            </td>\n",
       "        </tr>\n",
       "        <tr>\n",
       "            <td>8/21/2023 13:57</td> <td>Kaitlyn W       </td> <td>3.9  </td> <td>5                        </td> <td>Cats                      </td> <td>Right-handed</td> <td>On my side            </td> <td>Yes  </td> <td>nan                                                         </td> <td>nan                        </td> <td>Local                    </td> <td>UC                                    </td> <td>Spiders                               </td> <td>Pop                                                      </td> <td>Red                  </td>\n",
       "        </tr>\n",
       "        <tr>\n",
       "            <td>8/21/2023 14:00</td> <td>Kaitlyn W       </td> <td>2.6  </td> <td>5                        </td> <td>Fish                      </td> <td>Right-handed</td> <td>On my side            </td> <td>Yes  </td> <td>BTS                                                         </td> <td>Park                       </td> <td>Local                    </td> <td>CSU                                   </td> <td>Being stuck in a situation            </td> <td>Metal                                                    </td> <td>Blue                 </td>\n",
       "        </tr>\n",
       "        <tr>\n",
       "            <td>8/21/2023 14:02</td> <td>Mr. Weathersby  </td> <td>4    </td> <td>9                        </td> <td>nan                       </td> <td>Right-handed</td> <td>On my back            </td> <td>No   </td> <td>nan                                                         </td> <td>Home                       </td> <td>Local                    </td> <td>Non-Transfer                          </td> <td>Failure                               </td> <td>Rock                                                     </td> <td>Red                  </td>\n",
       "        </tr>\n",
       "        <tr>\n",
       "            <td>8/21/2023 14:02</td> <td>Kaitlyn W       </td> <td>3.8  </td> <td>1                        </td> <td>nan                       </td> <td>Right-handed</td> <td>On my stomach         </td> <td>Yes  </td> <td>IVE                                                         </td> <td>Thailand                   </td> <td>out of country           </td> <td>UC                                    </td> <td>Humans                                </td> <td>Pop                                                      </td> <td>Pink                 </td>\n",
       "        </tr>\n",
       "        <tr>\n",
       "            <td>8/21/2023 14:03</td> <td>Kaityln W       </td> <td>3.95 </td> <td>7                        </td> <td>Cats                      </td> <td>Right-handed</td> <td>All of the above      </td> <td>Yes  </td> <td>Twice                                                       </td> <td>Cancun                     </td> <td>Local                    </td> <td>UC                                    </td> <td>Drowning                              </td> <td>Pop                                                      </td> <td>Blue                 </td>\n",
       "        </tr>\n",
       "        <tr>\n",
       "            <td>8/21/2023 15:06</td> <td>Allison         </td> <td>3.32 </td> <td>6                        </td> <td>nan                       </td> <td>Right-handed</td> <td>On my side            </td> <td>Yes  </td> <td>New Jeans                                                   </td> <td>Japan                      </td> <td>Local                    </td> <td>UC                                    </td> <td>Heights                               </td> <td>Hip hop                                                  </td> <td>Light Purple         </td>\n",
       "        </tr>\n",
       "        <tr>\n",
       "            <td>8/21/2023 15:12</td> <td>Allison         </td> <td>4    </td> <td>7                        </td> <td>Cats, Dogs                </td> <td>Left-handed </td> <td>On my side            </td> <td>Yes  </td> <td>Le Sserafim , New Jeans, BTS, Itzy, Enhypen                 </td> <td>Philippines                </td> <td>out of country           </td> <td>UC                                    </td> <td>Rejection                             </td> <td>Pop                                                      </td> <td>Pink                 </td>\n",
       "        </tr>\n",
       "        <tr>\n",
       "            <td>8/21/2023 15:14</td> <td>Allison         </td> <td>3.95 </td> <td>5                        </td> <td>nan                       </td> <td>Left-handed </td> <td>On my side            </td> <td>Yes  </td> <td>K/DA                                                        </td> <td>Monterey                   </td> <td>Local                    </td> <td>CSU                                   </td> <td>World Ending                          </td> <td>Lofi                                                     </td> <td>Royal purple         </td>\n",
       "        </tr>\n",
       "        <tr>\n",
       "            <td>8/21/2023 15:15</td> <td>Kaitlyn W       </td> <td>4    </td> <td>6                        </td> <td>nan                       </td> <td>Right-handed</td> <td>On my side            </td> <td>Yes  </td> <td>Seventeen                                                   </td> <td>Europe                     </td> <td>out of country           </td> <td>CSU                                   </td> <td>Loss of loved ones                    </td> <td>Pop                                                      </td> <td>White                </td>\n",
       "        </tr>\n",
       "        <tr>\n",
       "            <td>8/21/2023 15:31</td> <td>Allison         </td> <td>3.97 </td> <td>8                        </td> <td>Dogs                      </td> <td>Right-handed</td> <td>On my side            </td> <td>Yes  </td> <td>New Jeans                                                   </td> <td>Los Angeles                </td> <td>Local                    </td> <td>UC                                    </td> <td>The ocean/deep water                  </td> <td>Pop                                                      </td> <td>Green                </td>\n",
       "        </tr>\n",
       "        <tr>\n",
       "            <td>8/21/2023 16:04</td> <td>Allison         </td> <td>4    </td> <td>7                        </td> <td>nan                       </td> <td>Right-handed</td> <td>On my side            </td> <td>No   </td> <td>nan                                                         </td> <td>Mexico                     </td> <td>Local                    </td> <td>CSU                                   </td> <td>Failure                               </td> <td>Pop                                                      </td> <td>Light Blue           </td>\n",
       "        </tr>\n",
       "        <tr>\n",
       "            <td>8/21/2023 16:22</td> <td>Alyssa          </td> <td>4    </td> <td>5                        </td> <td>Cats                      </td> <td>Right-handed</td> <td>All of the above      </td> <td>No   </td> <td>nan                                                         </td> <td>Italy                      </td> <td>Local                    </td> <td>UC                                    </td> <td>Failure                               </td> <td>None of them                                             </td> <td>Pastel baby blue     </td>\n",
       "        </tr>\n",
       "        <tr>\n",
       "            <td>8/21/2023 16:24</td> <td>Allison         </td> <td>3.51 </td> <td>2                        </td> <td>nan                       </td> <td>Right-handed</td> <td>On my side            </td> <td>No   </td> <td>nan                                                         </td> <td>Ecuador                    </td> <td>out of country           </td> <td>UC                                    </td> <td>Chickens                              </td> <td>EDM                                                      </td> <td>Black                </td>\n",
       "        </tr>\n",
       "        <tr>\n",
       "            <td>8/21/2023 18:37</td> <td>Allison         </td> <td>3.9  </td> <td>5                        </td> <td>Dogs                      </td> <td>Right-handed</td> <td>On my stomach         </td> <td>Yes  </td> <td>Big Bang                                                    </td> <td>Canada                     </td> <td>Local                    </td> <td>Unknown                               </td> <td>Failure                               </td> <td>EDM                                                      </td> <td>Green,Yellow         </td>\n",
       "        </tr>\n",
       "        <tr>\n",
       "            <td>8/21/2023 20:58</td> <td>Allison         </td> <td>4    </td> <td>7                        </td> <td>Dogs                      </td> <td>Right-handed</td> <td>On my side            </td> <td>No   </td> <td>nan                                                         </td> <td>Beach                      </td> <td>Local                    </td> <td>UC                                    </td> <td>My mom                                </td> <td>Hip hop                                                  </td> <td>Blue                 </td>\n",
       "        </tr>\n",
       "        <tr>\n",
       "            <td>8/21/2023 21:35</td> <td>Allison         </td> <td>3.25 </td> <td>5                        </td> <td>Dogs                      </td> <td>Right-handed</td> <td>On my side            </td> <td>No   </td> <td>nan                                                         </td> <td>Japan                      </td> <td>Local                    </td> <td>UC                                    </td> <td>The unknown                           </td> <td>Hip hop                                                  </td> <td>Lilac                </td>\n",
       "        </tr>\n",
       "        <tr>\n",
       "            <td>8/21/2023 23:17</td> <td>Hansen Xiao     </td> <td>2.88 </td> <td>3                        </td> <td>nan                       </td> <td>Right-handed</td> <td>On my side            </td> <td>Yes  </td> <td>Le Sserafim                                                 </td> <td>Japan                      </td> <td>US (not CA)              </td> <td>Out of State                          </td> <td>Heights                               </td> <td>Spanish                                                  </td> <td>Green                </td>\n",
       "        </tr>\n",
       "        <tr>\n",
       "            <td>8/21/2023 23:19</td> <td>Hansen Xiao     </td> <td>3    </td> <td>4                        </td> <td>nan                       </td> <td>Right-handed</td> <td>On my back            </td> <td>Yes  </td> <td>Twice                                                       </td> <td>Spain                      </td> <td>US (not CA)              </td> <td>Out of State                          </td> <td>Spiders                               </td> <td>Pop                                                      </td> <td>Black                </td>\n",
       "        </tr>\n",
       "        <tr>\n",
       "            <td>8/21/2023 23:34</td> <td>Hansen Xiao     </td> <td>3.9  </td> <td>4                        </td> <td>Dogs                      </td> <td>Right-handed</td> <td>On my stomach         </td> <td>Yes  </td> <td>Blackpink                                                   </td> <td>Japan                      </td> <td>Local                    </td> <td>UC                                    </td> <td>Death                                 </td> <td>Jazz                                                     </td> <td>Black                </td>\n",
       "        </tr>\n",
       "        <tr>\n",
       "            <td>8/21/2023 23:55</td> <td>Edric Lee       </td> <td>3.82 </td> <td>4                        </td> <td>nan                       </td> <td>Left-handed </td> <td>On my back            </td> <td>Yes  </td> <td>NCT                                                         </td> <td>Hong Kong                  </td> <td>Local                    </td> <td>UC                                    </td> <td>Future                                </td> <td>Pop                                                      </td> <td>Black                </td>\n",
       "        </tr>\n",
       "        <tr>\n",
       "            <td>8/22/2023 0:11 </td> <td>Allison         </td> <td>3.07 </td> <td>2                        </td> <td>Dogs                      </td> <td>Right-handed</td> <td>On my side            </td> <td>Yes  </td> <td>BTS, Blackpink, TXT, Enhypen, The Boyz, Treasure, New Je ...</td> <td>South Korea and LA         </td> <td>Local                    </td> <td>CSU                                   </td> <td>Future, Stage Fright                  </td> <td>Pop, K-POP                                               </td> <td>Purple               </td>\n",
       "        </tr>\n",
       "        <tr>\n",
       "            <td>8/22/2023 9:12 </td> <td>Casey So        </td> <td>4    </td> <td>3                        </td> <td>nan                       </td> <td>Right-handed</td> <td>On my side            </td> <td>No   </td> <td>nan                                                         </td> <td>Florida                    </td> <td>Local                    </td> <td>UC                                    </td> <td>Ghost                                 </td> <td>R&B                                                      </td> <td>Green                </td>\n",
       "        </tr>\n",
       "        <tr>\n",
       "            <td>8/22/2023 9:20 </td> <td>Linxue Guo      </td> <td>3.85 </td> <td>8                        </td> <td>nan                       </td> <td>Both        </td> <td>On my side            </td> <td>No   </td> <td>Blackpink                                                   </td> <td>China                      </td> <td>out of country           </td> <td>UC                                    </td> <td>Ghost                                 </td> <td>Pop                                                      </td> <td>Pink                 </td>\n",
       "        </tr>\n",
       "        <tr>\n",
       "            <td>8/22/2023 10:38</td> <td>Linxue Guo      </td> <td>4    </td> <td>4                        </td> <td>Dogs                      </td> <td>Right-handed</td> <td>On my side            </td> <td>Yes  </td> <td>New Jeans                                                   </td> <td>Europe                     </td> <td>out of country           </td> <td>UC                                    </td> <td>Sleep paralysis demon                 </td> <td>Pop                                                      </td> <td>Blue                 </td>\n",
       "        </tr>\n",
       "        <tr>\n",
       "            <td>8/22/2023 10:43</td> <td>Cristel         </td> <td>2.02 </td> <td>8                        </td> <td>nan                       </td> <td>Right-handed</td> <td>On my side            </td> <td>No   </td> <td>nan                                                         </td> <td>Philippines                </td> <td>out of country           </td> <td>UC                                    </td> <td>Butterflies                           </td> <td>Hip hop                                                  </td> <td>Purple               </td>\n",
       "        </tr>\n",
       "        <tr>\n",
       "            <td>8/22/2023 10:43</td> <td>Linxue Guo      </td> <td>3.9  </td> <td>8                        </td> <td>nan                       </td> <td>Left-handed </td> <td>On my side            </td> <td>No   </td> <td>nan                                                         </td> <td>Las Vegas                  </td> <td>out of country           </td> <td>UC                                    </td> <td>Lose money                            </td> <td>Classical                                                </td> <td>Blue                 </td>\n",
       "        </tr>\n",
       "        <tr>\n",
       "            <td>8/22/2023 10:50</td> <td>Linxue Guo      </td> <td>3.7  </td> <td>3                        </td> <td>nan                       </td> <td>Right-handed</td> <td>On my side            </td> <td>Yes  </td> <td>(G)I-DLE                                                    </td> <td>Shanghai                   </td> <td>out of country           </td> <td>UC                                    </td> <td>Public Speaking                       </td> <td>Classical                                                </td> <td>Blue                 </td>\n",
       "        </tr>\n",
       "        <tr>\n",
       "            <td>8/22/2023 11:08</td> <td>Linxue Guo      </td> <td>3.5  </td> <td>4                        </td> <td>Dogs                      </td> <td>Right-handed</td> <td>On my back            </td> <td>No   </td> <td>nan                                                         </td> <td>Japan                      </td> <td>out of country           </td> <td>UC                                    </td> <td>Public Speaking                       </td> <td>Classical                                                </td> <td>Red                  </td>\n",
       "        </tr>\n",
       "        <tr>\n",
       "            <td>8/22/2023 11:40</td> <td>Thiri           </td> <td>4    </td> <td>5                        </td> <td>Dogs                      </td> <td>Right-handed</td> <td>On my side            </td> <td>No   </td> <td>nan                                                         </td> <td>Hot Springs                </td> <td>US (not CA)              </td> <td>Private                               </td> <td>Homelessness                          </td> <td>Hip hop                                                  </td> <td>Blue                 </td>\n",
       "        </tr>\n",
       "        <tr>\n",
       "            <td>8/22/2023 11:56</td> <td>Linxue Guo      </td> <td>3.5  </td> <td>5                        </td> <td>Dogs                      </td> <td>Left-handed </td> <td>On my side            </td> <td>No   </td> <td>nan                                                         </td> <td>Hawaii                     </td> <td>Local                    </td> <td>UC                                    </td> <td>Dark                                  </td> <td>Hip hop                                                  </td> <td>Green                </td>\n",
       "        </tr>\n",
       "        <tr>\n",
       "            <td>8/22/2023 11:59</td> <td>Linxue Guo      </td> <td>4    </td> <td>2                        </td> <td>Cats                      </td> <td>Both        </td> <td>On my back            </td> <td>No   </td> <td>nan                                                         </td> <td>Spain                      </td> <td>out of country           </td> <td>UC                                    </td> <td>Bugs                                  </td> <td>Classical                                                </td> <td>Blue                 </td>\n",
       "        </tr>\n",
       "        <tr>\n",
       "            <td>8/22/2023 12:00</td> <td>Linxue Guo      </td> <td>3    </td> <td>1                        </td> <td>Cats, Dogs                </td> <td>Right-handed</td> <td>On my back            </td> <td>Yes  </td> <td>Snsd                                                        </td> <td>Europe                     </td> <td>Local                    </td> <td>UC                                    </td> <td>Ghost                                 </td> <td>Pop                                                      </td> <td>Green                </td>\n",
       "        </tr>\n",
       "        <tr>\n",
       "            <td>8/22/2023 12:04</td> <td>Linxue Guo      </td> <td>3.87 </td> <td>4                        </td> <td>Dogs                      </td> <td>Right-handed</td> <td>On my back            </td> <td>Yes  </td> <td>XG                                                          </td> <td>Japan                      </td> <td>Local                    </td> <td>UC                                    </td> <td>Heights                               </td> <td>Hip hop                                                  </td> <td>Purple               </td>\n",
       "        </tr>\n",
       "        <tr>\n",
       "            <td>8/22/2023 12:08</td> <td>Linxue Guo      </td> <td>2.43 </td> <td>4                        </td> <td>Dogs, Chickens            </td> <td>Right-handed</td> <td>On my back            </td> <td>No   </td> <td>nan                                                         </td> <td>Spain                      </td> <td>Local                    </td> <td>UC                                    </td> <td>Spiders                               </td> <td>Rock                                                     </td> <td>Blue                 </td>\n",
       "        </tr>\n",
       "        <tr>\n",
       "            <td>8/22/2023 12:08</td> <td>Linxue Guo      </td> <td>3    </td> <td>5                        </td> <td>Dogs                      </td> <td>Both        </td> <td>On my side            </td> <td>No   </td> <td>nan                                                         </td> <td>Los Angeles                </td> <td>Local                    </td> <td>UC                                    </td> <td>Dark                                  </td> <td>Rock                                                     </td> <td>Purple               </td>\n",
       "        </tr>\n",
       "        <tr>\n",
       "            <td>8/22/2023 12:16</td> <td>Linxue Guo      </td> <td>3.4  </td> <td>5                        </td> <td>nan                       </td> <td>Right-handed</td> <td>On my back            </td> <td>No   </td> <td>nan                                                         </td> <td>Hawaii                     </td> <td>Local                    </td> <td>CSU                                   </td> <td>Heights                               </td> <td>Pop                                                      </td> <td>Green                </td>\n",
       "        </tr>\n",
       "        <tr>\n",
       "            <td>8/22/2023 12:17</td> <td>Linxue Guo      </td> <td>3.68 </td> <td>7                        </td> <td>Cats                      </td> <td>Right-handed</td> <td>All of the above      </td> <td>No   </td> <td>nan                                                         </td> <td>Italy                      </td> <td>out of country           </td> <td>UC                                    </td> <td>Dark, men                             </td> <td>Alternative/Pop                                          </td> <td>All                  </td>\n",
       "        </tr>\n",
       "        <tr>\n",
       "            <td>8/22/2023 12:51</td> <td>Allison         </td> <td>4    </td> <td>3                        </td> <td>nan                       </td> <td>Right-handed</td> <td>On my side            </td> <td>No   </td> <td>nan                                                         </td> <td>Philippines                </td> <td>Local                    </td> <td>CSU                                   </td> <td>Bugs                                  </td> <td>Pop                                                      </td> <td>Purple               </td>\n",
       "        </tr>\n",
       "        <tr>\n",
       "            <td>8/22/2023 14:45</td> <td>Mr. Weathersby  </td> <td>0    </td> <td>4                        </td> <td>Dogs                      </td> <td>Right-handed</td> <td>On my stomach         </td> <td>No   </td> <td>nan                                                         </td> <td>Italy                      </td> <td>out of country           </td> <td>UC                                    </td> <td>Snakes                                </td> <td>Pop                                                      </td> <td>Purple               </td>\n",
       "        </tr>\n",
       "        <tr>\n",
       "            <td>8/22/2023 15:17</td> <td>Hansen Xiao     </td> <td>3.6  </td> <td>5                        </td> <td>nan                       </td> <td>Right-handed</td> <td>On my side            </td> <td>No   </td> <td>nan                                                         </td> <td>Japan                      </td> <td>Local                    </td> <td>UC                                    </td> <td>A regretful life                      </td> <td>Hip hop                                                  </td> <td>Blue                 </td>\n",
       "        </tr>\n",
       "        <tr>\n",
       "            <td>8/22/2023 15:43</td> <td>Allison         </td> <td>2.61 </td> <td>5                        </td> <td>nan                       </td> <td>Right-handed</td> <td>On my side            </td> <td>No   </td> <td>nan                                                         </td> <td>Yosemite Falls             </td> <td>out of country           </td> <td>UC                                    </td> <td>Abandonment                           </td> <td>Classical                                                </td> <td>Rosegold             </td>\n",
       "        </tr>\n",
       "        <tr>\n",
       "            <td>8/22/2023 17:04</td> <td>Linxue Guo      </td> <td>4    </td> <td>4                        </td> <td>Cats                      </td> <td>Left-handed </td> <td>On my side            </td> <td>Yes  </td> <td>BTS ,GOT7 , SKZ, Mamamoo, Itzy                              </td> <td>Beach                      </td> <td>Local                    </td> <td>UC                                    </td> <td>The ocean/deep water                  </td> <td>Hip hop                                                  </td> <td>Green                </td>\n",
       "        </tr>\n",
       "        <tr>\n",
       "            <td>8/22/2023 17:38</td> <td>Linxue Guo      </td> <td>4    </td> <td>5                        </td> <td>nan                       </td> <td>Both        </td> <td>On my side            </td> <td>Yes  </td> <td>BTS                                                         </td> <td>France                     </td> <td>out of country           </td> <td>UC                                    </td> <td>Loss of loved ones                    </td> <td>Hip hop                                                  </td> <td>Pink                 </td>\n",
       "        </tr>\n",
       "        <tr>\n",
       "            <td>8/22/2023 22:38</td> <td>Edric Lee       </td> <td>3.4  </td> <td>7                        </td> <td>Dogs                      </td> <td>Right-handed</td> <td>On my side            </td> <td>No   </td> <td>nan                                                         </td> <td>Japan                      </td> <td>Local                    </td> <td>UC                                    </td> <td>Failure                               </td> <td>Pop                                                      </td> <td>Purple               </td>\n",
       "        </tr>\n",
       "        <tr>\n",
       "            <td>8/23/2023 10:07</td> <td>Edric Lee       </td> <td>3    </td> <td>5                        </td> <td>nan                       </td> <td>Right-handed</td> <td>On my side            </td> <td>No   </td> <td>nan                                                         </td> <td>Philippines                </td> <td>Local                    </td> <td>Unknown                               </td> <td>Lose money                            </td> <td>Hip hop                                                  </td> <td>Black,Blue           </td>\n",
       "        </tr>\n",
       "        <tr>\n",
       "            <td>8/23/2023 10:07</td> <td>Edric Lee       </td> <td>2.9  </td> <td>2                        </td> <td>nan                       </td> <td>Right-handed</td> <td>On my back            </td> <td>Yes  </td> <td>New Jeans                                                   </td> <td>Japan                      </td> <td>Local                    </td> <td>UC                                    </td> <td>Rats                                  </td> <td>Hip hop                                                  </td> <td>Blue                 </td>\n",
       "        </tr>\n",
       "        <tr>\n",
       "            <td>8/23/2023 10:10</td> <td>Edric Lee       </td> <td>3    </td> <td>7                        </td> <td>Cats                      </td> <td>Right-handed</td> <td>On my back            </td> <td>No   </td> <td>nan                                                         </td> <td>Hawaii                     </td> <td>Local                    </td> <td>CSU                                   </td> <td>The unknown                           </td> <td>Rap                                                      </td> <td>Blue                 </td>\n",
       "        </tr>\n",
       "        <tr>\n",
       "            <td>8/23/2023 10:45</td> <td>Edric Lee       </td> <td>3.2  </td> <td>6                        </td> <td>nan                       </td> <td>Right-handed</td> <td>On my back            </td> <td>No   </td> <td>nan                                                         </td> <td>Hawaii                     </td> <td>Local                    </td> <td>UC                                    </td> <td>Loss of loved ones                    </td> <td>Rap                                                      </td> <td>Red                  </td>\n",
       "        </tr>\n",
       "        <tr>\n",
       "            <td>8/23/2023 11:19</td> <td>Edric Lee       </td> <td>3.2  </td> <td>7                        </td> <td>Dogs                      </td> <td>Right-handed</td> <td>All of the above      </td> <td>Yes  </td> <td>SHINee, XG, GOT7, Mamamoo                                   </td> <td>Japan, Philippines, Hawaii </td> <td>Local                    </td> <td>UC Grad                               </td> <td>Abandonment                           </td> <td>Classical                                                </td> <td>Yellow               </td>\n",
       "        </tr>\n",
       "        <tr>\n",
       "            <td>8/23/2023 11:20</td> <td>Edric Lee       </td> <td>2.7  </td> <td>5                        </td> <td>nan                       </td> <td>Right-handed</td> <td>On my back            </td> <td>No   </td> <td>nan                                                         </td> <td>Japan                      </td> <td>Local                    </td> <td>Private (American Military University)</td> <td>Failure                               </td> <td>Rock                                                     </td> <td>Red                  </td>\n",
       "        </tr>\n",
       "        <tr>\n",
       "            <td>8/23/2023 23:12</td> <td>Allison         </td> <td>3.7  </td> <td>5                        </td> <td>Dogs                      </td> <td>Right-handed</td> <td>On my side            </td> <td>Yes  </td> <td>New Jeans                                                   </td> <td>Indonesia                  </td> <td>out of country           </td> <td>UC                                    </td> <td>Failure                               </td> <td>Classical                                                </td> <td>Pink                 </td>\n",
       "        </tr>\n",
       "        <tr>\n",
       "            <td>8/24/2023 9:02 </td> <td>Edric Lee       </td> <td>2.8  </td> <td>4                        </td> <td>Cats                      </td> <td>Right-handed</td> <td>On my side            </td> <td>No   </td> <td>Blackpink                                                   </td> <td>mostly everywhere          </td> <td>out of country           </td> <td>CSU                                   </td> <td>Blood                                 </td> <td>Jazz                                                     </td> <td>Grey                 </td>\n",
       "        </tr>\n",
       "        <tr>\n",
       "            <td>8/24/2023 9:31 </td> <td>Casey So        </td> <td>4.214</td> <td>8                        </td> <td>Dogs                      </td> <td>Left-handed </td> <td>On my side            </td> <td>Yes  </td> <td>Enhypen                                                     </td> <td>Japan                      </td> <td>Local                    </td> <td>UC                                    </td> <td>Hatred,Bullying                       </td> <td>Pop                                                      </td> <td>Pink,Yellow          </td>\n",
       "        </tr>\n",
       "        <tr>\n",
       "            <td>8/24/2023 9:38 </td> <td>Kaitlyn W       </td> <td>3.77 </td> <td>5                        </td> <td>Birds                     </td> <td>Both        </td> <td>On my back            </td> <td>Yes  </td> <td>Le Sserafim, Black Pink, and IVE                            </td> <td>Seoul, South Korea         </td> <td>Local                    </td> <td>UC                                    </td> <td>The unknown                           </td> <td>Pop                                                      </td> <td>Green                </td>\n",
       "        </tr>\n",
       "        <tr>\n",
       "            <td>8/24/2023 10:29</td> <td>Kaitlyn W       </td> <td>3.49 </td> <td>7                        </td> <td>nan                       </td> <td>Right-handed</td> <td>On my side            </td> <td>Yes  </td> <td>Blackpink                                                   </td> <td>Beach                      </td> <td>out of country           </td> <td>UC                                    </td> <td>Drowning                              </td> <td>R&B                                                      </td> <td>Brown                </td>\n",
       "        </tr>\n",
       "        <tr>\n",
       "            <td>8/24/2023 11:30</td> <td>Casey So        </td> <td>4    </td> <td>4                        </td> <td>Dogs                      </td> <td>Right-handed</td> <td>On my side            </td> <td>Yes  </td> <td>Tomorrow X Together                                         </td> <td>Hong Kong                  </td> <td>Local                    </td> <td>Out of State                          </td> <td>Dark                                  </td> <td>R&B                                                      </td> <td>Purple               </td>\n",
       "        </tr>\n",
       "        <tr>\n",
       "            <td>8/24/2023 11:55</td> <td>Linxue Guo      </td> <td>4    </td> <td>10                       </td> <td>nan                       </td> <td>Right-handed</td> <td>On my back            </td> <td>No   </td> <td>nan                                                         </td> <td>New Zealand                </td> <td>Local                    </td> <td>Out of State                          </td> <td>Needles / Drawing Blood               </td> <td>Country                                                  </td> <td>Blue                 </td>\n",
       "        </tr>\n",
       "        <tr>\n",
       "            <td>8/24/2023 12:01</td> <td>Linxue Guo      </td> <td>4    </td> <td>5                        </td> <td>nan                       </td> <td>Left-handed </td> <td>On my side            </td> <td>Yes  </td> <td>everything                                                  </td> <td>Mexico                     </td> <td>California (not Bay Area)</td> <td>Out of State                          </td> <td>Loss of loved ones                    </td> <td>Pop                                                      </td> <td>Black                </td>\n",
       "        </tr>\n",
       "        <tr>\n",
       "            <td>8/24/2023 12:01</td> <td>Linxue Guo      </td> <td>3.4  </td> <td>3                        </td> <td>nan                       </td> <td>Right-handed</td> <td>On my side            </td> <td>No   </td> <td>nan                                                         </td> <td>New York                   </td> <td>out of country           </td> <td>Out of State                          </td> <td>Birds                                 </td> <td>Melodic Bass                                             </td> <td>Purple               </td>\n",
       "        </tr>\n",
       "        <tr>\n",
       "            <td>8/24/2023 12:02</td> <td>Linxue Guo      </td> <td>0    </td> <td>5                        </td> <td>Dogs                      </td> <td>Right-handed</td> <td>On my stomach         </td> <td>No   </td> <td>nan                                                         </td> <td>Hawaii                     </td> <td>Local                    </td> <td>UC                                    </td> <td>Dying                                 </td> <td>Hip hop                                                  </td> <td>Black                </td>\n",
       "        </tr>\n",
       "        <tr>\n",
       "            <td>8/24/2023 12:04</td> <td>Cristel         </td> <td>3.7  </td> <td>7                        </td> <td>Cats                      </td> <td>Right-handed</td> <td>On my stomach         </td> <td>Yes  </td> <td>Stray Kids                                                  </td> <td>Florence                   </td> <td>Local                    </td> <td>CSU                                   </td> <td>Regret                                </td> <td>Rock                                                     </td> <td>Orange               </td>\n",
       "        </tr>\n",
       "        <tr>\n",
       "            <td>8/24/2023 12:09</td> <td>Linxue Guo      </td> <td>3    </td> <td>5                        </td> <td>Cats                      </td> <td>Right-handed</td> <td>On my stomach         </td> <td>No   </td> <td>nan                                                         </td> <td>Lake Tahoe                 </td> <td>California (not Bay Area)</td> <td>UC                                    </td> <td>Stalkers                              </td> <td>Rock                                                     </td> <td>Black                </td>\n",
       "        </tr>\n",
       "        <tr>\n",
       "            <td>8/24/2023 16:07</td> <td>Kaitlyn W       </td> <td>4    </td> <td>5                        </td> <td>nan                       </td> <td>Both        </td> <td>On my back            </td> <td>Yes  </td> <td>Seventeen                                                   </td> <td>Korea, China               </td> <td>out of country           </td> <td>Out of State                          </td> <td>Afterlife                             </td> <td>R&B                                                      </td> <td>Green                </td>\n",
       "        </tr>\n",
       "        <tr>\n",
       "            <td>8/25/2023 13:10</td> <td>Kadae           </td> <td>4    </td> <td>9                        </td> <td>Dogs                      </td> <td>Right-handed</td> <td>On my back            </td> <td>Yes  </td> <td>BP                                                          </td> <td>nan                        </td> <td>out of country           </td> <td>UC                                    </td> <td>Failure                               </td> <td>Rock                                                     </td> <td>Brown                </td>\n",
       "        </tr>\n",
       "        <tr>\n",
       "            <td>8/25/2023 13:20</td> <td>Kadae           </td> <td>2.7  </td> <td>4                        </td> <td>nan                       </td> <td>Right-handed</td> <td>On my side            </td> <td>Yes  </td> <td>nan                                                         </td> <td>Sun                        </td> <td>Local                    </td> <td>CSU                                   </td> <td>Humans                                </td> <td>Pop                                                      </td> <td>Black                </td>\n",
       "        </tr>\n",
       "        <tr>\n",
       "            <td>8/25/2023 13:25</td> <td>Kadae           </td> <td>4    </td> <td>6                        </td> <td>nan                       </td> <td>Right-handed</td> <td>On my side            </td> <td>No   </td> <td>nan                                                         </td> <td>Italy                      </td> <td>out of country           </td> <td>CSU                                   </td> <td>Heights                               </td> <td>Rock                                                     </td> <td>Pink                 </td>\n",
       "        </tr>\n",
       "        <tr>\n",
       "            <td>8/25/2023 13:27</td> <td>Kadae           </td> <td>3.5  </td> <td>5                        </td> <td>Dogs                      </td> <td>Right-handed</td> <td>On my side            </td> <td>Yes  </td> <td>EXO                                                         </td> <td>LA                         </td> <td>Local                    </td> <td>UC                                    </td> <td>Being judged                          </td> <td>Rock                                                     </td> <td>Lavender             </td>\n",
       "        </tr>\n",
       "        <tr>\n",
       "            <td>8/25/2023 13:42</td> <td>Kadae           </td> <td>3.65 </td> <td>1                        </td> <td>Cats                      </td> <td>Right-handed</td> <td>On my side and back   </td> <td>Yes  </td> <td>New Jeans                                                   </td> <td>Hawaii                     </td> <td>Local                    </td> <td>UC                                    </td> <td>Spiders                               </td> <td>Pop                                                      </td> <td>Pink                 </td>\n",
       "        </tr>\n",
       "        <tr>\n",
       "            <td>8/25/2023 22:18</td> <td>Casey So        </td> <td>3.8  </td> <td>5                        </td> <td>nan                       </td> <td>Right-handed</td> <td>On my side            </td> <td>Yes  </td> <td>Le Sserafim                                                 </td> <td>Home                       </td> <td>Local                    </td> <td>UC                                    </td> <td>Heights                               </td> <td>Pop                                                      </td> <td>White                </td>\n",
       "        </tr>\n",
       "        <tr>\n",
       "            <td>8/25/2023 23:10</td> <td>Kaitlyn W       </td> <td>4    </td> <td>5                        </td> <td>Dogs                      </td> <td>Right-handed</td> <td>On my side            </td> <td>Yes  </td> <td>Blackpink                                                   </td> <td>New York                   </td> <td>Local                    </td> <td>CSU                                   </td> <td>Failure                               </td> <td>Rock                                                     </td> <td>Black                </td>\n",
       "        </tr>\n",
       "        <tr>\n",
       "            <td>8/28/2023 12:21</td> <td>Edric Lee       </td> <td>3.9  </td> <td>7                        </td> <td>Cats, Dogs, Reptiles      </td> <td>Right-handed</td> <td>On my side            </td> <td>Yes  </td> <td>Twice                                                       </td> <td>Hawaii                     </td> <td>Local                    </td> <td>Private (Dominican University)        </td> <td>Heights                               </td> <td>Pop                                                      </td> <td>Baby Blue            </td>\n",
       "        </tr>\n",
       "        <tr>\n",
       "            <td>8/28/2023 12:23</td> <td>Edric Lee       </td> <td>3.3  </td> <td>1                        </td> <td>nan                       </td> <td>Right-handed</td> <td>On my back            </td> <td>Yes  </td> <td>EXO,BTS,Blackpink                                           </td> <td>Swiszerland,Greece         </td> <td>out of country           </td> <td>CSU                                   </td> <td>Lost my phone                         </td> <td>Country                                                  </td> <td>Purple, Black, White </td>\n",
       "        </tr>\n",
       "        <tr>\n",
       "            <td>8/28/2023 13:39</td> <td>Jackie          </td> <td>1.9  </td> <td>5                        </td> <td>nan                       </td> <td>Right-handed</td> <td>On my side            </td> <td>Yes  </td> <td>Blackpink                                                   </td> <td>Philippines                </td> <td>out of country           </td> <td>UC                                    </td> <td>Heights                               </td> <td>Pop                                                      </td> <td>Pink                 </td>\n",
       "        </tr>\n",
       "        <tr>\n",
       "            <td>8/29/2023 7:53 </td> <td>Kadae           </td> <td>3.5  </td> <td>4                        </td> <td>nan                       </td> <td>Right-handed</td> <td>On my side            </td> <td>No   </td> <td>nan                                                         </td> <td>nan                        </td> <td>out of country           </td> <td>UC                                    </td> <td>nan                                   </td> <td>Classical                                                </td> <td>Purple               </td>\n",
       "        </tr>\n",
       "        <tr>\n",
       "            <td>8/29/2023 7:54 </td> <td>Kadae           </td> <td>4    </td> <td>5                        </td> <td>None, Cats                </td> <td>Right-handed</td> <td>On my side            </td> <td>Yes  </td> <td>Twice, Blackpink                                            </td> <td>Tokyo, Japan               </td> <td>out of country           </td> <td>UC                                    </td> <td>Losing hope                           </td> <td>Hip hop                                                  </td> <td>Green, Gray          </td>\n",
       "        </tr>\n",
       "        <tr>\n",
       "            <td>8/29/2023 7:57 </td> <td>Kadae           </td> <td>3.8  </td> <td>6                        </td> <td>Cats, Dogs                </td> <td>Right-handed</td> <td>On my side            </td> <td>No   </td> <td>Big Bang                                                    </td> <td>Future 2077                </td> <td>out of country           </td> <td>CSU                                   </td> <td>Rejection                             </td> <td>Pop                                                      </td> <td>Blue                 </td>\n",
       "        </tr>\n",
       "        <tr>\n",
       "            <td>8/29/2023 8:01 </td> <td>Kadae           </td> <td>4    </td> <td>8                        </td> <td>nan                       </td> <td>Right-handed</td> <td>On my back            </td> <td>Yes  </td> <td>Blackpink                                                   </td> <td>SF                         </td> <td>out of country           </td> <td>UC                                    </td> <td>My family can’t reunion/reunite       </td> <td>Pop                                                      </td> <td>Blue                 </td>\n",
       "        </tr>\n",
       "        <tr>\n",
       "            <td>8/29/2023 8:04 </td> <td>Kadae           </td> <td>3.25 </td> <td>5                        </td> <td>nan                       </td> <td>Both        </td> <td>All of the above      </td> <td>No   </td> <td>nan                                                         </td> <td>Scandinavia, Sweden, Norway</td> <td>Local                    </td> <td>UCSC Transfer                         </td> <td>nan                                   </td> <td>Jazz ,Hip hop,70s ,80s                                   </td> <td>Purple, Red, Black   </td>\n",
       "        </tr>\n",
       "        <tr>\n",
       "            <td>8/29/2023 8:07 </td> <td>Kadae           </td> <td>4    </td> <td>8                        </td> <td>Dogs                      </td> <td>Right-handed</td> <td>On my back            </td> <td>Yes  </td> <td>New Jeans                                                   </td> <td>Home                       </td> <td>California (not Bay Area)</td> <td>CSU                                   </td> <td>Failure                               </td> <td>Hip hop                                                  </td> <td>Blue                 </td>\n",
       "        </tr>\n",
       "        <tr>\n",
       "            <td>8/29/2023 8:08 </td> <td>Kadae           </td> <td>3.12 </td> <td>4                        </td> <td>nan                       </td> <td>Right-handed</td> <td>On my side            </td> <td>Yes  </td> <td>Blackpink                                                   </td> <td>LA                         </td> <td>Local                    </td> <td>CSU                                   </td> <td>Spiders                               </td> <td>Hip hop                                                  </td> <td>Red                  </td>\n",
       "        </tr>\n",
       "        <tr>\n",
       "            <td>8/29/2023 8:09 </td> <td>Kadae           </td> <td>3.9  </td> <td>7                        </td> <td>Dogs                      </td> <td>Right-handed</td> <td>On my side            </td> <td>Yes  </td> <td>nan                                                         </td> <td>Mexico                     </td> <td>California (not Bay Area)</td> <td>CSU                                   </td> <td>Spiders                               </td> <td>Pop                                                      </td> <td>Pink                 </td>\n",
       "        </tr>\n",
       "        <tr>\n",
       "            <td>8/29/2023 8:10 </td> <td>Kadae           </td> <td>3.7  </td> <td>9                        </td> <td>nan                       </td> <td>Right-handed</td> <td>On my side            </td> <td>No   </td> <td>nan                                                         </td> <td>Thailand                   </td> <td>out of country           </td> <td>UC                                    </td> <td>The ocean/deep water                  </td> <td>Pop                                                      </td> <td>Black                </td>\n",
       "        </tr>\n",
       "        <tr>\n",
       "            <td>8/29/2023 8:15 </td> <td>Kadae           </td> <td>3.2  </td> <td>9                        </td> <td>nan                       </td> <td>Right-handed</td> <td>On my side            </td> <td>No   </td> <td>nan                                                         </td> <td>London                     </td> <td>out of country           </td> <td>CSU                                   </td> <td>Loss of loved ones                    </td> <td>Pop                                                      </td> <td>Purple               </td>\n",
       "        </tr>\n",
       "        <tr>\n",
       "            <td>8/29/2023 8:23 </td> <td>Kadae           </td> <td>3    </td> <td>3                        </td> <td>nan                       </td> <td>Right-handed</td> <td>On my back            </td> <td>Yes  </td> <td>BTS, Stray Kids, Blackpink                                  </td> <td>Home                       </td> <td>California (not Bay Area)</td> <td>Unknown                               </td> <td>Ocean                                 </td> <td>Pop                                                      </td> <td>Violet               </td>\n",
       "        </tr>\n",
       "        <tr>\n",
       "            <td>8/29/2023 9:16 </td> <td>Casey So        </td> <td>3.82 </td> <td>5                        </td> <td>Dogs                      </td> <td>Right-handed</td> <td>On my side            </td> <td>Yes  </td> <td>Twice                                                       </td> <td>Japan                      </td> <td>Local                    </td> <td>UC                                    </td> <td>Bugs                                  </td> <td>Pop                                                      </td> <td>Purple               </td>\n",
       "        </tr>\n",
       "        <tr>\n",
       "            <td>8/29/2023 11:08</td> <td>Justin Li       </td> <td>3.4  </td> <td>3                        </td> <td>nan                       </td> <td>Left-handed </td> <td>On my side            </td> <td>Yes  </td> <td>Itzy                                                        </td> <td>My bed                     </td> <td>Local                    </td> <td>CSU (SFSU)                            </td> <td>nan                                   </td> <td>Pop                                                      </td> <td>Blue                 </td>\n",
       "        </tr>\n",
       "        <tr>\n",
       "            <td>8/29/2023 11:25</td> <td>Justin Li       </td> <td>3.7  </td> <td>3                        </td> <td>nan                       </td> <td>Right-handed</td> <td>On my side            </td> <td>No   </td> <td>offonoff                                                    </td> <td>Seattle                    </td> <td>Local                    </td> <td>UC                                    </td> <td>Dolls                                 </td> <td>Country                                                  </td> <td>Red                  </td>\n",
       "        </tr>\n",
       "        <tr>\n",
       "            <td>8/29/2023 11:27</td> <td>Justin Li       </td> <td>2.9  </td> <td>3                        </td> <td>nan                       </td> <td>Right-handed</td> <td>On my side            </td> <td>Yes  </td> <td>nan                                                         </td> <td>Japan                      </td> <td>Local                    </td> <td>UC                                    </td> <td>Communication                         </td> <td>Jpop                                                     </td> <td>Blue                 </td>\n",
       "        </tr>\n",
       "        <tr>\n",
       "            <td>8/29/2023 12:30</td> <td>Edric Lee       </td> <td>1.98 </td> <td>3                        </td> <td>nan                       </td> <td>Right-handed</td> <td>On my side            </td> <td>Yes  </td> <td>nan                                                         </td> <td>Home                       </td> <td>Local                    </td> <td>UC                                    </td> <td>Being lonely                          </td> <td>Rock                                                     </td> <td>Blue                 </td>\n",
       "        </tr>\n",
       "        <tr>\n",
       "            <td>8/29/2023 13:25</td> <td>Justin Li       </td> <td>3.4  </td> <td>1                        </td> <td>nan                       </td> <td>Right-handed</td> <td>On my side            </td> <td>Yes  </td> <td>New Jeans                                                   </td> <td>New York                   </td> <td>Local                    </td> <td>UC                                    </td> <td>Killer Clown                          </td> <td>EDM                                                      </td> <td>Purple               </td>\n",
       "        </tr>\n",
       "        <tr>\n",
       "            <td>8/29/2023 13:33</td> <td>Justin Li       </td> <td>3.5  </td> <td>2                        </td> <td>Dogs                      </td> <td>Left-handed </td> <td>On my side            </td> <td>Yes  </td> <td>Le Serrafim                                                 </td> <td>Hong Kong                  </td> <td>California (not Bay Area)</td> <td>UC                                    </td> <td>Heights                               </td> <td>EDM                                                      </td> <td>Yellow               </td>\n",
       "        </tr>\n",
       "        <tr>\n",
       "            <td>8/29/2023 14:00</td> <td>Cristel         </td> <td>3.6  </td> <td>4                        </td> <td>Dogs                      </td> <td>Right-handed</td> <td>On my stomach         </td> <td>Yes  </td> <td>Le Sserafim                                                 </td> <td>Japan                      </td> <td>Local                    </td> <td>CSU                                   </td> <td>Bugs                                  </td> <td>Pop                                                      </td> <td>Blue                 </td>\n",
       "        </tr>\n",
       "        <tr>\n",
       "            <td>8/29/2023 16:01</td> <td>Justin Li       </td> <td>3    </td> <td>4                        </td> <td>Cats                      </td> <td>Right-handed</td> <td>On my side            </td> <td>Yes  </td> <td>iKON                                                        </td> <td>Japan                      </td> <td>Local                    </td> <td>nan                                   </td> <td>Heights                               </td> <td>Pop                                                      </td> <td>Green                </td>\n",
       "        </tr>\n",
       "        <tr>\n",
       "            <td>8/29/2023 16:27</td> <td>Cristel         </td> <td>3.8  </td> <td>3                        </td> <td>nan                       </td> <td>Right-handed</td> <td>On my side            </td> <td>Yes  </td> <td>Girls Generation                                            </td> <td>My bed                     </td> <td>Local                    </td> <td>UC                                    </td> <td>Abandonment                           </td> <td>Indie                                                    </td> <td>Pink                 </td>\n",
       "        </tr>\n",
       "        <tr>\n",
       "            <td>8/29/2023 20:00</td> <td>Justin Li       </td> <td>3.2  </td> <td>4                        </td> <td>nan                       </td> <td>Right-handed</td> <td>On my side            </td> <td>No   </td> <td>nan                                                         </td> <td>Home                       </td> <td>Local                    </td> <td>Out of State                          </td> <td>CS70                                  </td> <td>Dance/Electronic                                         </td> <td>SkyBlue              </td>\n",
       "        </tr>\n",
       "        <tr>\n",
       "            <td>8/29/2023 22:18</td> <td>Allison         </td> <td>2.22 </td> <td>5                        </td> <td>nan                       </td> <td>Right-handed</td> <td>On my stomach and side</td> <td>Yes  </td> <td>Blackpink, KissofLife, New Jeans, Twice                     </td> <td>Philippines                </td> <td>Local                    </td> <td>CSU                                   </td> <td>The ocean/deep water                  </td> <td>Hip hop                                                  </td> <td>Yellow               </td>\n",
       "        </tr>\n",
       "        <tr>\n",
       "            <td>8/29/2023 22:28</td> <td>Justin Li       </td> <td>3.2  </td> <td>6                        </td> <td>Dogs                      </td> <td>Left-handed </td> <td>On my back            </td> <td>Yes  </td> <td>Twice, New Jeans                                            </td> <td>Hawaii                     </td> <td>Local                    </td> <td>UC                                    </td> <td>Failure                               </td> <td>Jazz                                                     </td> <td>orange               </td>\n",
       "        </tr>\n",
       "        <tr>\n",
       "            <td>8/30/2023 11:03</td> <td>Edric Lee       </td> <td>3.9  </td> <td>9                        </td> <td>nan                       </td> <td>Right-handed</td> <td>On my side            </td> <td>No   </td> <td>nan                                                         </td> <td>Korea                      </td> <td>out of country           </td> <td>CSU                                   </td> <td>Stage Fright                          </td> <td>Country                                                  </td> <td>Black                </td>\n",
       "        </tr>\n",
       "        <tr>\n",
       "            <td>8/30/2023 11:07</td> <td>Edric Lee       </td> <td>3.21 </td> <td>4                        </td> <td>nan                       </td> <td>Left-handed </td> <td>On my back            </td> <td>Yes  </td> <td>New Jeans                                                   </td> <td>Philippines                </td> <td>Local                    </td> <td>UC                                    </td> <td>Being alone                           </td> <td>Pop                                                      </td> <td>Green                </td>\n",
       "        </tr>\n",
       "        <tr>\n",
       "            <td>8/30/2023 20:50</td> <td>Christian Le    </td> <td>3.7  </td> <td>5                        </td> <td>Dogs                      </td> <td>Right-handed</td> <td>On my back            </td> <td>Yes  </td> <td>New Jeans                                                   </td> <td>Hawaii                     </td> <td>Local                    </td> <td>UC                                    </td> <td>Leg days                              </td> <td>Rock                                                     </td> <td>Brown                </td>\n",
       "        </tr>\n",
       "        <tr>\n",
       "            <td>8/30/2023 21:07</td> <td>Christian Le    </td> <td>4    </td> <td>3                        </td> <td>Dogs                      </td> <td>Right-handed</td> <td>On my side            </td> <td>Yes  </td> <td>BTS                                                         </td> <td>Hong Kong                  </td> <td>Local                    </td> <td>UC                                    </td> <td>Blood                                 </td> <td>Pop                                                      </td> <td>Green                </td>\n",
       "        </tr>\n",
       "        <tr>\n",
       "            <td>8/30/2023 21:15</td> <td>Christian Le    </td> <td>3.6  </td> <td>4                        </td> <td>nan                       </td> <td>Right-handed</td> <td>On my side            </td> <td>No   </td> <td>nan                                                         </td> <td>Hawaii                     </td> <td>California (not Bay Area)</td> <td>UC                                    </td> <td>Heights                               </td> <td>Hip hop                                                  </td> <td>Purple               </td>\n",
       "        </tr>\n",
       "        <tr>\n",
       "            <td>8/30/2023 21:49</td> <td>Christian Le    </td> <td>3.9  </td> <td>6                        </td> <td>Cats                      </td> <td>Right-handed</td> <td>On my side            </td> <td>Yes  </td> <td>New Jeans                                                   </td> <td>Mexico                     </td> <td>Local                    </td> <td>UC                                    </td> <td>Enclosed spaces                       </td> <td>Alternative                                              </td> <td>Pink                 </td>\n",
       "        </tr>\n",
       "        <tr>\n",
       "            <td>8/30/2023 22:18</td> <td>Christian Le    </td> <td>3.5  </td> <td>5                        </td> <td>Dogs                      </td> <td>Right-handed</td> <td>On my side            </td> <td>Yes  </td> <td>BTS                                                         </td> <td>Hawaii                     </td> <td>out of country           </td> <td>UC                                    </td> <td>Snakes                                </td> <td>Pop                                                      </td> <td>White                </td>\n",
       "        </tr>\n",
       "        <tr>\n",
       "            <td>8/31/2023 0:00 </td> <td>Christian Le    </td> <td>3.7  </td> <td>8                        </td> <td>Dogs                      </td> <td>Left-handed </td> <td>On my side            </td> <td>No   </td> <td>nan                                                         </td> <td>Brazil                     </td> <td>Local                    </td> <td>CSU                                   </td> <td>Dying                                 </td> <td>Rock                                                     </td> <td>Green                </td>\n",
       "        </tr>\n",
       "        <tr>\n",
       "            <td>8/31/2023 0:07 </td> <td>Christian Le    </td> <td>3.98 </td> <td>8                        </td> <td>Dogs                      </td> <td>Right-handed</td> <td>On my stomach         </td> <td>Yes  </td> <td>Stray Kids                                                  </td> <td>Shanghai                   </td> <td>Local                    </td> <td>UC                                    </td> <td>Unable to be emotional                </td> <td>Pop                                                      </td> <td>Orange               </td>\n",
       "        </tr>\n",
       "        <tr>\n",
       "            <td>8/31/2023 0:13 </td> <td>Christian Le    </td> <td>3.483</td> <td>7                        </td> <td>nan                       </td> <td>Both        </td> <td>On my back            </td> <td>No   </td> <td>nan                                                         </td> <td>Japan                      </td> <td>Local                    </td> <td>UC                                    </td> <td>Loss of loved ones                    </td> <td>Pop                                                      </td> <td>Blue                 </td>\n",
       "        </tr>\n",
       "        <tr>\n",
       "            <td>8/31/2023 0:28 </td> <td>Christian Le    </td> <td>3.88 </td> <td>6                        </td> <td>nan                       </td> <td>Left-handed </td> <td>On my side            </td> <td>Yes  </td> <td>wtv                                                         </td> <td>Japan                      </td> <td>Local                    </td> <td>UC                                    </td> <td>Abandonment                           </td> <td>Pop                                                      </td> <td>Cerulean             </td>\n",
       "        </tr>\n",
       "        <tr>\n",
       "            <td>8/31/2023 0:31 </td> <td>Christian Le    </td> <td>4.5  </td> <td>7                        </td> <td>Cats, Dogs                </td> <td>Right-handed</td> <td>all of the above      </td> <td>No   </td> <td>nan                                                         </td> <td>Japan                      </td> <td>California (not Bay Area)</td> <td>UC                                    </td> <td>Monkeys                               </td> <td>Pop                                                      </td> <td>Light Cornflower Blue</td>\n",
       "        </tr>\n",
       "        <tr>\n",
       "            <td>8/31/2023 1:09 </td> <td>Christian Le    </td> <td>3.78 </td> <td>8                        </td> <td>Dogs                      </td> <td>Right-handed</td> <td>On my side            </td> <td>Yes  </td> <td>Seventeen                                                   </td> <td>Japan                      </td> <td>Local                    </td> <td>Grad                                  </td> <td>Failure                               </td> <td>Pop                                                      </td> <td>Blue                 </td>\n",
       "        </tr>\n",
       "        <tr>\n",
       "            <td>8/31/2023 9:09 </td> <td>Casey So        </td> <td>3.52 </td> <td>7                        </td> <td>Dogs                      </td> <td>Right-handed</td> <td>On my side            </td> <td>No   </td> <td>nan                                                         </td> <td>Hawaii                     </td> <td>US (not CA)              </td> <td>Out of State                          </td> <td>Failure                               </td> <td>Jazz                                                     </td> <td>Orange               </td>\n",
       "        </tr>\n",
       "        <tr>\n",
       "            <td>8/31/2023 9:17 </td> <td>Casey So        </td> <td>3.73 </td> <td>5                        </td> <td>Dogs                      </td> <td>Right-handed</td> <td>On my side            </td> <td>Yes  </td> <td>BTS                                                         </td> <td>Hawaii                     </td> <td>Local                    </td> <td>CSU                                   </td> <td>Loss of loved ones                    </td> <td>Pop                                                      </td> <td>Blue                 </td>\n",
       "        </tr>\n",
       "        <tr>\n",
       "            <td>8/31/2023 10:30</td> <td>Casey So        </td> <td>4    </td> <td>3                        </td> <td>Dogs                      </td> <td>Right-handed</td> <td>All of the above      </td> <td>Yes  </td> <td>TXT, SVT, Le Sserafim, BTS                                  </td> <td>China                      </td> <td>Local                    </td> <td>USF                                   </td> <td>Abandonment                           </td> <td>Pop                                                      </td> <td>Purple               </td>\n",
       "        </tr>\n",
       "        <tr>\n",
       "            <td>8/31/2023 10:58</td> <td>Christian Le    </td> <td>3    </td> <td>2                        </td> <td>nan                       </td> <td>Right-handed</td> <td>On my stomach         </td> <td>Yes  </td> <td>BTS                                                         </td> <td>Korea                      </td> <td>Local                    </td> <td>UC                                    </td> <td>Spider                                </td> <td>Hip hop                                                  </td> <td>Orange               </td>\n",
       "        </tr>\n",
       "        <tr>\n",
       "            <td>8/31/2023 11:41</td> <td>Edric Lee       </td> <td>4    </td> <td>7                        </td> <td>Cats                      </td> <td>Right-handed</td> <td>On my side            </td> <td>Yes  </td> <td>Twice                                                       </td> <td>Philippines                </td> <td>Local                    </td> <td>UC                                    </td> <td>Childbirth                            </td> <td>Alternative/Indie                                        </td> <td>Lavender             </td>\n",
       "        </tr>\n",
       "        <tr>\n",
       "            <td>8/31/2023 13:56</td> <td>Bea             </td> <td>3.71 </td> <td>4                        </td> <td>nan                       </td> <td>Right-handed</td> <td>All of the above      </td> <td>No   </td> <td>Blackpink                                                   </td> <td>Beach                      </td> <td>California (not Bay Area)</td> <td>UC                                    </td> <td>Being alone                           </td> <td>EDM                                                      </td> <td>Purple               </td>\n",
       "        </tr>\n",
       "        <tr>\n",
       "            <td>8/31/2023 14:10</td> <td>Jessica Chel    </td> <td>3    </td> <td>2                        </td> <td>Dogs                      </td> <td>Right-handed</td> <td>On my back            </td> <td>Yes  </td> <td>Any                                                         </td> <td>Home                       </td> <td>Local                    </td> <td>UC                                    </td> <td>Failing                               </td> <td>EDM                                                      </td> <td>Blue                 </td>\n",
       "        </tr>\n",
       "        <tr>\n",
       "            <td>8/31/2023 16:28</td> <td>Christian Le    </td> <td>3.8  </td> <td>7                        </td> <td>nan                       </td> <td>Right-handed</td> <td>On my back            </td> <td>No   </td> <td>nan                                                         </td> <td>Hawaii                     </td> <td>Local                    </td> <td>CSU                                   </td> <td>Failure                               </td> <td>Hip hop                                                  </td> <td>Periwinkle           </td>\n",
       "        </tr>\n",
       "        <tr>\n",
       "            <td>8/31/2023 16:33</td> <td>Christian Le    </td> <td>4    </td> <td>8                        </td> <td>nan                       </td> <td>Both        </td> <td>On my side            </td> <td>Yes  </td> <td>Red Velvet                                                  </td> <td>Asia, South Korea,Vietnam  </td> <td>Local                    </td> <td>USC                                   </td> <td>Not liking myself                     </td> <td>R&B                                                      </td> <td>Gray                 </td>\n",
       "        </tr>\n",
       "        <tr>\n",
       "            <td>8/31/2023 22:46</td> <td>Casey So        </td> <td>3.8  </td> <td>4                        </td> <td>Dogs                      </td> <td>Right-handed</td> <td>On my side            </td> <td>Yes  </td> <td>Ateez                                                       </td> <td>Beach                      </td> <td>US (not CA)              </td> <td>UC                                    </td> <td>not being happy                       </td> <td>Pop                                                      </td> <td>Green                </td>\n",
       "        </tr>\n",
       "        <tr>\n",
       "            <td>9/5/2023 8:45  </td> <td>Kadae           </td> <td>4    </td> <td>5                        </td> <td>nan                       </td> <td>Right-handed</td> <td>On my side            </td> <td>Yes  </td> <td>BTS                                                         </td> <td>Beach                      </td> <td>out of country           </td> <td>UC                                    </td> <td>Frogs                                 </td> <td>Country                                                  </td> <td>Blue                 </td>\n",
       "        </tr>\n",
       "    </tbody>\n",
       "</table>"
      ],
      "text/plain": [
       "<IPython.core.display.HTML object>"
      ]
     },
     "metadata": {},
     "output_type": "display_data"
    }
   ],
   "source": [
    "math211_survey.show(math211_survey.num_rows)"
   ]
  },
  {
   "cell_type": "code",
   "execution_count": 62,
   "id": "d23bb148",
   "metadata": {},
   "outputs": [
    {
     "data": {
      "text/plain": [
       "int"
      ]
     },
     "execution_count": 62,
     "metadata": {},
     "output_type": "execute_result"
    }
   ],
   "source": [
    "type(math211_survey.num_rows)"
   ]
  },
  {
   "cell_type": "code",
   "execution_count": 63,
   "id": "f019f150",
   "metadata": {},
   "outputs": [
    {
     "name": "stderr",
     "output_type": "stream",
     "text": [
      "<>:1: SyntaxWarning: 'int' object is not subscriptable; perhaps you missed a comma?\n",
      "<>:1: SyntaxWarning: 'int' object is not subscriptable; perhaps you missed a comma?\n",
      "/tmp/ipykernel_71/2032712087.py:1: SyntaxWarning: 'int' object is not subscriptable; perhaps you missed a comma?\n",
      "  1995[0]\n",
      "/tmp/ipykernel_71/2032712087.py:1: SyntaxWarning: 'int' object is not subscriptable; perhaps you missed a comma?\n",
      "  1995[0]\n",
      "/tmp/ipykernel_71/2032712087.py:1: SyntaxWarning: 'int' object is not subscriptable; perhaps you missed a comma?\n",
      "  1995[0]\n"
     ]
    },
    {
     "ename": "TypeError",
     "evalue": "'int' object is not subscriptable",
     "output_type": "error",
     "traceback": [
      "\u001b[0;31m---------------------------------------------------------------------------\u001b[0m",
      "\u001b[0;31mTypeError\u001b[0m                                 Traceback (most recent call last)",
      "Cell \u001b[0;32mIn[63], line 1\u001b[0m\n\u001b[0;32m----> 1\u001b[0m \u001b[38;5;241;43m1995\u001b[39;49m\u001b[43m[\u001b[49m\u001b[38;5;241;43m0\u001b[39;49m\u001b[43m]\u001b[49m\n",
      "\u001b[0;31mTypeError\u001b[0m: 'int' object is not subscriptable"
     ]
    }
   ],
   "source": [
    "1995[0]"
   ]
  },
  {
   "cell_type": "code",
   "execution_count": null,
   "id": "d101ea8a",
   "metadata": {},
   "outputs": [],
   "source": []
  }
 ],
 "metadata": {
  "kernelspec": {
   "display_name": "Python 3 (ipykernel)",
   "language": "python",
   "name": "python3"
  },
  "language_info": {
   "codemirror_mode": {
    "name": "ipython",
    "version": 3
   },
   "file_extension": ".py",
   "mimetype": "text/x-python",
   "name": "python",
   "nbconvert_exporter": "python",
   "pygments_lexer": "ipython3",
   "version": "3.10.11"
  }
 },
 "nbformat": 4,
 "nbformat_minor": 5
}
