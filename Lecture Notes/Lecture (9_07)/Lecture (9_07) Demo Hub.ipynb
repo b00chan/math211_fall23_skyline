{
 "cells": [
  {
   "cell_type": "code",
   "execution_count": null,
   "id": "435f0796",
   "metadata": {},
   "outputs": [],
   "source": [
    "import math \n",
    "from datascience import *"
   ]
  },
  {
   "cell_type": "markdown",
   "id": "ce024c7d",
   "metadata": {},
   "source": [
    "# Numbers"
   ]
  },
  {
   "cell_type": "code",
   "execution_count": null,
   "id": "798a46b6",
   "metadata": {},
   "outputs": [],
   "source": [
    "10/3"
   ]
  },
  {
   "cell_type": "code",
   "execution_count": null,
   "id": "6307aef2",
   "metadata": {},
   "outputs": [],
   "source": [
    "3"
   ]
  },
  {
   "cell_type": "code",
   "execution_count": null,
   "id": "192ac8a3",
   "metadata": {},
   "outputs": [],
   "source": [
    "3.0"
   ]
  },
  {
   "cell_type": "code",
   "execution_count": null,
   "id": "fabe401f",
   "metadata": {},
   "outputs": [],
   "source": [
    "1.329487569238476592348765293456293478650234875029438"
   ]
  },
  {
   "cell_type": "code",
   "execution_count": null,
   "id": "578bc136",
   "metadata": {},
   "outputs": [],
   "source": [
    "123.5**123"
   ]
  },
  {
   "cell_type": "markdown",
   "id": "04a2e53f",
   "metadata": {},
   "source": [
    "# Strings"
   ]
  },
  {
   "cell_type": "code",
   "execution_count": null,
   "id": "9c5654f6",
   "metadata": {},
   "outputs": [],
   "source": [
    "'Here is a string'"
   ]
  },
  {
   "cell_type": "code",
   "execution_count": null,
   "id": "18d6bd2e",
   "metadata": {},
   "outputs": [],
   "source": [
    "\"Here is a string as well\""
   ]
  },
  {
   "cell_type": "code",
   "execution_count": null,
   "id": "2f632947",
   "metadata": {},
   "outputs": [],
   "source": [
    "greeting = 'hi, wassup'"
   ]
  },
  {
   "cell_type": "code",
   "execution_count": null,
   "id": "4e7c2799",
   "metadata": {},
   "outputs": [],
   "source": [
    "greeting"
   ]
  },
  {
   "cell_type": "code",
   "execution_count": null,
   "id": "7ba6705e",
   "metadata": {},
   "outputs": [],
   "source": [
    "greeting +' class'"
   ]
  },
  {
   "cell_type": "code",
   "execution_count": null,
   "id": "52df26fb",
   "metadata": {},
   "outputs": [],
   "source": [
    "x = 'ha'\n",
    "'mua'+x*10"
   ]
  },
  {
   "cell_type": "code",
   "execution_count": null,
   "id": "49c0994d",
   "metadata": {},
   "outputs": [],
   "source": [
    "print('4'+'4')\n",
    "print(4+4)"
   ]
  },
  {
   "cell_type": "code",
   "execution_count": null,
   "id": "2c756c17",
   "metadata": {},
   "outputs": [],
   "source": [
    "'Shakespeare once said, \"Oh no!\"'"
   ]
  },
  {
   "cell_type": "code",
   "execution_count": null,
   "id": "87c265da",
   "metadata": {},
   "outputs": [],
   "source": []
  },
  {
   "cell_type": "code",
   "execution_count": null,
   "id": "ee06260b",
   "metadata": {},
   "outputs": [],
   "source": [
    "string_array = make_array(\"this\",\"that\", \"the other\")\n",
    "string_array"
   ]
  },
  {
   "cell_type": "code",
   "execution_count": null,
   "id": "e406f1f3",
   "metadata": {},
   "outputs": [],
   "source": [
    "joined_by_commas = \",\".join(string_array)\n",
    "joined_by_commas"
   ]
  },
  {
   "cell_type": "code",
   "execution_count": null,
   "id": "1dc88eb8",
   "metadata": {},
   "outputs": [],
   "source": []
  },
  {
   "cell_type": "markdown",
   "id": "b2fbcfe2",
   "metadata": {},
   "source": [
    "# Types"
   ]
  },
  {
   "cell_type": "code",
   "execution_count": null,
   "id": "27600e1f",
   "metadata": {},
   "outputs": [],
   "source": [
    "float(str(5678))"
   ]
  },
  {
   "cell_type": "code",
   "execution_count": null,
   "id": "eb1d3db2",
   "metadata": {},
   "outputs": [],
   "source": [
    "type(greeting)"
   ]
  },
  {
   "cell_type": "code",
   "execution_count": null,
   "id": "47e1b004",
   "metadata": {},
   "outputs": [],
   "source": [
    "abs?"
   ]
  },
  {
   "cell_type": "code",
   "execution_count": null,
   "id": "9767990e",
   "metadata": {},
   "outputs": [],
   "source": []
  },
  {
   "cell_type": "markdown",
   "id": "be866036",
   "metadata": {},
   "source": [
    "# Arrays"
   ]
  },
  {
   "cell_type": "code",
   "execution_count": null,
   "id": "8ab255a8",
   "metadata": {},
   "outputs": [],
   "source": [
    "import numpy as np\n",
    "from datascience import *"
   ]
  },
  {
   "cell_type": "code",
   "execution_count": null,
   "id": "dd6440d9",
   "metadata": {},
   "outputs": [],
   "source": [
    "first_four = make_array(1,2,3,4)\n",
    "first_four"
   ]
  },
  {
   "cell_type": "code",
   "execution_count": null,
   "id": "ff7016ed",
   "metadata": {},
   "outputs": [],
   "source": [
    "np.average(first_four)"
   ]
  },
  {
   "cell_type": "code",
   "execution_count": null,
   "id": "90e853af",
   "metadata": {},
   "outputs": [],
   "source": []
  },
  {
   "cell_type": "markdown",
   "id": "adec044f",
   "metadata": {},
   "source": [
    "# Tables"
   ]
  },
  {
   "cell_type": "code",
   "execution_count": null,
   "id": "97ed2f38",
   "metadata": {},
   "outputs": [],
   "source": [
    "from datascience import *"
   ]
  },
  {
   "cell_type": "code",
   "execution_count": null,
   "id": "4e399fc0",
   "metadata": {},
   "outputs": [],
   "source": [
    "math211_survey = Table.read_table('Math211_FallSurvey.csv')\n",
    "math211_survey"
   ]
  },
  {
   "cell_type": "code",
   "execution_count": null,
   "id": "1a57c7c1",
   "metadata": {},
   "outputs": [],
   "source": [
    "math211_survey.show(15)"
   ]
  },
  {
   "cell_type": "code",
   "execution_count": null,
   "id": "84768b51",
   "metadata": {},
   "outputs": [],
   "source": [
    "math211_survey.num_rows"
   ]
  },
  {
   "cell_type": "code",
   "execution_count": null,
   "id": "f508d758",
   "metadata": {},
   "outputs": [],
   "source": [
    "math211_survey.select()"
   ]
  },
  {
   "cell_type": "code",
   "execution_count": null,
   "id": "013b0cfa",
   "metadata": {},
   "outputs": [],
   "source": [
    "math211_survey.drop()"
   ]
  },
  {
   "cell_type": "code",
   "execution_count": null,
   "id": "f96709e0",
   "metadata": {},
   "outputs": [],
   "source": [
    "math211_survey.sort()"
   ]
  },
  {
   "cell_type": "code",
   "execution_count": null,
   "id": "0c7c74ac",
   "metadata": {},
   "outputs": [],
   "source": [
    " math211_survey.where().sort()"
   ]
  },
  {
   "cell_type": "code",
   "execution_count": null,
   "id": "61f851d2",
   "metadata": {},
   "outputs": [],
   "source": []
  }
 ],
 "metadata": {
  "kernelspec": {
   "display_name": "Python 3 (ipykernel)",
   "language": "python",
   "name": "python3"
  },
  "language_info": {
   "codemirror_mode": {
    "name": "ipython",
    "version": 3
   },
   "file_extension": ".py",
   "mimetype": "text/x-python",
   "name": "python",
   "nbconvert_exporter": "python",
   "pygments_lexer": "ipython3",
   "version": "3.10.11"
  }
 },
 "nbformat": 4,
 "nbformat_minor": 5
}
