{
 "cells": [
  {
   "cell_type": "markdown",
   "id": "a1bb7137",
   "metadata": {},
   "source": [
    "# [Python Reference Link](http://www.data8.org/sp20/python-reference.html)\n",
    "*Run the cell below so that we can set our modules up*"
   ]
  },
  {
   "cell_type": "code",
   "execution_count": null,
   "id": "3541faac",
   "metadata": {},
   "outputs": [],
   "source": [
    "import numpy as np\n",
    "from datascience import *"
   ]
  },
  {
   "cell_type": "code",
   "execution_count": null,
   "id": "52d6109a",
   "metadata": {},
   "outputs": [],
   "source": [
    "# These lines set up graphing capabilities.\n",
    "import matplotlib\n",
    "%matplotlib inline\n",
    "import matplotlib.pyplot as plt\n",
    "plt.style.use('fivethirtyeight')\n",
    "import warnings\n",
    "warnings.simplefilter('ignore', FutureWarning)\n",
    "\n",
    "from ipywidgets import interact, interactive, fixed, interact_manual\n",
    "import ipywidgets as widgets"
   ]
  },
  {
   "cell_type": "markdown",
   "id": "055bde98",
   "metadata": {},
   "source": [
    "# Loading our data\n",
    "\n",
    "### About `spotify` \n",
    "\n",
    "One of the biggest music streaming platform, but who's the biggest streamed here? This dataset which is webscrapped and accumulated all the stream metrics of each artist and their respective songs.<br>\n",
    "\n",
    "Position - Spotify Ranking <br>\n",
    "Artist Name - Artist Name <br>\n",
    "Song Name - Song Name <br>\n",
    "Days - No of days since the release of the song (Updated) <br>\n",
    "Top 10 (xTimes) - No of times inside top 10 <br>\n",
    "Peak Position - Peak position attained <br>\n",
    "Peak Position (xTimes) - No of times Peak position attained <br>\n",
    "Peak Streams - Total no of streams during Peak position <br>\n",
    "**Total Streams **- Total song streams"
   ]
  },
  {
   "cell_type": "code",
   "execution_count": null,
   "id": "ea1972e5",
   "metadata": {},
   "outputs": [],
   "source": [
    "spotify = Table.read_table('Spotify_final_dataset.csv')\n",
    "spotify"
   ]
  },
  {
   "cell_type": "markdown",
   "id": "6e7e483e",
   "metadata": {},
   "source": [
    "# Random Selection\n",
    "\n",
    "## `np.random.choice` will help us produce arrays that are randomly generated\n",
    "Consider the array of food we could get at the Sky Cafe here on campus: "
   ]
  },
  {
   "cell_type": "code",
   "execution_count": null,
   "id": "4c5c031b",
   "metadata": {},
   "outputs": [],
   "source": [
    "cafe_lunch_options = make_array('Salad Bar','Chicken Tendies','Quesadilla','Burger','Just hella fries',\n",
    "                                'Daily Special','Sandwich','Cup Noodle')\n",
    "cafe_lunch_options"
   ]
  },
  {
   "cell_type": "markdown",
   "id": "1c1cccae",
   "metadata": {},
   "source": [
    "#### I forgot to bring my lunch from home today, what am I getting? Run the cell below:"
   ]
  },
  {
   "cell_type": "code",
   "execution_count": null,
   "id": "3ba72984",
   "metadata": {},
   "outputs": [],
   "source": [
    "np.random.choice(cafe_lunch_options)"
   ]
  },
  {
   "cell_type": "markdown",
   "id": "9c4fda0c",
   "metadata": {},
   "source": [
    "#### Allison also forgot hers. She said, \"I don't know, surprise me.\" What are we each getting?"
   ]
  },
  {
   "cell_type": "code",
   "execution_count": null,
   "id": "cf5efaa0",
   "metadata": {},
   "outputs": [],
   "source": []
  },
  {
   "cell_type": "markdown",
   "id": "af43dfc9",
   "metadata": {},
   "source": [
    "## Appending items to arrays and other arrays to arrays"
   ]
  },
  {
   "cell_type": "code",
   "execution_count": null,
   "id": "ac9c668b",
   "metadata": {},
   "outputs": [],
   "source": []
  },
  {
   "cell_type": "code",
   "execution_count": null,
   "id": "db60aa95",
   "metadata": {},
   "outputs": [],
   "source": []
  },
  {
   "cell_type": "markdown",
   "id": "7127bf94",
   "metadata": {},
   "source": [
    "## `tbl.sample` will help produce smaller tables that are randomly generated"
   ]
  },
  {
   "cell_type": "code",
   "execution_count": null,
   "id": "b821eee4",
   "metadata": {},
   "outputs": [],
   "source": []
  },
  {
   "cell_type": "code",
   "execution_count": null,
   "id": "403c69e4",
   "metadata": {},
   "outputs": [],
   "source": []
  },
  {
   "cell_type": "code",
   "execution_count": null,
   "id": "132a2b49",
   "metadata": {},
   "outputs": [],
   "source": []
  },
  {
   "cell_type": "markdown",
   "id": "bb4d4e3c",
   "metadata": {},
   "source": [
    "# For the probability demo"
   ]
  },
  {
   "cell_type": "markdown",
   "id": "2fbe858e",
   "metadata": {},
   "source": [
    "The cell below is a function that I have defined to analyze an input list/array and prints out a statement that reports the element that repeats the most consecutively, and the length of that streak "
   ]
  },
  {
   "cell_type": "code",
   "execution_count": null,
   "id": "9143b6d4",
   "metadata": {},
   "outputs": [],
   "source": [
    "def longest_consecutive(input_list):\n",
    "    \n",
    "    longest_repeat = None         #the element in the list that repeats the most, so far\n",
    "    \n",
    "    current_number = None          #the element that the program is 'currently checking,' always testing\n",
    "                                   # to see if it exceeds the max\n",
    "    \n",
    "    repeated_times = 0             #the number of times the longest_repeat appears consecutively\n",
    "    \n",
    "    current_number_repeat = 0      #the number of times the current_number appears consecutively\n",
    "    \n",
    "    #this for-loop checks the elements in the list, in order, item by item.\n",
    "    for i in input_list:\n",
    "        \n",
    "        if current_number != i:   #if item 'i' in the input_list is different than the current_number we are tracking\n",
    "            current_number = i    # we are tracking a new element, therefore re-assign 'i' to 'current_number'\n",
    "            current_number_repeat = 1  #we are re-starting the count so it starts off as 1.\n",
    "        else:\n",
    "            current_number_repeat += 1   #if item 'i' is the same as the current-number, then it is a succeeding term\n",
    "                                         #in a consecutive sequence, therefore increase the count by one. \n",
    "        \n",
    "        \n",
    "        #if at any point the current_number reaches a higher number of consecutive terms, we have a new leader in \n",
    "        #consecutive terms in the list. Thus, we re-assign our 'current' variables to the variables that hold info\n",
    "        #on the greatest value.\n",
    "        \n",
    "        if current_number_repeat > repeated_times:  \n",
    "            longest_repeat = current_number\n",
    "            repeated_times = current_number_repeat\n",
    "            \n",
    "    print('The longest streak was',longest_repeat,'which showed up',repeated_times,'times')\n",
    "    #return longest_repeat , repeated_times"
   ]
  },
  {
   "cell_type": "markdown",
   "id": "17a92148",
   "metadata": {},
   "source": [
    "The cell below uses the `np.random.choice` method to randomly samples from the array containing the results of a coin flip, to simulate 100 coin flips (originally, however, feel free to tweak this value). We finally use the defined function above (i.e.`longest_consecutive`) to print out the result that resulted the most consecutive times."
   ]
  },
  {
   "cell_type": "code",
   "execution_count": null,
   "id": "173a225d",
   "metadata": {},
   "outputs": [],
   "source": [
    "#feel free to run this cell as many times as you would like. Take note on how large the streaks get based upon the \n",
    "#number of coin flips you are simulating. \n",
    "\n",
    "number_of_flips = 100 \n",
    "#originally 100\n",
    "\n",
    "coin_flip_results = make_array('T','H')\n",
    "\n",
    "hella_coin_flips = np.random.choice( coin_flip_results , number_of_flips )\n",
    "\n",
    "\n",
    "\n",
    "longest_consecutive(hella_coin_flips)"
   ]
  },
  {
   "cell_type": "markdown",
   "id": "8d4a76e2",
   "metadata": {},
   "source": [
    "### Let's count the number of H(eads) in our 100 coin flips\n",
    "and store them in the array below"
   ]
  },
  {
   "cell_type": "code",
   "execution_count": null,
   "id": "a76dd72f",
   "metadata": {},
   "outputs": [],
   "source": [
    "number_of_heads = make_array()\n",
    "..."
   ]
  },
  {
   "cell_type": "code",
   "execution_count": null,
   "id": "9e07ca82",
   "metadata": {},
   "outputs": [],
   "source": [
    "heads_table = Table().with_column('# Heads',number_of_heads)\n",
    "heads_table.show()\n",
    "heads_table.hist('# Heads',bins = np.arange(0,100,1))"
   ]
  },
  {
   "cell_type": "markdown",
   "id": "19fa3b64",
   "metadata": {},
   "source": [
    "# Practice with `sample_proportions`"
   ]
  },
  {
   "cell_type": "code",
   "execution_count": null,
   "id": "1fbdef07",
   "metadata": {},
   "outputs": [],
   "source": [
    "# sample_proportions(sample_size, model_proportions)\n",
    "# sample_size will be an integer\n",
    "# model_proportions will be an array of probabilities\n",
    "\n",
    "sample_proportions(... , ...)"
   ]
  },
  {
   "cell_type": "code",
   "execution_count": null,
   "id": "328d36b1",
   "metadata": {},
   "outputs": [],
   "source": []
  },
  {
   "cell_type": "code",
   "execution_count": null,
   "id": "7c256001",
   "metadata": {},
   "outputs": [],
   "source": []
  },
  {
   "cell_type": "code",
   "execution_count": null,
   "id": "8a55aef6",
   "metadata": {},
   "outputs": [],
   "source": []
  }
 ],
 "metadata": {
  "kernelspec": {
   "display_name": "Python 3 (ipykernel)",
   "language": "python",
   "name": "python3"
  },
  "language_info": {
   "codemirror_mode": {
    "name": "ipython",
    "version": 3
   },
   "file_extension": ".py",
   "mimetype": "text/x-python",
   "name": "python",
   "nbconvert_exporter": "python",
   "pygments_lexer": "ipython3",
   "version": "3.10.11"
  }
 },
 "nbformat": 4,
 "nbformat_minor": 5
}
