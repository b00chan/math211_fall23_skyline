{
 "cells": [
  {
   "cell_type": "markdown",
   "id": "a1bb7137",
   "metadata": {},
   "source": [
    "# [Python Reference Link](http://www.data8.org/sp20/python-reference.html)\n",
    "*Run the cell below so that we can set our modules up*"
   ]
  },
  {
   "cell_type": "code",
   "execution_count": 49,
   "id": "3541faac",
   "metadata": {},
   "outputs": [],
   "source": [
    "import numpy as np\n",
    "from datascience import *"
   ]
  },
  {
   "cell_type": "code",
   "execution_count": 50,
   "id": "52d6109a",
   "metadata": {},
   "outputs": [],
   "source": [
    "# These lines set up graphing capabilities.\n",
    "import matplotlib\n",
    "%matplotlib inline\n",
    "import matplotlib.pyplot as plt\n",
    "plt.style.use('fivethirtyeight')\n",
    "import warnings\n",
    "warnings.simplefilter('ignore', FutureWarning)\n",
    "\n",
    "from ipywidgets import interact, interactive, fixed, interact_manual\n",
    "import ipywidgets as widgets"
   ]
  },
  {
   "cell_type": "markdown",
   "id": "055bde98",
   "metadata": {},
   "source": [
    "# Loading our data\n",
    "\n",
    "### About `spotify` \n",
    "\n",
    "One of the biggest music streaming platform, but who's the biggest streamed here? This dataset which is webscrapped and accumulated all the stream metrics of each artist and their respective songs.<br>\n",
    "\n",
    "Position - Spotify Ranking <br>\n",
    "Artist Name - Artist Name <br>\n",
    "Song Name - Song Name <br>\n",
    "Days - No of days since the release of the song (Updated) <br>\n",
    "Top 10 (xTimes) - No of times inside top 10 <br>\n",
    "Peak Position - Peak position attained <br>\n",
    "Peak Position (xTimes) - No of times Peak position attained <br>\n",
    "Peak Streams - Total no of streams during Peak position <br>\n",
    "**Total Streams **- Total song streams"
   ]
  },
  {
   "cell_type": "code",
   "execution_count": 12,
   "id": "ea1972e5",
   "metadata": {},
   "outputs": [
    {
     "data": {
      "text/html": [
       "<table border=\"1\" class=\"dataframe\">\n",
       "    <thead>\n",
       "        <tr>\n",
       "            <th>Position</th> <th>Artist Name</th> <th>Song Name</th> <th>Days</th> <th>Top 10 (xTimes)</th> <th>Peak Position</th> <th>Peak Position (xTimes)</th> <th>Peak Streams</th> <th>Total Streams</th>\n",
       "        </tr>\n",
       "    </thead>\n",
       "    <tbody>\n",
       "        <tr>\n",
       "            <td>1       </td> <td>Post Malone  </td> <td>Sunflower  SpiderMan: Into the SpiderVerse</td> <td>1506</td> <td>302            </td> <td>1            </td> <td>(x29)                 </td> <td>2118242     </td> <td>883369738    </td>\n",
       "        </tr>\n",
       "        <tr>\n",
       "            <td>2       </td> <td>Juice WRLD   </td> <td>Lucid Dreams                              </td> <td>1673</td> <td>178            </td> <td>1            </td> <td>(x20)                 </td> <td>2127668     </td> <td>864832399    </td>\n",
       "        </tr>\n",
       "        <tr>\n",
       "            <td>3       </td> <td>Lil Uzi Vert </td> <td>XO TOUR Llif3                             </td> <td>1853</td> <td>212            </td> <td>1            </td> <td>(x4)                  </td> <td>1660502     </td> <td>781153024    </td>\n",
       "        </tr>\n",
       "        <tr>\n",
       "            <td>4       </td> <td>J. Cole      </td> <td>No Role Modelz                            </td> <td>2547</td> <td>6              </td> <td>7            </td> <td>0                     </td> <td>659366      </td> <td>734857487    </td>\n",
       "        </tr>\n",
       "        <tr>\n",
       "            <td>5       </td> <td>Post Malone  </td> <td>rockstar                                  </td> <td>1223</td> <td>186            </td> <td>1            </td> <td>(x124)                </td> <td>2905678     </td> <td>718865961    </td>\n",
       "        </tr>\n",
       "        <tr>\n",
       "            <td>6       </td> <td>Travis Scott </td> <td>goosebumps                                </td> <td>1995</td> <td>4              </td> <td>8            </td> <td>0                     </td> <td>977275      </td> <td>672972704    </td>\n",
       "        </tr>\n",
       "        <tr>\n",
       "            <td>7       </td> <td>The Weeknd   </td> <td>Blinding Lights                           </td> <td>1100</td> <td>233            </td> <td>1            </td> <td>(x11)                 </td> <td>2355059     </td> <td>644287953    </td>\n",
       "        </tr>\n",
       "        <tr>\n",
       "            <td>8       </td> <td>XXXTENTACION </td> <td>Jocelyn Flores                            </td> <td>1673</td> <td>44             </td> <td>2            </td> <td>(x1)                  </td> <td>3175206     </td> <td>624457164    </td>\n",
       "        </tr>\n",
       "        <tr>\n",
       "            <td>9       </td> <td>XXXTENTACION </td> <td>SAD!                                      </td> <td>1217</td> <td>133            </td> <td>1            </td> <td>(x6)                  </td> <td>4437612     </td> <td>619879245    </td>\n",
       "        </tr>\n",
       "        <tr>\n",
       "            <td>10      </td> <td>Juice WRLD   </td> <td>All Girls Are The Same                    </td> <td>1681</td> <td>2              </td> <td>5            </td> <td>0                     </td> <td>1239152     </td> <td>613872384    </td>\n",
       "        </tr>\n",
       "    </tbody>\n",
       "</table>\n",
       "<p>... (11074 rows omitted)</p>"
      ],
      "text/plain": [
       "Position | Artist Name   | Song Name                                  | Days | Top 10 (xTimes) | Peak Position | Peak Position (xTimes) | Peak Streams | Total Streams\n",
       "1        | Post Malone   | Sunflower  SpiderMan: Into the SpiderVerse | 1506 | 302             | 1             | (x29)                  | 2118242      | 883369738\n",
       "2        | Juice WRLD    | Lucid Dreams                               | 1673 | 178             | 1             | (x20)                  | 2127668      | 864832399\n",
       "3        | Lil Uzi Vert  | XO TOUR Llif3                              | 1853 | 212             | 1             | (x4)                   | 1660502      | 781153024\n",
       "4        | J. Cole       | No Role Modelz                             | 2547 | 6               | 7             | 0                      | 659366       | 734857487\n",
       "5        | Post Malone   | rockstar                                   | 1223 | 186             | 1             | (x124)                 | 2905678      | 718865961\n",
       "6        | Travis Scott  | goosebumps                                 | 1995 | 4               | 8             | 0                      | 977275       | 672972704\n",
       "7        | The Weeknd    | Blinding Lights                            | 1100 | 233             | 1             | (x11)                  | 2355059      | 644287953\n",
       "8        | XXXTENTACION  | Jocelyn Flores                             | 1673 | 44              | 2             | (x1)                   | 3175206      | 624457164\n",
       "9        | XXXTENTACION  | SAD!                                       | 1217 | 133             | 1             | (x6)                   | 4437612      | 619879245\n",
       "10       | Juice WRLD    | All Girls Are The Same                     | 1681 | 2               | 5             | 0                      | 1239152      | 613872384\n",
       "... (11074 rows omitted)"
      ]
     },
     "execution_count": 12,
     "metadata": {},
     "output_type": "execute_result"
    }
   ],
   "source": [
    "spotify = Table.read_table('Spotify_final_dataset.csv')\n",
    "spotify"
   ]
  },
  {
   "cell_type": "markdown",
   "id": "6e7e483e",
   "metadata": {},
   "source": [
    "# Random Selection\n",
    "\n",
    "## `np.random.choice` will help us produce arrays that are randomly generated\n",
    "Consider the array of food we could get at the Sky Cafe here on campus: "
   ]
  },
  {
   "cell_type": "code",
   "execution_count": 13,
   "id": "4c5c031b",
   "metadata": {},
   "outputs": [
    {
     "data": {
      "text/plain": [
       "array(['Salad Bar', 'Chicken Tendies', 'Quesadilla', 'Burger',\n",
       "       'Just hella fries', 'Daily Special', 'Sandwich', 'Cup Noodle'],\n",
       "      dtype='<U16')"
      ]
     },
     "execution_count": 13,
     "metadata": {},
     "output_type": "execute_result"
    }
   ],
   "source": [
    "cafe_lunch_options = make_array('Salad Bar','Chicken Tendies','Quesadilla','Burger','Just hella fries',\n",
    "                                'Daily Special','Sandwich','Cup Noodle')\n",
    "cafe_lunch_options"
   ]
  },
  {
   "cell_type": "markdown",
   "id": "1c1cccae",
   "metadata": {},
   "source": [
    "#### I forgot to bring my lunch from home today, what am I getting? Run the cell below:"
   ]
  },
  {
   "cell_type": "code",
   "execution_count": 15,
   "id": "3ba72984",
   "metadata": {},
   "outputs": [
    {
     "data": {
      "text/plain": [
       "'Salad Bar'"
      ]
     },
     "execution_count": 15,
     "metadata": {},
     "output_type": "execute_result"
    }
   ],
   "source": [
    "np.random.choice(cafe_lunch_options)"
   ]
  },
  {
   "cell_type": "markdown",
   "id": "9c4fda0c",
   "metadata": {},
   "source": [
    "#### Allison also forgot hers. She said, \"I don't know, surprise me.\" What are we each getting?"
   ]
  },
  {
   "cell_type": "code",
   "execution_count": 16,
   "id": "cf5efaa0",
   "metadata": {
    "scrolled": true
   },
   "outputs": [
    {
     "data": {
      "text/plain": [
       "array(['Quesadilla', 'Chicken Tendies'],\n",
       "      dtype='<U16')"
      ]
     },
     "execution_count": 16,
     "metadata": {},
     "output_type": "execute_result"
    }
   ],
   "source": [
    "np.random.choice(cafe_lunch_options,2)"
   ]
  },
  {
   "cell_type": "code",
   "execution_count": 18,
   "id": "b54ecd83",
   "metadata": {},
   "outputs": [
    {
     "name": "stdout",
     "output_type": "stream",
     "text": [
      "Monday Daily Special\n",
      "Tuesday Quesadilla\n",
      "Wednesday Salad Bar\n",
      "Thursday Daily Special\n",
      "Friday Quesadilla\n"
     ]
    }
   ],
   "source": [
    "weekday= make_array('Monday','Tuesday','Wednesday','Thursday','Friday')\n",
    "for day in weekday:\n",
    "    im_eating = np.random.choice(cafe_lunch_options)\n",
    "    print(day,im_eating)"
   ]
  },
  {
   "cell_type": "markdown",
   "id": "af43dfc9",
   "metadata": {},
   "source": [
    "## Appending items to arrays and other arrays to arrays `np.append`"
   ]
  },
  {
   "cell_type": "code",
   "execution_count": 19,
   "id": "ac9c668b",
   "metadata": {},
   "outputs": [
    {
     "data": {
      "text/plain": [
       "array(['Monday', 'Tuesday', 'Wednesday', 'Thursday', 'Friday'],\n",
       "      dtype='<U9')"
      ]
     },
     "execution_count": 19,
     "metadata": {},
     "output_type": "execute_result"
    }
   ],
   "source": [
    "weekday"
   ]
  },
  {
   "cell_type": "code",
   "execution_count": 21,
   "id": "db60aa95",
   "metadata": {},
   "outputs": [
    {
     "data": {
      "text/plain": [
       "array(['Monday', 'Tuesday', 'Wednesday', 'Thursday', 'Friday', 'Saturday'],\n",
       "      dtype='<U9')"
      ]
     },
     "execution_count": 21,
     "metadata": {},
     "output_type": "execute_result"
    }
   ],
   "source": [
    "full_week = np.append(weekday,'Saturday')\n",
    "full_week"
   ]
  },
  {
   "cell_type": "code",
   "execution_count": 22,
   "id": "0d44e265",
   "metadata": {},
   "outputs": [
    {
     "name": "stdout",
     "output_type": "stream",
     "text": [
      "Monday Chicken Tendies\n",
      "Tuesday Quesadilla\n",
      "Wednesday Sandwich\n",
      "Thursday Just hella fries\n",
      "Friday Cup Noodle\n",
      "Saturday Cup Noodle\n"
     ]
    }
   ],
   "source": [
    "\n",
    "for day in full_week:\n",
    "    im_eating = np.random.choice(cafe_lunch_options)\n",
    "    print(day,im_eating)"
   ]
  },
  {
   "cell_type": "code",
   "execution_count": 26,
   "id": "9c956f9a",
   "metadata": {},
   "outputs": [
    {
     "data": {
      "text/plain": [
       "array(['Saturday', 'Sunday', 'Monday', 'Tuesday', 'Wednesday', 'Thursday',\n",
       "       'Friday'],\n",
       "      dtype='<U9')"
      ]
     },
     "execution_count": 26,
     "metadata": {},
     "output_type": "execute_result"
    }
   ],
   "source": [
    "weekend = make_array('Saturday','Sunday')\n",
    "weekend\n",
    "\n",
    "full_week = np.append(weekend,weekday)\n",
    "full_week"
   ]
  },
  {
   "cell_type": "markdown",
   "id": "7127bf94",
   "metadata": {},
   "source": [
    "## `tbl.sample` will help produce smaller tables that are randomly generated"
   ]
  },
  {
   "cell_type": "code",
   "execution_count": 27,
   "id": "b821eee4",
   "metadata": {},
   "outputs": [
    {
     "data": {
      "text/html": [
       "<table border=\"1\" class=\"dataframe\">\n",
       "    <thead>\n",
       "        <tr>\n",
       "            <th>Position</th> <th>Artist Name</th> <th>Song Name</th> <th>Days</th> <th>Top 10 (xTimes)</th> <th>Peak Position</th> <th>Peak Position (xTimes)</th> <th>Peak Streams</th> <th>Total Streams</th>\n",
       "        </tr>\n",
       "    </thead>\n",
       "    <tbody>\n",
       "        <tr>\n",
       "            <td>1       </td> <td>Post Malone  </td> <td>Sunflower  SpiderMan: Into the SpiderVerse</td> <td>1506</td> <td>302            </td> <td>1            </td> <td>(x29)                 </td> <td>2118242     </td> <td>883369738    </td>\n",
       "        </tr>\n",
       "        <tr>\n",
       "            <td>2       </td> <td>Juice WRLD   </td> <td>Lucid Dreams                              </td> <td>1673</td> <td>178            </td> <td>1            </td> <td>(x20)                 </td> <td>2127668     </td> <td>864832399    </td>\n",
       "        </tr>\n",
       "        <tr>\n",
       "            <td>3       </td> <td>Lil Uzi Vert </td> <td>XO TOUR Llif3                             </td> <td>1853</td> <td>212            </td> <td>1            </td> <td>(x4)                  </td> <td>1660502     </td> <td>781153024    </td>\n",
       "        </tr>\n",
       "        <tr>\n",
       "            <td>4       </td> <td>J. Cole      </td> <td>No Role Modelz                            </td> <td>2547</td> <td>6              </td> <td>7            </td> <td>0                     </td> <td>659366      </td> <td>734857487    </td>\n",
       "        </tr>\n",
       "        <tr>\n",
       "            <td>5       </td> <td>Post Malone  </td> <td>rockstar                                  </td> <td>1223</td> <td>186            </td> <td>1            </td> <td>(x124)                </td> <td>2905678     </td> <td>718865961    </td>\n",
       "        </tr>\n",
       "        <tr>\n",
       "            <td>6       </td> <td>Travis Scott </td> <td>goosebumps                                </td> <td>1995</td> <td>4              </td> <td>8            </td> <td>0                     </td> <td>977275      </td> <td>672972704    </td>\n",
       "        </tr>\n",
       "        <tr>\n",
       "            <td>7       </td> <td>The Weeknd   </td> <td>Blinding Lights                           </td> <td>1100</td> <td>233            </td> <td>1            </td> <td>(x11)                 </td> <td>2355059     </td> <td>644287953    </td>\n",
       "        </tr>\n",
       "        <tr>\n",
       "            <td>8       </td> <td>XXXTENTACION </td> <td>Jocelyn Flores                            </td> <td>1673</td> <td>44             </td> <td>2            </td> <td>(x1)                  </td> <td>3175206     </td> <td>624457164    </td>\n",
       "        </tr>\n",
       "        <tr>\n",
       "            <td>9       </td> <td>XXXTENTACION </td> <td>SAD!                                      </td> <td>1217</td> <td>133            </td> <td>1            </td> <td>(x6)                  </td> <td>4437612     </td> <td>619879245    </td>\n",
       "        </tr>\n",
       "        <tr>\n",
       "            <td>10      </td> <td>Juice WRLD   </td> <td>All Girls Are The Same                    </td> <td>1681</td> <td>2              </td> <td>5            </td> <td>0                     </td> <td>1239152     </td> <td>613872384    </td>\n",
       "        </tr>\n",
       "    </tbody>\n",
       "</table>\n",
       "<p>... (11074 rows omitted)</p>"
      ],
      "text/plain": [
       "Position | Artist Name   | Song Name                                  | Days | Top 10 (xTimes) | Peak Position | Peak Position (xTimes) | Peak Streams | Total Streams\n",
       "1        | Post Malone   | Sunflower  SpiderMan: Into the SpiderVerse | 1506 | 302             | 1             | (x29)                  | 2118242      | 883369738\n",
       "2        | Juice WRLD    | Lucid Dreams                               | 1673 | 178             | 1             | (x20)                  | 2127668      | 864832399\n",
       "3        | Lil Uzi Vert  | XO TOUR Llif3                              | 1853 | 212             | 1             | (x4)                   | 1660502      | 781153024\n",
       "4        | J. Cole       | No Role Modelz                             | 2547 | 6               | 7             | 0                      | 659366       | 734857487\n",
       "5        | Post Malone   | rockstar                                   | 1223 | 186             | 1             | (x124)                 | 2905678      | 718865961\n",
       "6        | Travis Scott  | goosebumps                                 | 1995 | 4               | 8             | 0                      | 977275       | 672972704\n",
       "7        | The Weeknd    | Blinding Lights                            | 1100 | 233             | 1             | (x11)                  | 2355059      | 644287953\n",
       "8        | XXXTENTACION  | Jocelyn Flores                             | 1673 | 44              | 2             | (x1)                   | 3175206      | 624457164\n",
       "9        | XXXTENTACION  | SAD!                                       | 1217 | 133             | 1             | (x6)                   | 4437612      | 619879245\n",
       "10       | Juice WRLD    | All Girls Are The Same                     | 1681 | 2               | 5             | 0                      | 1239152      | 613872384\n",
       "... (11074 rows omitted)"
      ]
     },
     "execution_count": 27,
     "metadata": {},
     "output_type": "execute_result"
    }
   ],
   "source": [
    "spotify"
   ]
  },
  {
   "cell_type": "code",
   "execution_count": 28,
   "id": "403c69e4",
   "metadata": {},
   "outputs": [
    {
     "data": {
      "text/html": [
       "<table border=\"1\" class=\"dataframe\">\n",
       "    <thead>\n",
       "        <tr>\n",
       "            <th>Position</th> <th>Artist Name</th> <th>Song Name</th> <th>Days</th> <th>Top 10 (xTimes)</th> <th>Peak Position</th> <th>Peak Position (xTimes)</th> <th>Peak Streams</th> <th>Total Streams</th>\n",
       "        </tr>\n",
       "    </thead>\n",
       "    <tbody>\n",
       "        <tr>\n",
       "            <td>5378    </td> <td>A$AP Rocky    </td> <td>Jukebox Joints                       </td> <td>13  </td> <td>0              </td> <td>32           </td> <td>0                     </td> <td>273521      </td> <td>1859143      </td>\n",
       "        </tr>\n",
       "        <tr>\n",
       "            <td>96      </td> <td>Travis Scott  </td> <td>BUTTERFLY EFFECT                     </td> <td>682 </td> <td>18             </td> <td>9            </td> <td>0                     </td> <td>1568959     </td> <td>276763296    </td>\n",
       "        </tr>\n",
       "        <tr>\n",
       "            <td>3335    </td> <td>Mac Miller    </td> <td>Come Back to Earth                   </td> <td>20  </td> <td>0              </td> <td>15           </td> <td>0                     </td> <td>864462      </td> <td>7064707      </td>\n",
       "        </tr>\n",
       "        <tr>\n",
       "            <td>6633    </td> <td>Van Halen     </td> <td>Runnin' with the Devil  2015 Remaster</td> <td>3   </td> <td>0              </td> <td>38           </td> <td>0                     </td> <td>451783      </td> <td>960529       </td>\n",
       "        </tr>\n",
       "        <tr>\n",
       "            <td>4774    </td> <td>Lil Uzi Vert  </td> <td>Go Off                               </td> <td>13  </td> <td>0              </td> <td>102          </td> <td>0                     </td> <td>251627      </td> <td>2562080      </td>\n",
       "        </tr>\n",
       "        <tr>\n",
       "            <td>1846    </td> <td>Billie Eilish </td> <td>listen before i go                   </td> <td>60  </td> <td>0              </td> <td>14           </td> <td>0                     </td> <td>1198677     </td> <td>22897347     </td>\n",
       "        </tr>\n",
       "        <tr>\n",
       "            <td>8367    </td> <td>Halsey        </td> <td>100 Letters                          </td> <td>2   </td> <td>0              </td> <td>169          </td> <td>0                     </td> <td>195434      </td> <td>365866       </td>\n",
       "        </tr>\n",
       "        <tr>\n",
       "            <td>5274    </td> <td>Eminem        </td> <td>Tragic Endings                       </td> <td>6   </td> <td>0              </td> <td>50           </td> <td>0                     </td> <td>509789      </td> <td>1963001      </td>\n",
       "        </tr>\n",
       "        <tr>\n",
       "            <td>5424    </td> <td>Joji          </td> <td>Mr. Hollywood                        </td> <td>6   </td> <td>0              </td> <td>59           </td> <td>0                     </td> <td>447638      </td> <td>1825082      </td>\n",
       "        </tr>\n",
       "        <tr>\n",
       "            <td>2941    </td> <td>Bruno Mars    </td> <td>Locked Out Of Heaven                 </td> <td>143 </td> <td>0              </td> <td>105          </td> <td>0                     </td> <td>202286      </td> <td>9535009      </td>\n",
       "        </tr>\n",
       "    </tbody>\n",
       "</table>\n",
       "<p>... (40 rows omitted)</p>"
      ],
      "text/plain": [
       "Position | Artist Name    | Song Name                             | Days | Top 10 (xTimes) | Peak Position | Peak Position (xTimes) | Peak Streams | Total Streams\n",
       "5378     | A$AP Rocky     | Jukebox Joints                        | 13   | 0               | 32            | 0                      | 273521       | 1859143\n",
       "96       | Travis Scott   | BUTTERFLY EFFECT                      | 682  | 18              | 9             | 0                      | 1568959      | 276763296\n",
       "3335     | Mac Miller     | Come Back to Earth                    | 20   | 0               | 15            | 0                      | 864462       | 7064707\n",
       "6633     | Van Halen      | Runnin' with the Devil  2015 Remaster | 3    | 0               | 38            | 0                      | 451783       | 960529\n",
       "4774     | Lil Uzi Vert   | Go Off                                | 13   | 0               | 102           | 0                      | 251627       | 2562080\n",
       "1846     | Billie Eilish  | listen before i go                    | 60   | 0               | 14            | 0                      | 1198677      | 22897347\n",
       "8367     | Halsey         | 100 Letters                           | 2    | 0               | 169           | 0                      | 195434       | 365866\n",
       "5274     | Eminem         | Tragic Endings                        | 6    | 0               | 50            | 0                      | 509789       | 1963001\n",
       "5424     | Joji           | Mr. Hollywood                         | 6    | 0               | 59            | 0                      | 447638       | 1825082\n",
       "2941     | Bruno Mars     | Locked Out Of Heaven                  | 143  | 0               | 105           | 0                      | 202286       | 9535009\n",
       "... (40 rows omitted)"
      ]
     },
     "execution_count": 28,
     "metadata": {},
     "output_type": "execute_result"
    }
   ],
   "source": [
    "spotify.sample(50)"
   ]
  },
  {
   "cell_type": "code",
   "execution_count": 33,
   "id": "132a2b49",
   "metadata": {},
   "outputs": [
    {
     "data": {
      "text/html": [
       "<table border=\"1\" class=\"dataframe\">\n",
       "    <thead>\n",
       "        <tr>\n",
       "            <th>Position</th> <th>Artist Name</th> <th>Song Name</th> <th>Days</th> <th>Top 10 (xTimes)</th> <th>Peak Position</th> <th>Peak Position (xTimes)</th> <th>Peak Streams</th> <th>Total Streams</th>\n",
       "        </tr>\n",
       "    </thead>\n",
       "    <tbody>\n",
       "        <tr>\n",
       "            <td>7663    </td> <td>Lorde                      </td> <td>Big Star                                          </td> <td>2   </td> <td>0              </td> <td>88           </td> <td>0                     </td> <td>358631      </td> <td>576062       </td>\n",
       "        </tr>\n",
       "        <tr>\n",
       "            <td>5003    </td> <td>Bad Bunny                  </td> <td>ANTES QUE SE ACABE                                </td> <td>6   </td> <td>0              </td> <td>29           </td> <td>0                     </td> <td>619614      </td> <td>2283787      </td>\n",
       "        </tr>\n",
       "        <tr>\n",
       "            <td>7295    </td> <td>Rod Wave                   </td> <td>Never Get Over Me                                 </td> <td>2   </td> <td>0              </td> <td>46           </td> <td>0                     </td> <td>419763      </td> <td>668922       </td>\n",
       "        </tr>\n",
       "        <tr>\n",
       "            <td>8856    </td> <td>Mitski                     </td> <td>Everyone                                          </td> <td>1   </td> <td>0              </td> <td>103          </td> <td>0                     </td> <td>301716      </td> <td>301716       </td>\n",
       "        </tr>\n",
       "        <tr>\n",
       "            <td>6115    </td> <td>Ella Fitzgerald            </td> <td>I've Got My Love To Keep Me Warm                  </td> <td>3   </td> <td>0              </td> <td>114          </td> <td>0                     </td> <td>488570      </td> <td>1274347      </td>\n",
       "        </tr>\n",
       "        <tr>\n",
       "            <td>6205    </td> <td>YoungBoy Never Broke Again </td> <td>Slime Mentality                                   </td> <td>5   </td> <td>0              </td> <td>125          </td> <td>0                     </td> <td>299060      </td> <td>1208696      </td>\n",
       "        </tr>\n",
       "        <tr>\n",
       "            <td>9138    </td> <td>Rex Orange County          </td> <td>Always                                            </td> <td>1   </td> <td>0              </td> <td>152          </td> <td>0                     </td> <td>280586      </td> <td>280586       </td>\n",
       "        </tr>\n",
       "        <tr>\n",
       "            <td>11012   </td> <td>Years & Years              </td> <td>Desire                                            </td> <td>1   </td> <td>0              </td> <td>189          </td> <td>0                     </td> <td>69575       </td> <td>69575        </td>\n",
       "        </tr>\n",
       "        <tr>\n",
       "            <td>3508    </td> <td>HARDY                      </td> <td>One Beer (HARDY feat. Lauren Alaina, Devin Dawson)</td> <td>29  </td> <td>0              </td> <td>143          </td> <td>0                     </td> <td>263965      </td> <td>6283970      </td>\n",
       "        </tr>\n",
       "        <tr>\n",
       "            <td>1002    </td> <td>Taylor Swift               </td> <td>the 1                                             </td> <td>103 </td> <td>14             </td> <td>1            </td> <td>(x1)                  </td> <td>4175284     </td> <td>51543535     </td>\n",
       "        </tr>\n",
       "    </tbody>\n",
       "</table>\n",
       "<p>... (11074 rows omitted)</p>"
      ],
      "text/plain": [
       "Position | Artist Name                 | Song Name                                          | Days | Top 10 (xTimes) | Peak Position | Peak Position (xTimes) | Peak Streams | Total Streams\n",
       "7663     | Lorde                       | Big Star                                           | 2    | 0               | 88            | 0                      | 358631       | 576062\n",
       "5003     | Bad Bunny                   | ANTES QUE SE ACABE                                 | 6    | 0               | 29            | 0                      | 619614       | 2283787\n",
       "7295     | Rod Wave                    | Never Get Over Me                                  | 2    | 0               | 46            | 0                      | 419763       | 668922\n",
       "8856     | Mitski                      | Everyone                                           | 1    | 0               | 103           | 0                      | 301716       | 301716\n",
       "6115     | Ella Fitzgerald             | I've Got My Love To Keep Me Warm                   | 3    | 0               | 114           | 0                      | 488570       | 1274347\n",
       "6205     | YoungBoy Never Broke Again  | Slime Mentality                                    | 5    | 0               | 125           | 0                      | 299060       | 1208696\n",
       "9138     | Rex Orange County           | Always                                             | 1    | 0               | 152           | 0                      | 280586       | 280586\n",
       "11012    | Years & Years               | Desire                                             | 1    | 0               | 189           | 0                      | 69575        | 69575\n",
       "3508     | HARDY                       | One Beer (HARDY feat. Lauren Alaina, Devin Dawson) | 29   | 0               | 143           | 0                      | 263965       | 6283970\n",
       "1002     | Taylor Swift                | the 1                                              | 103  | 14              | 1             | (x1)                   | 4175284      | 51543535\n",
       "... (11074 rows omitted)"
      ]
     },
     "execution_count": 33,
     "metadata": {},
     "output_type": "execute_result"
    }
   ],
   "source": [
    "spotify.num_rows\n",
    "spotify.sample(spotify.num_rows, with_replacement = False)"
   ]
  },
  {
   "cell_type": "markdown",
   "id": "bb4d4e3c",
   "metadata": {},
   "source": [
    "# For the probability demo"
   ]
  },
  {
   "cell_type": "markdown",
   "id": "2fbe858e",
   "metadata": {},
   "source": [
    "The cell below is a function that I have defined to analyze an input list/array and prints out a statement that reports the element that repeats the most consecutively, and the length of that streak "
   ]
  },
  {
   "cell_type": "code",
   "execution_count": 3,
   "id": "9143b6d4",
   "metadata": {},
   "outputs": [],
   "source": [
    "def longest_consecutive(input_list):\n",
    "    \n",
    "    longest_repeat = None         #the element in the list that repeats the most, so far\n",
    "    \n",
    "    current_number = None          #the element that the program is 'currently checking,' always testing\n",
    "                                   # to see if it exceeds the max\n",
    "    \n",
    "    repeated_times = 0             #the number of times the longest_repeat appears consecutively\n",
    "    \n",
    "    current_number_repeat = 0      #the number of times the current_number appears consecutively\n",
    "    \n",
    "    #this for-loop checks the elements in the list, in order, item by item.\n",
    "    for i in input_list:\n",
    "        \n",
    "        if current_number != i:   #if item 'i' in the input_list is different than the current_number we are tracking\n",
    "            current_number = i    # we are tracking a new element, therefore re-assign 'i' to 'current_number'\n",
    "            current_number_repeat = 1  #we are re-starting the count so it starts off as 1.\n",
    "        else:\n",
    "            current_number_repeat += 1   #if item 'i' is the same as the current-number, then it is a succeeding term\n",
    "                                         #in a consecutive sequence, therefore increase the count by one. \n",
    "        \n",
    "        \n",
    "        #if at any point the current_number reaches a higher number of consecutive terms, we have a new leader in \n",
    "        #consecutive terms in the list. Thus, we re-assign our 'current' variables to the variables that hold info\n",
    "        #on the greatest value.\n",
    "        \n",
    "        if current_number_repeat > repeated_times:  \n",
    "            longest_repeat = current_number\n",
    "            repeated_times = current_number_repeat\n",
    "            \n",
    "    print('The longest streak was',longest_repeat,'which showed up',repeated_times,'times')\n",
    "    #return longest_repeat , repeated_times"
   ]
  },
  {
   "cell_type": "markdown",
   "id": "17a92148",
   "metadata": {},
   "source": [
    "The cell below uses the `np.random.choice` method to randomly samples from the array containing the results of a coin flip, to simulate 100 coin flips (originally, however, feel free to tweak this value). We finally use the defined function above (i.e.`longest_consecutive`) to print out the result that resulted the most consecutive times."
   ]
  },
  {
   "cell_type": "code",
   "execution_count": 6,
   "id": "173a225d",
   "metadata": {},
   "outputs": [
    {
     "name": "stdout",
     "output_type": "stream",
     "text": [
      "['T' 'T' 'H' ..., 'T' 'H' 'H']\n",
      "The longest streak was H which showed up 12 times\n"
     ]
    }
   ],
   "source": [
    "#feel free to run this cell as many times as you would like. Take note on how large the streaks get based upon the \n",
    "#number of coin flips you are simulating. \n",
    "\n",
    "number_of_flips = 100\n",
    "#originally 100\n",
    "\n",
    "coin_flip_results = make_array('T','H')\n",
    "\n",
    "hella_coin_flips = np.random.choice( coin_flip_results , number_of_flips )\n",
    "\n",
    "\n",
    "print(hella_coin_flips)\n",
    "longest_consecutive(hella_coin_flips)"
   ]
  },
  {
   "cell_type": "code",
   "execution_count": 9,
   "id": "3dc6bf4c",
   "metadata": {},
   "outputs": [
    {
     "data": {
      "text/plain": [
       "4949"
      ]
     },
     "execution_count": 9,
     "metadata": {},
     "output_type": "execute_result"
    }
   ],
   "source": [
    "sum(hella_coin_flips == 'H')"
   ]
  },
  {
   "cell_type": "markdown",
   "id": "8d4a76e2",
   "metadata": {},
   "source": [
    "### Let's count the number of H(eads) in our 100 coin flips (10,000 simulations)\n",
    "and store them in the array below"
   ]
  },
  {
   "cell_type": "code",
   "execution_count": 47,
   "id": "a76dd72f",
   "metadata": {},
   "outputs": [],
   "source": [
    "number_of_heads = make_array()\n",
    "for i in np.arange(10000):\n",
    "    hella_coin_flips = np.random.choice(coin_flip_results, number_of_flips)\n",
    "    head_count = sum(hella_coin_flips == 'H')\n",
    "    number_of_heads = np.append(number_of_heads,head_count)"
   ]
  },
  {
   "cell_type": "code",
   "execution_count": 48,
   "id": "9e07ca82",
   "metadata": {},
   "outputs": [
    {
     "data": {
      "image/png": "[encoded data removed]",
      "text/plain": [
       "<Figure size 600x400 with 1 Axes>"
      ]
     },
     "metadata": {},
     "output_type": "display_data"
    }
   ],
   "source": [
    "heads_table = Table().with_column('# Heads',number_of_heads)\n",
    "#heads_table.show()\n",
    "heads_table.hist('# Heads',bins = np.arange(4500,5500,1))"
   ]
  },
  {
   "cell_type": "markdown",
   "id": "19fa3b64",
   "metadata": {},
   "source": [
    "# Practice with `sample_proportions`"
   ]
  },
  {
   "cell_type": "code",
   "execution_count": null,
   "id": "1fbdef07",
   "metadata": {},
   "outputs": [],
   "source": [
    "# sample_proportions(sample_size, model_proportions)\n",
    "# sample_size will be an integer\n",
    "# model_proportions will be an array of probabilities\n",
    "\n",
    "sample_proportions(... , ...)"
   ]
  },
  {
   "cell_type": "code",
   "execution_count": 34,
   "id": "328d36b1",
   "metadata": {},
   "outputs": [],
   "source": [
    "sample_size = 20 \n",
    "model_proportions = make_array (4/13,4/13,5/13)\n",
    "#model_proportions = (face,odd,even)"
   ]
  },
  {
   "cell_type": "code",
   "execution_count": 36,
   "id": "7c256001",
   "metadata": {},
   "outputs": [
    {
     "data": {
      "text/plain": [
       "array([ 0.35,  0.35,  0.3 ])"
      ]
     },
     "execution_count": 36,
     "metadata": {},
     "output_type": "execute_result"
    }
   ],
   "source": [
    "empirical_proportion = sample_proportions(sample_size,model_proportions)\n",
    "empirical_proportion"
   ]
  },
  {
   "cell_type": "code",
   "execution_count": 37,
   "id": "8a55aef6",
   "metadata": {},
   "outputs": [
    {
     "data": {
      "text/plain": [
       "7.0"
      ]
     },
     "execution_count": 37,
     "metadata": {},
     "output_type": "execute_result"
    }
   ],
   "source": [
    "sample_size*empirical_proportion.item(0)"
   ]
  },
  {
   "cell_type": "code",
   "execution_count": 39,
   "id": "8e73fbd3",
   "metadata": {},
   "outputs": [],
   "source": [
    "simulations = make_array()\n",
    "for i in np.arange(10000):\n",
    "    one_sim = sample_size *sample_proportions(sample_size,model_proportions).item(0)\n",
    "    simulations = np.append(simulations,one_sim)\n",
    "    "
   ]
  },
  {
   "cell_type": "code",
   "execution_count": 40,
   "id": "570fa916",
   "metadata": {},
   "outputs": [
    {
     "data": {
      "text/plain": [
       "array([ 5.,  7.,  8., ...,  5.,  5.,  6.])"
      ]
     },
     "execution_count": 40,
     "metadata": {},
     "output_type": "execute_result"
    }
   ],
   "source": [
    "simulations"
   ]
  },
  {
   "cell_type": "code",
   "execution_count": 41,
   "id": "adea0ffb",
   "metadata": {},
   "outputs": [
    {
     "data": {
      "text/plain": [
       "10000"
      ]
     },
     "execution_count": 41,
     "metadata": {},
     "output_type": "execute_result"
    }
   ],
   "source": [
    "len(simulations)"
   ]
  },
  {
   "cell_type": "code",
   "execution_count": 53,
   "id": "57e8fdb1",
   "metadata": {},
   "outputs": [
    {
     "data": {
      "image/png": "[encoded data removed]",
      "text/plain": [
       "<Figure size 600x400 with 1 Axes>"
      ]
     },
     "metadata": {},
     "output_type": "display_data"
    }
   ],
   "source": [
    "face_table = Table().with_column('# Faces',simulations)\n",
    "#heads_table.show()\n",
    "face_table.hist('# Faces',bins = np.arange(0,13,1))"
   ]
  },
  {
   "cell_type": "code",
   "execution_count": null,
   "id": "d32da743",
   "metadata": {},
   "outputs": [],
   "source": []
  }
 ],
 "metadata": {
  "kernelspec": {
   "display_name": "Python 3 (ipykernel)",
   "language": "python",
   "name": "python3"
  },
  "language_info": {
   "codemirror_mode": {
    "name": "ipython",
    "version": 3
   },
   "file_extension": ".py",
   "mimetype": "text/x-python",
   "name": "python",
   "nbconvert_exporter": "python",
   "pygments_lexer": "ipython3",
   "version": "3.10.11"
  }
 },
 "nbformat": 4,
 "nbformat_minor": 5
}
