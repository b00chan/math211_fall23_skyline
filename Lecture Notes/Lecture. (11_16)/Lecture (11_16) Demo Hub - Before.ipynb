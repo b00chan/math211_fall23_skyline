{
 "cells": [
  {
   "cell_type": "markdown",
   "id": "1df4b8ac",
   "metadata": {},
   "source": [
    "# [Python Reference Link](http://www.data8.org/sp20/python-reference.html)\n",
    "*Run the cell below so that we can set our modules up*# Importing our modules"
   ]
  },
  {
   "cell_type": "code",
   "execution_count": null,
   "id": "c36fed5c",
   "metadata": {},
   "outputs": [],
   "source": [
    "import numpy as np\n",
    "from datascience import *\n",
    "import math as m\n",
    "\n",
    "# These lines do some fancy plotting magic.\n",
    "import matplotlib\n",
    "%matplotlib inline\n",
    "import matplotlib.pyplot as plt\n",
    "plt.style.use('fivethirtyeight')\n",
    "import warnings\n",
    "warnings.simplefilter('ignore', FutureWarning)"
   ]
  },
  {
   "cell_type": "code",
   "execution_count": null,
   "id": "b9088d78",
   "metadata": {},
   "outputs": [],
   "source": [
    "births = Table.read_table('baby.csv')"
   ]
  },
  {
   "cell_type": "markdown",
   "id": "596edc55",
   "metadata": {},
   "source": [
    "# Examining the Central Limit Theorem"
   ]
  },
  {
   "cell_type": "code",
   "execution_count": null,
   "id": "6db43e30",
   "metadata": {},
   "outputs": [],
   "source": [
    "weight_bins = np.arange(50,180,10)\n",
    "births.hist(\"Birth Weight\",bins=weight_bins)"
   ]
  },
  {
   "cell_type": "code",
   "execution_count": null,
   "id": "932e65a5",
   "metadata": {},
   "outputs": [],
   "source": [
    "input_values = np.arange(0,15,0.1)\n",
    "exponential_curve = 0.25*m.e**(0.25*input_values)\n",
    "\n",
    "r_skew_bins = np.arange(0,12,1)\n",
    "r_skew_table = Table().with_columns('values',exponential_curve)\n",
    "r_skew_table.hist(bins=r_skew_bins)"
   ]
  },
  {
   "cell_type": "code",
   "execution_count": null,
   "id": "17f7d619",
   "metadata": {},
   "outputs": [],
   "source": [
    "reverse_exponential = 130 - exponential_curve\n",
    "\n",
    "l_skew_bins = np.arange(118,130,1)\n",
    "l_skew_table = Table().with_columns('values',reverse_exponential)\n",
    "l_skew_table.hist(bins = l_skew_bins)"
   ]
  },
  {
   "cell_type": "markdown",
   "id": "71c51317",
   "metadata": {},
   "source": [
    "### The Distribution of sample averages"
   ]
  },
  {
   "cell_type": "code",
   "execution_count": null,
   "id": "42f3e3cc",
   "metadata": {},
   "outputs": [],
   "source": [
    "#Let's look at a few columns in the births table \n",
    "sample_size = 100\n",
    "number_of_resamples = 1000\n",
    "column_name = ...\n",
    "\n",
    "means = make_array()\n",
    "\n",
    "for i in np.arange(number_of_resamples):\n",
    "    one_small_sample = births.sample(sample_size,with_replacement=True)\n",
    "    mean_of_one_small_sample = np.mean(one_small_sample.column(column_name))\n",
    "    means = np.append(means, mean_of_one_small_sample)\n",
    "\n",
    "Table().with_columns('Means of'+column_name,means).hist()    "
   ]
  },
  {
   "cell_type": "code",
   "execution_count": null,
   "id": "e68274b3",
   "metadata": {},
   "outputs": [],
   "source": [
    "# Let's look at sampling from a right skew distribution\n",
    "sample_size = 100\n",
    "number_of_resamples = 1000\n",
    "\n",
    "means = make_array()\n",
    "\n",
    "for i in np.arange(number_of_resamples):\n",
    "    one_small_sample = r_skew_table.sample(sample_size,with_replacement=True)\n",
    "    mean_of_one_small_sample = np.mean(one_small_sample.column('values'))\n",
    "    means = np.append(means, mean_of_one_small_sample)\n",
    "\n",
    "Table().with_columns('Means',means).hist() "
   ]
  },
  {
   "cell_type": "code",
   "execution_count": null,
   "id": "2f6fc0db",
   "metadata": {},
   "outputs": [],
   "source": [
    "# Let's look at sampling from a left skew distribution\n",
    "sample_size = 100\n",
    "number_of_resamples = 1000\n",
    "\n",
    "means = make_array()\n",
    "\n",
    "for i in np.arange(number_of_resamples):\n",
    "    one_small_sample = l_skew_table.sample(sample_size,with_replacement=True)\n",
    "    mean_of_one_small_sample = np.mean(one_small_sample.column('values'))\n",
    "    means = np.append(means, mean_of_one_small_sample)\n",
    "\n",
    "Table().with_columns('Means',means).hist()  "
   ]
  },
  {
   "cell_type": "code",
   "execution_count": null,
   "id": "b197901b",
   "metadata": {},
   "outputs": [],
   "source": [
    "#Let's look at a few columns in the births table, but now with increased sample size\n",
    "sample_size = \n",
    "number_of_resamples = \n",
    "column_name = ...\n",
    "\n",
    "means = make_array()\n",
    "\n",
    "for i in np.arange(number_of_resamples):\n",
    "    one_small_sample = births.sample(sample_size,with_replacement=True)\n",
    "    mean_of_one_small_sample = np.mean(one_small_sample.column(column_name))\n",
    "    means = np.append(means, mean_of_one_small_sample)\n",
    "\n",
    "Table().with_columns('Means of'+column_name,means).hist()   "
   ]
  },
  {
   "cell_type": "code",
   "execution_count": null,
   "id": "11513dde",
   "metadata": {},
   "outputs": [],
   "source": [
    "#Let's look at a few columns in the births table, but now with increased number of resamples\n",
    "sample_size = ...\n",
    "number_of_resamples = ...\n",
    "column_name = ...\n",
    "\n",
    "means = make_array()\n",
    "\n",
    "for i in np.arange(number_of_resamples):\n",
    "    one_small_sample = births.sample(sample_size,with_replacement=True)\n",
    "    mean_of_one_small_sample = np.mean(one_small_sample.column(column_name))\n",
    "    means = np.append(means, mean_of_one_small_sample)\n",
    "\n",
    "Table().with_columns('Means of '+column_name,means).hist(bins=bins_we_use)    "
   ]
  },
  {
   "cell_type": "markdown",
   "id": "b515e40b",
   "metadata": {},
   "source": [
    "# Linear Regression\n",
    "\n",
    "## Standard Units"
   ]
  },
  {
   "cell_type": "code",
   "execution_count": null,
   "id": "11108d75",
   "metadata": {},
   "outputs": [],
   "source": [
    "birds = Table.read_table('snowy_plover.csv')\n",
    "birds"
   ]
  },
  {
   "cell_type": "markdown",
   "id": "0404f7df",
   "metadata": {},
   "source": [
    "Let's take a look at the relationship between Egg Weight and Bird Weight"
   ]
  },
  {
   "cell_type": "code",
   "execution_count": null,
   "id": "20388dbc",
   "metadata": {},
   "outputs": [],
   "source": [
    "birds.scatter('Egg Weight','Bird Weight')\n",
    "birds.scatter('Egg Weight','Bird Weight',fit_line=True)"
   ]
  },
  {
   "cell_type": "markdown",
   "id": "120bca57",
   "metadata": {},
   "source": [
    "Now let's calculate the standard units for each weight variable:"
   ]
  },
  {
   "cell_type": "code",
   "execution_count": null,
   "id": "d889fb0f",
   "metadata": {},
   "outputs": [],
   "source": [
    "e_weight_standard_units = ..."
   ]
  },
  {
   "cell_type": "code",
   "execution_count": null,
   "id": "ea854e4b",
   "metadata": {},
   "outputs": [],
   "source": [
    "b_weight_standard_units = ..."
   ]
  },
  {
   "cell_type": "code",
   "execution_count": null,
   "id": "67ad7dd0",
   "metadata": {},
   "outputs": [],
   "source": [
    "# to simplify, let's turn this process into a function\n",
    "def standard_units_convert(input_data):\n",
    "    ...\n",
    "    return ..."
   ]
  },
  {
   "cell_type": "code",
   "execution_count": null,
   "id": "204bce81",
   "metadata": {},
   "outputs": [],
   "source": [
    "standard_units_convert(birds.column('Bird Weight')) == b_weight_standard_units"
   ]
  },
  {
   "cell_type": "markdown",
   "id": "4d951216",
   "metadata": {},
   "source": [
    "## Correlation Coefficient `r`"
   ]
  },
  {
   "cell_type": "code",
   "execution_count": null,
   "id": "c19278a5",
   "metadata": {},
   "outputs": [],
   "source": [
    "correlation_r = ..."
   ]
  },
  {
   "cell_type": "code",
   "execution_count": null,
   "id": "0b19d7e1",
   "metadata": {},
   "outputs": [],
   "source": [
    "def calculate_r(x_value_array, y_value_array):\n",
    "    ...\n",
    "    return ... "
   ]
  },
  {
   "cell_type": "code",
   "execution_count": null,
   "id": "baeae278",
   "metadata": {},
   "outputs": [],
   "source": [
    "calculate_r(birds.column('Egg Weight'),birds.column('Bird Weight'))"
   ]
  },
  {
   "cell_type": "code",
   "execution_count": null,
   "id": "eb417b5b",
   "metadata": {},
   "outputs": [],
   "source": [
    "calculate_r(birds.column('Egg Weight'),birds.column('Egg Length'))"
   ]
  },
  {
   "cell_type": "markdown",
   "id": "a1d23537",
   "metadata": {},
   "source": [
    "## Linear Regression (Slope and Intercept)"
   ]
  },
  {
   "cell_type": "code",
   "execution_count": null,
   "id": "e3970af8",
   "metadata": {},
   "outputs": [],
   "source": [
    "# finding the standard deviations for our x-value & y-value arrays\n",
    "x_val_sd = ...\n",
    "y_val_sd = ...\n",
    "print(correlation_r, x_val_sd, y_val_sd)"
   ]
  },
  {
   "cell_type": "code",
   "execution_count": null,
   "id": "1d89780b",
   "metadata": {},
   "outputs": [],
   "source": [
    "slope_of_regression = "
   ]
  },
  {
   "cell_type": "code",
   "execution_count": null,
   "id": "f188cdd2",
   "metadata": {},
   "outputs": [],
   "source": [
    "#finding the means for our x-value & y-value arrays\n",
    "x_val_mean = ...\n",
    "y-val_mean = ...\n",
    "print(slope_of_regression, x_val_mean, y_val_mean)"
   ]
  },
  {
   "cell_type": "code",
   "execution_count": null,
   "id": "475b9eed",
   "metadata": {},
   "outputs": [],
   "source": [
    "intercept = ..."
   ]
  },
  {
   "cell_type": "code",
   "execution_count": null,
   "id": "2b46027c",
   "metadata": {},
   "outputs": [],
   "source": [
    "x_val_array = ...\n",
    "y_estimates_array = ...\n",
    "birds = birds.with_columns('Estimates',y_estimates_array)\n",
    "birds"
   ]
  },
  {
   "cell_type": "code",
   "execution_count": null,
   "id": "b94083da",
   "metadata": {},
   "outputs": [],
   "source": [
    "birds.select('Egg Weight','Bird Weight','Estimates').scatter('Egg Weight')\n",
    "birds.scatter('Egg Weight','Bird Weight',fit_line=True)"
   ]
  },
  {
   "cell_type": "markdown",
   "id": "3d9d391a",
   "metadata": {},
   "source": [
    "## The Residual - Evaluating your Linear Regression Accuracy"
   ]
  },
  {
   "cell_type": "code",
   "execution_count": null,
   "id": "7a6a8a39",
   "metadata": {},
   "outputs": [],
   "source": [
    "residual = ..."
   ]
  },
  {
   "cell_type": "code",
   "execution_count": null,
   "id": "bf7e8afe",
   "metadata": {},
   "outputs": [],
   "source": [
    "birds = birds.with_columns('Residual',residual)\n",
    "birds"
   ]
  },
  {
   "cell_type": "code",
   "execution_count": null,
   "id": "c0cbbc1f",
   "metadata": {},
   "outputs": [],
   "source": [
    "birds.scatter('Egg Weight','Residual',color = 'r')"
   ]
  }
 ],
 "metadata": {
  "kernelspec": {
   "display_name": "Python 3 (ipykernel)",
   "language": "python",
   "name": "python3"
  },
  "language_info": {
   "codemirror_mode": {
    "name": "ipython",
    "version": 3
   },
   "file_extension": ".py",
   "mimetype": "text/x-python",
   "name": "python",
   "nbconvert_exporter": "python",
   "pygments_lexer": "ipython3",
   "version": "3.10.11"
  }
 },
 "nbformat": 4,
 "nbformat_minor": 5
}
