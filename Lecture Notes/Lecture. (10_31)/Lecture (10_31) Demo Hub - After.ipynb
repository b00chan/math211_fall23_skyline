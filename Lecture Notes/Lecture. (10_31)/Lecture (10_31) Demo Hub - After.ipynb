{
 "cells": [
  {
   "cell_type": "markdown",
   "id": "975a61b8",
   "metadata": {},
   "source": [
    "# [Python Reference Link](http://www.data8.org/sp20/python-reference.html)\n",
    "*Run the cell below so that we can set our modules up*"
   ]
  },
  {
   "cell_type": "code",
   "execution_count": 2,
   "id": "761549f6",
   "metadata": {},
   "outputs": [],
   "source": [
    "import numpy as np\n",
    "from datascience import *\n",
    "from IPython.display import YouTubeVideo\n",
    "\n",
    "# These lines do some fancy plotting magic.\n",
    "import matplotlib\n",
    "%matplotlib inline\n",
    "import matplotlib.pyplot as plt\n",
    "plt.style.use('fivethirtyeight')\n",
    "import warnings\n",
    "warnings.simplefilter('ignore', FutureWarning)"
   ]
  },
  {
   "cell_type": "markdown",
   "id": "429409bb",
   "metadata": {},
   "source": [
    "## Hypothesis Testing: The Popularity of K-Pop\n",
    "\n",
    "According to a 2019 survey conducted and published on the website [Statista](https://www.statista.com/statistics/956042/south-korea-kpop-popularity-in-the-us/), around 29.4 percent of US respondents stated that K-pop was very popular in their country. A further 30.8 percent reported that it was quite popular. \n",
    "\n",
    "For the sake of argument, let's define \"popular\" to mean that K-Pop is liked by more than 55% of the population. \n",
    "\n",
    "Let's use our Math Class Survey to help answer this question:"
   ]
  },
  {
   "cell_type": "code",
   "execution_count": 3,
   "id": "7b9ad6f9",
   "metadata": {},
   "outputs": [
    {
     "data": {
      "text/html": [
       "<table border=\"1\" class=\"dataframe\">\n",
       "    <thead>\n",
       "        <tr>\n",
       "            <th>Timestamp</th> <th>Surveyor</th> <th>GPA</th> <th>introversion/extroversion</th> <th>Pets</th> <th>Handed</th> <th>Sleep Position</th> <th>K-Pop</th> <th>K-Pop Group</th> <th>travel destination</th> <th>Birthplace </th> <th>Transfer destination</th> <th>Fear</th> <th>Music Genre</th> <th>Color </th>\n",
       "        </tr>\n",
       "    </thead>\n",
       "    <tbody>\n",
       "        <tr>\n",
       "            <td>8/17/2023 16:33</td> <td>Christian Le</td> <td>2.86</td> <td>6                        </td> <td>Dogs                </td> <td>Right-handed</td> <td>On my side    </td> <td>Yes  </td> <td>Le Sserafim</td> <td>Japan             </td> <td>Local                    </td> <td>UC                  </td> <td>Working                               </td> <td>Pop        </td> <td>Red       </td>\n",
       "        </tr>\n",
       "        <tr>\n",
       "            <td>8/17/2023 16:34</td> <td>Christian Le</td> <td>4   </td> <td>8                        </td> <td>nan                 </td> <td>Right-handed</td> <td>On my back    </td> <td>Yes  </td> <td>Le Sserafim</td> <td>Switzerland       </td> <td>Local                    </td> <td>UC                  </td> <td>A regretful life                      </td> <td>All        </td> <td>Black     </td>\n",
       "        </tr>\n",
       "        <tr>\n",
       "            <td>8/17/2023 16:38</td> <td>Christian Le</td> <td>2.5 </td> <td>8                        </td> <td>Cats                </td> <td>Right-handed</td> <td>On my stomach </td> <td>Yes  </td> <td>Seventeen  </td> <td>Hawaii            </td> <td>Local                    </td> <td>UC Transfer         </td> <td>Death, Spiders                        </td> <td>R&B, K-POP </td> <td>Green     </td>\n",
       "        </tr>\n",
       "        <tr>\n",
       "            <td>8/17/2023 16:38</td> <td>Christian Le</td> <td>3.96</td> <td>6                        </td> <td>Cats                </td> <td>Right-handed</td> <td>On my side    </td> <td>Yes  </td> <td>STAYC      </td> <td>Costa Rica        </td> <td>Local                    </td> <td>UC Grad             </td> <td>Loss of loved ones                    </td> <td>R&B, K-POP </td> <td>Purple    </td>\n",
       "        </tr>\n",
       "        <tr>\n",
       "            <td>8/17/2023 16:54</td> <td>Christian Le</td> <td>2.98</td> <td>6                        </td> <td>nan                 </td> <td>Left-handed </td> <td>On my side    </td> <td>Yes  </td> <td>New Jeans  </td> <td>Hawaii            </td> <td>Local                    </td> <td>nan                 </td> <td>Death                                 </td> <td>R&B        </td> <td>Green     </td>\n",
       "        </tr>\n",
       "        <tr>\n",
       "            <td>8/17/2023 16:55</td> <td>Christian Le</td> <td>3.8 </td> <td>8                        </td> <td>Dogs                </td> <td>Right-handed</td> <td>On my side    </td> <td>Yes  </td> <td>New Jeans  </td> <td>Hawaii            </td> <td>Local                    </td> <td>UC                  </td> <td>Being alone                           </td> <td>R&B        </td> <td>Blue      </td>\n",
       "        </tr>\n",
       "        <tr>\n",
       "            <td>8/17/2023 17:00</td> <td>Christian Le</td> <td>4   </td> <td>3                        </td> <td>nan                 </td> <td>Right-handed</td> <td>On my back    </td> <td>No   </td> <td>nan        </td> <td>Japan             </td> <td>California (not Bay Area)</td> <td>CSU                 </td> <td>Not being accepted into career program</td> <td>Hip hop    </td> <td>Khaki     </td>\n",
       "        </tr>\n",
       "        <tr>\n",
       "            <td>8/17/2023 18:13</td> <td>Christian Le</td> <td>4   </td> <td>2                        </td> <td>Cats, Dogs, Reptiles</td> <td>Both        </td> <td>On my stomach </td> <td>Yes  </td> <td>New Jeans  </td> <td>Dubai             </td> <td>Local                    </td> <td>UC                  </td> <td>Insects                               </td> <td>Pop        </td> <td>Red       </td>\n",
       "        </tr>\n",
       "        <tr>\n",
       "            <td>8/17/2023 20:38</td> <td>Casey So    </td> <td>3.86</td> <td>3                        </td> <td>Dogs                </td> <td>Right-handed</td> <td>On my back    </td> <td>Yes  </td> <td>Seventeen  </td> <td>Korea             </td> <td>Local                    </td> <td>UC                  </td> <td>Birds                                 </td> <td>Pop        </td> <td>Light Blue</td>\n",
       "        </tr>\n",
       "        <tr>\n",
       "            <td>8/17/2023 20:43</td> <td>Casey So    </td> <td>3.2 </td> <td>4                        </td> <td>nan                 </td> <td>Right-handed</td> <td>On my side    </td> <td>Yes  </td> <td>Twice      </td> <td>Philippines       </td> <td>Local                    </td> <td>UC                  </td> <td>Death                                 </td> <td>Pop        </td> <td>Blue      </td>\n",
       "        </tr>\n",
       "    </tbody>\n",
       "</table>\n",
       "<p>... (222 rows omitted)</p>"
      ],
      "text/plain": [
       "Timestamp       | Surveyor     | GPA  | introversion/extroversion | Pets                 | Handed       | Sleep Position | K-Pop | K-Pop Group | travel destination | Birthplace                | Transfer destination | Fear                                   | Music Genre | Color\n",
       "8/17/2023 16:33 | Christian Le | 2.86 | 6                         | Dogs                 | Right-handed | On my side     | Yes   | Le Sserafim | Japan              | Local                     | UC                   | Working                                | Pop         | Red\n",
       "8/17/2023 16:34 | Christian Le | 4    | 8                         | nan                  | Right-handed | On my back     | Yes   | Le Sserafim | Switzerland        | Local                     | UC                   | A regretful life                       | All         | Black\n",
       "8/17/2023 16:38 | Christian Le | 2.5  | 8                         | Cats                 | Right-handed | On my stomach  | Yes   | Seventeen   | Hawaii             | Local                     | UC Transfer          | Death, Spiders                         | R&B, K-POP  | Green\n",
       "8/17/2023 16:38 | Christian Le | 3.96 | 6                         | Cats                 | Right-handed | On my side     | Yes   | STAYC       | Costa Rica         | Local                     | UC Grad              | Loss of loved ones                     | R&B, K-POP  | Purple\n",
       "8/17/2023 16:54 | Christian Le | 2.98 | 6                         | nan                  | Left-handed  | On my side     | Yes   | New Jeans   | Hawaii             | Local                     | nan                  | Death                                  | R&B         | Green\n",
       "8/17/2023 16:55 | Christian Le | 3.8  | 8                         | Dogs                 | Right-handed | On my side     | Yes   | New Jeans   | Hawaii             | Local                     | UC                   | Being alone                            | R&B         | Blue\n",
       "8/17/2023 17:00 | Christian Le | 4    | 3                         | nan                  | Right-handed | On my back     | No    | nan         | Japan              | California (not Bay Area) | CSU                  | Not being accepted into career program | Hip hop     | Khaki\n",
       "8/17/2023 18:13 | Christian Le | 4    | 2                         | Cats, Dogs, Reptiles | Both         | On my stomach  | Yes   | New Jeans   | Dubai              | Local                     | UC                   | Insects                                | Pop         | Red\n",
       "8/17/2023 20:38 | Casey So     | 3.86 | 3                         | Dogs                 | Right-handed | On my back     | Yes   | Seventeen   | Korea              | Local                     | UC                   | Birds                                  | Pop         | Light Blue\n",
       "8/17/2023 20:43 | Casey So     | 3.2  | 4                         | nan                  | Right-handed | On my side     | Yes   | Twice       | Philippines        | Local                     | UC                   | Death                                  | Pop         | Blue\n",
       "... (222 rows omitted)"
      ]
     },
     "execution_count": 3,
     "metadata": {},
     "output_type": "execute_result"
    }
   ],
   "source": [
    "math211_survey = Table().read_table('Math211_FallSurvey.csv')\n",
    "math211_survey"
   ]
  },
  {
   "cell_type": "markdown",
   "id": "e82b2ce4",
   "metadata": {},
   "source": [
    "Let's find the percentage of our survey respondents who 'like' K-Pop:"
   ]
  },
  {
   "cell_type": "code",
   "execution_count": 4,
   "id": "45124c18",
   "metadata": {},
   "outputs": [
    {
     "data": {
      "text/plain": [
       "138"
      ]
     },
     "execution_count": 4,
     "metadata": {},
     "output_type": "execute_result"
    }
   ],
   "source": [
    "math211_survey.group('K-Pop').column('count').item(1)"
   ]
  },
  {
   "cell_type": "code",
   "execution_count": 5,
   "id": "b4829ad4",
   "metadata": {},
   "outputs": [
    {
     "data": {
      "text/plain": [
       "0.5948275862068966"
      ]
     },
     "execution_count": 5,
     "metadata": {},
     "output_type": "execute_result"
    }
   ],
   "source": [
    "sample_size = math211_survey.num_rows\n",
    "num_kpop_enjoyers = math211_survey.group('K-Pop').column('count').item(1)\n",
    "prop_kpop_enjoyers = num_kpop_enjoyers/sample_size\n",
    "\n",
    "prop_kpop_enjoyers"
   ]
  },
  {
   "cell_type": "code",
   "execution_count": 6,
   "id": "80435fd5",
   "metadata": {},
   "outputs": [
    {
     "data": {
      "text/plain": [
       "4.482758620689658"
      ]
     },
     "execution_count": 6,
     "metadata": {},
     "output_type": "execute_result"
    }
   ],
   "source": [
    "# Defining a test statistic: The sample percentage of K-Pop enjoyers above 55%\n",
    "observed_statistic = prop_kpop_enjoyers*100 - 55\n",
    "observed_statistic"
   ]
  },
  {
   "cell_type": "markdown",
   "id": "9f1e093d",
   "metadata": {},
   "source": [
    "#### Let's prep for the for-loop by looking at each step\n",
    "Step 1: Simulate the sample"
   ]
  },
  {
   "cell_type": "code",
   "execution_count": 9,
   "id": "b08d46e3",
   "metadata": {},
   "outputs": [
    {
     "data": {
      "text/plain": [
       "-1.5517241379310391"
      ]
     },
     "execution_count": 9,
     "metadata": {},
     "output_type": "execute_result"
    }
   ],
   "source": [
    "simulated_sample.item(0)*100 - 55"
   ]
  },
  {
   "cell_type": "code",
   "execution_count": 7,
   "id": "0a1f4bc9",
   "metadata": {},
   "outputs": [
    {
     "data": {
      "text/plain": [
       "array([ 0.53448276,  0.46551724])"
      ]
     },
     "execution_count": 7,
     "metadata": {},
     "output_type": "execute_result"
    }
   ],
   "source": [
    "simulated_sample = sample_proportions(sample_size,make_array(.55,.45)) #array: (yes_k-pop,no_k-pop)\n",
    "simulated_sample "
   ]
  },
  {
   "cell_type": "markdown",
   "id": "94393a75",
   "metadata": {},
   "source": [
    "Step 2: Measure the statistic"
   ]
  },
  {
   "cell_type": "code",
   "execution_count": 10,
   "id": "6c402706",
   "metadata": {},
   "outputs": [
    {
     "data": {
      "text/plain": [
       "-1.5517241379310391"
      ]
     },
     "execution_count": 10,
     "metadata": {},
     "output_type": "execute_result"
    }
   ],
   "source": [
    "simulated_statistic = simulated_sample.item(0)*100 - 55\n",
    "simulated_statistic"
   ]
  },
  {
   "cell_type": "markdown",
   "id": "b98f40db",
   "metadata": {},
   "source": [
    "Step 3: Store the statistic"
   ]
  },
  {
   "cell_type": "code",
   "execution_count": null,
   "id": "597ed2c6",
   "metadata": {},
   "outputs": [],
   "source": [
    "# use np.append(simulated_statistics , simulated_statistic)"
   ]
  },
  {
   "cell_type": "markdown",
   "id": "1131d1f3",
   "metadata": {},
   "source": [
    "Let's run 10,000 simulations inside the for-loop now:"
   ]
  },
  {
   "cell_type": "code",
   "execution_count": 13,
   "id": "9c79d5a8",
   "metadata": {},
   "outputs": [
    {
     "data": {
      "text/plain": [
       "array([ 5.34482759,  1.89655172, -5.43103448, ..., -4.13793103,\n",
       "       -0.25862069,  1.89655172])"
      ]
     },
     "execution_count": 13,
     "metadata": {},
     "output_type": "execute_result"
    }
   ],
   "source": [
    "num_simulations = 10000\n",
    "simulated_statistics = make_array() #creating the empty array to store all simulated statistics\n",
    "\n",
    "for i in np.arange(num_simulations):\n",
    "    #Step 1)\n",
    "    simulated_sample = sample_proportions(sample_size,make_array(.55,.45))\n",
    "    #Step 2\n",
    "    simulated_statistic = simulated_sample.item(0)*100 - 55\n",
    "    #Step 3\n",
    "    simulated_statistics = np.append(simulated_statistics , simulated_statistic)\n",
    "\n",
    "simulated_statistics"
   ]
  },
  {
   "cell_type": "code",
   "execution_count": 14,
   "id": "1cb5afb4",
   "metadata": {},
   "outputs": [
    {
     "data": {
      "image/png": "[encoded data removed]",
      "text/plain": [
       "<Figure size 600x400 with 1 Axes>"
      ]
     },
     "metadata": {},
     "output_type": "display_data"
    }
   ],
   "source": [
    "Table().with_columns('Simulated Statistic', simulated_statistics).hist()\n",
    "plt.scatter(observed_statistic, -0.002, color='red', s=40);"
   ]
  },
  {
   "cell_type": "code",
   "execution_count": 15,
   "id": "d8d7943c",
   "metadata": {},
   "outputs": [
    {
     "data": {
      "text/plain": [
       "0.0992"
      ]
     },
     "execution_count": 15,
     "metadata": {},
     "output_type": "execute_result"
    }
   ],
   "source": [
    "p_value = np.count_nonzero(simulated_statistics >= observed_statistic) / num_simulations \n",
    "p_value"
   ]
  },
  {
   "cell_type": "markdown",
   "id": "e05e8707",
   "metadata": {},
   "source": [
    "## Hypothesis Testing: A/B Testing\n",
    "\n",
    "Let's look at some courses and their current enrollment sizes/statuses:"
   ]
  },
  {
   "cell_type": "code",
   "execution_count": 16,
   "id": "e2004b23",
   "metadata": {},
   "outputs": [
    {
     "data": {
      "text/html": [
       "<table border=\"1\" class=\"dataframe\">\n",
       "    <thead>\n",
       "        <tr>\n",
       "            <th>Professor</th> <th>Class</th> <th>Modality </th> <th>Enrollment</th> <th>Dropped</th>\n",
       "        </tr>\n",
       "    </thead>\n",
       "    <tbody>\n",
       "        <tr>\n",
       "            <td>A        </td> <td>Discrete      </td> <td>Online   </td> <td>36        </td> <td>8      </td>\n",
       "        </tr>\n",
       "        <tr>\n",
       "            <td>A        </td> <td>Statistics    </td> <td>Online   </td> <td>46        </td> <td>19     </td>\n",
       "        </tr>\n",
       "        <tr>\n",
       "            <td>A        </td> <td>Calc 1        </td> <td>Online   </td> <td>48        </td> <td>18     </td>\n",
       "        </tr>\n",
       "        <tr>\n",
       "            <td>A        </td> <td>Linear Algebra</td> <td>Online   </td> <td>55        </td> <td>24     </td>\n",
       "        </tr>\n",
       "        <tr>\n",
       "            <td>B        </td> <td>Statistics    </td> <td>In-Person</td> <td>40        </td> <td>12     </td>\n",
       "        </tr>\n",
       "        <tr>\n",
       "            <td>B        </td> <td>Statistics    </td> <td>In-Person</td> <td>35        </td> <td>11     </td>\n",
       "        </tr>\n",
       "        <tr>\n",
       "            <td>B        </td> <td>Calc 2        </td> <td>In-Person</td> <td>32        </td> <td>3      </td>\n",
       "        </tr>\n",
       "    </tbody>\n",
       "</table>"
      ],
      "text/plain": [
       "Professor | Class          | Modality  | Enrollment | Dropped\n",
       "A         | Discrete       | Online    | 36         | 8\n",
       "A         | Statistics     | Online    | 46         | 19\n",
       "A         | Calc 1         | Online    | 48         | 18\n",
       "A         | Linear Algebra | Online    | 55         | 24\n",
       "B         | Statistics     | In-Person | 40         | 12\n",
       "B         | Statistics     | In-Person | 35         | 11\n",
       "B         | Calc 2         | In-Person | 32         | 3"
      ]
     },
     "execution_count": 16,
     "metadata": {},
     "output_type": "execute_result"
    }
   ],
   "source": [
    "math_classes = Table().read_table('Math_Class_Enrollment_AB.csv')\n",
    "math_classes"
   ]
  },
  {
   "cell_type": "markdown",
   "id": "6c061563",
   "metadata": {},
   "source": [
    "Let's compare somme averages between two subgroups. Note that we can proceed with looking at `Professor A vs. Professor B`, **OR**, `online vs. in-person`"
   ]
  },
  {
   "cell_type": "code",
   "execution_count": null,
   "id": "0a50d29b",
   "metadata": {},
   "outputs": [],
   "source": [
    "math_classes.group('Moda')"
   ]
  },
  {
   "cell_type": "code",
   "execution_count": 21,
   "id": "24c0ad67",
   "metadata": {},
   "outputs": [
    {
     "data": {
      "text/plain": [
       "array([ 46.25      ,  35.66666667])"
      ]
     },
     "execution_count": 21,
     "metadata": {},
     "output_type": "execute_result"
    }
   ],
   "source": [
    "math_classes.group('Professor',np.average).column('Enrollment average')"
   ]
  },
  {
   "cell_type": "markdown",
   "id": "2a7a5d34",
   "metadata": {},
   "source": [
    "Let's defined the `observed_ab_statistic`"
   ]
  },
  {
   "cell_type": "code",
   "execution_count": 22,
   "id": "41f3d22a",
   "metadata": {},
   "outputs": [
    {
     "data": {
      "text/plain": [
       "array([ 46.25      ,  35.66666667])"
      ]
     },
     "execution_count": 22,
     "metadata": {},
     "output_type": "execute_result"
    }
   ],
   "source": [
    "#Let's use this cell to build some prep variables \n",
    "math_classes_group_average = math_classes.group('Professor',np.average).column('Enrollment average')\n",
    "math_classes_group_average"
   ]
  },
  {
   "cell_type": "code",
   "execution_count": 23,
   "id": "6caf1d4d",
   "metadata": {},
   "outputs": [
    {
     "data": {
      "text/plain": [
       "10.583333333333336"
      ]
     },
     "execution_count": 23,
     "metadata": {},
     "output_type": "execute_result"
    }
   ],
   "source": [
    "observed_ab_statistic = math_classes_group_average.item(0) - math_classes_group_average.item(1)\n",
    "observed_ab_statistic"
   ]
  },
  {
   "cell_type": "markdown",
   "id": "907591cf",
   "metadata": {},
   "source": [
    "Let's simulate one iteration of the for-loop\n",
    "\n",
    "Step1: Simulate the sample "
   ]
  },
  {
   "cell_type": "code",
   "execution_count": 31,
   "id": "04f78854",
   "metadata": {},
   "outputs": [
    {
     "data": {
      "text/plain": [
       "array([ 42.75      ,  40.33333333])"
      ]
     },
     "execution_count": 31,
     "metadata": {},
     "output_type": "execute_result"
    }
   ],
   "source": [
    "shuffled_prof = math_classes.sample(math_classes.num_rows, with_replacement=False).column('Professor')\n",
    "shuffled_classes = math_classes.with_column('Shuffled Prof',shuffled_prof)\n",
    "shuffled_enroll = shuffled_classes.group('Shuffled Prof',np.average).column('Enrollment average')\n",
    "shuffled_enroll"
   ]
  },
  {
   "cell_type": "markdown",
   "id": "28f24e83",
   "metadata": {},
   "source": [
    "Step2: Measure the statistic"
   ]
  },
  {
   "cell_type": "code",
   "execution_count": 32,
   "id": "86a1e43c",
   "metadata": {},
   "outputs": [
    {
     "data": {
      "text/plain": [
       "2.4166666666666643"
      ]
     },
     "execution_count": 32,
     "metadata": {},
     "output_type": "execute_result"
    }
   ],
   "source": [
    "simulated_statistic = shuffled_enroll.item(0) - shuffled_enroll.item(1)\n",
    "simulated_statistic"
   ]
  },
  {
   "cell_type": "markdown",
   "id": "538462a5",
   "metadata": {},
   "source": [
    "Step 3: Store the statistic"
   ]
  },
  {
   "cell_type": "code",
   "execution_count": null,
   "id": "c2092873",
   "metadata": {},
   "outputs": [],
   "source": [
    "#np.append(simulated_statistics , simulated_statistic)"
   ]
  },
  {
   "cell_type": "markdown",
   "id": "3d8bf2df",
   "metadata": {},
   "source": [
    "Let's run 10,000 simulations inside the for-loop now:"
   ]
  },
  {
   "cell_type": "code",
   "execution_count": 33,
   "id": "7e843665",
   "metadata": {},
   "outputs": [
    {
     "data": {
      "text/plain": [
       "array([  5.91666667, -13.91666667,   1.25      , ...,  -4.58333333,\n",
       "         4.75      ,   1.83333333])"
      ]
     },
     "execution_count": 33,
     "metadata": {},
     "output_type": "execute_result"
    }
   ],
   "source": [
    "num_simulations = 10000\n",
    "simulated_ab_statistics = make_array()\n",
    "\n",
    "for i in np.arange(num_simulations):\n",
    "    #Step 1\n",
    "    shuffled_prof = math_classes.sample(math_classes.num_rows, with_replacement=False).column('Professor')\n",
    "    shuffled_classes = math_classes.with_column('Shuffled Prof',shuffled_prof)\n",
    "    shuffled_enroll = shuffled_classes.group('Shuffled Prof',np.average).column('Enrollment average')\n",
    "    #Step 2\n",
    "    simulated_statistic = shuffled_enroll.item(0) - shuffled_enroll.item(1)\n",
    "    #Step 3\n",
    "    simulated_ab_statistics = np.append(simulated_ab_statistics,simulated_statistic)\n",
    "\n",
    "simulated_ab_statistics"
   ]
  },
  {
   "cell_type": "code",
   "execution_count": 34,
   "id": "04721744",
   "metadata": {},
   "outputs": [
    {
     "data": {
      "image/png": "[encoded data removed]",
      "text/plain": [
       "<Figure size 600x400 with 1 Axes>"
      ]
     },
     "metadata": {},
     "output_type": "display_data"
    }
   ],
   "source": [
    "Table().with_columns('Simulated Statistic', simulated_ab_statistics).hist()\n",
    "plt.scatter(observed_ab_statistic, -0.002, color='red', s=40);"
   ]
  },
  {
   "cell_type": "code",
   "execution_count": 35,
   "id": "b6083e78",
   "metadata": {},
   "outputs": [
    {
     "data": {
      "text/plain": [
       "0.0598"
      ]
     },
     "execution_count": 35,
     "metadata": {},
     "output_type": "execute_result"
    }
   ],
   "source": [
    "p_value_ab = np.count_nonzero(simulated_ab_statistics >= observed_ab_statistic) / num_simulations \n",
    "p_value_ab"
   ]
  },
  {
   "cell_type": "code",
   "execution_count": null,
   "id": "07d4c743",
   "metadata": {},
   "outputs": [],
   "source": []
  }
 ],
 "metadata": {
  "kernelspec": {
   "display_name": "Python 3 (ipykernel)",
   "language": "python",
   "name": "python3"
  },
  "language_info": {
   "codemirror_mode": {
    "name": "ipython",
    "version": 3
   },
   "file_extension": ".py",
   "mimetype": "text/x-python",
   "name": "python",
   "nbconvert_exporter": "python",
   "pygments_lexer": "ipython3",
   "version": "3.10.11"
  }
 },
 "nbformat": 4,
 "nbformat_minor": 5
}
