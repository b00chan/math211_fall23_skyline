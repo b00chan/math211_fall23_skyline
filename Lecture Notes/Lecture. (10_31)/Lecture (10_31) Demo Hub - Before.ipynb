{
 "cells": [
  {
   "cell_type": "markdown",
   "id": "975a61b8",
   "metadata": {},
   "source": [
    "# [Python Reference Link](http://www.data8.org/sp20/python-reference.html)\n",
    "*Run the cell below so that we can set our modules up*"
   ]
  },
  {
   "cell_type": "code",
   "execution_count": null,
   "id": "761549f6",
   "metadata": {},
   "outputs": [],
   "source": [
    "import numpy as np\n",
    "from datascience import *\n",
    "from IPython.display import YouTubeVideo\n",
    "\n",
    "# These lines do some fancy plotting magic.\n",
    "import matplotlib\n",
    "%matplotlib inline\n",
    "import matplotlib.pyplot as plt\n",
    "plt.style.use('fivethirtyeight')\n",
    "import warnings\n",
    "warnings.simplefilter('ignore', FutureWarning)"
   ]
  },
  {
   "cell_type": "markdown",
   "id": "429409bb",
   "metadata": {},
   "source": [
    "## Hypothesis Testing: The Popularity of K-Pop\n",
    "\n",
    "According to a 2019 survey conducted and published on the website [Statista](https://www.statista.com/statistics/956042/south-korea-kpop-popularity-in-the-us/), around 29.4 percent of US respondents stated that K-pop was very popular in their country. A further 30.8 percent reported that it was quite popular. \n",
    "\n",
    "For the sake of argument, let's define \"popular\" to mean that K-Pop is liked by more than 55% of the population. \n",
    "\n",
    "Let's use our Math Class Survey to help answer this question:"
   ]
  },
  {
   "cell_type": "code",
   "execution_count": null,
   "id": "7b9ad6f9",
   "metadata": {},
   "outputs": [],
   "source": [
    "math211_survey = Table().read_table('Math211_FallSurvey.csv')\n",
    "math211_survey"
   ]
  },
  {
   "cell_type": "markdown",
   "id": "e82b2ce4",
   "metadata": {},
   "source": [
    "Let's find the percentage of our survey respondents who 'like' K-Pop:"
   ]
  },
  {
   "cell_type": "code",
   "execution_count": null,
   "id": "b4829ad4",
   "metadata": {},
   "outputs": [],
   "source": [
    "sample_size = ...\n",
    "num_kpop_enjoyers = ...\n",
    "prop_kpop_enjoyers = ...\n",
    "\n",
    "prop_kpop_enjoyers"
   ]
  },
  {
   "cell_type": "code",
   "execution_count": null,
   "id": "80435fd5",
   "metadata": {},
   "outputs": [],
   "source": [
    "# Defining a test statistic: The sample percentage of K-Pop enjoyers above 55%\n",
    "observed_statistic = ...\n",
    "observed_statistic"
   ]
  },
  {
   "cell_type": "markdown",
   "id": "9f1e093d",
   "metadata": {},
   "source": [
    "#### Let's prep for the for-loop by looking at each step\n",
    "Step 1: Simulate the sample"
   ]
  },
  {
   "cell_type": "code",
   "execution_count": null,
   "id": "0a1f4bc9",
   "metadata": {},
   "outputs": [],
   "source": []
  },
  {
   "cell_type": "markdown",
   "id": "94393a75",
   "metadata": {},
   "source": [
    "Step 2: Measure the statistic"
   ]
  },
  {
   "cell_type": "code",
   "execution_count": null,
   "id": "6c402706",
   "metadata": {},
   "outputs": [],
   "source": []
  },
  {
   "cell_type": "markdown",
   "id": "b98f40db",
   "metadata": {},
   "source": [
    "Step 3: Store the statistic"
   ]
  },
  {
   "cell_type": "code",
   "execution_count": null,
   "id": "597ed2c6",
   "metadata": {},
   "outputs": [],
   "source": []
  },
  {
   "cell_type": "markdown",
   "id": "1131d1f3",
   "metadata": {},
   "source": [
    "Let's run 10,000 simulations inside the for-loop now:"
   ]
  },
  {
   "cell_type": "code",
   "execution_count": null,
   "id": "9c79d5a8",
   "metadata": {},
   "outputs": [],
   "source": [
    "num_simulations = ...\n",
    "simulated_statistics = make_array()\n",
    "\n",
    "for i in np.arange(...):\n",
    "    #Step 1\n",
    "    ...\n",
    "    #Step 2\n",
    "    ...\n",
    "    #Step 3\n",
    "    ...\n"
   ]
  },
  {
   "cell_type": "code",
   "execution_count": null,
   "id": "1cb5afb4",
   "metadata": {},
   "outputs": [],
   "source": [
    "Table().with_columns('Simulated Statistic', simulated_statistics).hist()\n",
    "plt.scatter(observed_statistic, -0.002, color='red', s=40);"
   ]
  },
  {
   "cell_type": "code",
   "execution_count": null,
   "id": "d8d7943c",
   "metadata": {},
   "outputs": [],
   "source": [
    "p_value = np.count_nonzero(simulated_statistics >= observed_statistic) / num_simulations \n",
    "p_value"
   ]
  },
  {
   "cell_type": "markdown",
   "id": "e05e8707",
   "metadata": {},
   "source": [
    "## Hypothesis Testing: A/B Testing\n",
    "\n",
    "Let's look at some courses and their current enrollment sizes/statuses:"
   ]
  },
  {
   "cell_type": "code",
   "execution_count": null,
   "id": "e2004b23",
   "metadata": {},
   "outputs": [],
   "source": [
    "math_classes = Table().read_table('Math_Class_Enrollment_AB.csv')\n",
    "math_classes"
   ]
  },
  {
   "cell_type": "markdown",
   "id": "6c061563",
   "metadata": {},
   "source": [
    "Let's compare somme averages between two subgroups. Note that we can proceed with looking at `Professor A vs. Professor B`, **OR**, `online vs. in-person`"
   ]
  },
  {
   "cell_type": "code",
   "execution_count": null,
   "id": "24c0ad67",
   "metadata": {},
   "outputs": [],
   "source": []
  },
  {
   "cell_type": "markdown",
   "id": "2a7a5d34",
   "metadata": {},
   "source": [
    "Let's defined the `observed_ab_statistic`"
   ]
  },
  {
   "cell_type": "code",
   "execution_count": null,
   "id": "41f3d22a",
   "metadata": {},
   "outputs": [],
   "source": [
    "#Let's use this cell to build some prep variables \n",
    "..."
   ]
  },
  {
   "cell_type": "code",
   "execution_count": null,
   "id": "6caf1d4d",
   "metadata": {},
   "outputs": [],
   "source": [
    "observed_ab_statistic = \n",
    "observed_ab_statistic"
   ]
  },
  {
   "cell_type": "markdown",
   "id": "907591cf",
   "metadata": {},
   "source": [
    "Let's simulate one iteration of the for-loop\n",
    "\n",
    "Step1: Simulate the sample "
   ]
  },
  {
   "cell_type": "code",
   "execution_count": null,
   "id": "9378d30a",
   "metadata": {},
   "outputs": [],
   "source": []
  },
  {
   "cell_type": "markdown",
   "id": "28f24e83",
   "metadata": {},
   "source": [
    "Step2: Measure the statistic"
   ]
  },
  {
   "cell_type": "code",
   "execution_count": null,
   "id": "86a1e43c",
   "metadata": {},
   "outputs": [],
   "source": []
  },
  {
   "cell_type": "markdown",
   "id": "538462a5",
   "metadata": {},
   "source": [
    "Step 3: Store the statistic"
   ]
  },
  {
   "cell_type": "code",
   "execution_count": null,
   "id": "c2092873",
   "metadata": {},
   "outputs": [],
   "source": []
  },
  {
   "cell_type": "markdown",
   "id": "3d8bf2df",
   "metadata": {},
   "source": [
    "Let's run 10,000 simulations inside the for-loop now:"
   ]
  },
  {
   "cell_type": "code",
   "execution_count": null,
   "id": "7e843665",
   "metadata": {},
   "outputs": [],
   "source": [
    "num_simulations = ...\n",
    "simulated_ab_statistics = make_array()\n",
    "\n",
    "for i in np.arange(...):\n",
    "    #Step 1\n",
    "    ...\n",
    "    #Step 2\n",
    "    ...\n",
    "    #Step 3\n",
    "    ...\n"
   ]
  },
  {
   "cell_type": "code",
   "execution_count": null,
   "id": "04721744",
   "metadata": {},
   "outputs": [],
   "source": [
    "Table().with_columns('Simulated Statistic', simulated_ab_statistics).hist()\n",
    "plt.scatter(observed_ab_statistic, -0.002, color='red', s=40);"
   ]
  },
  {
   "cell_type": "code",
   "execution_count": null,
   "id": "b6083e78",
   "metadata": {},
   "outputs": [],
   "source": [
    "p_value_ab = np.count_nonzero(simulated_ab_statistics >= observed_ab_statistic) / num_simulations \n",
    "p_value_ab"
   ]
  }
 ],
 "metadata": {
  "kernelspec": {
   "display_name": "Python 3 (ipykernel)",
   "language": "python",
   "name": "python3"
  },
  "language_info": {
   "codemirror_mode": {
    "name": "ipython",
    "version": 3
   },
   "file_extension": ".py",
   "mimetype": "text/x-python",
   "name": "python",
   "nbconvert_exporter": "python",
   "pygments_lexer": "ipython3",
   "version": "3.10.11"
  }
 },
 "nbformat": 4,
 "nbformat_minor": 5
}
