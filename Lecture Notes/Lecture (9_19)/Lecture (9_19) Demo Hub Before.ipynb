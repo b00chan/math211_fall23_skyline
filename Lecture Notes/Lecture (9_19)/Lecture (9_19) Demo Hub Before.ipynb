{
 "cells": [
  {
   "cell_type": "markdown",
   "id": "b2e231b9",
   "metadata": {},
   "source": [
    "# [Python Reference Link](http://www.data8.org/sp20/python-reference.html)\n",
    "*Run the cell below so that we can set our modules up*"
   ]
  },
  {
   "cell_type": "code",
   "execution_count": 1,
   "id": "6db2d9f8",
   "metadata": {},
   "outputs": [],
   "source": [
    "import numpy as np\n",
    "from datascience import *"
   ]
  },
  {
   "cell_type": "code",
   "execution_count": 2,
   "id": "c1467ad3",
   "metadata": {},
   "outputs": [],
   "source": [
    "# These lines set up graphing capabilities.\n",
    "import matplotlib\n",
    "%matplotlib inline\n",
    "import matplotlib.pyplot as plt\n",
    "plt.style.use('fivethirtyeight')\n",
    "import warnings\n",
    "warnings.simplefilter('ignore', FutureWarning)\n",
    "\n",
    "from ipywidgets import interact, interactive, fixed, interact_manual\n",
    "import ipywidgets as widgets"
   ]
  },
  {
   "cell_type": "markdown",
   "id": "573909dc",
   "metadata": {},
   "source": [
    "# Defining Functions"
   ]
  },
  {
   "cell_type": "code",
   "execution_count": null,
   "id": "0cd6b9fc",
   "metadata": {},
   "outputs": [],
   "source": [
    "def triple(this_input):\n",
    "    the_output = 3*this_input\n",
    "    return the_output"
   ]
  },
  {
   "cell_type": "code",
   "execution_count": null,
   "id": "11379487",
   "metadata": {},
   "outputs": [],
   "source": [
    "triple(2)"
   ]
  },
  {
   "cell_type": "code",
   "execution_count": null,
   "id": "bb1c6868",
   "metadata": {},
   "outputs": [],
   "source": [
    "#NOTE: Your defined functions can be type-agnostic!!\n",
    "triple('ha')"
   ]
  },
  {
   "cell_type": "code",
   "execution_count": null,
   "id": "bb30cc9a",
   "metadata": {},
   "outputs": [],
   "source": [
    "def plus_one(this_input):\n",
    "    return this_input+1"
   ]
  },
  {
   "cell_type": "code",
   "execution_count": null,
   "id": "b95ed5f0",
   "metadata": {},
   "outputs": [],
   "source": [
    "plus_one(3)"
   ]
  },
  {
   "cell_type": "code",
   "execution_count": null,
   "id": "c62d19c7",
   "metadata": {},
   "outputs": [],
   "source": [
    "def double(x):\n",
    "    return(x*2)"
   ]
  },
  {
   "cell_type": "code",
   "execution_count": null,
   "id": "e23d164e",
   "metadata": {},
   "outputs": [],
   "source": [
    "x = double(4)"
   ]
  },
  {
   "cell_type": "code",
   "execution_count": null,
   "id": "e33091e2",
   "metadata": {},
   "outputs": [],
   "source": [
    "double(5)"
   ]
  },
  {
   "cell_type": "code",
   "execution_count": null,
   "id": "1b6e23f0",
   "metadata": {},
   "outputs": [],
   "source": [
    "x"
   ]
  },
  {
   "cell_type": "code",
   "execution_count": null,
   "id": "a175762e",
   "metadata": {},
   "outputs": [],
   "source": []
  },
  {
   "cell_type": "markdown",
   "id": "add66159",
   "metadata": {},
   "source": [
    "# Creating Functions to Customize our Data"
   ]
  },
  {
   "cell_type": "markdown",
   "id": "f9ef953e",
   "metadata": {},
   "source": [
    "Let's take a look at our Math 211 Survey Data that we distributed. "
   ]
  },
  {
   "cell_type": "code",
   "execution_count": 4,
   "id": "343222c1",
   "metadata": {},
   "outputs": [
    {
     "data": {
      "text/html": [
       "<table border=\"1\" class=\"dataframe\">\n",
       "    <thead>\n",
       "        <tr>\n",
       "            <th>Timestamp</th> <th>Surveyor</th> <th>GPA</th> <th>introversion/extroversion</th> <th>Pets</th> <th>Handed</th> <th>Sleep Position</th> <th>K-Pop</th> <th>K-Pop Group</th> <th>travel destination</th> <th>Birthplace </th> <th>Transfer destination</th> <th>Fear</th> <th>Music Genre</th> <th>Color </th>\n",
       "        </tr>\n",
       "    </thead>\n",
       "    <tbody>\n",
       "        <tr>\n",
       "            <td>8/17/2023 16:33</td> <td>Christian Le</td> <td>2.86</td> <td>6                        </td> <td>Dogs</td> <td>Right-handed</td> <td>On my side    </td> <td>Yes  </td> <td>Le Sserafim</td> <td>Japan             </td> <td>Local      </td> <td>UC                  </td> <td>Working          </td> <td>Pop        </td> <td>Red   </td>\n",
       "        </tr>\n",
       "        <tr>\n",
       "            <td>8/17/2023 16:34</td> <td>Christian Le</td> <td>4   </td> <td>8                        </td> <td>nan </td> <td>Right-handed</td> <td>On my back    </td> <td>Yes  </td> <td>Le Sserafim</td> <td>Switzerland       </td> <td>Local      </td> <td>UC                  </td> <td>A regretful life </td> <td>All        </td> <td>Black </td>\n",
       "        </tr>\n",
       "        <tr>\n",
       "            <td>8/17/2023 16:38</td> <td>Christian Le</td> <td>2.5 </td> <td>8                        </td> <td>Cats</td> <td>Right-handed</td> <td>On my stomach </td> <td>Yes  </td> <td>Seventeen  </td> <td>Hawaii            </td> <td>Local      </td> <td>UC Transfer         </td> <td>Death, Spiders   </td> <td>R&B, K-POP </td> <td>Green </td>\n",
       "        </tr>\n",
       "    </tbody>\n",
       "</table>\n",
       "<p>... (230 rows omitted)</p>"
      ],
      "text/plain": [
       "<IPython.core.display.HTML object>"
      ]
     },
     "metadata": {},
     "output_type": "display_data"
    }
   ],
   "source": [
    "math211_survey = Table.read_table('Math211_FallSurvey.csv')\n",
    "math211_survey.show(3)"
   ]
  },
  {
   "cell_type": "markdown",
   "id": "645ff747",
   "metadata": {},
   "source": [
    "One column of data that I found most interesting is the `Travel Destination` column. I think it's nice to read through that column and see what our respondents put down. However, I want to get a sense of **how far away** they are from San Bruno. So I created a table using the following [distance calculator website](https://www.distance.to/San-Bruno,CA,USA) and constructed the following data: "
   ]
  },
  {
   "cell_type": "code",
   "execution_count": null,
   "id": "58d45324",
   "metadata": {},
   "outputs": [],
   "source": [
    "travel_distances = Table.read_table('Travel_destination_distances.csv')\n",
    "travel_distances.show(3)"
   ]
  },
  {
   "cell_type": "code",
   "execution_count": null,
   "id": "71cf2d9c",
   "metadata": {},
   "outputs": [],
   "source": [
    "def find_travel_distance(destination):\n",
    "    ...    \n",
    "    return ..."
   ]
  },
  {
   "cell_type": "code",
   "execution_count": null,
   "id": "8474eb5d",
   "metadata": {},
   "outputs": [],
   "source": [
    "find_travel_distance('Cancun')"
   ]
  },
  {
   "cell_type": "code",
   "execution_count": null,
   "id": "20c30881",
   "metadata": {
    "scrolled": false
   },
   "outputs": [],
   "source": []
  },
  {
   "cell_type": "markdown",
   "id": "11039c90",
   "metadata": {},
   "source": [
    "# Creating a histogram of Timestamps"
   ]
  },
  {
   "cell_type": "code",
   "execution_count": 16,
   "id": "77e590a3",
   "metadata": {},
   "outputs": [
    {
     "data": {
      "text/plain": [
       "'8/17/2023 16:33'"
      ]
     },
     "execution_count": 16,
     "metadata": {},
     "output_type": "execute_result"
    }
   ],
   "source": [
    "math211_survey.column('Timestamp').item(0)"
   ]
  },
  {
   "cell_type": "code",
   "execution_count": 15,
   "id": "49645755",
   "metadata": {},
   "outputs": [],
   "source": [
    "\n",
    "\n",
    "def extract_date(timestamp):\n",
    "    return ..."
   ]
  },
  {
   "cell_type": "code",
   "execution_count": 14,
   "id": "8071adc6",
   "metadata": {},
   "outputs": [
    {
     "data": {
      "text/plain": [
       "'8/17/202'"
      ]
     },
     "execution_count": 14,
     "metadata": {},
     "output_type": "execute_result"
    }
   ],
   "source": [
    "extract_date(math211_survey.column('Timestamp').item(0))"
   ]
  },
  {
   "cell_type": "code",
   "execution_count": null,
   "id": "70c6b468",
   "metadata": {},
   "outputs": [],
   "source": []
  }
 ],
 "metadata": {
  "kernelspec": {
   "display_name": "Python 3 (ipykernel)",
   "language": "python",
   "name": "python3"
  },
  "language_info": {
   "codemirror_mode": {
    "name": "ipython",
    "version": 3
   },
   "file_extension": ".py",
   "mimetype": "text/x-python",
   "name": "python",
   "nbconvert_exporter": "python",
   "pygments_lexer": "ipython3",
   "version": "3.10.11"
  }
 },
 "nbformat": 4,
 "nbformat_minor": 5
}
