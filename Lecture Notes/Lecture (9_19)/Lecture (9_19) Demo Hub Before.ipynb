{
 "cells": [
  {
   "cell_type": "markdown",
   "id": "b2e231b9",
   "metadata": {},
   "source": [
    "# [Python Reference Link](http://www.data8.org/sp20/python-reference.html)\n",
    "*Run the cell below so that we can set our modules up*"
   ]
  },
  {
   "cell_type": "code",
   "execution_count": null,
   "id": "6db2d9f8",
   "metadata": {},
   "outputs": [],
   "source": [
    "import numpy as np\n",
    "from datascience import *"
   ]
  },
  {
   "cell_type": "code",
   "execution_count": null,
   "id": "c1467ad3",
   "metadata": {},
   "outputs": [],
   "source": [
    "# These lines set up graphing capabilities.\n",
    "import matplotlib\n",
    "%matplotlib inline\n",
    "import matplotlib.pyplot as plt\n",
    "plt.style.use('fivethirtyeight')\n",
    "import warnings\n",
    "warnings.simplefilter('ignore', FutureWarning)\n",
    "\n",
    "from ipywidgets import interact, interactive, fixed, interact_manual\n",
    "import ipywidgets as widgets"
   ]
  },
  {
   "cell_type": "markdown",
   "id": "573909dc",
   "metadata": {},
   "source": [
    "# Defining Functions"
   ]
  },
  {
   "cell_type": "code",
   "execution_count": null,
   "id": "0cd6b9fc",
   "metadata": {},
   "outputs": [],
   "source": [
    "def triple(this_input):\n",
    "    the_output = 3*this_input\n",
    "    return the_output"
   ]
  },
  {
   "cell_type": "code",
   "execution_count": null,
   "id": "11379487",
   "metadata": {},
   "outputs": [],
   "source": [
    "triple(2)"
   ]
  },
  {
   "cell_type": "code",
   "execution_count": null,
   "id": "bb1c6868",
   "metadata": {},
   "outputs": [],
   "source": [
    "#NOTE: Your defined functions can be type-agnostic!!\n",
    "triple('ha')"
   ]
  },
  {
   "cell_type": "code",
   "execution_count": null,
   "id": "bb30cc9a",
   "metadata": {},
   "outputs": [],
   "source": [
    "def plus_one(this_input):\n",
    "    return this_input+1"
   ]
  },
  {
   "cell_type": "code",
   "execution_count": null,
   "id": "b95ed5f0",
   "metadata": {},
   "outputs": [],
   "source": [
    "plus_one(3)"
   ]
  },
  {
   "cell_type": "code",
   "execution_count": null,
   "id": "c62d19c7",
   "metadata": {},
   "outputs": [],
   "source": [
    "def double(x):\n",
    "    return(x*2)"
   ]
  },
  {
   "cell_type": "code",
   "execution_count": null,
   "id": "e23d164e",
   "metadata": {},
   "outputs": [],
   "source": [
    "x = double(4)"
   ]
  },
  {
   "cell_type": "code",
   "execution_count": null,
   "id": "e33091e2",
   "metadata": {},
   "outputs": [],
   "source": [
    "double(5)"
   ]
  },
  {
   "cell_type": "code",
   "execution_count": null,
   "id": "1b6e23f0",
   "metadata": {},
   "outputs": [],
   "source": [
    "x"
   ]
  },
  {
   "cell_type": "code",
   "execution_count": null,
   "id": "a175762e",
   "metadata": {},
   "outputs": [],
   "source": []
  },
  {
   "cell_type": "markdown",
   "id": "add66159",
   "metadata": {},
   "source": [
    "# Creating Functions to Customize our Data"
   ]
  },
  {
   "cell_type": "markdown",
   "id": "f9ef953e",
   "metadata": {},
   "source": [
    "Let's take a look at our Math 211 Survey Data that we distributed. "
   ]
  },
  {
   "cell_type": "code",
   "execution_count": null,
   "id": "343222c1",
   "metadata": {},
   "outputs": [],
   "source": [
    "math211_survey = Table.read_table('Math211_FallSurvey.csv')\n",
    "math211_survey.show(3)"
   ]
  },
  {
   "cell_type": "markdown",
   "id": "645ff747",
   "metadata": {},
   "source": [
    "One column of data that I found most interesting is the `Travel Destination` column. I think it's nice to read through that column and see what our respondents put down. However, I want to get a sense of **how far away** they are from San Bruno. So I created a table using the following [distance calculator website](https://www.distance.to/San-Bruno,CA,USA) and constructed the following data: "
   ]
  },
  {
   "cell_type": "code",
   "execution_count": null,
   "id": "58d45324",
   "metadata": {},
   "outputs": [],
   "source": [
    "travel_distances = Table.read_table('Travel_destination_distances.csv')\n",
    "travel_distances.show(3)"
   ]
  },
  {
   "cell_type": "code",
   "execution_count": null,
   "id": "71cf2d9c",
   "metadata": {},
   "outputs": [],
   "source": [
    "def find_travel_distance(destination):\n",
    "    ...    \n",
    "    return ..."
   ]
  },
  {
   "cell_type": "code",
   "execution_count": null,
   "id": "8474eb5d",
   "metadata": {},
   "outputs": [],
   "source": [
    "find_travel_distance('Cancun')"
   ]
  },
  {
   "cell_type": "code",
   "execution_count": null,
   "id": "65abe58a",
   "metadata": {},
   "outputs": [],
   "source": []
  },
  {
   "cell_type": "code",
   "execution_count": null,
   "id": "b2b9c55f",
   "metadata": {},
   "outputs": [],
   "source": []
  },
  {
   "cell_type": "markdown",
   "id": "e2b26e26",
   "metadata": {},
   "source": [
    "# A look into Histograms"
   ]
  },
  {
   "cell_type": "code",
   "execution_count": null,
   "id": "0f0a0a54",
   "metadata": {},
   "outputs": [],
   "source": []
  }
 ],
 "metadata": {
  "kernelspec": {
   "display_name": "Python 3 (ipykernel)",
   "language": "python",
   "name": "python3"
  },
  "language_info": {
   "codemirror_mode": {
    "name": "ipython",
    "version": 3
   },
   "file_extension": ".py",
   "mimetype": "text/x-python",
   "name": "python",
   "nbconvert_exporter": "python",
   "pygments_lexer": "ipython3",
   "version": "3.10.11"
  }
 },
 "nbformat": 4,
 "nbformat_minor": 5
}
