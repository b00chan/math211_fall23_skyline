{
 "cells": [
  {
   "cell_type": "markdown",
   "id": "b2e231b9",
   "metadata": {},
   "source": [
    "# [Python Reference Link](http://www.data8.org/sp20/python-reference.html)\n",
    "*Run the cell below so that we can set our modules up*"
   ]
  },
  {
   "cell_type": "code",
   "execution_count": 1,
   "id": "6db2d9f8",
   "metadata": {},
   "outputs": [],
   "source": [
    "import numpy as np\n",
    "from datascience import *"
   ]
  },
  {
   "cell_type": "code",
   "execution_count": 2,
   "id": "c1467ad3",
   "metadata": {},
   "outputs": [],
   "source": [
    "# These lines set up graphing capabilities.\n",
    "import matplotlib\n",
    "%matplotlib inline\n",
    "import matplotlib.pyplot as plt\n",
    "plt.style.use('fivethirtyeight')\n",
    "import warnings\n",
    "warnings.simplefilter('ignore', FutureWarning)\n",
    "\n",
    "from ipywidgets import interact, interactive, fixed, interact_manual\n",
    "import ipywidgets as widgets"
   ]
  },
  {
   "cell_type": "markdown",
   "id": "573909dc",
   "metadata": {},
   "source": [
    "# Defining Functions"
   ]
  },
  {
   "cell_type": "code",
   "execution_count": 3,
   "id": "0cd6b9fc",
   "metadata": {},
   "outputs": [],
   "source": [
    "def triple(this_input):\n",
    "    the_output = 3*this_input\n",
    "    return the_output"
   ]
  },
  {
   "cell_type": "code",
   "execution_count": 4,
   "id": "11379487",
   "metadata": {},
   "outputs": [
    {
     "data": {
      "text/plain": [
       "6"
      ]
     },
     "execution_count": 4,
     "metadata": {},
     "output_type": "execute_result"
    }
   ],
   "source": [
    "triple(2)"
   ]
  },
  {
   "cell_type": "code",
   "execution_count": 5,
   "id": "bb1c6868",
   "metadata": {},
   "outputs": [
    {
     "data": {
      "text/plain": [
       "'hahaha'"
      ]
     },
     "execution_count": 5,
     "metadata": {},
     "output_type": "execute_result"
    }
   ],
   "source": [
    "#NOTE: Your defined functions can be type-agnostic!!\n",
    "triple('ha')"
   ]
  },
  {
   "cell_type": "code",
   "execution_count": 6,
   "id": "bb30cc9a",
   "metadata": {},
   "outputs": [],
   "source": [
    "def plus_one(this_input):\n",
    "    return this_input+1"
   ]
  },
  {
   "cell_type": "code",
   "execution_count": 9,
   "id": "b95ed5f0",
   "metadata": {},
   "outputs": [
    {
     "data": {
      "text/plain": [
       "4"
      ]
     },
     "execution_count": 9,
     "metadata": {},
     "output_type": "execute_result"
    }
   ],
   "source": [
    "plus_one(3)"
   ]
  },
  {
   "cell_type": "code",
   "execution_count": 10,
   "id": "c62d19c7",
   "metadata": {},
   "outputs": [],
   "source": [
    "def double(x):\n",
    "    return(x*2)"
   ]
  },
  {
   "cell_type": "code",
   "execution_count": 18,
   "id": "e23d164e",
   "metadata": {},
   "outputs": [
    {
     "data": {
      "text/plain": [
       "8"
      ]
     },
     "execution_count": 18,
     "metadata": {},
     "output_type": "execute_result"
    }
   ],
   "source": [
    "x = double(4)\n",
    "x"
   ]
  },
  {
   "cell_type": "code",
   "execution_count": 15,
   "id": "e33091e2",
   "metadata": {},
   "outputs": [
    {
     "data": {
      "text/plain": [
       "10"
      ]
     },
     "execution_count": 15,
     "metadata": {},
     "output_type": "execute_result"
    }
   ],
   "source": [
    "double(5)"
   ]
  },
  {
   "cell_type": "code",
   "execution_count": 17,
   "id": "1b6e23f0",
   "metadata": {},
   "outputs": [
    {
     "data": {
      "text/plain": [
       "8"
      ]
     },
     "execution_count": 17,
     "metadata": {},
     "output_type": "execute_result"
    }
   ],
   "source": [
    "x"
   ]
  },
  {
   "cell_type": "code",
   "execution_count": null,
   "id": "a175762e",
   "metadata": {},
   "outputs": [],
   "source": []
  },
  {
   "cell_type": "markdown",
   "id": "add66159",
   "metadata": {},
   "source": [
    "# Creating Functions to Customize our Data"
   ]
  },
  {
   "cell_type": "markdown",
   "id": "f9ef953e",
   "metadata": {},
   "source": [
    "Let's take a look at our Math 211 Survey Data that we distributed. "
   ]
  },
  {
   "cell_type": "code",
   "execution_count": 21,
   "id": "343222c1",
   "metadata": {},
   "outputs": [
    {
     "data": {
      "text/html": [
       "<table border=\"1\" class=\"dataframe\">\n",
       "    <thead>\n",
       "        <tr>\n",
       "            <th>Timestamp</th> <th>Surveyor</th> <th>GPA</th> <th>introversion/extroversion</th> <th>Pets</th> <th>Handed</th> <th>Sleep Position</th> <th>K-Pop</th> <th>K-Pop Group</th> <th>travel destination</th> <th>Birthplace </th> <th>Transfer destination</th> <th>Fear</th> <th>Music Genre</th> <th>Color </th>\n",
       "        </tr>\n",
       "    </thead>\n",
       "    <tbody>\n",
       "        <tr>\n",
       "            <td>8/17/2023 16:33</td> <td>Christian Le</td> <td>2.86</td> <td>6                        </td> <td>Dogs</td> <td>Right-handed</td> <td>On my side    </td> <td>Yes  </td> <td>Le Sserafim</td> <td>Japan             </td> <td>Local      </td> <td>UC                  </td> <td>Working          </td> <td>Pop        </td> <td>Red   </td>\n",
       "        </tr>\n",
       "        <tr>\n",
       "            <td>8/17/2023 16:34</td> <td>Christian Le</td> <td>4   </td> <td>8                        </td> <td>nan </td> <td>Right-handed</td> <td>On my back    </td> <td>Yes  </td> <td>Le Sserafim</td> <td>Switzerland       </td> <td>Local      </td> <td>UC                  </td> <td>A regretful life </td> <td>All        </td> <td>Black </td>\n",
       "        </tr>\n",
       "        <tr>\n",
       "            <td>8/17/2023 16:38</td> <td>Christian Le</td> <td>2.5 </td> <td>8                        </td> <td>Cats</td> <td>Right-handed</td> <td>On my stomach </td> <td>Yes  </td> <td>Seventeen  </td> <td>Hawaii            </td> <td>Local      </td> <td>UC Transfer         </td> <td>Death, Spiders   </td> <td>R&B, K-POP </td> <td>Green </td>\n",
       "        </tr>\n",
       "    </tbody>\n",
       "</table>\n",
       "<p>... (230 rows omitted)</p>"
      ],
      "text/plain": [
       "<IPython.core.display.HTML object>"
      ]
     },
     "metadata": {},
     "output_type": "display_data"
    }
   ],
   "source": [
    "math211_survey = Table.read_table('Math211_FallSurvey.csv')\n",
    "math211_survey.show(3)"
   ]
  },
  {
   "cell_type": "markdown",
   "id": "645ff747",
   "metadata": {},
   "source": [
    "One column of data that I found most interesting is the `Travel Destination` column. I think it's nice to read through that column and see what our respondents put down. However, I want to get a sense of **how far away** they are from San Bruno. So I created a table using the following [distance calculator website](https://www.distance.to/San-Bruno,CA,USA) and constructed the following data: "
   ]
  },
  {
   "cell_type": "code",
   "execution_count": 24,
   "id": "58d45324",
   "metadata": {},
   "outputs": [
    {
     "data": {
      "text/html": [
       "<table border=\"1\" class=\"dataframe\">\n",
       "    <thead>\n",
       "        <tr>\n",
       "            <th>Travel Destination</th> <th>Distance (mi)</th>\n",
       "        </tr>\n",
       "    </thead>\n",
       "    <tbody>\n",
       "        <tr>\n",
       "            <td>Amsterdam                  </td> <td>5459.31      </td>\n",
       "        </tr>\n",
       "        <tr>\n",
       "            <td>Asia, South Korea,Vietnam  </td> <td>6765.77      </td>\n",
       "        </tr>\n",
       "        <tr>\n",
       "            <td>Asia                       </td> <td>6765.77      </td>\n",
       "        </tr>\n",
       "        <tr>\n",
       "            <td>Bangkok                    </td> <td>7926.61      </td>\n",
       "        </tr>\n",
       "        <tr>\n",
       "            <td>Beach                      </td> <td>0            </td>\n",
       "        </tr>\n",
       "        <tr>\n",
       "            <td>Beach, Forests             </td> <td>0            </td>\n",
       "        </tr>\n",
       "        <tr>\n",
       "            <td>Bed                        </td> <td>0            </td>\n",
       "        </tr>\n",
       "        <tr>\n",
       "            <td>Brazil                     </td> <td>5447.27      </td>\n",
       "        </tr>\n",
       "        <tr>\n",
       "            <td>Burma                      </td> <td>7678.57      </td>\n",
       "        </tr>\n",
       "        <tr>\n",
       "            <td>California                 </td> <td>148.26       </td>\n",
       "        </tr>\n",
       "        <tr>\n",
       "            <td>Canada                     </td> <td>1600.18      </td>\n",
       "        </tr>\n",
       "        <tr>\n",
       "            <td>Cancun                     </td> <td>2405.18      </td>\n",
       "        </tr>\n",
       "        <tr>\n",
       "            <td>China                      </td> <td>6570.48      </td>\n",
       "        </tr>\n",
       "        <tr>\n",
       "            <td>Costa Rica                 </td> <td>3076.66      </td>\n",
       "        </tr>\n",
       "        <tr>\n",
       "            <td>Disney Land                </td> <td>364.77       </td>\n",
       "        </tr>\n",
       "        <tr>\n",
       "            <td>Dubai                      </td> <td>8102.07      </td>\n",
       "        </tr>\n",
       "        <tr>\n",
       "            <td>Ecuador                    </td> <td>3890.7       </td>\n",
       "        </tr>\n",
       "        <tr>\n",
       "            <td>England                    </td> <td>5312.54      </td>\n",
       "        </tr>\n",
       "        <tr>\n",
       "            <td>Europe                     </td> <td>5592.38      </td>\n",
       "        </tr>\n",
       "        <tr>\n",
       "            <td>Florence                   </td> <td>6108.75      </td>\n",
       "        </tr>\n",
       "        <tr>\n",
       "            <td>Florida                    </td> <td>2368.74      </td>\n",
       "        </tr>\n",
       "        <tr>\n",
       "            <td>France                     </td> <td>5709.08      </td>\n",
       "        </tr>\n",
       "        <tr>\n",
       "            <td>Future 2077                </td> <td>0            </td>\n",
       "        </tr>\n",
       "        <tr>\n",
       "            <td>Greece                     </td> <td>6679.73      </td>\n",
       "        </tr>\n",
       "        <tr>\n",
       "            <td>Hawaii                     </td> <td>2344.8       </td>\n",
       "        </tr>\n",
       "        <tr>\n",
       "            <td>Home                       </td> <td>0            </td>\n",
       "        </tr>\n",
       "        <tr>\n",
       "            <td>Hong Kong                  </td> <td>6899.86      </td>\n",
       "        </tr>\n",
       "        <tr>\n",
       "            <td>Hot Springs                </td> <td>0            </td>\n",
       "        </tr>\n",
       "        <tr>\n",
       "            <td>Iceland                    </td> <td>4281.14      </td>\n",
       "        </tr>\n",
       "        <tr>\n",
       "            <td>Indonesia                  </td> <td>7928.19      </td>\n",
       "        </tr>\n",
       "        <tr>\n",
       "            <td>Italy                      </td> <td>6207.77      </td>\n",
       "        </tr>\n",
       "        <tr>\n",
       "            <td>Japan                      </td> <td>5142.42      </td>\n",
       "        </tr>\n",
       "        <tr>\n",
       "            <td>Japan, Philippines, Hawaii </td> <td>4828.79      </td>\n",
       "        </tr>\n",
       "        <tr>\n",
       "            <td>Jungle                     </td> <td>0            </td>\n",
       "        </tr>\n",
       "        <tr>\n",
       "            <td>Korea                      </td> <td>5660.08      </td>\n",
       "        </tr>\n",
       "        <tr>\n",
       "            <td>Korea, China               </td> <td>6115.28      </td>\n",
       "        </tr>\n",
       "        <tr>\n",
       "            <td>LA                         </td> <td>339.93       </td>\n",
       "        </tr>\n",
       "        <tr>\n",
       "            <td>Lake Tahoe                 </td> <td>159.44       </td>\n",
       "        </tr>\n",
       "        <tr>\n",
       "            <td>Lake Tahoe,Reno            </td> <td>175.755      </td>\n",
       "        </tr>\n",
       "        <tr>\n",
       "            <td>Las Vegas                  </td> <td>414.16       </td>\n",
       "        </tr>\n",
       "        <tr>\n",
       "            <td>London                     </td> <td>5354.37      </td>\n",
       "        </tr>\n",
       "        <tr>\n",
       "            <td>Los Angeles                </td> <td>339.93       </td>\n",
       "        </tr>\n",
       "        <tr>\n",
       "            <td>Mexico                     </td> <td>1575.94      </td>\n",
       "        </tr>\n",
       "        <tr>\n",
       "            <td>Monterey                   </td> <td>76.66        </td>\n",
       "        </tr>\n",
       "        <tr>\n",
       "            <td>mostly everywhere          </td> <td>0            </td>\n",
       "        </tr>\n",
       "        <tr>\n",
       "            <td>Mt Sashta                  </td> <td>261.35       </td>\n",
       "        </tr>\n",
       "        <tr>\n",
       "            <td>My bed                     </td> <td>0            </td>\n",
       "        </tr>\n",
       "        <tr>\n",
       "            <td>National Park              </td> <td>0            </td>\n",
       "        </tr>\n",
       "        <tr>\n",
       "            <td>New York                   </td> <td>2570.48      </td>\n",
       "        </tr>\n",
       "        <tr>\n",
       "            <td>New Zealand                </td> <td>6715.53      </td>\n",
       "        </tr>\n",
       "        <tr>\n",
       "            <td>nan                        </td> <td>0            </td>\n",
       "        </tr>\n",
       "        <tr>\n",
       "            <td>Oregon                     </td> <td>451.25       </td>\n",
       "        </tr>\n",
       "        <tr>\n",
       "            <td>Orlando                    </td> <td>2436.35      </td>\n",
       "        </tr>\n",
       "        <tr>\n",
       "            <td>Outer Space                </td> <td>0            </td>\n",
       "        </tr>\n",
       "        <tr>\n",
       "            <td>Park                       </td> <td>0            </td>\n",
       "        </tr>\n",
       "        <tr>\n",
       "            <td>Philippines                </td> <td>6999.15      </td>\n",
       "        </tr>\n",
       "        <tr>\n",
       "            <td>Rivers                     </td> <td>0            </td>\n",
       "        </tr>\n",
       "        <tr>\n",
       "            <td>San Francisco              </td> <td>9.99         </td>\n",
       "        </tr>\n",
       "        <tr>\n",
       "            <td>Scandinavia, Sweden, Norway</td> <td>5101.99      </td>\n",
       "        </tr>\n",
       "        <tr>\n",
       "            <td>Seattle                    </td> <td>689.27       </td>\n",
       "        </tr>\n",
       "        <tr>\n",
       "            <td>Seattle, Washington        </td> <td>689.27       </td>\n",
       "        </tr>\n",
       "        <tr>\n",
       "            <td>Seoul, South Korea         </td> <td>5617.26      </td>\n",
       "        </tr>\n",
       "        <tr>\n",
       "            <td>Serramonte Shopping Center </td> <td>4.35         </td>\n",
       "        </tr>\n",
       "        <tr>\n",
       "            <td>SF                         </td> <td>9.99         </td>\n",
       "        </tr>\n",
       "        <tr>\n",
       "            <td>Shanghai                   </td> <td>6146.3       </td>\n",
       "        </tr>\n",
       "        <tr>\n",
       "            <td>Singapore                  </td> <td>8445.31      </td>\n",
       "        </tr>\n",
       "        <tr>\n",
       "            <td>South Korea and LA         </td> <td>5660.08      </td>\n",
       "        </tr>\n",
       "        <tr>\n",
       "            <td>South of France            </td> <td>5958.62      </td>\n",
       "        </tr>\n",
       "        <tr>\n",
       "            <td>Southern California        </td> <td>450.8        </td>\n",
       "        </tr>\n",
       "        <tr>\n",
       "            <td>Spain                      </td> <td>5806.71      </td>\n",
       "        </tr>\n",
       "        <tr>\n",
       "            <td>Spain, Greece, Italy       </td> <td>6231.4       </td>\n",
       "        </tr>\n",
       "        <tr>\n",
       "            <td>Sun                        </td> <td>0            </td>\n",
       "        </tr>\n",
       "        <tr>\n",
       "            <td>Swiszerland,Greece         </td> <td>6258.16      </td>\n",
       "        </tr>\n",
       "        <tr>\n",
       "            <td>Switzerland                </td> <td>5836.59      </td>\n",
       "        </tr>\n",
       "        <tr>\n",
       "            <td>Tahoe                      </td> <td>159.44       </td>\n",
       "        </tr>\n",
       "        <tr>\n",
       "            <td>Taiwan                     </td> <td>6517.52      </td>\n",
       "        </tr>\n",
       "        <tr>\n",
       "            <td>Thailand                   </td> <td>7809.68      </td>\n",
       "        </tr>\n",
       "        <tr>\n",
       "            <td>Theme parks                </td> <td>0            </td>\n",
       "        </tr>\n",
       "        <tr>\n",
       "            <td>Tokyo                      </td> <td>5145.06      </td>\n",
       "        </tr>\n",
       "        <tr>\n",
       "            <td>Tokyo, Japan               </td> <td>5145.06      </td>\n",
       "        </tr>\n",
       "        <tr>\n",
       "            <td>USA                        </td> <td>1293.92      </td>\n",
       "        </tr>\n",
       "        <tr>\n",
       "            <td>Yosemite Falls             </td> <td>156.67       </td>\n",
       "        </tr>\n",
       "    </tbody>\n",
       "</table>"
      ],
      "text/plain": [
       "<IPython.core.display.HTML object>"
      ]
     },
     "metadata": {},
     "output_type": "display_data"
    }
   ],
   "source": [
    "travel_distances = Table.read_table('Travel_destination_distances.csv')\n",
    "travel_distances.show()"
   ]
  },
  {
   "cell_type": "code",
   "execution_count": 40,
   "id": "774819b5",
   "metadata": {},
   "outputs": [
    {
     "data": {
      "text/html": [
       "<table border=\"1\" class=\"dataframe\">\n",
       "    <thead>\n",
       "        <tr>\n",
       "            <th>Travel Destination</th> <th>Distance (mi)</th>\n",
       "        </tr>\n",
       "    </thead>\n",
       "    <tbody>\n",
       "        <tr>\n",
       "            <td>Cancun            </td> <td>2405.18      </td>\n",
       "        </tr>\n",
       "    </tbody>\n",
       "</table>"
      ],
      "text/plain": [
       "<IPython.core.display.HTML object>"
      ]
     },
     "metadata": {},
     "output_type": "display_data"
    },
    {
     "name": "stdout",
     "output_type": "stream",
     "text": [
      "[ 2405.18]\n"
     ]
    },
    {
     "data": {
      "text/plain": [
       "2405.18"
      ]
     },
     "execution_count": 40,
     "metadata": {},
     "output_type": "execute_result"
    }
   ],
   "source": [
    "cancun_table = travel_distances.where('Travel Destination','Cancun')\n",
    "cancun_table.show()\n",
    "distance_array = cancun_table.column('Distance (mi)')\n",
    "print(distance_array)\n",
    "cancun_distance = distance_array.item(0)\n",
    "cancun_distance"
   ]
  },
  {
   "cell_type": "code",
   "execution_count": null,
   "id": "da2a54da",
   "metadata": {},
   "outputs": [],
   "source": []
  },
  {
   "cell_type": "code",
   "execution_count": 41,
   "id": "71cf2d9c",
   "metadata": {},
   "outputs": [],
   "source": [
    "def find_travel_distance(destination):\n",
    "    destination_table = travel_distances.where('Travel Destination',destination)\n",
    "    distance_array = destination_table.column('Distance (mi)')\n",
    "    destination_distance = distance_array.item(0)\n",
    "    return destination_distance"
   ]
  },
  {
   "cell_type": "code",
   "execution_count": 42,
   "id": "8474eb5d",
   "metadata": {},
   "outputs": [
    {
     "data": {
      "text/plain": [
       "2405.18"
      ]
     },
     "execution_count": 42,
     "metadata": {},
     "output_type": "execute_result"
    }
   ],
   "source": [
    "find_travel_distance('Cancun')"
   ]
  },
  {
   "cell_type": "code",
   "execution_count": 44,
   "id": "8c44bfbb",
   "metadata": {},
   "outputs": [
    {
     "data": {
      "text/html": [
       "<table border=\"1\" class=\"dataframe\">\n",
       "    <thead>\n",
       "        <tr>\n",
       "            <th>Timestamp</th> <th>Surveyor</th> <th>GPA</th> <th>introversion/extroversion</th> <th>Pets</th> <th>Handed</th> <th>Sleep Position</th> <th>K-Pop</th> <th>K-Pop Group</th> <th>travel destination</th> <th>Birthplace </th> <th>Transfer destination</th> <th>Fear</th> <th>Music Genre</th> <th>Color </th>\n",
       "        </tr>\n",
       "    </thead>\n",
       "    <tbody>\n",
       "        <tr>\n",
       "            <td>8/17/2023 16:33</td> <td>Christian Le</td> <td>2.86</td> <td>6                        </td> <td>Dogs                </td> <td>Right-handed</td> <td>On my side    </td> <td>Yes  </td> <td>Le Sserafim</td> <td>Japan             </td> <td>Local                    </td> <td>UC                  </td> <td>Working                                </td> <td>Pop        </td> <td>Red       </td>\n",
       "        </tr>\n",
       "        <tr>\n",
       "            <td>8/17/2023 16:34</td> <td>Christian Le</td> <td>4   </td> <td>8                        </td> <td>nan                 </td> <td>Right-handed</td> <td>On my back    </td> <td>Yes  </td> <td>Le Sserafim</td> <td>Switzerland       </td> <td>Local                    </td> <td>UC                  </td> <td>A regretful life                       </td> <td>All        </td> <td>Black     </td>\n",
       "        </tr>\n",
       "        <tr>\n",
       "            <td>8/17/2023 16:38</td> <td>Christian Le</td> <td>2.5 </td> <td>8                        </td> <td>Cats                </td> <td>Right-handed</td> <td>On my stomach </td> <td>Yes  </td> <td>Seventeen  </td> <td>Hawaii            </td> <td>Local                    </td> <td>UC Transfer         </td> <td>Death, Spiders                         </td> <td>R&B, K-POP </td> <td>Green     </td>\n",
       "        </tr>\n",
       "        <tr>\n",
       "            <td>8/17/2023 16:38</td> <td>Christian Le</td> <td>3.96</td> <td>6                        </td> <td>Cats                </td> <td>Right-handed</td> <td>On my side    </td> <td>Yes  </td> <td>STAYC      </td> <td>Costa Rica        </td> <td>Local                    </td> <td>UC Grad             </td> <td>Loss of loved ones                     </td> <td>R&B, K-POP </td> <td>Purple    </td>\n",
       "        </tr>\n",
       "        <tr>\n",
       "            <td>8/17/2023 16:54</td> <td>Christian Le</td> <td>2.98</td> <td>6                        </td> <td>nan                 </td> <td>Left-handed </td> <td>On my side    </td> <td>Yes  </td> <td>New Jeans  </td> <td>Hawaii            </td> <td>Local                    </td> <td>nan                 </td> <td>Death                                  </td> <td>R&B        </td> <td>Green     </td>\n",
       "        </tr>\n",
       "        <tr>\n",
       "            <td>8/17/2023 16:55</td> <td>Christian Le</td> <td>3.8 </td> <td>8                        </td> <td>Dogs                </td> <td>Right-handed</td> <td>On my side    </td> <td>Yes  </td> <td>New Jeans  </td> <td>Hawaii            </td> <td>Local                    </td> <td>UC                  </td> <td>Being alone                            </td> <td>R&B        </td> <td>Blue      </td>\n",
       "        </tr>\n",
       "        <tr>\n",
       "            <td>8/17/2023 17:00</td> <td>Christian Le</td> <td>4   </td> <td>3                        </td> <td>nan                 </td> <td>Right-handed</td> <td>On my back    </td> <td>No   </td> <td>nan        </td> <td>Japan             </td> <td>California (not Bay Area)</td> <td>CSU                 </td> <td>Not being accepted into career program </td> <td>Hip hop    </td> <td>Khaki     </td>\n",
       "        </tr>\n",
       "        <tr>\n",
       "            <td>8/17/2023 18:13</td> <td>Christian Le</td> <td>4   </td> <td>2                        </td> <td>Cats, Dogs, Reptiles</td> <td>Both        </td> <td>On my stomach </td> <td>Yes  </td> <td>New Jeans  </td> <td>Dubai             </td> <td>Local                    </td> <td>UC                  </td> <td>Insects                                </td> <td>Pop        </td> <td>Red       </td>\n",
       "        </tr>\n",
       "        <tr>\n",
       "            <td>8/17/2023 20:38</td> <td>Casey So    </td> <td>3.86</td> <td>3                        </td> <td>Dogs                </td> <td>Right-handed</td> <td>On my back    </td> <td>Yes  </td> <td>Seventeen  </td> <td>Korea             </td> <td>Local                    </td> <td>UC                  </td> <td>Birds                                  </td> <td>Pop        </td> <td>Light Blue</td>\n",
       "        </tr>\n",
       "        <tr>\n",
       "            <td>8/17/2023 20:43</td> <td>Casey So    </td> <td>3.2 </td> <td>4                        </td> <td>nan                 </td> <td>Right-handed</td> <td>On my side    </td> <td>Yes  </td> <td>Twice      </td> <td>Philippines       </td> <td>Local                    </td> <td>UC                  </td> <td>Death                                  </td> <td>Pop        </td> <td>Blue      </td>\n",
       "        </tr>\n",
       "    </tbody>\n",
       "</table>\n",
       "<p>... (223 rows omitted)</p>"
      ],
      "text/plain": [
       "Timestamp       | Surveyor     | GPA  | introversion/extroversion | Pets                 | Handed       | Sleep Position | K-Pop | K-Pop Group | travel destination | Birthplace                | Transfer destination | Fear                                    | Music Genre | Color\n",
       "8/17/2023 16:33 | Christian Le | 2.86 | 6                         | Dogs                 | Right-handed | On my side     | Yes   | Le Sserafim | Japan              | Local                     | UC                   | Working                                 | Pop         | Red\n",
       "8/17/2023 16:34 | Christian Le | 4    | 8                         | nan                  | Right-handed | On my back     | Yes   | Le Sserafim | Switzerland        | Local                     | UC                   | A regretful life                        | All         | Black\n",
       "8/17/2023 16:38 | Christian Le | 2.5  | 8                         | Cats                 | Right-handed | On my stomach  | Yes   | Seventeen   | Hawaii             | Local                     | UC Transfer          | Death, Spiders                          | R&B, K-POP  | Green\n",
       "8/17/2023 16:38 | Christian Le | 3.96 | 6                         | Cats                 | Right-handed | On my side     | Yes   | STAYC       | Costa Rica         | Local                     | UC Grad              | Loss of loved ones                      | R&B, K-POP  | Purple\n",
       "8/17/2023 16:54 | Christian Le | 2.98 | 6                         | nan                  | Left-handed  | On my side     | Yes   | New Jeans   | Hawaii             | Local                     | nan                  | Death                                   | R&B         | Green\n",
       "8/17/2023 16:55 | Christian Le | 3.8  | 8                         | Dogs                 | Right-handed | On my side     | Yes   | New Jeans   | Hawaii             | Local                     | UC                   | Being alone                             | R&B         | Blue\n",
       "8/17/2023 17:00 | Christian Le | 4    | 3                         | nan                  | Right-handed | On my back     | No    | nan         | Japan              | California (not Bay Area) | CSU                  | Not being accepted into career program  | Hip hop     | Khaki\n",
       "8/17/2023 18:13 | Christian Le | 4    | 2                         | Cats, Dogs, Reptiles | Both         | On my stomach  | Yes   | New Jeans   | Dubai              | Local                     | UC                   | Insects                                 | Pop         | Red\n",
       "8/17/2023 20:38 | Casey So     | 3.86 | 3                         | Dogs                 | Right-handed | On my back     | Yes   | Seventeen   | Korea              | Local                     | UC                   | Birds                                   | Pop         | Light Blue\n",
       "8/17/2023 20:43 | Casey So     | 3.2  | 4                         | nan                  | Right-handed | On my side     | Yes   | Twice       | Philippines        | Local                     | UC                   | Death                                   | Pop         | Blue\n",
       "... (223 rows omitted)"
      ]
     },
     "execution_count": 44,
     "metadata": {},
     "output_type": "execute_result"
    }
   ],
   "source": [
    "math211_survey"
   ]
  },
  {
   "cell_type": "code",
   "execution_count": 48,
   "id": "65abe58a",
   "metadata": {},
   "outputs": [
    {
     "data": {
      "text/html": [
       "<table border=\"1\" class=\"dataframe\">\n",
       "    <thead>\n",
       "        <tr>\n",
       "            <th>Timestamp</th> <th>Surveyor</th> <th>GPA</th> <th>introversion/extroversion</th> <th>Pets</th> <th>Handed</th> <th>Sleep Position</th> <th>K-Pop</th> <th>K-Pop Group</th> <th>travel destination</th> <th>Birthplace </th> <th>Transfer destination</th> <th>Fear</th> <th>Music Genre</th> <th>Color </th> <th>Distance to Dest.</th>\n",
       "        </tr>\n",
       "    </thead>\n",
       "    <tbody>\n",
       "        <tr>\n",
       "            <td>8/17/2023 16:33</td> <td>Christian Le</td> <td>2.86</td> <td>6                        </td> <td>Dogs                </td> <td>Right-handed</td> <td>On my side    </td> <td>Yes  </td> <td>Le Sserafim</td> <td>Japan             </td> <td>Local                    </td> <td>UC                  </td> <td>Working                                </td> <td>Pop        </td> <td>Red       </td> <td>5142.42          </td>\n",
       "        </tr>\n",
       "        <tr>\n",
       "            <td>8/17/2023 16:34</td> <td>Christian Le</td> <td>4   </td> <td>8                        </td> <td>nan                 </td> <td>Right-handed</td> <td>On my back    </td> <td>Yes  </td> <td>Le Sserafim</td> <td>Switzerland       </td> <td>Local                    </td> <td>UC                  </td> <td>A regretful life                       </td> <td>All        </td> <td>Black     </td> <td>5836.59          </td>\n",
       "        </tr>\n",
       "        <tr>\n",
       "            <td>8/17/2023 16:38</td> <td>Christian Le</td> <td>2.5 </td> <td>8                        </td> <td>Cats                </td> <td>Right-handed</td> <td>On my stomach </td> <td>Yes  </td> <td>Seventeen  </td> <td>Hawaii            </td> <td>Local                    </td> <td>UC Transfer         </td> <td>Death, Spiders                         </td> <td>R&B, K-POP </td> <td>Green     </td> <td>2344.8           </td>\n",
       "        </tr>\n",
       "        <tr>\n",
       "            <td>8/17/2023 16:38</td> <td>Christian Le</td> <td>3.96</td> <td>6                        </td> <td>Cats                </td> <td>Right-handed</td> <td>On my side    </td> <td>Yes  </td> <td>STAYC      </td> <td>Costa Rica        </td> <td>Local                    </td> <td>UC Grad             </td> <td>Loss of loved ones                     </td> <td>R&B, K-POP </td> <td>Purple    </td> <td>3076.66          </td>\n",
       "        </tr>\n",
       "        <tr>\n",
       "            <td>8/17/2023 16:54</td> <td>Christian Le</td> <td>2.98</td> <td>6                        </td> <td>nan                 </td> <td>Left-handed </td> <td>On my side    </td> <td>Yes  </td> <td>New Jeans  </td> <td>Hawaii            </td> <td>Local                    </td> <td>nan                 </td> <td>Death                                  </td> <td>R&B        </td> <td>Green     </td> <td>2344.8           </td>\n",
       "        </tr>\n",
       "        <tr>\n",
       "            <td>8/17/2023 16:55</td> <td>Christian Le</td> <td>3.8 </td> <td>8                        </td> <td>Dogs                </td> <td>Right-handed</td> <td>On my side    </td> <td>Yes  </td> <td>New Jeans  </td> <td>Hawaii            </td> <td>Local                    </td> <td>UC                  </td> <td>Being alone                            </td> <td>R&B        </td> <td>Blue      </td> <td>2344.8           </td>\n",
       "        </tr>\n",
       "        <tr>\n",
       "            <td>8/17/2023 17:00</td> <td>Christian Le</td> <td>4   </td> <td>3                        </td> <td>nan                 </td> <td>Right-handed</td> <td>On my back    </td> <td>No   </td> <td>nan        </td> <td>Japan             </td> <td>California (not Bay Area)</td> <td>CSU                 </td> <td>Not being accepted into career program </td> <td>Hip hop    </td> <td>Khaki     </td> <td>5142.42          </td>\n",
       "        </tr>\n",
       "        <tr>\n",
       "            <td>8/17/2023 18:13</td> <td>Christian Le</td> <td>4   </td> <td>2                        </td> <td>Cats, Dogs, Reptiles</td> <td>Both        </td> <td>On my stomach </td> <td>Yes  </td> <td>New Jeans  </td> <td>Dubai             </td> <td>Local                    </td> <td>UC                  </td> <td>Insects                                </td> <td>Pop        </td> <td>Red       </td> <td>8102.07          </td>\n",
       "        </tr>\n",
       "        <tr>\n",
       "            <td>8/17/2023 20:38</td> <td>Casey So    </td> <td>3.86</td> <td>3                        </td> <td>Dogs                </td> <td>Right-handed</td> <td>On my back    </td> <td>Yes  </td> <td>Seventeen  </td> <td>Korea             </td> <td>Local                    </td> <td>UC                  </td> <td>Birds                                  </td> <td>Pop        </td> <td>Light Blue</td> <td>5660.08          </td>\n",
       "        </tr>\n",
       "        <tr>\n",
       "            <td>8/17/2023 20:43</td> <td>Casey So    </td> <td>3.2 </td> <td>4                        </td> <td>nan                 </td> <td>Right-handed</td> <td>On my side    </td> <td>Yes  </td> <td>Twice      </td> <td>Philippines       </td> <td>Local                    </td> <td>UC                  </td> <td>Death                                  </td> <td>Pop        </td> <td>Blue      </td> <td>6999.15          </td>\n",
       "        </tr>\n",
       "    </tbody>\n",
       "</table>\n",
       "<p>... (223 rows omitted)</p>"
      ],
      "text/plain": [
       "Timestamp       | Surveyor     | GPA  | introversion/extroversion | Pets                 | Handed       | Sleep Position | K-Pop | K-Pop Group | travel destination | Birthplace                | Transfer destination | Fear                                    | Music Genre | Color      | Distance to Dest.\n",
       "8/17/2023 16:33 | Christian Le | 2.86 | 6                         | Dogs                 | Right-handed | On my side     | Yes   | Le Sserafim | Japan              | Local                     | UC                   | Working                                 | Pop         | Red        | 5142.42\n",
       "8/17/2023 16:34 | Christian Le | 4    | 8                         | nan                  | Right-handed | On my back     | Yes   | Le Sserafim | Switzerland        | Local                     | UC                   | A regretful life                        | All         | Black      | 5836.59\n",
       "8/17/2023 16:38 | Christian Le | 2.5  | 8                         | Cats                 | Right-handed | On my stomach  | Yes   | Seventeen   | Hawaii             | Local                     | UC Transfer          | Death, Spiders                          | R&B, K-POP  | Green      | 2344.8\n",
       "8/17/2023 16:38 | Christian Le | 3.96 | 6                         | Cats                 | Right-handed | On my side     | Yes   | STAYC       | Costa Rica         | Local                     | UC Grad              | Loss of loved ones                      | R&B, K-POP  | Purple     | 3076.66\n",
       "8/17/2023 16:54 | Christian Le | 2.98 | 6                         | nan                  | Left-handed  | On my side     | Yes   | New Jeans   | Hawaii             | Local                     | nan                  | Death                                   | R&B         | Green      | 2344.8\n",
       "8/17/2023 16:55 | Christian Le | 3.8  | 8                         | Dogs                 | Right-handed | On my side     | Yes   | New Jeans   | Hawaii             | Local                     | UC                   | Being alone                             | R&B         | Blue       | 2344.8\n",
       "8/17/2023 17:00 | Christian Le | 4    | 3                         | nan                  | Right-handed | On my back     | No    | nan         | Japan              | California (not Bay Area) | CSU                  | Not being accepted into career program  | Hip hop     | Khaki      | 5142.42\n",
       "8/17/2023 18:13 | Christian Le | 4    | 2                         | Cats, Dogs, Reptiles | Both         | On my stomach  | Yes   | New Jeans   | Dubai              | Local                     | UC                   | Insects                                 | Pop         | Red        | 8102.07\n",
       "8/17/2023 20:38 | Casey So     | 3.86 | 3                         | Dogs                 | Right-handed | On my back     | Yes   | Seventeen   | Korea              | Local                     | UC                   | Birds                                   | Pop         | Light Blue | 5660.08\n",
       "8/17/2023 20:43 | Casey So     | 3.2  | 4                         | nan                  | Right-handed | On my side     | Yes   | Twice       | Philippines        | Local                     | UC                   | Death                                   | Pop         | Blue       | 6999.15\n",
       "... (223 rows omitted)"
      ]
     },
     "execution_count": 48,
     "metadata": {},
     "output_type": "execute_result"
    }
   ],
   "source": [
    "travel_distance_array = math211_survey.apply(find_travel_distance,'travel destination')\n",
    "new_survey = math211_survey.with_column('Distance to Dest.',travel_distance_array)\n",
    "new_survey"
   ]
  },
  {
   "cell_type": "code",
   "execution_count": 54,
   "id": "b2b9c55f",
   "metadata": {
    "scrolled": false
   },
   "outputs": [
    {
     "data": {
      "text/html": [
       "<table border=\"1\" class=\"dataframe\">\n",
       "    <thead>\n",
       "        <tr>\n",
       "            <th>Surveyor</th> <th>travel destination</th> <th>Distance to Dest.</th> <th>Birthplace </th>\n",
       "        </tr>\n",
       "    </thead>\n",
       "    <tbody>\n",
       "        <tr>\n",
       "            <td>Kaitlyn W   </td> <td>Singapore         </td> <td>8445.31          </td> <td>out of country</td>\n",
       "        </tr>\n",
       "        <tr>\n",
       "            <td>Christian Le</td> <td>Dubai             </td> <td>8102.07          </td> <td>Local         </td>\n",
       "        </tr>\n",
       "        <tr>\n",
       "            <td>Thanh Nguyen</td> <td>Indonesia         </td> <td>7928.19          </td> <td>out of country</td>\n",
       "        </tr>\n",
       "        <tr>\n",
       "            <td>Kaitlyn W   </td> <td>Indonesia         </td> <td>7928.19          </td> <td>out of country</td>\n",
       "        </tr>\n",
       "        <tr>\n",
       "            <td>Allison     </td> <td>Indonesia         </td> <td>7928.19          </td> <td>out of country</td>\n",
       "        </tr>\n",
       "        <tr>\n",
       "            <td>Jackie      </td> <td>Bangkok           </td> <td>7926.61          </td> <td>out of country</td>\n",
       "        </tr>\n",
       "        <tr>\n",
       "            <td>Kaitlyn W   </td> <td>Bangkok           </td> <td>7926.61          </td> <td>out of country</td>\n",
       "        </tr>\n",
       "        <tr>\n",
       "            <td>Thanh Nguyen</td> <td>Thailand          </td> <td>7809.68          </td> <td>out of country</td>\n",
       "        </tr>\n",
       "        <tr>\n",
       "            <td>Kaitlyn W   </td> <td>Thailand          </td> <td>7809.68          </td> <td>out of country</td>\n",
       "        </tr>\n",
       "        <tr>\n",
       "            <td>Kadae       </td> <td>Thailand          </td> <td>7809.68          </td> <td>out of country</td>\n",
       "        </tr>\n",
       "    </tbody>\n",
       "</table>\n",
       "<p>... (223 rows omitted)</p>"
      ],
      "text/plain": [
       "<IPython.core.display.HTML object>"
      ]
     },
     "metadata": {},
     "output_type": "display_data"
    }
   ],
   "source": [
    "new_survey.select('Surveyor','travel destination','Distance to Dest.','Birthplace ').sort('Distance to Dest.', descending=True).show(10)"
   ]
  },
  {
   "cell_type": "markdown",
   "id": "e2b26e26",
   "metadata": {},
   "source": [
    "# A look into Histograms"
   ]
  },
  {
   "cell_type": "code",
   "execution_count": 62,
   "id": "4e22ee2b",
   "metadata": {},
   "outputs": [
    {
     "data": {
      "image/png": "[encoded data removed]",
      "text/plain": [
       "<Figure size 600x400 with 1 Axes>"
      ]
     },
     "metadata": {},
     "output_type": "display_data"
    }
   ],
   "source": [
    "no_outlier = math211_survey.where('GPA',are.below(10))\n",
    "no_outlier.hist('GPA')"
   ]
  },
  {
   "cell_type": "code",
   "execution_count": 58,
   "id": "0f0a0a54",
   "metadata": {},
   "outputs": [
    {
     "data": {
      "image/png": "[encoded data removed]",
      "text/plain": [
       "<Figure size 600x400 with 1 Axes>"
      ]
     },
     "metadata": {},
     "output_type": "display_data"
    }
   ],
   "source": [
    "math211_survey.hist('introversion/extroversion')"
   ]
  },
  {
   "cell_type": "code",
   "execution_count": 59,
   "id": "d00c7432",
   "metadata": {},
   "outputs": [
    {
     "data": {
      "image/png": "[encoded data removed]",
      "text/plain": [
       "<Figure size 600x400 with 1 Axes>"
      ]
     },
     "metadata": {},
     "output_type": "display_data"
    }
   ],
   "source": [
    "new_survey.hist('Distance to Dest.')"
   ]
  },
  {
   "cell_type": "code",
   "execution_count": null,
   "id": "75edd567",
   "metadata": {},
   "outputs": [],
   "source": []
  }
 ],
 "metadata": {
  "kernelspec": {
   "display_name": "Python 3 (ipykernel)",
   "language": "python",
   "name": "python3"
  },
  "language_info": {
   "codemirror_mode": {
    "name": "ipython",
    "version": 3
   },
   "file_extension": ".py",
   "mimetype": "text/x-python",
   "name": "python",
   "nbconvert_exporter": "python",
   "pygments_lexer": "ipython3",
   "version": "3.10.11"
  }
 },
 "nbformat": 4,
 "nbformat_minor": 5
}
