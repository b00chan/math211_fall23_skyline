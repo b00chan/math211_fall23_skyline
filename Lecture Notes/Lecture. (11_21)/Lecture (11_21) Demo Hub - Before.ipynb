{
 "cells": [
  {
   "cell_type": "markdown",
   "id": "b8ea87f8",
   "metadata": {},
   "source": [
    "# [Python Reference Link](http://www.data8.org/sp20/python-reference.html)\n",
    "*Run the cell below so that we can set our modules up*# Importing our modules"
   ]
  },
  {
   "cell_type": "code",
   "execution_count": null,
   "id": "5088eff9",
   "metadata": {},
   "outputs": [],
   "source": [
    "import numpy as np\n",
    "from datascience import *\n",
    "import math as m\n",
    "\n",
    "# These lines do some fancy plotting magic.\n",
    "import matplotlib\n",
    "%matplotlib inline\n",
    "import matplotlib.pyplot as plt\n",
    "plt.style.use('fivethirtyeight')\n",
    "import warnings\n",
    "warnings.simplefilter('ignore', FutureWarning)"
   ]
  },
  {
   "cell_type": "code",
   "execution_count": null,
   "id": "1de04bf4",
   "metadata": {},
   "outputs": [],
   "source": [
    "birds = Table.read_table('snowy_plover.csv')\n",
    "birds"
   ]
  },
  {
   "cell_type": "markdown",
   "id": "6713290c",
   "metadata": {},
   "source": [
    "# The Residual & The Root Mean Square Error"
   ]
  },
  {
   "cell_type": "code",
   "execution_count": null,
   "id": "bfa6ccd6",
   "metadata": {},
   "outputs": [],
   "source": [
    "# Let's run this cell \n",
    "\n",
    "def x_y_estimate_residual(table,x_col,y_col):\n",
    "    x_array = birds.column(x_col)\n",
    "    y_array = birds.column(y_col)\n",
    "\n",
    "    x_mean = np.mean(x_array)\n",
    "    x_std = np.std(x_array)\n",
    "\n",
    "    y_mean = np.mean(y_array)\n",
    "    y_std = np.std(y_array)\n",
    "\n",
    "    x_su = (x_array - x_mean)/x_std\n",
    "    y_su = (y_array - y_mean)/y_std\n",
    "\n",
    "    r_value = np.mean(x_su*y_su)\n",
    "    slope = r_value*(y_std/x_std)\n",
    "    intercept = y_mean - slope * x_mean\n",
    "    \n",
    "    estimate = slope*x_array + intercept\n",
    "    \n",
    "    output_table = table.select(x_col,y_col).with_columns('Estimate',estimate,\n",
    "                                                          'Residual',y_array - estimate)\n",
    "    print(slope,intercept)\n",
    "    \n",
    "    return output_table\n",
    "\n",
    "def lin_reg_slope_intercept(table,x_col,y_col):\n",
    "    x_array = birds.column(x_col)\n",
    "    y_array = birds.column(y_col)\n",
    "\n",
    "    x_mean = np.mean(x_array)\n",
    "    x_std = np.std(x_array)\n",
    "\n",
    "    y_mean = np.mean(y_array)\n",
    "    y_std = np.std(y_array)\n",
    "\n",
    "    x_su = (x_array - x_mean)/x_std\n",
    "    y_su = (y_array - y_mean)/y_std\n",
    "\n",
    "    r_value = np.mean(x_su*y_su)\n",
    "    slope = r_value*(y_std/x_std)\n",
    "    intercept = y_mean - slope * x_mean\n",
    "    \n",
    "    return make_array(slope,intercept)\n",
    "\n",
    "x_y_estimate_residual(birds,'Egg Weight','Bird Weight')"
   ]
  },
  {
   "cell_type": "code",
   "execution_count": null,
   "id": "04d8b05b",
   "metadata": {},
   "outputs": [],
   "source": [
    "residual = ..."
   ]
  },
  {
   "cell_type": "code",
   "execution_count": null,
   "id": "ace31191",
   "metadata": {},
   "outputs": [],
   "source": [
    "birds_with_residual = birds.with_columns('Residual',residual)\n",
    "birds_with_residual"
   ]
  },
  {
   "cell_type": "code",
   "execution_count": null,
   "id": "361182eb",
   "metadata": {},
   "outputs": [],
   "source": [
    "birds_with_residual.scatter('Egg Weight','Residual',color = 'r')"
   ]
  },
  {
   "cell_type": "code",
   "execution_count": null,
   "id": "56602bdd",
   "metadata": {},
   "outputs": [],
   "source": [
    "error = residual\n",
    "error"
   ]
  },
  {
   "cell_type": "code",
   "execution_count": null,
   "id": "189317f4",
   "metadata": {},
   "outputs": [],
   "source": [
    "square = error**2\n",
    "square"
   ]
  },
  {
   "cell_type": "code",
   "execution_count": null,
   "id": "6859d460",
   "metadata": {},
   "outputs": [],
   "source": [
    "mean = np.mean(square)\n",
    "mean"
   ]
  },
  {
   "cell_type": "code",
   "execution_count": null,
   "id": "d6674cb0",
   "metadata": {},
   "outputs": [],
   "source": [
    "root = m.sqrt(mean)\n",
    "root"
   ]
  },
  {
   "cell_type": "code",
   "execution_count": null,
   "id": "6bbad45e",
   "metadata": {},
   "outputs": [],
   "source": [
    "#let's put it all together in a one-line calculation\n",
    "root_mean_square_error = ...\n",
    "root_mean_square_error"
   ]
  },
  {
   "cell_type": "markdown",
   "id": "27099ddd",
   "metadata": {},
   "source": [
    "### Let's define the function `rmse` to calculate the root mean square error\n",
    "\n",
    "Given any proposed slope & intercept, it will calculate the root mean square error of the estimated column of 'Bird Weights' corresponding to the column of 'Egg Weights'"
   ]
  },
  {
   "cell_type": "code",
   "execution_count": null,
   "id": "ea34a3ab",
   "metadata": {},
   "outputs": [],
   "source": [
    "def rmse(slope,intercept):\n",
    "    x_array = birds.column('Egg Weight')\n",
    "    y_array = birds.column('Bird Weight')\n",
    "    \n",
    "    prediction = ...\n",
    "    ...\n",
    "    \n",
    "    return ..."
   ]
  },
  {
   "cell_type": "code",
   "execution_count": null,
   "id": "25d8306a",
   "metadata": {},
   "outputs": [],
   "source": [
    "m_b_array = lin_reg_slope_intercept(birds,'Egg Weight','Bird Weight')\n",
    "m_slope = m_b_array.item(0)\n",
    "b_intercept = m_b_array.item(1)\n",
    "print(m_slope,b_intercept)"
   ]
  },
  {
   "cell_type": "code",
   "execution_count": null,
   "id": "bb803270",
   "metadata": {},
   "outputs": [],
   "source": [
    "slopes = make_array()\n",
    "intercepts = make_array()\n",
    "these_rmse = make_array()\n",
    "\n",
    "for m in np.arange(0,2,0.1):\n",
    "    for b in np.arange(-1,1,0.1):\n",
    "        this_rmse = rmse(m,b)\n",
    "        \n",
    "        slopes = np.append(slopes,m)\n",
    "        intercepts = np.append(intercepts,b)\n",
    "        these_rmse = np.append(these_rmse,this_rmse)\n",
    "\n",
    "slope_intercept_residual_table = Table().with_columns('Slopes (m)',slopes,\n",
    "                                    'Intercepts (b)', intercepts,\n",
    "                                    'RMSE',these_rmse)\n",
    "slope_intercept_residual_table.show()"
   ]
  },
  {
   "cell_type": "code",
   "execution_count": null,
   "id": "4a263ba2",
   "metadata": {},
   "outputs": [],
   "source": []
  },
  {
   "cell_type": "markdown",
   "id": "f19ad022",
   "metadata": {},
   "source": [
    "# The `minimize` function and Optimization"
   ]
  },
  {
   "cell_type": "code",
   "execution_count": null,
   "id": "8c360536",
   "metadata": {},
   "outputs": [],
   "source": [
    "minimize(rmse)"
   ]
  },
  {
   "cell_type": "code",
   "execution_count": null,
   "id": "a76b64ea",
   "metadata": {},
   "outputs": [],
   "source": []
  }
 ],
 "metadata": {
  "kernelspec": {
   "display_name": "Python 3 (ipykernel)",
   "language": "python",
   "name": "python3"
  },
  "language_info": {
   "codemirror_mode": {
    "name": "ipython",
    "version": 3
   },
   "file_extension": ".py",
   "mimetype": "text/x-python",
   "name": "python",
   "nbconvert_exporter": "python",
   "pygments_lexer": "ipython3",
   "version": "3.10.11"
  }
 },
 "nbformat": 4,
 "nbformat_minor": 5
}
