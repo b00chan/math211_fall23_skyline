{
 "cells": [
  {
   "cell_type": "markdown",
   "id": "23ee553c",
   "metadata": {},
   "source": [
    "# [Python Reference Link](http://www.data8.org/sp20/python-reference.html)\n",
    "*Run the cell below so that we can set our modules up*"
   ]
  },
  {
   "cell_type": "code",
   "execution_count": null,
   "id": "6faa871a",
   "metadata": {},
   "outputs": [],
   "source": [
    "import numpy as np\n",
    "from datascience import *\n",
    "import math as m\n",
    "\n",
    "# These lines do some fancy plotting magic.\n",
    "import matplotlib\n",
    "%matplotlib inline\n",
    "import matplotlib.pyplot as plt\n",
    "plt.style.use('fivethirtyeight')\n",
    "import warnings\n",
    "warnings.simplefilter('ignore', FutureWarning)"
   ]
  },
  {
   "cell_type": "code",
   "execution_count": null,
   "id": "029a8f39",
   "metadata": {},
   "outputs": [],
   "source": [
    "iris =  Table.read_table(\"IRIS.csv\")"
   ]
  },
  {
   "cell_type": "markdown",
   "id": "600af5a9",
   "metadata": {},
   "source": [
    "# Classification - Examination through ScatterPlots"
   ]
  },
  {
   "cell_type": "code",
   "execution_count": null,
   "id": "25313a65",
   "metadata": {},
   "outputs": [],
   "source": [
    "iris"
   ]
  },
  {
   "cell_type": "code",
   "execution_count": null,
   "id": "e5ae15cd",
   "metadata": {},
   "outputs": [],
   "source": [
    "#let's pick two of the column labels above and observe the scatter plot. \n",
    "# Note that each of the three species will be a different color on the plot to help us differentiate \n",
    "# the iris flower species\n",
    "\n",
    "iris.scatter(... , ... , group = 'species')"
   ]
  },
  {
   "cell_type": "markdown",
   "id": "0c5d8f8a",
   "metadata": {},
   "source": [
    "# Identifying key variables for classification"
   ]
  },
  {
   "cell_type": "code",
   "execution_count": null,
   "id": "21a8537f",
   "metadata": {
    "scrolled": false
   },
   "outputs": [],
   "source": [
    "#Now let's look at comparing ALL of the labels to each other in pairwise comparisons\n",
    "#run the code below \n",
    "\n",
    "labels_without_species = list(iris.labels)[:-1]\n",
    "plotted_pairs = []\n",
    "\n",
    "for x in labels_without_species:\n",
    "    for y in labels_without_species:\n",
    "        \n",
    "        ordered_pair =  {x,y}\n",
    "        \n",
    "        if (x != y) and (ordered_pair not in plotted_pairs):\n",
    "            iris.scatter(x,y,group='species')\n",
    "            plotted_pairs.append(ordered_pair)\n",
    "            \n",
    "print(plotted_pairs)    "
   ]
  },
  {
   "cell_type": "markdown",
   "id": "2dc677fb",
   "metadata": {},
   "source": [
    "# Creating Training and Testing Data Sets"
   ]
  },
  {
   "cell_type": "code",
   "execution_count": null,
   "id": "49edbe14",
   "metadata": {},
   "outputs": [],
   "source": [
    "print('The iris data set has',iris.num_rows,'flowers represented in the sameple')"
   ]
  },
  {
   "cell_type": "markdown",
   "id": "e29a1d8b",
   "metadata": {},
   "source": [
    "Let's separate 100 rows of data and use it for the training set, and then use the remaining 50 rows of data for the test set. Since the table is organized nicely by species (which is what we are classifying) we want to mix these rows up. We can do this using the `sample` method to shuffle, and then `take` the first 100 rows for training, and the last 50 rows for testing"
   ]
  },
  {
   "cell_type": "code",
   "execution_count": null,
   "id": "89da7daa",
   "metadata": {},
   "outputs": [],
   "source": [
    "shuffled_iris = ...\n",
    "\n",
    "train_iris = ...\n",
    "test_iris = ...\n",
    "\n",
    "print(\"Training set:\\t\",   train_iris.num_rows, \"examples\")\n",
    "print(\"Test set:\\t\",       test_iris.num_rows, \"examples\")\n",
    "train.show(5), test.show(5);"
   ]
  },
  {
   "cell_type": "markdown",
   "id": "b537c46d",
   "metadata": {},
   "source": [
    "# The Distance Formula"
   ]
  },
  {
   "cell_type": "code",
   "execution_count": null,
   "id": "1c4069c5",
   "metadata": {
    "scrolled": true
   },
   "outputs": [],
   "source": [
    "((3 - 0)**2 + (4 - 0)**2)**(0.5)"
   ]
  },
  {
   "cell_type": "code",
   "execution_count": null,
   "id": "e498f2d9",
   "metadata": {},
   "outputs": [],
   "source": [
    "first = make_array(0,0)\n",
    "second = make_array(3,4)\n",
    "\n",
    "..."
   ]
  },
  {
   "cell_type": "code",
   "execution_count": null,
   "id": "8fb59972",
   "metadata": {},
   "outputs": [],
   "source": [
    "first_iris = iris.column('petal_length')\n",
    "second_iris = iris.column('petal_width')\n",
    "\n",
    "(sum((first_iris - second_iris)**2))**(0.5)"
   ]
  },
  {
   "cell_type": "code",
   "execution_count": null,
   "id": "41478bcf",
   "metadata": {},
   "outputs": [],
   "source": []
  }
 ],
 "metadata": {
  "kernelspec": {
   "display_name": "Python 3 (ipykernel)",
   "language": "python",
   "name": "python3"
  },
  "language_info": {
   "codemirror_mode": {
    "name": "ipython",
    "version": 3
   },
   "file_extension": ".py",
   "mimetype": "text/x-python",
   "name": "python",
   "nbconvert_exporter": "python",
   "pygments_lexer": "ipython3",
   "version": "3.10.11"
  }
 },
 "nbformat": 4,
 "nbformat_minor": 5
}
