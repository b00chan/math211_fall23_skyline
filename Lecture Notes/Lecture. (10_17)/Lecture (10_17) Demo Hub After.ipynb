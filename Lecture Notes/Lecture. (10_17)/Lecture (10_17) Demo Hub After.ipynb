{
 "cells": [
  {
   "cell_type": "markdown",
   "id": "b516ef48",
   "metadata": {},
   "source": [
    "# [Python Reference Link](http://www.data8.org/sp20/python-reference.html)\n",
    "*Run the cell below so that we can set our modules up*"
   ]
  },
  {
   "cell_type": "code",
   "execution_count": 35,
   "id": "696a8a10",
   "metadata": {},
   "outputs": [],
   "source": [
    "import numpy as np\n",
    "from datascience import *"
   ]
  },
  {
   "cell_type": "code",
   "execution_count": 36,
   "id": "95f3f383",
   "metadata": {},
   "outputs": [],
   "source": [
    "# These lines set up graphing capabilities.\n",
    "import matplotlib\n",
    "%matplotlib inline\n",
    "import matplotlib.pyplot as plt\n",
    "plt.style.use('fivethirtyeight')\n",
    "import warnings\n",
    "warnings.simplefilter('ignore', FutureWarning)\n",
    "\n",
    "from ipywidgets import interact, interactive, fixed, interact_manual\n",
    "import ipywidgets as widgets"
   ]
  },
  {
   "cell_type": "markdown",
   "id": "aaeb1c8b",
   "metadata": {},
   "source": [
    "# Comparison Expressions and Operations"
   ]
  },
  {
   "cell_type": "code",
   "execution_count": 37,
   "id": "7ba6c879",
   "metadata": {},
   "outputs": [
    {
     "data": {
      "text/plain": [
       "False"
      ]
     },
     "execution_count": 37,
     "metadata": {},
     "output_type": "execute_result"
    }
   ],
   "source": [
    "2 > 3"
   ]
  },
  {
   "cell_type": "code",
   "execution_count": 38,
   "id": "93f2692e",
   "metadata": {},
   "outputs": [
    {
     "data": {
      "text/plain": [
       "True"
      ]
     },
     "execution_count": 38,
     "metadata": {},
     "output_type": "execute_result"
    }
   ],
   "source": [
    "# assigning the integer 4 to the variable 'x' and then checking to see if it's greater than 3\n",
    "x = 4\n",
    "x >= 3"
   ]
  },
  {
   "cell_type": "code",
   "execution_count": 39,
   "id": "6720b7df",
   "metadata": {},
   "outputs": [
    {
     "data": {
      "text/plain": [
       "True"
      ]
     },
     "execution_count": 39,
     "metadata": {},
     "output_type": "execute_result"
    }
   ],
   "source": [
    "# assigning the integer 7 to the variable 'y' and then checking to compare the numbers stored in 'x' vs. 'y'\n",
    "y = 7\n",
    "x <= y"
   ]
  },
  {
   "cell_type": "code",
   "execution_count": 40,
   "id": "98c6eff7",
   "metadata": {},
   "outputs": [
    {
     "data": {
      "text/plain": [
       "False"
      ]
     },
     "execution_count": 40,
     "metadata": {},
     "output_type": "execute_result"
    }
   ],
   "source": [
    "# Does 'x' equal 'y'?\n",
    "x == y"
   ]
  },
  {
   "cell_type": "code",
   "execution_count": 41,
   "id": "4f79251f",
   "metadata": {},
   "outputs": [
    {
     "data": {
      "text/plain": [
       "False"
      ]
     },
     "execution_count": 41,
     "metadata": {},
     "output_type": "execute_result"
    }
   ],
   "source": [
    "#\n",
    "c = x*3\n",
    "c == 6"
   ]
  },
  {
   "cell_type": "code",
   "execution_count": 42,
   "id": "005de3b1",
   "metadata": {},
   "outputs": [
    {
     "data": {
      "text/plain": [
       "True"
      ]
     },
     "execution_count": 42,
     "metadata": {},
     "output_type": "execute_result"
    }
   ],
   "source": [
    "#\n",
    "x != 3"
   ]
  },
  {
   "cell_type": "code",
   "execution_count": 43,
   "id": "05afbe3e",
   "metadata": {},
   "outputs": [
    {
     "data": {
      "text/plain": [
       "False"
      ]
     },
     "execution_count": 43,
     "metadata": {},
     "output_type": "execute_result"
    }
   ],
   "source": [
    "#\n",
    "x < c < y"
   ]
  },
  {
   "cell_type": "markdown",
   "id": "9f32dc08",
   "metadata": {},
   "source": [
    "# Aggregating Comparisons"
   ]
  },
  {
   "cell_type": "code",
   "execution_count": 44,
   "id": "e6345cd9",
   "metadata": {},
   "outputs": [
    {
     "data": {
      "text/plain": [
       "array([False, False, False, False,  True,  True,  True,  True], dtype=bool)"
      ]
     },
     "execution_count": 44,
     "metadata": {},
     "output_type": "execute_result"
    }
   ],
   "source": [
    "#\n",
    "this = make_array(1,2,3,4,5,6,7,8)\n",
    "this >= 5"
   ]
  },
  {
   "cell_type": "code",
   "execution_count": 45,
   "id": "a98447f1",
   "metadata": {},
   "outputs": [],
   "source": [
    "#\n",
    "drinks = make_array('Coffee','Latte','Mocha','Coffee','Frappacino')"
   ]
  },
  {
   "cell_type": "code",
   "execution_count": 46,
   "id": "0fa4adf9",
   "metadata": {},
   "outputs": [
    {
     "data": {
      "text/plain": [
       "array([ True, False, False,  True, False], dtype=bool)"
      ]
     },
     "execution_count": 46,
     "metadata": {},
     "output_type": "execute_result"
    }
   ],
   "source": [
    "#\n",
    "drinks == 'Coffee'"
   ]
  },
  {
   "cell_type": "code",
   "execution_count": 47,
   "id": "a66f786e",
   "metadata": {},
   "outputs": [
    {
     "data": {
      "text/plain": [
       "2"
      ]
     },
     "execution_count": 47,
     "metadata": {},
     "output_type": "execute_result"
    }
   ],
   "source": [
    "#\n",
    "sum(drinks == 'Coffee')"
   ]
  },
  {
   "cell_type": "markdown",
   "id": "23ed62de",
   "metadata": {},
   "source": [
    "# Practice with `Spotify`"
   ]
  },
  {
   "cell_type": "markdown",
   "id": "84a8f080",
   "metadata": {},
   "source": [
    "About `spotify` \n",
    "\n",
    "One of the biggest music streaming platform, but who's the biggest streamed here? This dataset which is webscrapped and accumulated all the stream metrics of each artist and their respective songs.<br>\n",
    "\n",
    "Position - Spotify Ranking <br>\n",
    "Artist Name - Artist Name <br>\n",
    "Song Name - Song Name <br>\n",
    "Days - No of days since the release of the song (Updated) <br>\n",
    "Top 10 (xTimes) - No of times inside top 10 <br>\n",
    "Peak Position - Peak position attained <br>\n",
    "Peak Position (xTimes) - No of times Peak position attained <br>\n",
    "Peak Streams - Total no of streams during Peak position <br>\n",
    "**Total Streams ** - Total song streams"
   ]
  },
  {
   "cell_type": "code",
   "execution_count": 48,
   "id": "b4cb9cff",
   "metadata": {},
   "outputs": [
    {
     "data": {
      "text/html": [
       "<table border=\"1\" class=\"dataframe\">\n",
       "    <thead>\n",
       "        <tr>\n",
       "            <th>Position</th> <th>Artist Name</th> <th>Song Name</th> <th>Days</th> <th>Top 10 (xTimes)</th> <th>Peak Position</th> <th>Peak Position (xTimes)</th> <th>Peak Streams</th> <th>Total Streams</th>\n",
       "        </tr>\n",
       "    </thead>\n",
       "    <tbody>\n",
       "        <tr>\n",
       "            <td>1       </td> <td>Post Malone  </td> <td>Sunflower  SpiderMan: Into the SpiderVerse</td> <td>1506</td> <td>302            </td> <td>1            </td> <td>(x29)                 </td> <td>2118242     </td> <td>883369738    </td>\n",
       "        </tr>\n",
       "        <tr>\n",
       "            <td>2       </td> <td>Juice WRLD   </td> <td>Lucid Dreams                              </td> <td>1673</td> <td>178            </td> <td>1            </td> <td>(x20)                 </td> <td>2127668     </td> <td>864832399    </td>\n",
       "        </tr>\n",
       "        <tr>\n",
       "            <td>3       </td> <td>Lil Uzi Vert </td> <td>XO TOUR Llif3                             </td> <td>1853</td> <td>212            </td> <td>1            </td> <td>(x4)                  </td> <td>1660502     </td> <td>781153024    </td>\n",
       "        </tr>\n",
       "        <tr>\n",
       "            <td>4       </td> <td>J. Cole      </td> <td>No Role Modelz                            </td> <td>2547</td> <td>6              </td> <td>7            </td> <td>0                     </td> <td>659366      </td> <td>734857487    </td>\n",
       "        </tr>\n",
       "        <tr>\n",
       "            <td>5       </td> <td>Post Malone  </td> <td>rockstar                                  </td> <td>1223</td> <td>186            </td> <td>1            </td> <td>(x124)                </td> <td>2905678     </td> <td>718865961    </td>\n",
       "        </tr>\n",
       "        <tr>\n",
       "            <td>6       </td> <td>Travis Scott </td> <td>goosebumps                                </td> <td>1995</td> <td>4              </td> <td>8            </td> <td>0                     </td> <td>977275      </td> <td>672972704    </td>\n",
       "        </tr>\n",
       "        <tr>\n",
       "            <td>7       </td> <td>The Weeknd   </td> <td>Blinding Lights                           </td> <td>1100</td> <td>233            </td> <td>1            </td> <td>(x11)                 </td> <td>2355059     </td> <td>644287953    </td>\n",
       "        </tr>\n",
       "        <tr>\n",
       "            <td>8       </td> <td>XXXTENTACION </td> <td>Jocelyn Flores                            </td> <td>1673</td> <td>44             </td> <td>2            </td> <td>(x1)                  </td> <td>3175206     </td> <td>624457164    </td>\n",
       "        </tr>\n",
       "        <tr>\n",
       "            <td>9       </td> <td>XXXTENTACION </td> <td>SAD!                                      </td> <td>1217</td> <td>133            </td> <td>1            </td> <td>(x6)                  </td> <td>4437612     </td> <td>619879245    </td>\n",
       "        </tr>\n",
       "        <tr>\n",
       "            <td>10      </td> <td>Juice WRLD   </td> <td>All Girls Are The Same                    </td> <td>1681</td> <td>2              </td> <td>5            </td> <td>0                     </td> <td>1239152     </td> <td>613872384    </td>\n",
       "        </tr>\n",
       "    </tbody>\n",
       "</table>\n",
       "<p>... (11074 rows omitted)</p>"
      ],
      "text/plain": [
       "Position | Artist Name   | Song Name                                  | Days | Top 10 (xTimes) | Peak Position | Peak Position (xTimes) | Peak Streams | Total Streams\n",
       "1        | Post Malone   | Sunflower  SpiderMan: Into the SpiderVerse | 1506 | 302             | 1             | (x29)                  | 2118242      | 883369738\n",
       "2        | Juice WRLD    | Lucid Dreams                               | 1673 | 178             | 1             | (x20)                  | 2127668      | 864832399\n",
       "3        | Lil Uzi Vert  | XO TOUR Llif3                              | 1853 | 212             | 1             | (x4)                   | 1660502      | 781153024\n",
       "4        | J. Cole       | No Role Modelz                             | 2547 | 6               | 7             | 0                      | 659366       | 734857487\n",
       "5        | Post Malone   | rockstar                                   | 1223 | 186             | 1             | (x124)                 | 2905678      | 718865961\n",
       "6        | Travis Scott  | goosebumps                                 | 1995 | 4               | 8             | 0                      | 977275       | 672972704\n",
       "7        | The Weeknd    | Blinding Lights                            | 1100 | 233             | 1             | (x11)                  | 2355059      | 644287953\n",
       "8        | XXXTENTACION  | Jocelyn Flores                             | 1673 | 44              | 2             | (x1)                   | 3175206      | 624457164\n",
       "9        | XXXTENTACION  | SAD!                                       | 1217 | 133             | 1             | (x6)                   | 4437612      | 619879245\n",
       "10       | Juice WRLD    | All Girls Are The Same                     | 1681 | 2               | 5             | 0                      | 1239152      | 613872384\n",
       "... (11074 rows omitted)"
      ]
     },
     "execution_count": 48,
     "metadata": {},
     "output_type": "execute_result"
    }
   ],
   "source": [
    "spotify = Table.read_table('Spotify_final_dataset.csv')\n",
    "spotify"
   ]
  },
  {
   "cell_type": "markdown",
   "id": "edac2d7a",
   "metadata": {},
   "source": [
    "## Practice question: "
   ]
  },
  {
   "cell_type": "markdown",
   "id": "7b8094da",
   "metadata": {},
   "source": [
    "#### In the cell above, we saved a data table of Spotify Top 10000 streamed songs. Let's load the cell below with an array containing the peak position of each song."
   ]
  },
  {
   "cell_type": "code",
   "execution_count": 49,
   "id": "ec90e6f2",
   "metadata": {},
   "outputs": [
    {
     "data": {
      "text/plain": [
       "array([  1,   1,   1, ..., 167, 200, 184])"
      ]
     },
     "execution_count": 49,
     "metadata": {},
     "output_type": "execute_result"
    }
   ],
   "source": [
    "peak_position = spotify.column('Peak Position')\n",
    "peak_position"
   ]
  },
  {
   "cell_type": "markdown",
   "id": "3a0bd11e",
   "metadata": {},
   "source": [
    "#### Let's construct an array that tells us whether each song reached the #1 peak position."
   ]
  },
  {
   "cell_type": "code",
   "execution_count": 50,
   "id": "322f220e",
   "metadata": {},
   "outputs": [
    {
     "data": {
      "text/plain": [
       "array([ True,  True,  True, ..., False, False, False], dtype=bool)"
      ]
     },
     "execution_count": 50,
     "metadata": {},
     "output_type": "execute_result"
    }
   ],
   "source": [
    "no_1_peak = (peak_position == 1)\n",
    "no_1_peak"
   ]
  },
  {
   "cell_type": "markdown",
   "id": "ad7627ab",
   "metadata": {},
   "source": [
    "#### Now use the sum function to determine the number of songs in this dataset which peaked at #1. "
   ]
  },
  {
   "cell_type": "code",
   "execution_count": 51,
   "id": "5fc037b1",
   "metadata": {},
   "outputs": [
    {
     "data": {
      "text/plain": [
       "190"
      ]
     },
     "execution_count": 51,
     "metadata": {},
     "output_type": "execute_result"
    }
   ],
   "source": [
    "sum(no_1_peak)"
   ]
  },
  {
   "cell_type": "markdown",
   "id": "96c70eae",
   "metadata": {},
   "source": [
    "#### This line of thinking is *very similar* to a method we have gotten quite familiar with recently. Use that method to verify our solution we just found."
   ]
  },
  {
   "cell_type": "code",
   "execution_count": 52,
   "id": "056b42dd",
   "metadata": {},
   "outputs": [
    {
     "data": {
      "text/plain": [
       "190"
      ]
     },
     "execution_count": 52,
     "metadata": {},
     "output_type": "execute_result"
    }
   ],
   "source": [
    "spotify.where('Peak Position',are.equal_to(1)).num_rows"
   ]
  },
  {
   "cell_type": "markdown",
   "id": "7b9d0e32",
   "metadata": {},
   "source": [
    "# Control Statements 'If'"
   ]
  },
  {
   "cell_type": "code",
   "execution_count": 53,
   "id": "c69e53c3",
   "metadata": {},
   "outputs": [],
   "source": [
    "x = 20\n",
    "s = 'You are 20'"
   ]
  },
  {
   "cell_type": "code",
   "execution_count": 54,
   "id": "39231226",
   "metadata": {},
   "outputs": [
    {
     "data": {
      "text/plain": [
       "'You can legally vote'"
      ]
     },
     "execution_count": 54,
     "metadata": {},
     "output_type": "execute_result"
    }
   ],
   "source": [
    "if x >= 18:\n",
    "    s = 'You can legally vote'\n",
    "s"
   ]
  },
  {
   "cell_type": "code",
   "execution_count": 55,
   "id": "60e1e555",
   "metadata": {},
   "outputs": [
    {
     "data": {
      "text/plain": [
       "'You can legally vote'"
      ]
     },
     "execution_count": 55,
     "metadata": {},
     "output_type": "execute_result"
    }
   ],
   "source": [
    "if x >= 21: \n",
    "    s = 'You may enter this bar/nightclub'\n",
    "s "
   ]
  },
  {
   "cell_type": "code",
   "execution_count": 56,
   "id": "8fc796f9",
   "metadata": {},
   "outputs": [],
   "source": [
    "x = 25 "
   ]
  },
  {
   "cell_type": "code",
   "execution_count": 57,
   "id": "94dd6ad5",
   "metadata": {},
   "outputs": [
    {
     "data": {
      "text/plain": [
       "'You may enter this bar/nightclub'"
      ]
     },
     "execution_count": 57,
     "metadata": {},
     "output_type": "execute_result"
    }
   ],
   "source": [
    "if x >= 21: \n",
    "    s = 'You may enter this bar/nightclub'\n",
    "s "
   ]
  },
  {
   "cell_type": "code",
   "execution_count": 58,
   "id": "99ed633f",
   "metadata": {},
   "outputs": [],
   "source": [
    "def age(input_age):\n",
    "    if input_age >= 18:\n",
    "        return 'You can legally vote'\n",
    "    if input_age >= 21:\n",
    "        return 'You can legally drink'"
   ]
  },
  {
   "cell_type": "code",
   "execution_count": 63,
   "id": "ce857ee9",
   "metadata": {},
   "outputs": [
    {
     "data": {
      "text/plain": [
       "'You can legally drink'"
      ]
     },
     "execution_count": 63,
     "metadata": {},
     "output_type": "execute_result"
    }
   ],
   "source": [
    "age(25)"
   ]
  },
  {
   "cell_type": "code",
   "execution_count": 64,
   "id": "ca5893d3",
   "metadata": {},
   "outputs": [
    {
     "data": {
      "text/plain": [
       "'You can legally vote'"
      ]
     },
     "execution_count": 64,
     "metadata": {},
     "output_type": "execute_result"
    }
   ],
   "source": [
    "age(20)"
   ]
  },
  {
   "cell_type": "code",
   "execution_count": 65,
   "id": "7b8c77fd",
   "metadata": {},
   "outputs": [
    {
     "data": {
      "text/plain": [
       "'You can legally drink milk'"
      ]
     },
     "execution_count": 65,
     "metadata": {},
     "output_type": "execute_result"
    }
   ],
   "source": [
    "age(3)"
   ]
  },
  {
   "cell_type": "markdown",
   "id": "5c395199",
   "metadata": {},
   "source": [
    "awkward.... Let's fix the age function below:"
   ]
  },
  {
   "cell_type": "code",
   "execution_count": 62,
   "id": "568e1f7f",
   "metadata": {},
   "outputs": [],
   "source": [
    "def age(input_age):\n",
    "    if input_age >= 21:\n",
    "        return 'You can legally drink'\n",
    "    elif input_age >= 18: #this only gets checked if the 'if' condition above is false\n",
    "        return 'You can legally vote'\n",
    "    else: #only runs if all the if/elif conditions above were false\n",
    "        return 'You can legally drink milk'"
   ]
  },
  {
   "cell_type": "markdown",
   "id": "26079ae4",
   "metadata": {},
   "source": [
    "# Control Statements 'for' a.k.a. the 'for'-loop"
   ]
  },
  {
   "cell_type": "code",
   "execution_count": 66,
   "id": "0491f64c",
   "metadata": {},
   "outputs": [
    {
     "name": "stdout",
     "output_type": "stream",
     "text": [
      "I love my cat\n",
      "I love my dog\n",
      "I love my rabbit\n",
      "I love my ferret\n"
     ]
    }
   ],
   "source": [
    "for pet in make_array('cat','dog','rabbit','ferret'):\n",
    "    print('I love my '+ pet)"
   ]
  },
  {
   "cell_type": "code",
   "execution_count": 67,
   "id": "3e0c4d0f",
   "metadata": {},
   "outputs": [
    {
     "name": "stdout",
     "output_type": "stream",
     "text": [
      "0\n",
      "1\n",
      "2\n",
      "3\n",
      "4\n"
     ]
    }
   ],
   "source": [
    "for i in np.arange(5):\n",
    "    print(i)"
   ]
  },
  {
   "cell_type": "markdown",
   "id": "fc758e25",
   "metadata": {},
   "source": [
    "#### Exercise:\n",
    "Let's use a for-loop to code for a song that is **extremely** repetitive: \"99 bottles of Beer\"..."
   ]
  },
  {
   "cell_type": "code",
   "execution_count": 88,
   "id": "3e5413ae",
   "metadata": {},
   "outputs": [
    {
     "name": "stdout",
     "output_type": "stream",
     "text": [
      "99 bottles of beer on the wall, 99 bottles of beer!\n",
      "take one down, pass it around! 98 bottles of beer on the wall!\n",
      "98 bottles of beer on the wall, 98 bottles of beer!\n",
      "take one down, pass it around! 97 bottles of beer on the wall!\n",
      "97 bottles of beer on the wall, 97 bottles of beer!\n",
      "take one down, pass it around! 96 bottles of beer on the wall!\n",
      "96 bottles of beer on the wall, 96 bottles of beer!\n",
      "take one down, pass it around! 95 bottles of beer on the wall!\n",
      "95 bottles of beer on the wall, 95 bottles of beer!\n",
      "take one down, pass it around! 94 bottles of beer on the wall!\n",
      "94 bottles of beer on the wall, 94 bottles of beer!\n",
      "take one down, pass it around! 93 bottles of beer on the wall!\n",
      "93 bottles of beer on the wall, 93 bottles of beer!\n",
      "take one down, pass it around! 92 bottles of beer on the wall!\n",
      "92 bottles of beer on the wall, 92 bottles of beer!\n",
      "take one down, pass it around! 91 bottles of beer on the wall!\n",
      "91 bottles of beer on the wall, 91 bottles of beer!\n",
      "take one down, pass it around! 90 bottles of beer on the wall!\n",
      "90 bottles of beer on the wall, 90 bottles of beer!\n",
      "take one down, pass it around! 89 bottles of beer on the wall!\n",
      "89 bottles of beer on the wall, 89 bottles of beer!\n",
      "take one down, pass it around! 88 bottles of beer on the wall!\n",
      "88 bottles of beer on the wall, 88 bottles of beer!\n",
      "take one down, pass it around! 87 bottles of beer on the wall!\n",
      "87 bottles of beer on the wall, 87 bottles of beer!\n",
      "take one down, pass it around! 86 bottles of beer on the wall!\n",
      "86 bottles of beer on the wall, 86 bottles of beer!\n",
      "take one down, pass it around! 85 bottles of beer on the wall!\n",
      "85 bottles of beer on the wall, 85 bottles of beer!\n",
      "take one down, pass it around! 84 bottles of beer on the wall!\n",
      "84 bottles of beer on the wall, 84 bottles of beer!\n",
      "take one down, pass it around! 83 bottles of beer on the wall!\n",
      "83 bottles of beer on the wall, 83 bottles of beer!\n",
      "take one down, pass it around! 82 bottles of beer on the wall!\n",
      "82 bottles of beer on the wall, 82 bottles of beer!\n",
      "take one down, pass it around! 81 bottles of beer on the wall!\n",
      "81 bottles of beer on the wall, 81 bottles of beer!\n",
      "take one down, pass it around! 80 bottles of beer on the wall!\n",
      "80 bottles of beer on the wall, 80 bottles of beer!\n",
      "take one down, pass it around! 79 bottles of beer on the wall!\n",
      "79 bottles of beer on the wall, 79 bottles of beer!\n",
      "take one down, pass it around! 78 bottles of beer on the wall!\n",
      "78 bottles of beer on the wall, 78 bottles of beer!\n",
      "take one down, pass it around! 77 bottles of beer on the wall!\n",
      "77 bottles of beer on the wall, 77 bottles of beer!\n",
      "take one down, pass it around! 76 bottles of beer on the wall!\n",
      "76 bottles of beer on the wall, 76 bottles of beer!\n",
      "take one down, pass it around! 75 bottles of beer on the wall!\n",
      "75 bottles of beer on the wall, 75 bottles of beer!\n",
      "take one down, pass it around! 74 bottles of beer on the wall!\n",
      "74 bottles of beer on the wall, 74 bottles of beer!\n",
      "take one down, pass it around! 73 bottles of beer on the wall!\n",
      "73 bottles of beer on the wall, 73 bottles of beer!\n",
      "take one down, pass it around! 72 bottles of beer on the wall!\n",
      "72 bottles of beer on the wall, 72 bottles of beer!\n",
      "take one down, pass it around! 71 bottles of beer on the wall!\n",
      "71 bottles of beer on the wall, 71 bottles of beer!\n",
      "take one down, pass it around! 70 bottles of beer on the wall!\n",
      "70 bottles of beer on the wall, 70 bottles of beer!\n",
      "take one down, pass it around! 69 bottles of beer on the wall!\n",
      "69 bottles of beer on the wall, 69 bottles of beer!\n",
      "take one down, pass it around! 68 bottles of beer on the wall!\n",
      "68 bottles of beer on the wall, 68 bottles of beer!\n",
      "take one down, pass it around! 67 bottles of beer on the wall!\n",
      "67 bottles of beer on the wall, 67 bottles of beer!\n",
      "take one down, pass it around! 66 bottles of beer on the wall!\n",
      "66 bottles of beer on the wall, 66 bottles of beer!\n",
      "take one down, pass it around! 65 bottles of beer on the wall!\n",
      "65 bottles of beer on the wall, 65 bottles of beer!\n",
      "take one down, pass it around! 64 bottles of beer on the wall!\n",
      "64 bottles of beer on the wall, 64 bottles of beer!\n",
      "take one down, pass it around! 63 bottles of beer on the wall!\n",
      "63 bottles of beer on the wall, 63 bottles of beer!\n",
      "take one down, pass it around! 62 bottles of beer on the wall!\n",
      "62 bottles of beer on the wall, 62 bottles of beer!\n",
      "take one down, pass it around! 61 bottles of beer on the wall!\n",
      "61 bottles of beer on the wall, 61 bottles of beer!\n",
      "take one down, pass it around! 60 bottles of beer on the wall!\n",
      "60 bottles of beer on the wall, 60 bottles of beer!\n",
      "take one down, pass it around! 59 bottles of beer on the wall!\n",
      "59 bottles of beer on the wall, 59 bottles of beer!\n",
      "take one down, pass it around! 58 bottles of beer on the wall!\n",
      "58 bottles of beer on the wall, 58 bottles of beer!\n",
      "take one down, pass it around! 57 bottles of beer on the wall!\n",
      "57 bottles of beer on the wall, 57 bottles of beer!\n",
      "take one down, pass it around! 56 bottles of beer on the wall!\n",
      "56 bottles of beer on the wall, 56 bottles of beer!\n",
      "take one down, pass it around! 55 bottles of beer on the wall!\n",
      "55 bottles of beer on the wall, 55 bottles of beer!\n",
      "take one down, pass it around! 54 bottles of beer on the wall!\n",
      "54 bottles of beer on the wall, 54 bottles of beer!\n",
      "take one down, pass it around! 53 bottles of beer on the wall!\n",
      "53 bottles of beer on the wall, 53 bottles of beer!\n",
      "take one down, pass it around! 52 bottles of beer on the wall!\n",
      "52 bottles of beer on the wall, 52 bottles of beer!\n",
      "take one down, pass it around! 51 bottles of beer on the wall!\n",
      "51 bottles of beer on the wall, 51 bottles of beer!\n",
      "take one down, pass it around! 50 bottles of beer on the wall!\n",
      "50 bottles of beer on the wall, 50 bottles of beer!\n",
      "take one down, pass it around! 49 bottles of beer on the wall!\n",
      "49 bottles of beer on the wall, 49 bottles of beer!\n",
      "take one down, pass it around! 48 bottles of beer on the wall!\n",
      "48 bottles of beer on the wall, 48 bottles of beer!\n",
      "take one down, pass it around! 47 bottles of beer on the wall!\n",
      "47 bottles of beer on the wall, 47 bottles of beer!\n",
      "take one down, pass it around! 46 bottles of beer on the wall!\n",
      "46 bottles of beer on the wall, 46 bottles of beer!\n",
      "take one down, pass it around! 45 bottles of beer on the wall!\n",
      "45 bottles of beer on the wall, 45 bottles of beer!\n",
      "take one down, pass it around! 44 bottles of beer on the wall!\n",
      "44 bottles of beer on the wall, 44 bottles of beer!\n",
      "take one down, pass it around! 43 bottles of beer on the wall!\n",
      "43 bottles of beer on the wall, 43 bottles of beer!\n",
      "take one down, pass it around! 42 bottles of beer on the wall!\n",
      "42 bottles of beer on the wall, 42 bottles of beer!\n",
      "take one down, pass it around! 41 bottles of beer on the wall!\n",
      "41 bottles of beer on the wall, 41 bottles of beer!\n",
      "take one down, pass it around! 40 bottles of beer on the wall!\n",
      "40 bottles of beer on the wall, 40 bottles of beer!\n",
      "take one down, pass it around! 39 bottles of beer on the wall!\n",
      "39 bottles of beer on the wall, 39 bottles of beer!\n",
      "take one down, pass it around! 38 bottles of beer on the wall!\n",
      "38 bottles of beer on the wall, 38 bottles of beer!\n",
      "take one down, pass it around! 37 bottles of beer on the wall!\n",
      "37 bottles of beer on the wall, 37 bottles of beer!\n",
      "take one down, pass it around! 36 bottles of beer on the wall!\n",
      "36 bottles of beer on the wall, 36 bottles of beer!\n",
      "take one down, pass it around! 35 bottles of beer on the wall!\n",
      "35 bottles of beer on the wall, 35 bottles of beer!\n",
      "take one down, pass it around! 34 bottles of beer on the wall!\n",
      "34 bottles of beer on the wall, 34 bottles of beer!\n",
      "take one down, pass it around! 33 bottles of beer on the wall!\n",
      "33 bottles of beer on the wall, 33 bottles of beer!\n",
      "take one down, pass it around! 32 bottles of beer on the wall!\n",
      "32 bottles of beer on the wall, 32 bottles of beer!\n",
      "take one down, pass it around! 31 bottles of beer on the wall!\n",
      "31 bottles of beer on the wall, 31 bottles of beer!\n",
      "take one down, pass it around! 30 bottles of beer on the wall!\n",
      "30 bottles of beer on the wall, 30 bottles of beer!\n",
      "take one down, pass it around! 29 bottles of beer on the wall!\n",
      "29 bottles of beer on the wall, 29 bottles of beer!\n",
      "take one down, pass it around! 28 bottles of beer on the wall!\n",
      "28 bottles of beer on the wall, 28 bottles of beer!\n",
      "take one down, pass it around! 27 bottles of beer on the wall!\n",
      "27 bottles of beer on the wall, 27 bottles of beer!\n",
      "take one down, pass it around! 26 bottles of beer on the wall!\n",
      "26 bottles of beer on the wall, 26 bottles of beer!\n",
      "take one down, pass it around! 25 bottles of beer on the wall!\n",
      "25 bottles of beer on the wall, 25 bottles of beer!\n",
      "take one down, pass it around! 24 bottles of beer on the wall!\n",
      "24 bottles of beer on the wall, 24 bottles of beer!\n",
      "take one down, pass it around! 23 bottles of beer on the wall!\n",
      "23 bottles of beer on the wall, 23 bottles of beer!\n",
      "take one down, pass it around! 22 bottles of beer on the wall!\n",
      "22 bottles of beer on the wall, 22 bottles of beer!\n",
      "take one down, pass it around! 21 bottles of beer on the wall!\n",
      "21 bottles of beer on the wall, 21 bottles of beer!\n",
      "take one down, pass it around! 20 bottles of beer on the wall!\n",
      "20 bottles of beer on the wall, 20 bottles of beer!\n",
      "take one down, pass it around! 19 bottles of beer on the wall!\n",
      "19 bottles of beer on the wall, 19 bottles of beer!\n",
      "take one down, pass it around! 18 bottles of beer on the wall!\n",
      "18 bottles of beer on the wall, 18 bottles of beer!\n",
      "take one down, pass it around! 17 bottles of beer on the wall!\n",
      "17 bottles of beer on the wall, 17 bottles of beer!\n",
      "take one down, pass it around! 16 bottles of beer on the wall!\n",
      "16 bottles of beer on the wall, 16 bottles of beer!\n",
      "take one down, pass it around! 15 bottles of beer on the wall!\n",
      "15 bottles of beer on the wall, 15 bottles of beer!\n",
      "take one down, pass it around! 14 bottles of beer on the wall!\n",
      "14 bottles of beer on the wall, 14 bottles of beer!\n",
      "take one down, pass it around! 13 bottles of beer on the wall!\n",
      "13 bottles of beer on the wall, 13 bottles of beer!\n",
      "take one down, pass it around! 12 bottles of beer on the wall!\n",
      "12 bottles of beer on the wall, 12 bottles of beer!\n",
      "take one down, pass it around! 11 bottles of beer on the wall!\n",
      "11 bottles of beer on the wall, 11 bottles of beer!\n",
      "take one down, pass it around! 10 bottles of beer on the wall!\n",
      "10 bottles of beer on the wall, 10 bottles of beer!\n",
      "take one down, pass it around! 9 bottles of beer on the wall!\n",
      "9 bottles of beer on the wall, 9 bottles of beer!\n",
      "take one down, pass it around! 8 bottles of beer on the wall!\n",
      "8 bottles of beer on the wall, 8 bottles of beer!\n",
      "take one down, pass it around! 7 bottles of beer on the wall!\n",
      "7 bottles of beer on the wall, 7 bottles of beer!\n",
      "take one down, pass it around! 6 bottles of beer on the wall!\n",
      "6 bottles of beer on the wall, 6 bottles of beer!\n",
      "take one down, pass it around! 5 bottles of beer on the wall!\n",
      "5 bottles of beer on the wall, 5 bottles of beer!\n",
      "take one down, pass it around! 4 bottles of beer on the wall!\n",
      "4 bottles of beer on the wall, 4 bottles of beer!\n",
      "take one down, pass it around! 3 bottles of beer on the wall!\n",
      "3 bottles of beer on the wall, 3 bottles of beer!\n",
      "take one down, pass it around! 2 bottles of beer on the wall!\n",
      "2 bottles of beer on the wall, 2 bottles of beer!\n",
      "take one down, pass it around! 1 bottles of beer on the wall!\n",
      "1 bottles of beer on the wall, 1 bottles of beer!\n",
      "take one down, pass it around! 0 bottles of beer on the wall!\n"
     ]
    }
   ],
   "source": [
    "for beer_num in np.arange(99,0,-1):\n",
    "    print(beer_num,\"bottles of beer on the wall,\",beer_num,\"bottles of beer!\")\n",
    "    print(\"take one down, pass it around!\",beer_num-1,\"bottles of beer on the wall!\")"
   ]
  },
  {
   "cell_type": "markdown",
   "id": "2a5b869c",
   "metadata": {},
   "source": [
    "#### Exercise:\n",
    "Consider the following string:"
   ]
  },
  {
   "cell_type": "code",
   "execution_count": 68,
   "id": "562bdd3a",
   "metadata": {},
   "outputs": [
    {
     "data": {
      "text/plain": [
       "'The Skyline College STEM Center brings together academic and student support services for students taking science, technology, engineering and math courses.The center supports student success by ensuring students have access to resources such as academic tutoring, counseling services, a resource depository for STEM pathways and transfer, a hub for internships and work based learning opportunities, as well as a place where students and staff can collaborate and build a community and supportive connection. This STEM Center was brought to campus by a U.S. Department of Education, Title V, Developing Hispanic-Serving Institutions Program “Strengthening Pathways to Success in STEM” grant awarded in 2018.'"
      ]
     },
     "execution_count": 68,
     "metadata": {},
     "output_type": "execute_result"
    }
   ],
   "source": [
    "STEM_Center_Webpage_string = 'The Skyline College STEM Center brings together academic and student support services for students taking science, technology, engineering and math courses.The center supports student success by ensuring students have access to resources such as academic tutoring, counseling services, a resource depository for STEM pathways and transfer, a hub for internships and work based learning opportunities, as well as a place where students and staff can collaborate and build a community and supportive connection. This STEM Center was brought to campus by a U.S. Department of Education, Title V, Developing Hispanic-Serving Institutions Program “Strengthening Pathways to Success in STEM” grant awarded in 2018.'\n",
    "STEM_Center_Webpage_string"
   ]
  },
  {
   "cell_type": "markdown",
   "id": "fcc8147f",
   "metadata": {},
   "source": [
    "We'll use the `.split()` method to store each word into a list:"
   ]
  },
  {
   "cell_type": "code",
   "execution_count": 83,
   "id": "d4fee0b7",
   "metadata": {},
   "outputs": [],
   "source": [
    "STEM_split = STEM_Center_Webpage_string.split()\n",
    "#STEM_split"
   ]
  },
  {
   "cell_type": "markdown",
   "id": "f67adfb3",
   "metadata": {},
   "source": [
    "Now, use a for-loop to check the list to see how many times 'student' is mentioned on the webpage"
   ]
  },
  {
   "cell_type": "code",
   "execution_count": 84,
   "id": "880f0c8a",
   "metadata": {},
   "outputs": [
    {
     "data": {
      "text/plain": [
       "list"
      ]
     },
     "execution_count": 84,
     "metadata": {},
     "output_type": "execute_result"
    }
   ],
   "source": [
    "STEM_split == 'student'\n",
    "type(STEM_split)\n",
    "#sum(STEM_split=='student')"
   ]
  },
  {
   "cell_type": "code",
   "execution_count": 86,
   "id": "8e621cbf",
   "metadata": {},
   "outputs": [
    {
     "data": {
      "text/plain": [
       "2"
      ]
     },
     "execution_count": 86,
     "metadata": {},
     "output_type": "execute_result"
    }
   ],
   "source": [
    "student_count = 0 \n",
    "for word in STEM_split:\n",
    "    #print(word)\n",
    "    if word == 'student':\n",
    "        print('Found!'+word)\n",
    "        student_count = student_count +1\n",
    "\n",
    "        \n",
    "student_count"
   ]
  },
  {
   "cell_type": "markdown",
   "id": "fa833134",
   "metadata": {},
   "source": [
    "# Saved for Thursday (10/19)"
   ]
  },
  {
   "cell_type": "markdown",
   "id": "3105e5b0",
   "metadata": {},
   "source": [
    "# Random Selection\n",
    "\n",
    "## 'np.random.choice' will help us produce arrays that are randomly generated\n",
    "Consider the array of food we could get at the Sky Cafe here on campus: "
   ]
  },
  {
   "cell_type": "code",
   "execution_count": null,
   "id": "61f0c9d7",
   "metadata": {},
   "outputs": [],
   "source": [
    "cafe_lunch_options = make_array('Salad Bar','Chicken Tendies','Quesadilla','Burger','Just hella fries',\n",
    "                                'Daily Special','Sandwich','Cup Noodle')\n",
    "cafe_lunch_options"
   ]
  },
  {
   "cell_type": "markdown",
   "id": "07d74d3b",
   "metadata": {},
   "source": [
    "#### I forgot to bring my lunch from home today, what am I getting? Run the cell below:"
   ]
  },
  {
   "cell_type": "code",
   "execution_count": null,
   "id": "9e02ec05",
   "metadata": {},
   "outputs": [],
   "source": [
    "np.random.choice(cafe_lunch_options)"
   ]
  },
  {
   "cell_type": "markdown",
   "id": "8af614f3",
   "metadata": {},
   "source": [
    "#### Allison also forgot hers. She said, \"I don't know, surprise me.\" What are we each getting?"
   ]
  },
  {
   "cell_type": "code",
   "execution_count": null,
   "id": "35a69235",
   "metadata": {},
   "outputs": [],
   "source": []
  },
  {
   "cell_type": "code",
   "execution_count": null,
   "id": "d8285310",
   "metadata": {},
   "outputs": [],
   "source": []
  },
  {
   "cell_type": "markdown",
   "id": "2c73875a",
   "metadata": {},
   "source": [
    "## Appending items to arrays and other arrays to arrays"
   ]
  },
  {
   "cell_type": "code",
   "execution_count": null,
   "id": "93edb428",
   "metadata": {},
   "outputs": [],
   "source": []
  },
  {
   "cell_type": "code",
   "execution_count": null,
   "id": "89fb488a",
   "metadata": {},
   "outputs": [],
   "source": []
  },
  {
   "cell_type": "markdown",
   "id": "3b2290d7",
   "metadata": {},
   "source": [
    "## 'tbl.sample' will help produce smaller tables that are randomly generated"
   ]
  },
  {
   "cell_type": "code",
   "execution_count": null,
   "id": "aa286c1a",
   "metadata": {},
   "outputs": [],
   "source": []
  },
  {
   "cell_type": "code",
   "execution_count": null,
   "id": "a0c666dd",
   "metadata": {},
   "outputs": [],
   "source": []
  }
 ],
 "metadata": {
  "kernelspec": {
   "display_name": "Python 3 (ipykernel)",
   "language": "python",
   "name": "python3"
  },
  "language_info": {
   "codemirror_mode": {
    "name": "ipython",
    "version": 3
   },
   "file_extension": ".py",
   "mimetype": "text/x-python",
   "name": "python",
   "nbconvert_exporter": "python",
   "pygments_lexer": "ipython3",
   "version": "3.10.11"
  }
 },
 "nbformat": 4,
 "nbformat_minor": 5
}
