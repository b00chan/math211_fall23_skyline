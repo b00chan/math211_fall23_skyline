{
 "cells": [
  {
   "cell_type": "markdown",
   "id": "f258590f",
   "metadata": {},
   "source": [
    "# [Python Reference Link](http://www.data8.org/sp20/python-reference.html)\n",
    "*Run the cell below so that we can set our modules up*"
   ]
  },
  {
   "cell_type": "code",
   "execution_count": 1,
   "id": "7719968a",
   "metadata": {},
   "outputs": [],
   "source": [
    "import numpy as np\n",
    "from datascience import *"
   ]
  },
  {
   "cell_type": "code",
   "execution_count": 2,
   "id": "3d1632de",
   "metadata": {},
   "outputs": [],
   "source": [
    "# These lines set up graphing capabilities.\n",
    "import matplotlib\n",
    "%matplotlib inline\n",
    "import matplotlib.pyplot as plt\n",
    "plt.style.use('fivethirtyeight')\n",
    "import warnings\n",
    "warnings.simplefilter('ignore', FutureWarning)\n",
    "\n",
    "from ipywidgets import interact, interactive, fixed, interact_manual\n",
    "import ipywidgets as widgets"
   ]
  },
  {
   "cell_type": "markdown",
   "id": "2e405be3",
   "metadata": {},
   "source": [
    "# Grouping Data Demo"
   ]
  },
  {
   "cell_type": "code",
   "execution_count": 3,
   "id": "b35a5eef",
   "metadata": {
    "scrolled": false
   },
   "outputs": [
    {
     "data": {
      "text/html": [
       "<table border=\"1\" class=\"dataframe\">\n",
       "    <thead>\n",
       "        <tr>\n",
       "            <th>Timestamp</th> <th>Surveyor</th> <th>GPA</th> <th>introversion/extroversion</th> <th>Pets</th> <th>Handed</th> <th>Sleep Position</th> <th>K-Pop</th> <th>K-Pop Group</th> <th>travel destination</th> <th>Birthplace </th> <th>Transfer destination</th> <th>Fear</th> <th>Music Genre</th> <th>Color </th>\n",
       "        </tr>\n",
       "    </thead>\n",
       "    <tbody>\n",
       "        <tr>\n",
       "            <td>8/17/2023 16:33</td> <td>Christian Le</td> <td>2.86</td> <td>6                        </td> <td>Dogs</td> <td>Right-handed</td> <td>On my side    </td> <td>Yes  </td> <td>Le Sserafim</td> <td>Japan             </td> <td>Local      </td> <td>UC                  </td> <td>Working         </td> <td>Pop        </td> <td>Red   </td>\n",
       "        </tr>\n",
       "        <tr>\n",
       "            <td>8/17/2023 16:34</td> <td>Christian Le</td> <td>4   </td> <td>8                        </td> <td>nan </td> <td>Right-handed</td> <td>On my back    </td> <td>Yes  </td> <td>Le Sserafim</td> <td>Switzerland       </td> <td>Local      </td> <td>UC                  </td> <td>A regretful life</td> <td>All        </td> <td>Black </td>\n",
       "        </tr>\n",
       "        <tr>\n",
       "            <td>8/17/2023 16:38</td> <td>Christian Le</td> <td>2.5 </td> <td>8                        </td> <td>Cats</td> <td>Right-handed</td> <td>On my stomach </td> <td>Yes  </td> <td>Seventeen  </td> <td>Hawaii            </td> <td>Local      </td> <td>UC Transfer         </td> <td>Death, Spiders  </td> <td>R&B, K-POP </td> <td>Green </td>\n",
       "        </tr>\n",
       "    </tbody>\n",
       "</table>\n",
       "<p>... (229 rows omitted)</p>"
      ],
      "text/plain": [
       "<IPython.core.display.HTML object>"
      ]
     },
     "metadata": {},
     "output_type": "display_data"
    }
   ],
   "source": [
    "math211_survey = Table.read_table('Math211_FallSurvey.csv')\n",
    "\n",
    "math211_survey.show(3)"
   ]
  },
  {
   "cell_type": "markdown",
   "id": "f3f60be5",
   "metadata": {},
   "source": [
    "## Question: So... which classmate earned the most responses?"
   ]
  },
  {
   "cell_type": "code",
   "execution_count": 9,
   "id": "13b3c4d6",
   "metadata": {},
   "outputs": [
    {
     "data": {
      "text/html": [
       "<table border=\"1\" class=\"dataframe\">\n",
       "    <thead>\n",
       "        <tr>\n",
       "            <th>Surveyor</th> <th>count</th>\n",
       "        </tr>\n",
       "    </thead>\n",
       "    <tbody>\n",
       "        <tr>\n",
       "            <td>Allison     </td> <td>20   </td>\n",
       "        </tr>\n",
       "        <tr>\n",
       "            <td>Alyssa      </td> <td>1    </td>\n",
       "        </tr>\n",
       "        <tr>\n",
       "            <td>Bea         </td> <td>1    </td>\n",
       "        </tr>\n",
       "        <tr>\n",
       "            <td>Casey So    </td> <td>23   </td>\n",
       "        </tr>\n",
       "        <tr>\n",
       "            <td>Christian Le</td> <td>23   </td>\n",
       "        </tr>\n",
       "        <tr>\n",
       "            <td>Cristel     </td> <td>10   </td>\n",
       "        </tr>\n",
       "        <tr>\n",
       "            <td>Edric Lee   </td> <td>15   </td>\n",
       "        </tr>\n",
       "        <tr>\n",
       "            <td>Hansen Xiao </td> <td>8    </td>\n",
       "        </tr>\n",
       "        <tr>\n",
       "            <td>Jackie      </td> <td>21   </td>\n",
       "        </tr>\n",
       "        <tr>\n",
       "            <td>Jessica Chel</td> <td>1    </td>\n",
       "        </tr>\n",
       "    </tbody>\n",
       "</table>\n",
       "<p>... (11 rows omitted)</p>"
      ],
      "text/plain": [
       "Surveyor     | count\n",
       "Allison      | 20\n",
       "Alyssa       | 1\n",
       "Bea          | 1\n",
       "Casey So     | 23\n",
       "Christian Le | 23\n",
       "Cristel      | 10\n",
       "Edric Lee    | 15\n",
       "Hansen Xiao  | 8\n",
       "Jackie       | 21\n",
       "Jessica Chel | 1\n",
       "... (11 rows omitted)"
      ]
     },
     "execution_count": 9,
     "metadata": {},
     "output_type": "execute_result"
    }
   ],
   "source": [
    "math211_survey.group('Surveyor')"
   ]
  },
  {
   "cell_type": "markdown",
   "id": "8b2a30a3",
   "metadata": {},
   "source": [
    "## Question: How many are introverted/extroverted?"
   ]
  },
  {
   "cell_type": "code",
   "execution_count": 10,
   "id": "6be86ad5",
   "metadata": {},
   "outputs": [
    {
     "data": {
      "image/png": "[encoded data removed]",
      "text/plain": [
       "<Figure size 600x400 with 1 Axes>"
      ]
     },
     "metadata": {},
     "output_type": "display_data"
    }
   ],
   "source": [
    "math211_survey.hist('introversion/extroversion')"
   ]
  },
  {
   "cell_type": "code",
   "execution_count": 28,
   "id": "51391e26",
   "metadata": {},
   "outputs": [
    {
     "data": {
      "text/html": [
       "<table border=\"1\" class=\"dataframe\">\n",
       "    <thead>\n",
       "        <tr>\n",
       "            <th>introversion/extroversion</th> <th>count</th>\n",
       "        </tr>\n",
       "    </thead>\n",
       "    <tbody>\n",
       "        <tr>\n",
       "            <td>1                        </td> <td>9    </td>\n",
       "        </tr>\n",
       "        <tr>\n",
       "            <td>2                        </td> <td>12   </td>\n",
       "        </tr>\n",
       "        <tr>\n",
       "            <td>3                        </td> <td>30   </td>\n",
       "        </tr>\n",
       "        <tr>\n",
       "            <td>4                        </td> <td>35   </td>\n",
       "        </tr>\n",
       "        <tr>\n",
       "            <td>5                        </td> <td>56   </td>\n",
       "        </tr>\n",
       "        <tr>\n",
       "            <td>6                        </td> <td>26   </td>\n",
       "        </tr>\n",
       "        <tr>\n",
       "            <td>7                        </td> <td>29   </td>\n",
       "        </tr>\n",
       "        <tr>\n",
       "            <td>8                        </td> <td>25   </td>\n",
       "        </tr>\n",
       "        <tr>\n",
       "            <td>9                        </td> <td>6    </td>\n",
       "        </tr>\n",
       "        <tr>\n",
       "            <td>10                       </td> <td>4    </td>\n",
       "        </tr>\n",
       "    </tbody>\n",
       "</table>"
      ],
      "text/plain": [
       "introversion/extroversion | count\n",
       "1                         | 9\n",
       "2                         | 12\n",
       "3                         | 30\n",
       "4                         | 35\n",
       "5                         | 56\n",
       "6                         | 26\n",
       "7                         | 29\n",
       "8                         | 25\n",
       "9                         | 6\n",
       "10                        | 4"
      ]
     },
     "execution_count": 28,
     "metadata": {},
     "output_type": "execute_result"
    }
   ],
   "source": [
    "math211_survey.group('introversion/extroversion')"
   ]
  },
  {
   "cell_type": "markdown",
   "id": "9e13ed0a",
   "metadata": {},
   "source": [
    "## Question: How does your introversion/extroversion impact your GPA? "
   ]
  },
  {
   "cell_type": "code",
   "execution_count": 29,
   "id": "8808c6a5",
   "metadata": {},
   "outputs": [
    {
     "data": {
      "text/html": [
       "<table border=\"1\" class=\"dataframe\">\n",
       "    <thead>\n",
       "        <tr>\n",
       "            <th>introversion/extroversion</th> <th>GPA average</th>\n",
       "        </tr>\n",
       "    </thead>\n",
       "    <tbody>\n",
       "        <tr>\n",
       "            <td>10                       </td> <td>3.925      </td>\n",
       "        </tr>\n",
       "        <tr>\n",
       "            <td>9                        </td> <td>3.69333    </td>\n",
       "        </tr>\n",
       "        <tr>\n",
       "            <td>7                        </td> <td>3.67976    </td>\n",
       "        </tr>\n",
       "        <tr>\n",
       "            <td>1                        </td> <td>3.62778    </td>\n",
       "        </tr>\n",
       "        <tr>\n",
       "            <td>3                        </td> <td>3.615      </td>\n",
       "        </tr>\n",
       "        <tr>\n",
       "            <td>8                        </td> <td>3.58536    </td>\n",
       "        </tr>\n",
       "        <tr>\n",
       "            <td>2                        </td> <td>3.5625     </td>\n",
       "        </tr>\n",
       "        <tr>\n",
       "            <td>6                        </td> <td>3.47385    </td>\n",
       "        </tr>\n",
       "        <tr>\n",
       "            <td>5                        </td> <td>3.46357    </td>\n",
       "        </tr>\n",
       "        <tr>\n",
       "            <td>4                        </td> <td>3.432      </td>\n",
       "        </tr>\n",
       "    </tbody>\n",
       "</table>"
      ],
      "text/plain": [
       "introversion/extroversion | GPA average\n",
       "10                        | 3.925\n",
       "9                         | 3.69333\n",
       "7                         | 3.67976\n",
       "1                         | 3.62778\n",
       "3                         | 3.615\n",
       "8                         | 3.58536\n",
       "2                         | 3.5625\n",
       "6                         | 3.47385\n",
       "5                         | 3.46357\n",
       "4                         | 3.432"
      ]
     },
     "execution_count": 29,
     "metadata": {},
     "output_type": "execute_result"
    }
   ],
   "source": [
    "(math211_survey.group('introversion/extroversion',np.average) #generate a column of unique introversion/extroversion scores\n",
    "                .select(0,'GPA average') #I only wanted to see the two columns relevant to question\n",
    "                .sort('GPA average',descending = True)) #find highest GPA's on top "
   ]
  },
  {
   "cell_type": "markdown",
   "id": "b50362c2",
   "metadata": {},
   "source": [
    "## Question: Based on Transfer Destination, do you have different introversion/extroversion scores?"
   ]
  },
  {
   "cell_type": "code",
   "execution_count": 30,
   "id": "664fad15",
   "metadata": {},
   "outputs": [
    {
     "data": {
      "text/html": [
       "<table border=\"1\" class=\"dataframe\">\n",
       "    <thead>\n",
       "        <tr>\n",
       "            <th>Transfer destination</th> <th>introversion/extroversion average</th>\n",
       "        </tr>\n",
       "    </thead>\n",
       "    <tbody>\n",
       "        <tr>\n",
       "            <td>Private                               </td> <td>3                                </td>\n",
       "        </tr>\n",
       "        <tr>\n",
       "            <td>USF                                   </td> <td>3                                </td>\n",
       "        </tr>\n",
       "        <tr>\n",
       "            <td>UC or CSU                             </td> <td>4                                </td>\n",
       "        </tr>\n",
       "        <tr>\n",
       "            <td>Unknown                               </td> <td>4.5                              </td>\n",
       "        </tr>\n",
       "        <tr>\n",
       "            <td>Out of State                          </td> <td>4.57143                          </td>\n",
       "        </tr>\n",
       "        <tr>\n",
       "            <td>Private (American Military University)</td> <td>5                                </td>\n",
       "        </tr>\n",
       "        <tr>\n",
       "            <td>UCSC Transfer                         </td> <td>5                                </td>\n",
       "        </tr>\n",
       "        <tr>\n",
       "            <td>nan                                   </td> <td>5                                </td>\n",
       "        </tr>\n",
       "        <tr>\n",
       "            <td>UC                                    </td> <td>5.1087                           </td>\n",
       "        </tr>\n",
       "        <tr>\n",
       "            <td>CSU                                   </td> <td>5.25                             </td>\n",
       "        </tr>\n",
       "        <tr>\n",
       "            <td>CSU (SFSU)                            </td> <td>5.5                              </td>\n",
       "        </tr>\n",
       "        <tr>\n",
       "            <td>UC Grad                               </td> <td>6.5                              </td>\n",
       "        </tr>\n",
       "        <tr>\n",
       "            <td>Home school                           </td> <td>7                                </td>\n",
       "        </tr>\n",
       "        <tr>\n",
       "            <td>Private (Dominican University)        </td> <td>7                                </td>\n",
       "        </tr>\n",
       "        <tr>\n",
       "            <td>Grad                                  </td> <td>8                                </td>\n",
       "        </tr>\n",
       "        <tr>\n",
       "            <td>Menlo College                         </td> <td>8                                </td>\n",
       "        </tr>\n",
       "        <tr>\n",
       "            <td>UC Transfer                           </td> <td>8                                </td>\n",
       "        </tr>\n",
       "        <tr>\n",
       "            <td>USC                                   </td> <td>8                                </td>\n",
       "        </tr>\n",
       "        <tr>\n",
       "            <td>Non-Transfer                          </td> <td>9                                </td>\n",
       "        </tr>\n",
       "    </tbody>\n",
       "</table>"
      ],
      "text/plain": [
       "<IPython.core.display.HTML object>"
      ]
     },
     "metadata": {},
     "output_type": "display_data"
    }
   ],
   "source": [
    "(math211_survey.group('Transfer destination', np.average)\n",
    "                .select(0,'introversion/extroversion average')\n",
    "                .sort('introversion/extroversion average')).show()"
   ]
  },
  {
   "cell_type": "markdown",
   "id": "8e853826",
   "metadata": {},
   "source": [
    "## Question: Based on Transfer Destination, are GPA's different?"
   ]
  },
  {
   "cell_type": "code",
   "execution_count": 33,
   "id": "31443885",
   "metadata": {},
   "outputs": [
    {
     "data": {
      "text/html": [
       "<table border=\"1\" class=\"dataframe\">\n",
       "    <thead>\n",
       "        <tr>\n",
       "            <th>Transfer destination</th> <th>GPA average</th>\n",
       "        </tr>\n",
       "    </thead>\n",
       "    <tbody>\n",
       "        <tr>\n",
       "            <td>Menlo College                         </td> <td>4          </td>\n",
       "        </tr>\n",
       "        <tr>\n",
       "            <td>Non-Transfer                          </td> <td>4          </td>\n",
       "        </tr>\n",
       "        <tr>\n",
       "            <td>USC                                   </td> <td>4          </td>\n",
       "        </tr>\n",
       "        <tr>\n",
       "            <td>USF                                   </td> <td>4          </td>\n",
       "        </tr>\n",
       "        <tr>\n",
       "            <td>UC or CSU                             </td> <td>3.96       </td>\n",
       "        </tr>\n",
       "        <tr>\n",
       "            <td>Private                               </td> <td>3.9        </td>\n",
       "        </tr>\n",
       "        <tr>\n",
       "            <td>Private (Dominican University)        </td> <td>3.9        </td>\n",
       "        </tr>\n",
       "        <tr>\n",
       "            <td>Grad                                  </td> <td>3.78       </td>\n",
       "        </tr>\n",
       "        <tr>\n",
       "            <td>Out of State                          </td> <td>3.65714    </td>\n",
       "        </tr>\n",
       "        <tr>\n",
       "            <td>UC Grad                               </td> <td>3.58       </td>\n",
       "        </tr>\n",
       "        <tr>\n",
       "            <td>UC                                    </td> <td>3.57476    </td>\n",
       "        </tr>\n",
       "        <tr>\n",
       "            <td>CSU                                   </td> <td>3.46857    </td>\n",
       "        </tr>\n",
       "        <tr>\n",
       "            <td>Unknown                               </td> <td>3.3425     </td>\n",
       "        </tr>\n",
       "        <tr>\n",
       "            <td>UCSC Transfer                         </td> <td>3.25       </td>\n",
       "        </tr>\n",
       "        <tr>\n",
       "            <td>Home school                           </td> <td>3.2        </td>\n",
       "        </tr>\n",
       "        <tr>\n",
       "            <td>CSU (SFSU)                            </td> <td>3.1        </td>\n",
       "        </tr>\n",
       "        <tr>\n",
       "            <td>nan                                   </td> <td>2.99       </td>\n",
       "        </tr>\n",
       "        <tr>\n",
       "            <td>Private (American Military University)</td> <td>2.7        </td>\n",
       "        </tr>\n",
       "        <tr>\n",
       "            <td>UC Transfer                           </td> <td>2.5        </td>\n",
       "        </tr>\n",
       "    </tbody>\n",
       "</table>"
      ],
      "text/plain": [
       "<IPython.core.display.HTML object>"
      ]
     },
     "metadata": {},
     "output_type": "display_data"
    }
   ],
   "source": [
    "math211_survey.group('Transfer destination',np.average).select(0,'GPA average').sort('GPA average',descending=True).show()"
   ]
  },
  {
   "cell_type": "markdown",
   "id": "148db21f",
   "metadata": {},
   "source": [
    "## Question: How many people like K-Pop?"
   ]
  },
  {
   "cell_type": "code",
   "execution_count": 34,
   "id": "0057c119",
   "metadata": {},
   "outputs": [
    {
     "data": {
      "text/html": [
       "<table border=\"1\" class=\"dataframe\">\n",
       "    <thead>\n",
       "        <tr>\n",
       "            <th>K-Pop</th> <th>count</th>\n",
       "        </tr>\n",
       "    </thead>\n",
       "    <tbody>\n",
       "        <tr>\n",
       "            <td>No   </td> <td>94   </td>\n",
       "        </tr>\n",
       "        <tr>\n",
       "            <td>Yes  </td> <td>138  </td>\n",
       "        </tr>\n",
       "    </tbody>\n",
       "</table>"
      ],
      "text/plain": [
       "K-Pop | count\n",
       "No    | 94\n",
       "Yes   | 138"
      ]
     },
     "execution_count": 34,
     "metadata": {},
     "output_type": "execute_result"
    }
   ],
   "source": [
    "math211_survey.group('K-Pop')"
   ]
  },
  {
   "cell_type": "code",
   "execution_count": null,
   "id": "c7c3f6a1",
   "metadata": {},
   "outputs": [],
   "source": []
  }
 ],
 "metadata": {
  "kernelspec": {
   "display_name": "Python 3 (ipykernel)",
   "language": "python",
   "name": "python3"
  },
  "language_info": {
   "codemirror_mode": {
    "name": "ipython",
    "version": 3
   },
   "file_extension": ".py",
   "mimetype": "text/x-python",
   "name": "python",
   "nbconvert_exporter": "python",
   "pygments_lexer": "ipython3",
   "version": "3.10.11"
  }
 },
 "nbformat": 4,
 "nbformat_minor": 5
}
