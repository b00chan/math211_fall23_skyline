{
 "cells": [
  {
   "cell_type": "markdown",
   "id": "ec9959b5",
   "metadata": {},
   "source": [
    "# [Python Reference Link](http://www.data8.org/sp20/python-reference.html)\n",
    "*Run the cell below so that we can set our modules up*"
   ]
  },
  {
   "cell_type": "code",
   "execution_count": 1,
   "id": "bc35b0b0",
   "metadata": {},
   "outputs": [],
   "source": [
    "import numpy as np\n",
    "from datascience import *\n",
    "\n",
    "# These lines do some fancy plotting magic.\n",
    "import matplotlib\n",
    "%matplotlib inline\n",
    "import matplotlib.pyplot as plt\n",
    "plt.style.use('fivethirtyeight')\n",
    "import warnings\n",
    "warnings.simplefilter('ignore', FutureWarning)"
   ]
  },
  {
   "cell_type": "markdown",
   "id": "4d6a07a0",
   "metadata": {},
   "source": [
    "# Confidence Intervals: Covid Data"
   ]
  },
  {
   "cell_type": "code",
   "execution_count": 2,
   "id": "7a19e909",
   "metadata": {},
   "outputs": [
    {
     "data": {
      "text/html": [
       "<table border=\"1\" class=\"dataframe\">\n",
       "    <thead>\n",
       "        <tr>\n",
       "            <th>USMER</th> <th>MEDICAL_UNIT</th> <th>SEX</th> <th>PATIENT_TYPE</th> <th>DATE_DIED</th> <th>INTUBED</th> <th>PNEUMONIA</th> <th>AGE</th> <th>PREGNANT</th> <th>DIABETES</th> <th>COPD</th> <th>ASTHMA</th> <th>INMSUPR</th> <th>HIPERTENSION</th> <th>OTHER_DISEASE</th> <th>CARDIOVASCULAR</th> <th>OBESITY</th> <th>RENAL_CHRONIC</th> <th>TOBACCO</th> <th>CLASIFFICATION_FINAL</th> <th>ICU</th>\n",
       "        </tr>\n",
       "    </thead>\n",
       "    <tbody>\n",
       "        <tr>\n",
       "            <td>2    </td> <td>1           </td> <td>1   </td> <td>1           </td> <td>3/5/2020  </td> <td>97     </td> <td>1        </td> <td>65  </td> <td>2       </td> <td>2       </td> <td>2   </td> <td>2     </td> <td>2      </td> <td>1           </td> <td>2            </td> <td>2             </td> <td>2      </td> <td>2            </td> <td>2      </td> <td>3                   </td> <td>97  </td>\n",
       "        </tr>\n",
       "        <tr>\n",
       "            <td>2    </td> <td>1           </td> <td>1   </td> <td>1           </td> <td>12/6/2020 </td> <td>97     </td> <td>2        </td> <td>53  </td> <td>2       </td> <td>2       </td> <td>2   </td> <td>2     </td> <td>2      </td> <td>2           </td> <td>2            </td> <td>2             </td> <td>2      </td> <td>2            </td> <td>2      </td> <td>7                   </td> <td>97  </td>\n",
       "        </tr>\n",
       "        <tr>\n",
       "            <td>2    </td> <td>1           </td> <td>1   </td> <td>1           </td> <td>9999-99-99</td> <td>97     </td> <td>2        </td> <td>64  </td> <td>2       </td> <td>2       </td> <td>2   </td> <td>2     </td> <td>2      </td> <td>2           </td> <td>2            </td> <td>2             </td> <td>2      </td> <td>2            </td> <td>2      </td> <td>3                   </td> <td>97  </td>\n",
       "        </tr>\n",
       "        <tr>\n",
       "            <td>2    </td> <td>1           </td> <td>1   </td> <td>2           </td> <td>9999-99-99</td> <td>2      </td> <td>2        </td> <td>25  </td> <td>2       </td> <td>2       </td> <td>2   </td> <td>2     </td> <td>2      </td> <td>2           </td> <td>2            </td> <td>2             </td> <td>2      </td> <td>2            </td> <td>2      </td> <td>3                   </td> <td>2   </td>\n",
       "        </tr>\n",
       "        <tr>\n",
       "            <td>2    </td> <td>1           </td> <td>2   </td> <td>2           </td> <td>9999-99-99</td> <td>2      </td> <td>2        </td> <td>30  </td> <td>97      </td> <td>2       </td> <td>2   </td> <td>2     </td> <td>2      </td> <td>2           </td> <td>2            </td> <td>2             </td> <td>2      </td> <td>2            </td> <td>2      </td> <td>3                   </td> <td>2   </td>\n",
       "        </tr>\n",
       "        <tr>\n",
       "            <td>2    </td> <td>1           </td> <td>1   </td> <td>1           </td> <td>9999-99-99</td> <td>97     </td> <td>2        </td> <td>23  </td> <td>2       </td> <td>2       </td> <td>2   </td> <td>2     </td> <td>2      </td> <td>2           </td> <td>2            </td> <td>2             </td> <td>2      </td> <td>2            </td> <td>2      </td> <td>3                   </td> <td>97  </td>\n",
       "        </tr>\n",
       "        <tr>\n",
       "            <td>2    </td> <td>1           </td> <td>2   </td> <td>1           </td> <td>9999-99-99</td> <td>97     </td> <td>2        </td> <td>54  </td> <td>97      </td> <td>2       </td> <td>2   </td> <td>2     </td> <td>2      </td> <td>2           </td> <td>2            </td> <td>2             </td> <td>2      </td> <td>2            </td> <td>2      </td> <td>3                   </td> <td>97  </td>\n",
       "        </tr>\n",
       "        <tr>\n",
       "            <td>2    </td> <td>1           </td> <td>2   </td> <td>1           </td> <td>9999-99-99</td> <td>97     </td> <td>2        </td> <td>30  </td> <td>97      </td> <td>2       </td> <td>2   </td> <td>2     </td> <td>2      </td> <td>2           </td> <td>2            </td> <td>2             </td> <td>2      </td> <td>2            </td> <td>2      </td> <td>3                   </td> <td>97  </td>\n",
       "        </tr>\n",
       "        <tr>\n",
       "            <td>2    </td> <td>1           </td> <td>1   </td> <td>1           </td> <td>9999-99-99</td> <td>97     </td> <td>2        </td> <td>38  </td> <td>2       </td> <td>2       </td> <td>2   </td> <td>2     </td> <td>2      </td> <td>2           </td> <td>2            </td> <td>2             </td> <td>2      </td> <td>1            </td> <td>2      </td> <td>3                   </td> <td>97  </td>\n",
       "        </tr>\n",
       "        <tr>\n",
       "            <td>2    </td> <td>1           </td> <td>2   </td> <td>1           </td> <td>9999-99-99</td> <td>97     </td> <td>2        </td> <td>49  </td> <td>97      </td> <td>2       </td> <td>2   </td> <td>2     </td> <td>2      </td> <td>2           </td> <td>2            </td> <td>2             </td> <td>2      </td> <td>2            </td> <td>2      </td> <td>3                   </td> <td>97  </td>\n",
       "        </tr>\n",
       "    </tbody>\n",
       "</table>\n",
       "<p>... (349515 rows omitted)</p>"
      ],
      "text/plain": [
       "USMER | MEDICAL_UNIT | SEX  | PATIENT_TYPE | DATE_DIED  | INTUBED | PNEUMONIA | AGE  | PREGNANT | DIABETES | COPD | ASTHMA | INMSUPR | HIPERTENSION | OTHER_DISEASE | CARDIOVASCULAR | OBESITY | RENAL_CHRONIC | TOBACCO | CLASIFFICATION_FINAL | ICU\n",
       "2     | 1            | 1    | 1            | 3/5/2020   | 97      | 1         | 65   | 2        | 2        | 2    | 2      | 2       | 1            | 2             | 2              | 2       | 2             | 2       | 3                    | 97\n",
       "2     | 1            | 1    | 1            | 12/6/2020  | 97      | 2         | 53   | 2        | 2        | 2    | 2      | 2       | 2            | 2             | 2              | 2       | 2             | 2       | 7                    | 97\n",
       "2     | 1            | 1    | 1            | 9999-99-99 | 97      | 2         | 64   | 2        | 2        | 2    | 2      | 2       | 2            | 2             | 2              | 2       | 2             | 2       | 3                    | 97\n",
       "2     | 1            | 1    | 2            | 9999-99-99 | 2       | 2         | 25   | 2        | 2        | 2    | 2      | 2       | 2            | 2             | 2              | 2       | 2             | 2       | 3                    | 2\n",
       "2     | 1            | 2    | 2            | 9999-99-99 | 2       | 2         | 30   | 97       | 2        | 2    | 2      | 2       | 2            | 2             | 2              | 2       | 2             | 2       | 3                    | 2\n",
       "2     | 1            | 1    | 1            | 9999-99-99 | 97      | 2         | 23   | 2        | 2        | 2    | 2      | 2       | 2            | 2             | 2              | 2       | 2             | 2       | 3                    | 97\n",
       "2     | 1            | 2    | 1            | 9999-99-99 | 97      | 2         | 54   | 97       | 2        | 2    | 2      | 2       | 2            | 2             | 2              | 2       | 2             | 2       | 3                    | 97\n",
       "2     | 1            | 2    | 1            | 9999-99-99 | 97      | 2         | 30   | 97       | 2        | 2    | 2      | 2       | 2            | 2             | 2              | 2       | 2             | 2       | 3                    | 97\n",
       "2     | 1            | 1    | 1            | 9999-99-99 | 97      | 2         | 38   | 2        | 2        | 2    | 2      | 2       | 2            | 2             | 2              | 2       | 1             | 2       | 3                    | 97\n",
       "2     | 1            | 2    | 1            | 9999-99-99 | 97      | 2         | 49   | 97       | 2        | 2    | 2      | 2       | 2            | 2             | 2              | 2       | 2             | 2       | 3                    | 97\n",
       "... (349515 rows omitted)"
      ]
     },
     "execution_count": 2,
     "metadata": {},
     "output_type": "execute_result"
    }
   ],
   "source": [
    "covid_data = Table.read_table(\"Covid Data_subset.csv\")\n",
    "covid_data"
   ]
  },
  {
   "cell_type": "code",
   "execution_count": 11,
   "id": "0c8af2d1",
   "metadata": {},
   "outputs": [
    {
     "data": {
      "text/plain": [
       "7.337672555611185"
      ]
     },
     "execution_count": 11,
     "metadata": {},
     "output_type": "execute_result"
    }
   ],
   "source": [
    "#Let's consider this data set to be our population, and calculate the death rate of patients with covid.  \n",
    "#Those with an impossible date for death can be assumed to live in this data set\n",
    "true_death = 100*(1 - (covid_data.where('DATE_DIED','9999-99-99').num_rows / covid_data.num_rows))\n",
    "true_death"
   ]
  },
  {
   "cell_type": "markdown",
   "id": "f667888e",
   "metadata": {},
   "source": [
    "### Let's play out a scenario"
   ]
  },
  {
   "cell_type": "markdown",
   "id": "099bbefe",
   "metadata": {},
   "source": [
    "Suppose that we are still in the early stages of the covid pandemic. You work for a hospital that has seen 100 patients so far. You want to know how deadly this illness is to the population. "
   ]
  },
  {
   "cell_type": "code",
   "execution_count": 4,
   "id": "319a83f9",
   "metadata": {},
   "outputs": [
    {
     "data": {
      "text/html": [
       "<table border=\"1\" class=\"dataframe\">\n",
       "    <thead>\n",
       "        <tr>\n",
       "            <th>USMER</th> <th>MEDICAL_UNIT</th> <th>SEX</th> <th>PATIENT_TYPE</th> <th>DATE_DIED</th> <th>INTUBED</th> <th>PNEUMONIA</th> <th>AGE</th> <th>PREGNANT</th> <th>DIABETES</th> <th>COPD</th> <th>ASTHMA</th> <th>INMSUPR</th> <th>HIPERTENSION</th> <th>OTHER_DISEASE</th> <th>CARDIOVASCULAR</th> <th>OBESITY</th> <th>RENAL_CHRONIC</th> <th>TOBACCO</th> <th>CLASIFFICATION_FINAL</th> <th>ICU</th>\n",
       "        </tr>\n",
       "    </thead>\n",
       "    <tbody>\n",
       "        <tr>\n",
       "            <td>2    </td> <td>12          </td> <td>1   </td> <td>1           </td> <td>9999-99-99</td> <td>97     </td> <td>2        </td> <td>54  </td> <td>2       </td> <td>2       </td> <td>2   </td> <td>2     </td> <td>2      </td> <td>2           </td> <td>2            </td> <td>2             </td> <td>2      </td> <td>2            </td> <td>2      </td> <td>5                   </td> <td>97  </td>\n",
       "        </tr>\n",
       "        <tr>\n",
       "            <td>2    </td> <td>12          </td> <td>1   </td> <td>1           </td> <td>9999-99-99</td> <td>97     </td> <td>2        </td> <td>37  </td> <td>2       </td> <td>2       </td> <td>2   </td> <td>2     </td> <td>2      </td> <td>2           </td> <td>2            </td> <td>2             </td> <td>2      </td> <td>2            </td> <td>2      </td> <td>7                   </td> <td>97  </td>\n",
       "        </tr>\n",
       "        <tr>\n",
       "            <td>1    </td> <td>12          </td> <td>2   </td> <td>1           </td> <td>9999-99-99</td> <td>97     </td> <td>2        </td> <td>39  </td> <td>97      </td> <td>2       </td> <td>2   </td> <td>2     </td> <td>2      </td> <td>2           </td> <td>2            </td> <td>2             </td> <td>2      </td> <td>2            </td> <td>2      </td> <td>3                   </td> <td>97  </td>\n",
       "        </tr>\n",
       "        <tr>\n",
       "            <td>2    </td> <td>12          </td> <td>1   </td> <td>1           </td> <td>9999-99-99</td> <td>97     </td> <td>2        </td> <td>33  </td> <td>2       </td> <td>2       </td> <td>2   </td> <td>2     </td> <td>2      </td> <td>2           </td> <td>2            </td> <td>2             </td> <td>2      </td> <td>2            </td> <td>2      </td> <td>7                   </td> <td>97  </td>\n",
       "        </tr>\n",
       "        <tr>\n",
       "            <td>2    </td> <td>12          </td> <td>2   </td> <td>1           </td> <td>9999-99-99</td> <td>97     </td> <td>2        </td> <td>34  </td> <td>97      </td> <td>2       </td> <td>2   </td> <td>2     </td> <td>2      </td> <td>2           </td> <td>2            </td> <td>2             </td> <td>2      </td> <td>2            </td> <td>1      </td> <td>3                   </td> <td>97  </td>\n",
       "        </tr>\n",
       "        <tr>\n",
       "            <td>2    </td> <td>5           </td> <td>2   </td> <td>1           </td> <td>9999-99-99</td> <td>97     </td> <td>2        </td> <td>45  </td> <td>97      </td> <td>2       </td> <td>2   </td> <td>2     </td> <td>2      </td> <td>2           </td> <td>2            </td> <td>2             </td> <td>1      </td> <td>2            </td> <td>2      </td> <td>3                   </td> <td>97  </td>\n",
       "        </tr>\n",
       "        <tr>\n",
       "            <td>2    </td> <td>12          </td> <td>1   </td> <td>2           </td> <td>9999-99-99</td> <td>2      </td> <td>1        </td> <td>44  </td> <td>2       </td> <td>2       </td> <td>2   </td> <td>2     </td> <td>2      </td> <td>2           </td> <td>2            </td> <td>2             </td> <td>2      </td> <td>2            </td> <td>2      </td> <td>6                   </td> <td>2   </td>\n",
       "        </tr>\n",
       "        <tr>\n",
       "            <td>2    </td> <td>9           </td> <td>2   </td> <td>1           </td> <td>9999-99-99</td> <td>97     </td> <td>2        </td> <td>38  </td> <td>97      </td> <td>2       </td> <td>2   </td> <td>2     </td> <td>2      </td> <td>2           </td> <td>2            </td> <td>2             </td> <td>2      </td> <td>2            </td> <td>2      </td> <td>7                   </td> <td>97  </td>\n",
       "        </tr>\n",
       "        <tr>\n",
       "            <td>2    </td> <td>12          </td> <td>2   </td> <td>2           </td> <td>9999-99-99</td> <td>2      </td> <td>2        </td> <td>44  </td> <td>97      </td> <td>2       </td> <td>2   </td> <td>2     </td> <td>2      </td> <td>1           </td> <td>2            </td> <td>2             </td> <td>1      </td> <td>2            </td> <td>2      </td> <td>3                   </td> <td>2   </td>\n",
       "        </tr>\n",
       "        <tr>\n",
       "            <td>1    </td> <td>3           </td> <td>2   </td> <td>1           </td> <td>9999-99-99</td> <td>97     </td> <td>2        </td> <td>47  </td> <td>97      </td> <td>2       </td> <td>2   </td> <td>2     </td> <td>2      </td> <td>1           </td> <td>2            </td> <td>2             </td> <td>1      </td> <td>2            </td> <td>1      </td> <td>7                   </td> <td>97  </td>\n",
       "        </tr>\n",
       "    </tbody>\n",
       "</table>\n",
       "<p>... (90 rows omitted)</p>"
      ],
      "text/plain": [
       "USMER | MEDICAL_UNIT | SEX  | PATIENT_TYPE | DATE_DIED  | INTUBED | PNEUMONIA | AGE  | PREGNANT | DIABETES | COPD | ASTHMA | INMSUPR | HIPERTENSION | OTHER_DISEASE | CARDIOVASCULAR | OBESITY | RENAL_CHRONIC | TOBACCO | CLASIFFICATION_FINAL | ICU\n",
       "2     | 12           | 1    | 1            | 9999-99-99 | 97      | 2         | 54   | 2        | 2        | 2    | 2      | 2       | 2            | 2             | 2              | 2       | 2             | 2       | 5                    | 97\n",
       "2     | 12           | 1    | 1            | 9999-99-99 | 97      | 2         | 37   | 2        | 2        | 2    | 2      | 2       | 2            | 2             | 2              | 2       | 2             | 2       | 7                    | 97\n",
       "1     | 12           | 2    | 1            | 9999-99-99 | 97      | 2         | 39   | 97       | 2        | 2    | 2      | 2       | 2            | 2             | 2              | 2       | 2             | 2       | 3                    | 97\n",
       "2     | 12           | 1    | 1            | 9999-99-99 | 97      | 2         | 33   | 2        | 2        | 2    | 2      | 2       | 2            | 2             | 2              | 2       | 2             | 2       | 7                    | 97\n",
       "2     | 12           | 2    | 1            | 9999-99-99 | 97      | 2         | 34   | 97       | 2        | 2    | 2      | 2       | 2            | 2             | 2              | 2       | 2             | 1       | 3                    | 97\n",
       "2     | 5            | 2    | 1            | 9999-99-99 | 97      | 2         | 45   | 97       | 2        | 2    | 2      | 2       | 2            | 2             | 2              | 1       | 2             | 2       | 3                    | 97\n",
       "2     | 12           | 1    | 2            | 9999-99-99 | 2       | 1         | 44   | 2        | 2        | 2    | 2      | 2       | 2            | 2             | 2              | 2       | 2             | 2       | 6                    | 2\n",
       "2     | 9            | 2    | 1            | 9999-99-99 | 97      | 2         | 38   | 97       | 2        | 2    | 2      | 2       | 2            | 2             | 2              | 2       | 2             | 2       | 7                    | 97\n",
       "2     | 12           | 2    | 2            | 9999-99-99 | 2       | 2         | 44   | 97       | 2        | 2    | 2      | 2       | 1            | 2             | 2              | 1       | 2             | 2       | 3                    | 2\n",
       "1     | 3            | 2    | 1            | 9999-99-99 | 97      | 2         | 47   | 97       | 2        | 2    | 2      | 2       | 1            | 2             | 2              | 1       | 2             | 1       | 7                    | 97\n",
       "... (90 rows omitted)"
      ]
     },
     "execution_count": 4,
     "metadata": {},
     "output_type": "execute_result"
    }
   ],
   "source": [
    "#we proceed by taking a sample of 100 from the covid table. Let's assume that these are the 100 patients we saw.\n",
    "covid_sample = covid_data.sample(100,with_replacement = False)\n",
    "covid_sample"
   ]
  },
  {
   "cell_type": "markdown",
   "id": "30e96e24",
   "metadata": {},
   "source": [
    "Then we can define the following functions to construct an upper and lower bound for the confidence interval"
   ]
  },
  {
   "cell_type": "code",
   "execution_count": 5,
   "id": "d05e53f2",
   "metadata": {},
   "outputs": [],
   "source": [
    "def confidence_interval_for_death_rate(level):\n",
    "    stats = make_array()\n",
    "    for i in np.arange(1000):\n",
    "        stat = 100*(1 - ((covid_sample.sample()).where('DATE_DIED','9999-99-99').num_rows / covid_sample.num_rows))\n",
    "        stats = np.append(stats,stat)\n",
    "    lower_bound = percentile((100 - level)/2,stats)\n",
    "    upper_bound = percentile( 100 - ((100 - level)/2) , stats)\n",
    "    return stats, lower_bound, upper_bound"
   ]
  },
  {
   "cell_type": "code",
   "execution_count": 6,
   "id": "9cd92ba7",
   "metadata": {},
   "outputs": [],
   "source": [
    "stats_array,lower_bound,upper_bound = confidence_interval_for_death_rate(95)"
   ]
  },
  {
   "cell_type": "code",
   "execution_count": 7,
   "id": "572d492c",
   "metadata": {},
   "outputs": [
    {
     "data": {
      "text/plain": [
       "array([  4.,  10.,   4.,   7.,   8.,   5.,   9.,   7.,   5.,   7.,  10.,\n",
       "         7.,  10.,   6.,   8.,   5.,   5.,   6.,  10.,   6.,   7.,   4.,\n",
       "         1.,  11.,   6.,   5.,   6.,   8.,   8.,   4.,   7.,   5.,   5.,\n",
       "         6.,   5.,   4.,   5.,   7.,   2.,   4.,  10.,   1.,   8.,   6.,\n",
       "         6.,   6.,   6.,   5.,   8.,  10.,  10.,   6.,   2.,   6.,   2.,\n",
       "         9.,   7.,   4.,   7.,   2.,   2.,   5.,  10.,   4.,   7.,   6.,\n",
       "         8.,  11.,   3.,   5.,   8.,   7.,   2.,   9.,   2.,   3.,   5.,\n",
       "         4.,   6.,   2.,   5.,   6.,   7.,   2.,   5.,   6.,   8.,   6.,\n",
       "         6.,   4.,   6.,   5.,   7.,   4.,   8.,   9.,   6.,   5.,   8.,\n",
       "         6.,   4.,   3.,   6.,   6.,   6.,   3.,   9.,   3.,   3.,   7.,\n",
       "         8.,   5.,   8.,   7.,  10.,   9.,   3.,   5.,   7.,   7.,  11.,\n",
       "         5.,   5.,   5.,   6.,   4.,   8.,   2.,   5.,   4.,   4.,   5.,\n",
       "         2.,  13.,   6.,   7.,   8.,   5.,   4.,   7.,   6.,   9.,   4.,\n",
       "         4.,   7.,   4.,   4.,   7.,   5.,   6.,   8.,   8.,   2.,   4.,\n",
       "         5.,   3.,   7.,   6.,   4.,   6.,   4.,   6.,   4.,   6.,   3.,\n",
       "         9.,   7.,   9.,   4.,   7.,  10.,   6.,   5.,   3.,   5.,   4.,\n",
       "         8.,   4.,   3.,   5.,   3.,   8.,   7.,  12.,   6.,   7.,   8.,\n",
       "         4.,   8.,   2.,   3.,   3.,   4.,   7.,   2.,   4.,  10.,  11.,\n",
       "         8.,   4.,   9.,   8.,   5.,   4.,   6.,   3.,   5.,   8.,   8.,\n",
       "         6.,   5.,   8.,   7.,   5.,   4.,   4.,   2.,   5.,   4.,   5.,\n",
       "         7.,   8.,   8.,   2.,   7.,   6.,   8.,   8.,   6.,   4.,   3.,\n",
       "         4.,   4.,   4.,  10.,   6.,   4.,   8.,   6.,   6.,   5.,  12.,\n",
       "         1.,   2.,   6.,   9.,   6.,   3.,   5.,   5.,   1.,   9.,   3.,\n",
       "         8.,   5.,   5.,   7.,   5.,   7.,   5.,   5.,   4.,   6.,   6.,\n",
       "         9.,   4.,   5.,   7.,   7.,   7.,   5.,  10.,   6.,   1.,   7.,\n",
       "         9.,   4.,   7.,   8.,   7.,   7.,   9.,   4.,   5.,  11.,   8.,\n",
       "         5.,   8.,   6.,   6.,   7.,   5.,   3.,   2.,   2.,   6.,   6.,\n",
       "         4.,   8.,   6.,   4.,   2.,   4.,   3.,   6.,   4.,  12.,   2.,\n",
       "         7.,   4.,   5.,   5.,   1.,   4.,   2.,   4.,  10.,   9.,  10.,\n",
       "         8.,   6.,  10.,   6.,   3.,   9.,  10.,   4.,   3.,   1.,   9.,\n",
       "         6.,   7.,   2.,   7.,   7.,   3.,   6.,   3.,   3.,  11.,   7.,\n",
       "         4.,   1.,   6.,   3.,   5.,   5.,   5.,   8.,   6.,   8.,   8.,\n",
       "         7.,   4.,   4.,   8.,   6.,   5.,   9.,   7.,  11.,   9.,   8.,\n",
       "         5.,   7.,   6.,   3.,   2.,   4.,   6.,   5.,   7.,   4.,   7.,\n",
       "         5.,   6.,   9.,   6.,  10.,   7.,   4.,   9.,   8.,   6.,   5.,\n",
       "         4.,   9.,   8.,   9.,   7.,   6.,   6.,   9.,   6.,   4.,   5.,\n",
       "         2.,   5.,   6.,   5.,   7.,   6.,   7.,   7.,   5.,   8.,   8.,\n",
       "         8.,   5.,   5.,   2.,   9.,   2.,  14.,   3.,   7.,   7.,   5.,\n",
       "         5.,   6.,   4.,   6.,   7.,   5.,   8.,   3.,   5.,   3.,   7.,\n",
       "        11.,  12.,   2.,   2.,   3.,   4.,   6.,  10.,   6.,   9.,   4.,\n",
       "         5.,  11.,   8.,   4.,   3.,   9.,   6.,   6.,   8.,   9.,  10.,\n",
       "        10.,   8.,   9.,  10.,   2.,   9.,   3.,  11.,   3.,   3.,   4.,\n",
       "        10.,  12.,   5.,   8.,   3.,   4.,   5.,   5.,   7.,   7.,   9.,\n",
       "         6.,   8.,   7.,  15.,   2.,   6.,   7.,   2.,   4.,   6.,   4.,\n",
       "         7.,   6.,   5.,   8.,   4.,   7.,   4.,   7.,   6.,   3.,   9.,\n",
       "         8.,   2.,   4.,   4.,   8.,   8.,   5.,   6.,   5.,   9.,   6.,\n",
       "         8.,   5.,   6.,   7.,   4.,   8.,   6.,   6.,   6.,   7.,   5.,\n",
       "         2.,   9.,   7.,   5.,   3.,   5.,   4.,   7.,   6.,   6.,  11.,\n",
       "        10.,   4.,   7.,   2.,   4.,   8.,   4.,   4.,   3.,   7.,   5.,\n",
       "         7.,   5.,   9.,   8.,   6.,   4.,   7.,   5.,   6.,   6.,   8.,\n",
       "         5.,   3.,   4.,  11.,   6.,   3.,   7.,   9.,   6.,   5.,   7.,\n",
       "        10.,   4.,   5.,   3.,   7.,   6.,   7.,   6.,  12.,   3.,   5.,\n",
       "         8.,   6.,   7.,   6.,   9.,  11.,   6.,   7.,   4.,   9.,  11.,\n",
       "        10.,   7.,   7.,   9.,   6.,   4.,   3.,   7.,   6.,   4.,   4.,\n",
       "         7.,   9.,   8.,   3.,   6.,  10.,   7.,   5.,  10.,   8.,  10.,\n",
       "         4.,   3.,  10.,   8.,   6.,   8.,   5.,   1.,   7.,   3.,   8.,\n",
       "         3.,   5.,   7.,   8.,   5.,   3.,   7.,   4.,   9.,   9.,   9.,\n",
       "         6.,   9.,   8.,   7.,   7.,   4.,   6.,  11.,   7.,  11.,   9.,\n",
       "         6.,   8.,   7.,   7.,   4.,   5.,   4.,   3.,   2.,   6.,   5.,\n",
       "         9.,   7.,   4.,   5.,   5.,   6.,   7.,   3.,  11.,   6.,   5.,\n",
       "         5.,   6.,   6.,   7.,   7.,   6.,   4.,   7.,   6.,   7.,   7.,\n",
       "         6.,   3.,   3.,   8.,   5.,   7.,   6.,  10.,  11.,   2.,   5.,\n",
       "         4.,   5.,   7.,   4.,   6.,   6.,   3.,   7.,   4.,   3.,   6.,\n",
       "         9.,   8.,   5.,   6.,   5.,   6.,   9.,   1.,   3.,  12.,   6.,\n",
       "         4.,   5.,   6.,   9.,   5.,  10.,   7.,   5.,   8.,   8.,   6.,\n",
       "         7.,   3.,   5.,   4.,   5.,   3.,   6.,   5.,   7.,   9.,  11.,\n",
       "         8.,   3.,   7.,   4.,   4.,   4.,   4.,   9.,   5.,   5.,   5.,\n",
       "         6.,   6.,   3.,   7.,   5.,   7.,   4.,   7.,   5.,   9.,  10.,\n",
       "         8.,   3.,   8.,   8.,   5.,   9.,   8.,   3.,   5.,   6.,  11.,\n",
       "         7.,   4.,   9.,   7.,   3.,   1.,   6.,   7.,   4.,   4.,   4.,\n",
       "         6.,   8.,   5.,   5.,   8.,   5.,   8.,   7.,   9.,   6.,   2.,\n",
       "         6.,   4.,   7.,   8.,   7.,   5.,   7.,   5.,   6.,   7.,   6.,\n",
       "         6.,   9.,   7.,   5.,   8.,   6.,   7.,   3.,   5.,   8.,   6.,\n",
       "         7.,   7.,   5.,   6.,   9.,   5.,   3.,   7.,   2.,   8.,   4.,\n",
       "         5.,   5.,   7.,   6.,   6.,   5.,  10.,   4.,   7.,   9.,   7.,\n",
       "         3.,  10.,   3.,   7.,   4.,  10.,   5.,   5.,   9.,   3.,   3.,\n",
       "         2.,   3.,   6.,   5.,   5.,  13.,   6.,  13.,  10.,  11.,   4.,\n",
       "         8.,   3.,  13.,   7.,   7.,   8.,   4.,  10.,   4.,   6.,   3.,\n",
       "         4.,   5.,   3.,   6.,   5.,   7.,   5.,   3.,   8.,   6.,   8.,\n",
       "         8.,  10.,   5.,   4.,   5.,   6.,   5.,   6.,   3.,   7.,   4.,\n",
       "         6.,   4.,   7.,   7.,   7.,   3.,   6.,   6.,   5.,   6.,   4.,\n",
       "         6.,   5.,   3.,   8.,   9.,   6.,   5.,   6.,   8.,   5.,  10.,\n",
       "         3.,  10.,   5.,   4.,  11.,   5.,   4.,   5.,   6.,   6.,   7.,\n",
       "         6.,   9.,   2.,   4.,   4.,   4.,   6.,   5.,   6.,   6.,   5.,\n",
       "         6.,   1.,   6.,  13.,   3.,   5.,   9.,   5.,  10.,   1.,   4.,\n",
       "         7.,   8.,   2.,   7.,   6.,   6.,   2.,   8.,   6.,   4.,   4.,\n",
       "        10.,  12.,   5.,   4.,   7.,   3.,   6.,   9.,   7.,   4.,   6.,\n",
       "         8.,   1.,   4.,   7.,   8.,   7.,  10.,   6.,   7.,  11.,   0.,\n",
       "         9.,   6.,   8.,   5.,   1.,  12.,   5.,   6.,   4.,   5.,   4.,\n",
       "         9.,   6.,   8.,   5.,   4.,   6.,   4.,   6.,   4.,   6.,   6.,\n",
       "         8.,   7.,   5.,   4.,   8.,  10.,   5.,   5.,   4.,   5.])"
      ]
     },
     "execution_count": 7,
     "metadata": {},
     "output_type": "execute_result"
    }
   ],
   "source": [
    "stats_array"
   ]
  },
  {
   "cell_type": "code",
   "execution_count": 8,
   "id": "3da63be0",
   "metadata": {},
   "outputs": [
    {
     "data": {
      "text/plain": [
       "2.0000000000000018"
      ]
     },
     "execution_count": 8,
     "metadata": {},
     "output_type": "execute_result"
    }
   ],
   "source": [
    "lower_bound"
   ]
  },
  {
   "cell_type": "code",
   "execution_count": 9,
   "id": "003d3dc9",
   "metadata": {},
   "outputs": [
    {
     "data": {
      "text/plain": [
       "10.999999999999998"
      ]
     },
     "execution_count": 9,
     "metadata": {},
     "output_type": "execute_result"
    }
   ],
   "source": [
    "upper_bound"
   ]
  },
  {
   "cell_type": "code",
   "execution_count": 13,
   "id": "282dca91",
   "metadata": {},
   "outputs": [
    {
     "data": {
      "image/png": "[encoded data removed]",
      "text/plain": [
       "<Figure size 600x400 with 1 Axes>"
      ]
     },
     "metadata": {},
     "output_type": "display_data"
    }
   ],
   "source": [
    "Table().with_columns('Statistics of Bootstrap', stats_array).hist()\n",
    "plt.scatter(lower_bound, -0.002, color='red', s=70);\n",
    "plt.scatter(upper_bound, -0.002, color='red', s=70);\n",
    "#plt.scatter(true_death, -0.002, color='green', s=70)"
   ]
  },
  {
   "cell_type": "code",
   "execution_count": 14,
   "id": "b6815bc9",
   "metadata": {},
   "outputs": [],
   "source": [
    "def confidence_interval_lower_b(tbl,level,column_label):\n",
    "    stats = make_array()\n",
    "    for i in np.arange(10000):\n",
    "        stat = np.mean(tbl.sample().column(column_label))\n",
    "        stats = np.append(stats,stat)\n",
    "    return percentile( (100 - level)/2 , stats)\n",
    "\n",
    "def confidence_interval_upper_b(tbl,level,column_label):\n",
    "    stats = make_array()\n",
    "    for i in np.arange(10000):\n",
    "        stat = np.mean(tbl.sample().column(column_label))\n",
    "        stats = np.append(stats,stat)\n",
    "    return percentile( 100 - ((100 - level)/2) , stats)"
   ]
  },
  {
   "cell_type": "code",
   "execution_count": 15,
   "id": "5a796cdd",
   "metadata": {},
   "outputs": [
    {
     "name": "stdout",
     "output_type": "stream",
     "text": [
      "The confidence interval for AGE\n",
      "is from 39.7\n",
      "up to 45.26\n"
     ]
    }
   ],
   "source": [
    "column_to_look_at = 'AGE'\n",
    "level = 95\n",
    "print('The confidence interval for',column_to_look_at) \n",
    "print('is from',confidence_interval_lower_b(covid_sample,level,column_to_look_at))\n",
    "print('up to',confidence_interval_upper_b(covid_sample,level,column_to_look_at))"
   ]
  },
  {
   "cell_type": "code",
   "execution_count": 16,
   "id": "6ef5b52c",
   "metadata": {},
   "outputs": [
    {
     "data": {
      "text/plain": [
       "41.809072312424007"
      ]
     },
     "execution_count": 16,
     "metadata": {},
     "output_type": "execute_result"
    }
   ],
   "source": [
    "np.mean(covid_data.column('AGE'))"
   ]
  },
  {
   "cell_type": "markdown",
   "id": "fccdb59e",
   "metadata": {},
   "source": [
    "# Confidence Interval Practice: Math211 Class Survey"
   ]
  },
  {
   "cell_type": "code",
   "execution_count": 17,
   "id": "87139a03",
   "metadata": {},
   "outputs": [
    {
     "data": {
      "text/html": [
       "<table border=\"1\" class=\"dataframe\">\n",
       "    <thead>\n",
       "        <tr>\n",
       "            <th>Timestamp</th> <th>Surveyor</th> <th>GPA</th> <th>introversion/extroversion</th> <th>Pets</th> <th>Handed</th> <th>Sleep Position</th> <th>K-Pop</th> <th>K-Pop Group</th> <th>travel destination</th> <th>Birthplace </th> <th>Transfer destination</th> <th>Fear</th> <th>Music Genre</th> <th>Color </th>\n",
       "        </tr>\n",
       "    </thead>\n",
       "    <tbody>\n",
       "        <tr>\n",
       "            <td>8/17/2023 16:33</td> <td>Christian Le</td> <td>2.86</td> <td>6                        </td> <td>Dogs                </td> <td>Right-handed</td> <td>On my side    </td> <td>Yes  </td> <td>Le Sserafim</td> <td>Japan             </td> <td>Local                    </td> <td>UC                  </td> <td>Working                               </td> <td>Pop        </td> <td>Red       </td>\n",
       "        </tr>\n",
       "        <tr>\n",
       "            <td>8/17/2023 16:34</td> <td>Christian Le</td> <td>4   </td> <td>8                        </td> <td>nan                 </td> <td>Right-handed</td> <td>On my back    </td> <td>Yes  </td> <td>Le Sserafim</td> <td>Switzerland       </td> <td>Local                    </td> <td>UC                  </td> <td>A regretful life                      </td> <td>All        </td> <td>Black     </td>\n",
       "        </tr>\n",
       "        <tr>\n",
       "            <td>8/17/2023 16:38</td> <td>Christian Le</td> <td>2.5 </td> <td>8                        </td> <td>Cats                </td> <td>Right-handed</td> <td>On my stomach </td> <td>Yes  </td> <td>Seventeen  </td> <td>Hawaii            </td> <td>Local                    </td> <td>UC Transfer         </td> <td>Death, Spiders                        </td> <td>R&B, K-POP </td> <td>Green     </td>\n",
       "        </tr>\n",
       "        <tr>\n",
       "            <td>8/17/2023 16:38</td> <td>Christian Le</td> <td>3.96</td> <td>6                        </td> <td>Cats                </td> <td>Right-handed</td> <td>On my side    </td> <td>Yes  </td> <td>STAYC      </td> <td>Costa Rica        </td> <td>Local                    </td> <td>UC Grad             </td> <td>Loss of loved ones                    </td> <td>R&B, K-POP </td> <td>Purple    </td>\n",
       "        </tr>\n",
       "        <tr>\n",
       "            <td>8/17/2023 16:54</td> <td>Christian Le</td> <td>2.98</td> <td>6                        </td> <td>nan                 </td> <td>Left-handed </td> <td>On my side    </td> <td>Yes  </td> <td>New Jeans  </td> <td>Hawaii            </td> <td>Local                    </td> <td>nan                 </td> <td>Death                                 </td> <td>R&B        </td> <td>Green     </td>\n",
       "        </tr>\n",
       "        <tr>\n",
       "            <td>8/17/2023 16:55</td> <td>Christian Le</td> <td>3.8 </td> <td>8                        </td> <td>Dogs                </td> <td>Right-handed</td> <td>On my side    </td> <td>Yes  </td> <td>New Jeans  </td> <td>Hawaii            </td> <td>Local                    </td> <td>UC                  </td> <td>Being alone                           </td> <td>R&B        </td> <td>Blue      </td>\n",
       "        </tr>\n",
       "        <tr>\n",
       "            <td>8/17/2023 17:00</td> <td>Christian Le</td> <td>4   </td> <td>3                        </td> <td>nan                 </td> <td>Right-handed</td> <td>On my back    </td> <td>No   </td> <td>nan        </td> <td>Japan             </td> <td>California (not Bay Area)</td> <td>CSU                 </td> <td>Not being accepted into career program</td> <td>Hip hop    </td> <td>Khaki     </td>\n",
       "        </tr>\n",
       "        <tr>\n",
       "            <td>8/17/2023 18:13</td> <td>Christian Le</td> <td>4   </td> <td>2                        </td> <td>Cats, Dogs, Reptiles</td> <td>Both        </td> <td>On my stomach </td> <td>Yes  </td> <td>New Jeans  </td> <td>Dubai             </td> <td>Local                    </td> <td>UC                  </td> <td>Insects                               </td> <td>Pop        </td> <td>Red       </td>\n",
       "        </tr>\n",
       "        <tr>\n",
       "            <td>8/17/2023 20:38</td> <td>Casey So    </td> <td>3.86</td> <td>3                        </td> <td>Dogs                </td> <td>Right-handed</td> <td>On my back    </td> <td>Yes  </td> <td>Seventeen  </td> <td>Korea             </td> <td>Local                    </td> <td>UC                  </td> <td>Birds                                 </td> <td>Pop        </td> <td>Light Blue</td>\n",
       "        </tr>\n",
       "        <tr>\n",
       "            <td>8/17/2023 20:43</td> <td>Casey So    </td> <td>3.2 </td> <td>4                        </td> <td>nan                 </td> <td>Right-handed</td> <td>On my side    </td> <td>Yes  </td> <td>Twice      </td> <td>Philippines       </td> <td>Local                    </td> <td>UC                  </td> <td>Death                                 </td> <td>Pop        </td> <td>Blue      </td>\n",
       "        </tr>\n",
       "    </tbody>\n",
       "</table>\n",
       "<p>... (222 rows omitted)</p>"
      ],
      "text/plain": [
       "Timestamp       | Surveyor     | GPA  | introversion/extroversion | Pets                 | Handed       | Sleep Position | K-Pop | K-Pop Group | travel destination | Birthplace                | Transfer destination | Fear                                   | Music Genre | Color\n",
       "8/17/2023 16:33 | Christian Le | 2.86 | 6                         | Dogs                 | Right-handed | On my side     | Yes   | Le Sserafim | Japan              | Local                     | UC                   | Working                                | Pop         | Red\n",
       "8/17/2023 16:34 | Christian Le | 4    | 8                         | nan                  | Right-handed | On my back     | Yes   | Le Sserafim | Switzerland        | Local                     | UC                   | A regretful life                       | All         | Black\n",
       "8/17/2023 16:38 | Christian Le | 2.5  | 8                         | Cats                 | Right-handed | On my stomach  | Yes   | Seventeen   | Hawaii             | Local                     | UC Transfer          | Death, Spiders                         | R&B, K-POP  | Green\n",
       "8/17/2023 16:38 | Christian Le | 3.96 | 6                         | Cats                 | Right-handed | On my side     | Yes   | STAYC       | Costa Rica         | Local                     | UC Grad              | Loss of loved ones                     | R&B, K-POP  | Purple\n",
       "8/17/2023 16:54 | Christian Le | 2.98 | 6                         | nan                  | Left-handed  | On my side     | Yes   | New Jeans   | Hawaii             | Local                     | nan                  | Death                                  | R&B         | Green\n",
       "8/17/2023 16:55 | Christian Le | 3.8  | 8                         | Dogs                 | Right-handed | On my side     | Yes   | New Jeans   | Hawaii             | Local                     | UC                   | Being alone                            | R&B         | Blue\n",
       "8/17/2023 17:00 | Christian Le | 4    | 3                         | nan                  | Right-handed | On my back     | No    | nan         | Japan              | California (not Bay Area) | CSU                  | Not being accepted into career program | Hip hop     | Khaki\n",
       "8/17/2023 18:13 | Christian Le | 4    | 2                         | Cats, Dogs, Reptiles | Both         | On my stomach  | Yes   | New Jeans   | Dubai              | Local                     | UC                   | Insects                                | Pop         | Red\n",
       "8/17/2023 20:38 | Casey So     | 3.86 | 3                         | Dogs                 | Right-handed | On my back     | Yes   | Seventeen   | Korea              | Local                     | UC                   | Birds                                  | Pop         | Light Blue\n",
       "8/17/2023 20:43 | Casey So     | 3.2  | 4                         | nan                  | Right-handed | On my side     | Yes   | Twice       | Philippines        | Local                     | UC                   | Death                                  | Pop         | Blue\n",
       "... (222 rows omitted)"
      ]
     },
     "execution_count": 17,
     "metadata": {},
     "output_type": "execute_result"
    }
   ],
   "source": [
    "math211_survey = Table.read_table(\"Math211_FallSurvey.csv\")\n",
    "math211_survey"
   ]
  },
  {
   "cell_type": "code",
   "execution_count": 22,
   "id": "0a719209",
   "metadata": {},
   "outputs": [
    {
     "data": {
      "text/plain": [
       "3.4654482758620686"
      ]
     },
     "execution_count": 22,
     "metadata": {},
     "output_type": "execute_result"
    }
   ],
   "source": [
    "confidence_interval_lower_b(math211_survey,95,\"GPA\")"
   ]
  },
  {
   "cell_type": "code",
   "execution_count": 23,
   "id": "3363c128",
   "metadata": {},
   "outputs": [
    {
     "data": {
      "text/plain": [
       "3.466728448275862"
      ]
     },
     "execution_count": 23,
     "metadata": {},
     "output_type": "execute_result"
    }
   ],
   "source": [
    "confidence_interval_lower_b(math211_survey,95,\"GPA\")"
   ]
  },
  {
   "cell_type": "code",
   "execution_count": 20,
   "id": "777b4137",
   "metadata": {},
   "outputs": [
    {
     "data": {
      "text/plain": [
       "4.8922413793103452"
      ]
     },
     "execution_count": 20,
     "metadata": {},
     "output_type": "execute_result"
    }
   ],
   "source": [
    "confidence_interval_lower_b(math211_survey,95,\"introversion/extroversion\")"
   ]
  },
  {
   "cell_type": "code",
   "execution_count": 21,
   "id": "d382eb7f",
   "metadata": {},
   "outputs": [
    {
     "data": {
      "text/plain": [
       "5.4137931034482758"
      ]
     },
     "execution_count": 21,
     "metadata": {},
     "output_type": "execute_result"
    }
   ],
   "source": [
    "confidence_interval_upper_b(math211_survey,95,\"introversion/extroversion\")"
   ]
  },
  {
   "cell_type": "code",
   "execution_count": null,
   "id": "d43f6228",
   "metadata": {},
   "outputs": [],
   "source": []
  }
 ],
 "metadata": {
  "kernelspec": {
   "display_name": "Python 3 (ipykernel)",
   "language": "python",
   "name": "python3"
  },
  "language_info": {
   "codemirror_mode": {
    "name": "ipython",
    "version": 3
   },
   "file_extension": ".py",
   "mimetype": "text/x-python",
   "name": "python",
   "nbconvert_exporter": "python",
   "pygments_lexer": "ipython3",
   "version": "3.10.11"
  }
 },
 "nbformat": 4,
 "nbformat_minor": 5
}
