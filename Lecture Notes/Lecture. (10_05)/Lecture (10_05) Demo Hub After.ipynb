{
 "cells": [
  {
   "cell_type": "markdown",
   "id": "545da080",
   "metadata": {},
   "source": [
    "# [Python Reference Link](http://www.data8.org/sp20/python-reference.html)\n",
    "*Run the cell below so that we can set our modules up*"
   ]
  },
  {
   "cell_type": "code",
   "execution_count": 1,
   "id": "184ab73c",
   "metadata": {},
   "outputs": [],
   "source": [
    "import numpy as np\n",
    "from datascience import *"
   ]
  },
  {
   "cell_type": "code",
   "execution_count": 2,
   "id": "d98eb4c8",
   "metadata": {},
   "outputs": [],
   "source": [
    "# These lines set up graphing capabilities.\n",
    "import matplotlib\n",
    "%matplotlib inline\n",
    "import matplotlib.pyplot as plt\n",
    "plt.style.use('fivethirtyeight')\n",
    "import warnings\n",
    "warnings.simplefilter('ignore', FutureWarning)\n",
    "\n",
    "from ipywidgets import interact, interactive, fixed, interact_manual\n",
    "import ipywidgets as widgets"
   ]
  },
  {
   "cell_type": "markdown",
   "id": "6eedcf47",
   "metadata": {},
   "source": [
    "## From the [Demo Request](https://forms.gle/aPK6vTf3FdQwmMVG8): \n",
    "### [Homework04](https://skyline.cloudbank.2i2c.cloud/hub/user-redirect/git-pull?repo=https%3A%2F%2Fgithub.com%2Fb00chan%2Fmath211_fall23_skyline&urlpath=tree%2Fmath211_fall23_skyline%2Fhw%2Fhw04%2Fhw04.ipynb&branch=main) (Section 2, Question 5)"
   ]
  },
  {
   "cell_type": "code",
   "execution_count": 3,
   "id": "ead837c4",
   "metadata": {},
   "outputs": [],
   "source": [
    "#Setting up and importing data\n",
    "full_sf = Table.read_table(\"sf2019.csv\")\n",
    "sf = full_sf.select(\"Job\", \"Department\", \"Organization Group\",  \"Total Compensation\")"
   ]
  },
  {
   "cell_type": "markdown",
   "id": "2a6bb4c5",
   "metadata": {},
   "source": [
    "**Question 5.** Find the number of departments appearing in the `sf` table that have an average total compensation of greater than 125,000 dollars; assign this value to the variable `num_over_125k`. **(9 Points)**\n",
    "\n",
    "*Hint:* The variable names provided are meant to help guide the intermediate steps and general thought process. Feel free to delete them if you'd prefer to start from scratch, but make sure your final answer is assigned to `num_over_125k`!"
   ]
  },
  {
   "cell_type": "code",
   "execution_count": 4,
   "id": "43e94087",
   "metadata": {},
   "outputs": [
    {
     "data": {
      "text/html": [
       "<table border=\"1\" class=\"dataframe\">\n",
       "    <thead>\n",
       "        <tr>\n",
       "            <th>Job</th> <th>Department</th> <th>Organization Group</th> <th>Total Compensation</th>\n",
       "        </tr>\n",
       "    </thead>\n",
       "    <tbody>\n",
       "        <tr>\n",
       "            <td>IS Trainer-Journey            </td> <td>Adult Probation</td> <td>Public Protection </td> <td>131391            </td>\n",
       "        </tr>\n",
       "        <tr>\n",
       "            <td>IS Engineer-Assistant         </td> <td>Adult Probation</td> <td>Public Protection </td> <td>172520            </td>\n",
       "        </tr>\n",
       "        <tr>\n",
       "            <td>IS Business Analyst-Senior    </td> <td>Adult Probation</td> <td>Public Protection </td> <td>162468            </td>\n",
       "        </tr>\n",
       "        <tr>\n",
       "            <td>IS Business Analyst-Principal </td> <td>Adult Probation</td> <td>Public Protection </td> <td>216706            </td>\n",
       "        </tr>\n",
       "        <tr>\n",
       "            <td>IS Programmer Analyst         </td> <td>Adult Probation</td> <td>Public Protection </td> <td>98706             </td>\n",
       "        </tr>\n",
       "        <tr>\n",
       "            <td>IS Project Director           </td> <td>Adult Probation</td> <td>Public Protection </td> <td>236572            </td>\n",
       "        </tr>\n",
       "        <tr>\n",
       "            <td>IT Operations Support Admin IV</td> <td>Adult Probation</td> <td>Public Protection </td> <td>173269            </td>\n",
       "        </tr>\n",
       "        <tr>\n",
       "            <td>Accountant III                </td> <td>Adult Probation</td> <td>Public Protection </td> <td>158135            </td>\n",
       "        </tr>\n",
       "        <tr>\n",
       "            <td>Statistician                  </td> <td>Adult Probation</td> <td>Public Protection </td> <td>126624            </td>\n",
       "        </tr>\n",
       "        <tr>\n",
       "            <td>Senior Administrative Analyst </td> <td>Adult Probation</td> <td>Public Protection </td> <td>163843            </td>\n",
       "        </tr>\n",
       "    </tbody>\n",
       "</table>\n",
       "<p>... (44515 rows omitted)</p>"
      ],
      "text/plain": [
       "Job                            | Department      | Organization Group | Total Compensation\n",
       "IS Trainer-Journey             | Adult Probation | Public Protection  | 131391\n",
       "IS Engineer-Assistant          | Adult Probation | Public Protection  | 172520\n",
       "IS Business Analyst-Senior     | Adult Probation | Public Protection  | 162468\n",
       "IS Business Analyst-Principal  | Adult Probation | Public Protection  | 216706\n",
       "IS Programmer Analyst          | Adult Probation | Public Protection  | 98706\n",
       "IS Project Director            | Adult Probation | Public Protection  | 236572\n",
       "IT Operations Support Admin IV | Adult Probation | Public Protection  | 173269\n",
       "Accountant III                 | Adult Probation | Public Protection  | 158135\n",
       "Statistician                   | Adult Probation | Public Protection  | 126624\n",
       "Senior Administrative Analyst  | Adult Probation | Public Protection  | 163843\n",
       "... (44515 rows omitted)"
      ]
     },
     "execution_count": 4,
     "metadata": {},
     "output_type": "execute_result"
    }
   ],
   "source": [
    "sf"
   ]
  },
  {
   "cell_type": "markdown",
   "id": "fb9cc0f8",
   "metadata": {},
   "source": [
    "### Let's do a parallel question! On our [Math 211 Class Survey](https://forms.gle/5JXfmkKf5ALgwh3M9)!"
   ]
  },
  {
   "cell_type": "markdown",
   "id": "04ba935b",
   "metadata": {},
   "source": [
    "#### **\"Parallel\" Question: How many different fears do introverts have?** \n",
    "\n",
    "Find the number of different fears appearing in the `math211_survey` table that have an average introversion/extroversion score of at most 3 (i.e. self-reported introverts); assign this value to the variable `num_introvert_fears`. **(9 Billion Points)**\n"
   ]
  },
  {
   "cell_type": "code",
   "execution_count": 5,
   "id": "78dc8e15",
   "metadata": {},
   "outputs": [
    {
     "data": {
      "text/html": [
       "<table border=\"1\" class=\"dataframe\">\n",
       "    <thead>\n",
       "        <tr>\n",
       "            <th>Timestamp</th> <th>Surveyor</th> <th>GPA</th> <th>introversion/extroversion</th> <th>Pets</th> <th>Handed</th> <th>Sleep Position</th> <th>K-Pop</th> <th>K-Pop Group</th> <th>travel destination</th> <th>Birthplace </th> <th>Transfer destination</th> <th>Fear</th> <th>Music Genre</th> <th>Color </th>\n",
       "        </tr>\n",
       "    </thead>\n",
       "    <tbody>\n",
       "        <tr>\n",
       "            <td>8/17/2023 16:33</td> <td>Christian Le</td> <td>2.86</td> <td>6                        </td> <td>Dogs                </td> <td>Right-handed</td> <td>On my side    </td> <td>Yes  </td> <td>Le Sserafim</td> <td>Japan             </td> <td>Local                    </td> <td>UC                  </td> <td>Working                               </td> <td>Pop        </td> <td>Red       </td>\n",
       "        </tr>\n",
       "        <tr>\n",
       "            <td>8/17/2023 16:34</td> <td>Christian Le</td> <td>4   </td> <td>8                        </td> <td>nan                 </td> <td>Right-handed</td> <td>On my back    </td> <td>Yes  </td> <td>Le Sserafim</td> <td>Switzerland       </td> <td>Local                    </td> <td>UC                  </td> <td>A regretful life                      </td> <td>All        </td> <td>Black     </td>\n",
       "        </tr>\n",
       "        <tr>\n",
       "            <td>8/17/2023 16:38</td> <td>Christian Le</td> <td>2.5 </td> <td>8                        </td> <td>Cats                </td> <td>Right-handed</td> <td>On my stomach </td> <td>Yes  </td> <td>Seventeen  </td> <td>Hawaii            </td> <td>Local                    </td> <td>UC Transfer         </td> <td>Death, Spiders                        </td> <td>R&B, K-POP </td> <td>Green     </td>\n",
       "        </tr>\n",
       "        <tr>\n",
       "            <td>8/17/2023 16:38</td> <td>Christian Le</td> <td>3.96</td> <td>6                        </td> <td>Cats                </td> <td>Right-handed</td> <td>On my side    </td> <td>Yes  </td> <td>STAYC      </td> <td>Costa Rica        </td> <td>Local                    </td> <td>UC Grad             </td> <td>Loss of loved ones                    </td> <td>R&B, K-POP </td> <td>Purple    </td>\n",
       "        </tr>\n",
       "        <tr>\n",
       "            <td>8/17/2023 16:54</td> <td>Christian Le</td> <td>2.98</td> <td>6                        </td> <td>nan                 </td> <td>Left-handed </td> <td>On my side    </td> <td>Yes  </td> <td>New Jeans  </td> <td>Hawaii            </td> <td>Local                    </td> <td>nan                 </td> <td>Death                                 </td> <td>R&B        </td> <td>Green     </td>\n",
       "        </tr>\n",
       "        <tr>\n",
       "            <td>8/17/2023 16:55</td> <td>Christian Le</td> <td>3.8 </td> <td>8                        </td> <td>Dogs                </td> <td>Right-handed</td> <td>On my side    </td> <td>Yes  </td> <td>New Jeans  </td> <td>Hawaii            </td> <td>Local                    </td> <td>UC                  </td> <td>Being alone                           </td> <td>R&B        </td> <td>Blue      </td>\n",
       "        </tr>\n",
       "        <tr>\n",
       "            <td>8/17/2023 17:00</td> <td>Christian Le</td> <td>4   </td> <td>3                        </td> <td>nan                 </td> <td>Right-handed</td> <td>On my back    </td> <td>No   </td> <td>nan        </td> <td>Japan             </td> <td>California (not Bay Area)</td> <td>CSU                 </td> <td>Not being accepted into career program</td> <td>Hip hop    </td> <td>Khaki     </td>\n",
       "        </tr>\n",
       "        <tr>\n",
       "            <td>8/17/2023 18:13</td> <td>Christian Le</td> <td>4   </td> <td>2                        </td> <td>Cats, Dogs, Reptiles</td> <td>Both        </td> <td>On my stomach </td> <td>Yes  </td> <td>New Jeans  </td> <td>Dubai             </td> <td>Local                    </td> <td>UC                  </td> <td>Insects                               </td> <td>Pop        </td> <td>Red       </td>\n",
       "        </tr>\n",
       "        <tr>\n",
       "            <td>8/17/2023 20:38</td> <td>Casey So    </td> <td>3.86</td> <td>3                        </td> <td>Dogs                </td> <td>Right-handed</td> <td>On my back    </td> <td>Yes  </td> <td>Seventeen  </td> <td>Korea             </td> <td>Local                    </td> <td>UC                  </td> <td>Birds                                 </td> <td>Pop        </td> <td>Light Blue</td>\n",
       "        </tr>\n",
       "        <tr>\n",
       "            <td>8/17/2023 20:43</td> <td>Casey So    </td> <td>3.2 </td> <td>4                        </td> <td>nan                 </td> <td>Right-handed</td> <td>On my side    </td> <td>Yes  </td> <td>Twice      </td> <td>Philippines       </td> <td>Local                    </td> <td>UC                  </td> <td>Death                                 </td> <td>Pop        </td> <td>Blue      </td>\n",
       "        </tr>\n",
       "    </tbody>\n",
       "</table>\n",
       "<p>... (222 rows omitted)</p>"
      ],
      "text/plain": [
       "Timestamp       | Surveyor     | GPA  | introversion/extroversion | Pets                 | Handed       | Sleep Position | K-Pop | K-Pop Group | travel destination | Birthplace                | Transfer destination | Fear                                   | Music Genre | Color\n",
       "8/17/2023 16:33 | Christian Le | 2.86 | 6                         | Dogs                 | Right-handed | On my side     | Yes   | Le Sserafim | Japan              | Local                     | UC                   | Working                                | Pop         | Red\n",
       "8/17/2023 16:34 | Christian Le | 4    | 8                         | nan                  | Right-handed | On my back     | Yes   | Le Sserafim | Switzerland        | Local                     | UC                   | A regretful life                       | All         | Black\n",
       "8/17/2023 16:38 | Christian Le | 2.5  | 8                         | Cats                 | Right-handed | On my stomach  | Yes   | Seventeen   | Hawaii             | Local                     | UC Transfer          | Death, Spiders                         | R&B, K-POP  | Green\n",
       "8/17/2023 16:38 | Christian Le | 3.96 | 6                         | Cats                 | Right-handed | On my side     | Yes   | STAYC       | Costa Rica         | Local                     | UC Grad              | Loss of loved ones                     | R&B, K-POP  | Purple\n",
       "8/17/2023 16:54 | Christian Le | 2.98 | 6                         | nan                  | Left-handed  | On my side     | Yes   | New Jeans   | Hawaii             | Local                     | nan                  | Death                                  | R&B         | Green\n",
       "8/17/2023 16:55 | Christian Le | 3.8  | 8                         | Dogs                 | Right-handed | On my side     | Yes   | New Jeans   | Hawaii             | Local                     | UC                   | Being alone                            | R&B         | Blue\n",
       "8/17/2023 17:00 | Christian Le | 4    | 3                         | nan                  | Right-handed | On my back     | No    | nan         | Japan              | California (not Bay Area) | CSU                  | Not being accepted into career program | Hip hop     | Khaki\n",
       "8/17/2023 18:13 | Christian Le | 4    | 2                         | Cats, Dogs, Reptiles | Both         | On my stomach  | Yes   | New Jeans   | Dubai              | Local                     | UC                   | Insects                                | Pop         | Red\n",
       "8/17/2023 20:38 | Casey So     | 3.86 | 3                         | Dogs                 | Right-handed | On my back     | Yes   | Seventeen   | Korea              | Local                     | UC                   | Birds                                  | Pop         | Light Blue\n",
       "8/17/2023 20:43 | Casey So     | 3.2  | 4                         | nan                  | Right-handed | On my side     | Yes   | Twice       | Philippines        | Local                     | UC                   | Death                                  | Pop         | Blue\n",
       "... (222 rows omitted)"
      ]
     },
     "execution_count": 5,
     "metadata": {},
     "output_type": "execute_result"
    }
   ],
   "source": [
    "# Let's import the Math 211 Class Survey\n",
    "math211_survey = Table.read_table('Math211_FallSurvey.csv')\n",
    "math211_survey"
   ]
  },
  {
   "cell_type": "code",
   "execution_count": 6,
   "id": "41807cd2",
   "metadata": {},
   "outputs": [
    {
     "data": {
      "text/plain": [
       "21"
      ]
     },
     "execution_count": 6,
     "metadata": {},
     "output_type": "execute_result"
    }
   ],
   "source": [
    "(math211_survey.group('Fear',np.average)\n",
    "                 .where('introversion/extroversion average',are.below_or_equal_to(3))).num_rows"
   ]
  },
  {
   "cell_type": "code",
   "execution_count": 7,
   "id": "c024a6a1",
   "metadata": {},
   "outputs": [
    {
     "data": {
      "text/html": [
       "<table border=\"1\" class=\"dataframe\">\n",
       "    <thead>\n",
       "        <tr>\n",
       "            <th>Fear</th> <th>introversion/extroversion average</th>\n",
       "        </tr>\n",
       "    </thead>\n",
       "    <tbody>\n",
       "        <tr>\n",
       "            <td>Killer Clown                          </td> <td>1                                </td>\n",
       "        </tr>\n",
       "        <tr>\n",
       "            <td>Lost my phone                         </td> <td>1                                </td>\n",
       "        </tr>\n",
       "        <tr>\n",
       "            <td>You                                   </td> <td>1                                </td>\n",
       "        </tr>\n",
       "        <tr>\n",
       "            <td>Being forgotten                       </td> <td>2                                </td>\n",
       "        </tr>\n",
       "        <tr>\n",
       "            <td>Chickens                              </td> <td>2                                </td>\n",
       "        </tr>\n",
       "        <tr>\n",
       "            <td>Failing                               </td> <td>2                                </td>\n",
       "        </tr>\n",
       "        <tr>\n",
       "            <td>Future, Stage Fright                  </td> <td>2                                </td>\n",
       "        </tr>\n",
       "        <tr>\n",
       "            <td>Insects                               </td> <td>2                                </td>\n",
       "        </tr>\n",
       "        <tr>\n",
       "            <td>Socializing                           </td> <td>2                                </td>\n",
       "        </tr>\n",
       "        <tr>\n",
       "            <td>Spider                                </td> <td>2                                </td>\n",
       "        </tr>\n",
       "        <tr>\n",
       "            <td>Spiders,Public Speaking               </td> <td>2                                </td>\n",
       "        </tr>\n",
       "        <tr>\n",
       "            <td>Wasp                                  </td> <td>2                                </td>\n",
       "        </tr>\n",
       "        <tr>\n",
       "            <td>Being lonely                          </td> <td>3                                </td>\n",
       "        </tr>\n",
       "        <tr>\n",
       "            <td>Betrayal                              </td> <td>3                                </td>\n",
       "        </tr>\n",
       "        <tr>\n",
       "            <td>Birds                                 </td> <td>3                                </td>\n",
       "        </tr>\n",
       "        <tr>\n",
       "            <td>Communication                         </td> <td>3                                </td>\n",
       "        </tr>\n",
       "        <tr>\n",
       "            <td>Dolls                                 </td> <td>3                                </td>\n",
       "        </tr>\n",
       "        <tr>\n",
       "            <td>Hatred                                </td> <td>3                                </td>\n",
       "        </tr>\n",
       "        <tr>\n",
       "            <td>Not being accepted into career program</td> <td>3                                </td>\n",
       "        </tr>\n",
       "        <tr>\n",
       "            <td>Ocean                                 </td> <td>3                                </td>\n",
       "        </tr>\n",
       "        <tr>\n",
       "            <td>Pregnancy                             </td> <td>3                                </td>\n",
       "        </tr>\n",
       "    </tbody>\n",
       "</table>"
      ],
      "text/plain": [
       "<IPython.core.display.HTML object>"
      ]
     },
     "metadata": {},
     "output_type": "display_data"
    }
   ],
   "source": [
    "(math211_survey.group('Fear',np.average)\n",
    "                 .select(0,4)\n",
    "                 .sort('introversion/extroversion average')\n",
    "                 .where('introversion/extroversion average',are.below_or_equal_to(3))).show()"
   ]
  },
  {
   "cell_type": "code",
   "execution_count": null,
   "id": "c4c24f09",
   "metadata": {},
   "outputs": [],
   "source": []
  },
  {
   "cell_type": "markdown",
   "id": "e85d107d",
   "metadata": {},
   "source": [
    "# Using Pivot Tables to Analyze Credit/Debit Card Statements"
   ]
  },
  {
   "cell_type": "markdown",
   "id": "c25a7ff2",
   "metadata": {},
   "source": [
    "Importing the csv file and storing it in the `spending` table"
   ]
  },
  {
   "cell_type": "code",
   "execution_count": 8,
   "id": "452329ef",
   "metadata": {},
   "outputs": [],
   "source": [
    "spending = Table.read_table('2023-10-05_transaction_download.csv')"
   ]
  },
  {
   "cell_type": "code",
   "execution_count": null,
   "id": "5ded8664",
   "metadata": {
    "scrolled": true
   },
   "outputs": [],
   "source": [
    "#Take a look at all of your expenses\n",
    "spending.show()"
   ]
  },
  {
   "cell_type": "markdown",
   "id": "2053bd41",
   "metadata": {},
   "source": [
    "Now, let's reformat our transaction dates so that it only reports the month and year. We aim to examine how our spending habits change month-to-month. "
   ]
  },
  {
   "cell_type": "code",
   "execution_count": 9,
   "id": "42ead7ef",
   "metadata": {},
   "outputs": [
    {
     "data": {
      "text/plain": [
       "'10-2022'"
      ]
     },
     "execution_count": 9,
     "metadata": {},
     "output_type": "execute_result"
    }
   ],
   "source": [
    "#Trying out ways to extract the date string if the month is the first number and the year is the last number \n",
    "\n",
    "date_string = '10-01-2022'\n",
    "\n",
    "date_string[0:2]+'-'+date_string[6:10]"
   ]
  },
  {
   "cell_type": "code",
   "execution_count": 10,
   "id": "cc155a1c",
   "metadata": {},
   "outputs": [
    {
     "data": {
      "text/plain": [
       "'2022-10'"
      ]
     },
     "execution_count": 10,
     "metadata": {},
     "output_type": "execute_result"
    }
   ],
   "source": [
    "#This cell is devoted to trying out string indexes to identify the month and year in the date 'string'\n",
    "spending.column('Transaction Date').item(258)[0:7]"
   ]
  },
  {
   "cell_type": "code",
   "execution_count": 11,
   "id": "9688d8c0",
   "metadata": {},
   "outputs": [],
   "source": [
    "#creating a function to automate the process above\n",
    "def extract_month_year(date):\n",
    "    ...\n",
    "    return date[0:7]"
   ]
  },
  {
   "cell_type": "markdown",
   "id": "50acfa20",
   "metadata": {},
   "source": [
    "Let's use the function we just created to add a new column to our `spending` table. "
   ]
  },
  {
   "cell_type": "code",
   "execution_count": 12,
   "id": "5c1323fc",
   "metadata": {},
   "outputs": [
    {
     "data": {
      "text/html": [
       "<table border=\"1\" class=\"dataframe\">\n",
       "    <thead>\n",
       "        <tr>\n",
       "            <th>Transaction Date</th> <th>Posted Date</th> <th>Card No.</th> <th>Description</th> <th>Category</th> <th>Debit</th> <th>Credit</th> <th>Trans. Mo/Yr</th>\n",
       "        </tr>\n",
       "    </thead>\n",
       "    <tbody>\n",
       "        <tr>\n",
       "            <td>2022-12-29      </td> <td>2022-12-30 </td> <td>7100    </td> <td>DOORDASH DASHPASS      </td> <td>Dining        </td> <td>9.99 </td> <td>nan    </td> <td>2022-12     </td>\n",
       "        </tr>\n",
       "        <tr>\n",
       "            <td>2022-12-29      </td> <td>2022-12-29 </td> <td>7100    </td> <td>CAPITAL ONE MOBILE PYMT</td> <td>Payment/Credit</td> <td>nan  </td> <td>4551.43</td> <td>2022-12     </td>\n",
       "        </tr>\n",
       "        <tr>\n",
       "            <td>2022-12-27      </td> <td>2022-12-29 </td> <td>7100    </td> <td>HOMEROOM               </td> <td>Dining        </td> <td>54.86</td> <td>nan    </td> <td>2022-12     </td>\n",
       "        </tr>\n",
       "        <tr>\n",
       "            <td>2022-12-28      </td> <td>2022-12-29 </td> <td>7100    </td> <td>CHEVRON 0203186        </td> <td>Gas/Automotive</td> <td>40.49</td> <td>nan    </td> <td>2022-12     </td>\n",
       "        </tr>\n",
       "        <tr>\n",
       "            <td>2022-12-28      </td> <td>2022-12-29 </td> <td>7100    </td> <td>SUPER TACOS            </td> <td>Dining        </td> <td>35   </td> <td>nan    </td> <td>2022-12     </td>\n",
       "        </tr>\n",
       "        <tr>\n",
       "            <td>2022-12-27      </td> <td>2022-12-29 </td> <td>7100    </td> <td>STARBUCKS STORE 08676  </td> <td>Dining        </td> <td>4.25 </td> <td>nan    </td> <td>2022-12     </td>\n",
       "        </tr>\n",
       "        <tr>\n",
       "            <td>2022-12-27      </td> <td>2022-12-28 </td> <td>7100    </td> <td>OAKLAND PARK METER IPS </td> <td>Other Services</td> <td>2.25 </td> <td>nan    </td> <td>2022-12     </td>\n",
       "        </tr>\n",
       "        <tr>\n",
       "            <td>2022-12-28      </td> <td>2022-12-28 </td> <td>7100    </td> <td>APPLE.COM/BILL         </td> <td>Internet      </td> <td>0.99 </td> <td>nan    </td> <td>2022-12     </td>\n",
       "        </tr>\n",
       "        <tr>\n",
       "            <td>2022-12-28      </td> <td>2022-12-28 </td> <td>7100    </td> <td>APPLE.COM/BILL         </td> <td>Internet      </td> <td>14.99</td> <td>nan    </td> <td>2022-12     </td>\n",
       "        </tr>\n",
       "        <tr>\n",
       "            <td>2022-12-26      </td> <td>2022-12-27 </td> <td>7100    </td> <td>CHEVRON 0203186        </td> <td>Gas/Automotive</td> <td>13.68</td> <td>nan    </td> <td>2022-12     </td>\n",
       "        </tr>\n",
       "    </tbody>\n",
       "</table>\n",
       "<p>... (1088 rows omitted)</p>"
      ],
      "text/plain": [
       "Transaction Date | Posted Date | Card No. | Description             | Category       | Debit | Credit  | Trans. Mo/Yr\n",
       "2022-12-29       | 2022-12-30  | 7100     | DOORDASH DASHPASS       | Dining         | 9.99  | nan     | 2022-12\n",
       "2022-12-29       | 2022-12-29  | 7100     | CAPITAL ONE MOBILE PYMT | Payment/Credit | nan   | 4551.43 | 2022-12\n",
       "2022-12-27       | 2022-12-29  | 7100     | HOMEROOM                | Dining         | 54.86 | nan     | 2022-12\n",
       "2022-12-28       | 2022-12-29  | 7100     | CHEVRON 0203186         | Gas/Automotive | 40.49 | nan     | 2022-12\n",
       "2022-12-28       | 2022-12-29  | 7100     | SUPER TACOS             | Dining         | 35    | nan     | 2022-12\n",
       "2022-12-27       | 2022-12-29  | 7100     | STARBUCKS STORE 08676   | Dining         | 4.25  | nan     | 2022-12\n",
       "2022-12-27       | 2022-12-28  | 7100     | OAKLAND PARK METER IPS  | Other Services | 2.25  | nan     | 2022-12\n",
       "2022-12-28       | 2022-12-28  | 7100     | APPLE.COM/BILL          | Internet       | 0.99  | nan     | 2022-12\n",
       "2022-12-28       | 2022-12-28  | 7100     | APPLE.COM/BILL          | Internet       | 14.99 | nan     | 2022-12\n",
       "2022-12-26       | 2022-12-27  | 7100     | CHEVRON 0203186         | Gas/Automotive | 13.68 | nan     | 2022-12\n",
       "... (1088 rows omitted)"
      ]
     },
     "execution_count": 12,
     "metadata": {},
     "output_type": "execute_result"
    }
   ],
   "source": [
    "#creates the array of outputs from our transaction month/year function\n",
    "transaction_month = spending.apply(extract_month_year,'Transaction Date') \n",
    "\n",
    "#Now we add that array to the spending table\n",
    "spending = spending.with_column( 'Trans. Mo/Yr' , transaction_month)\n",
    "spending"
   ]
  },
  {
   "cell_type": "code",
   "execution_count": 13,
   "id": "b2c7352f",
   "metadata": {},
   "outputs": [
    {
     "data": {
      "text/html": [
       "<table border=\"1\" class=\"dataframe\">\n",
       "    <thead>\n",
       "        <tr>\n",
       "            <th>Category</th> <th>2022-01</th> <th>2022-02</th> <th>2022-03</th> <th>2022-04</th> <th>2022-05</th> <th>2022-06</th> <th>2022-07</th> <th>2022-08</th> <th>2022-09</th> <th>2022-10</th> <th>2022-11</th> <th>2022-12</th>\n",
       "        </tr>\n",
       "    </thead>\n",
       "    <tbody>\n",
       "        <tr>\n",
       "            <td>Airfare              </td> <td>92.96  </td> <td>378.5  </td> <td>0      </td> <td>0      </td> <td>0      </td> <td>0      </td> <td>0      </td> <td>43.98  </td> <td>0      </td> <td>0      </td> <td>0      </td> <td>162.96 </td>\n",
       "        </tr>\n",
       "        <tr>\n",
       "            <td>Dining               </td> <td>nan    </td> <td>1788.52</td> <td>nan    </td> <td>1139.2 </td> <td>1333.11</td> <td>2573.59</td> <td>2386.9 </td> <td>1931.08</td> <td>1707.13</td> <td>2493.05</td> <td>3525.21</td> <td>3469.5 </td>\n",
       "        </tr>\n",
       "        <tr>\n",
       "            <td>Entertainment        </td> <td>0      </td> <td>0      </td> <td>38.72  </td> <td>0      </td> <td>0      </td> <td>0      </td> <td>0      </td> <td>0      </td> <td>0      </td> <td>0      </td> <td>0      </td> <td>0      </td>\n",
       "        </tr>\n",
       "        <tr>\n",
       "            <td>Gas/Automotive       </td> <td>173.94 </td> <td>167.62 </td> <td>169.62 </td> <td>298.2  </td> <td>263.09 </td> <td>457.99 </td> <td>345.75 </td> <td>302.39 </td> <td>397.87 </td> <td>235.35 </td> <td>219.92 </td> <td>409.75 </td>\n",
       "        </tr>\n",
       "        <tr>\n",
       "            <td>Health Care          </td> <td>0      </td> <td>0      </td> <td>0      </td> <td>0      </td> <td>0      </td> <td>0      </td> <td>0      </td> <td>0      </td> <td>106.01 </td> <td>0      </td> <td>0      </td> <td>200    </td>\n",
       "        </tr>\n",
       "        <tr>\n",
       "            <td>Insurance            </td> <td>251.51 </td> <td>273.41 </td> <td>249.75 </td> <td>249.75 </td> <td>249.75 </td> <td>249.75 </td> <td>249.75 </td> <td>249.75 </td> <td>249.75 </td> <td>289.41 </td> <td>289.42 </td> <td>289.42 </td>\n",
       "        </tr>\n",
       "        <tr>\n",
       "            <td>Internet             </td> <td>15.98  </td> <td>15.98  </td> <td>35.97  </td> <td>15.98  </td> <td>15.98  </td> <td>0.99   </td> <td>15.98  </td> <td>15.98  </td> <td>15.98  </td> <td>15.98  </td> <td>15.98  </td> <td>15.98  </td>\n",
       "        </tr>\n",
       "        <tr>\n",
       "            <td>Lodging              </td> <td>0      </td> <td>0      </td> <td>0      </td> <td>0      </td> <td>0      </td> <td>0      </td> <td>0      </td> <td>299.73 </td> <td>0      </td> <td>0      </td> <td>0      </td> <td>0      </td>\n",
       "        </tr>\n",
       "        <tr>\n",
       "            <td>Merchandise          </td> <td>473.87 </td> <td>436.03 </td> <td>770.08 </td> <td>283.09 </td> <td>329.14 </td> <td>348.02 </td> <td>nan    </td> <td>503.8  </td> <td>444.47 </td> <td>960.31 </td> <td>662.56 </td> <td>398.07 </td>\n",
       "        </tr>\n",
       "        <tr>\n",
       "            <td>Other                </td> <td>365    </td> <td>0      </td> <td>0      </td> <td>0      </td> <td>0      </td> <td>0      </td> <td>0      </td> <td>0      </td> <td>0      </td> <td>162    </td> <td>0      </td> <td>0      </td>\n",
       "        </tr>\n",
       "        <tr>\n",
       "            <td>Other Services       </td> <td>0      </td> <td>3.99   </td> <td>4.99   </td> <td>4.99   </td> <td>154.76 </td> <td>4.99   </td> <td>4.99   </td> <td>4.99   </td> <td>4.99   </td> <td>4.99   </td> <td>4.99   </td> <td>7.24   </td>\n",
       "        </tr>\n",
       "        <tr>\n",
       "            <td>Other Travel         </td> <td>0      </td> <td>0      </td> <td>0      </td> <td>0      </td> <td>0      </td> <td>30.65  </td> <td>0      </td> <td>0      </td> <td>0      </td> <td>0      </td> <td>0      </td> <td>0      </td>\n",
       "        </tr>\n",
       "        <tr>\n",
       "            <td>Payment/Credit       </td> <td>nan    </td> <td>nan    </td> <td>nan    </td> <td>nan    </td> <td>nan    </td> <td>nan    </td> <td>nan    </td> <td>nan    </td> <td>nan    </td> <td>nan    </td> <td>nan    </td> <td>nan    </td>\n",
       "        </tr>\n",
       "        <tr>\n",
       "            <td>Phone/Cable          </td> <td>104.46 </td> <td>104.51 </td> <td>104.91 </td> <td>104.83 </td> <td>104.83 </td> <td>114.99 </td> <td>115.53 </td> <td>115.53 </td> <td>115.53 </td> <td>245.27 </td> <td>116.28 </td> <td>116.28 </td>\n",
       "        </tr>\n",
       "        <tr>\n",
       "            <td>Professional Services</td> <td>320    </td> <td>320    </td> <td>320    </td> <td>320    </td> <td>320    </td> <td>320    </td> <td>640    </td> <td>320    </td> <td>320    </td> <td>320    </td> <td>0      </td> <td>0      </td>\n",
       "        </tr>\n",
       "        <tr>\n",
       "            <td>Utilities            </td> <td>0      </td> <td>0      </td> <td>0      </td> <td>0      </td> <td>0      </td> <td>0      </td> <td>0      </td> <td>0      </td> <td>0      </td> <td>957    </td> <td>0      </td> <td>0      </td>\n",
       "        </tr>\n",
       "    </tbody>\n",
       "</table>"
      ],
      "text/plain": [
       "<IPython.core.display.HTML object>"
      ]
     },
     "metadata": {},
     "output_type": "display_data"
    }
   ],
   "source": [
    "#Time to pivot!\n",
    "spending.pivot('Trans. Mo/Yr','Category','Debit',sum).drop(1).show()"
   ]
  },
  {
   "cell_type": "code",
   "execution_count": 14,
   "id": "4603ca3a",
   "metadata": {},
   "outputs": [
    {
     "data": {
      "text/html": [
       "<table border=\"1\" class=\"dataframe\">\n",
       "    <thead>\n",
       "        <tr>\n",
       "            <th>Transaction Date</th> <th>Posted Date</th> <th>Card No.</th> <th>Description</th> <th>Category</th> <th>Debit</th> <th>Credit</th> <th>Trans. Mo/Yr</th>\n",
       "        </tr>\n",
       "    </thead>\n",
       "    <tbody>\n",
       "        <tr>\n",
       "            <td>2022-12-15      </td> <td>2022-12-17 </td> <td>7100    </td> <td>MOKUTANYA             </td> <td>Dining  </td> <td>613.77</td> <td>nan   </td> <td>2022-12     </td>\n",
       "        </tr>\n",
       "        <tr>\n",
       "            <td>2022-12-07      </td> <td>2022-12-09 </td> <td>7100    </td> <td>WANG DAE BAK          </td> <td>Dining  </td> <td>500   </td> <td>nan   </td> <td>2022-12     </td>\n",
       "        </tr>\n",
       "        <tr>\n",
       "            <td>2022-12-20      </td> <td>2022-12-22 </td> <td>7100    </td> <td>IZAKAYA GINJI RESTAURA</td> <td>Dining  </td> <td>425   </td> <td>nan   </td> <td>2022-12     </td>\n",
       "        </tr>\n",
       "        <tr>\n",
       "            <td>2022-12-01      </td> <td>2022-12-03 </td> <td>7100    </td> <td>IZAKAYA GINJI RESTAURA</td> <td>Dining  </td> <td>287.9 </td> <td>nan   </td> <td>2022-12     </td>\n",
       "        </tr>\n",
       "        <tr>\n",
       "            <td>2022-12-21      </td> <td>2022-12-22 </td> <td>7100    </td> <td>IZUMI SUSHI           </td> <td>Dining  </td> <td>270   </td> <td>nan   </td> <td>2022-12     </td>\n",
       "        </tr>\n",
       "        <tr>\n",
       "            <td>2022-12-11      </td> <td>2022-12-12 </td> <td>7100    </td> <td>SUPER HOT HOTPOT & KOR</td> <td>Dining  </td> <td>200.08</td> <td>nan   </td> <td>2022-12     </td>\n",
       "        </tr>\n",
       "        <tr>\n",
       "            <td>2022-12-13      </td> <td>2022-12-14 </td> <td>7100    </td> <td>GYU KAKU RESTAURANT   </td> <td>Dining  </td> <td>200   </td> <td>nan   </td> <td>2022-12     </td>\n",
       "        </tr>\n",
       "        <tr>\n",
       "            <td>2022-12-01      </td> <td>2022-12-02 </td> <td>7100    </td> <td>WANG DAE BAK          </td> <td>Dining  </td> <td>199.33</td> <td>nan   </td> <td>2022-12     </td>\n",
       "        </tr>\n",
       "        <tr>\n",
       "            <td>2022-12-14      </td> <td>2022-12-16 </td> <td>7100    </td> <td>WANG DAE BAK          </td> <td>Dining  </td> <td>140   </td> <td>nan   </td> <td>2022-12     </td>\n",
       "        </tr>\n",
       "        <tr>\n",
       "            <td>2022-12-09      </td> <td>2022-12-10 </td> <td>7100    </td> <td>MAJIKKU RAMEN         </td> <td>Dining  </td> <td>130   </td> <td>nan   </td> <td>2022-12     </td>\n",
       "        </tr>\n",
       "        <tr>\n",
       "            <td>2022-12-20      </td> <td>2022-12-21 </td> <td>7100    </td> <td>BEYOND MENU  91424090 </td> <td>Dining  </td> <td>116.21</td> <td>nan   </td> <td>2022-12     </td>\n",
       "        </tr>\n",
       "        <tr>\n",
       "            <td>2022-12-22      </td> <td>2022-12-24 </td> <td>7100    </td> <td>PBS SACRAMENTO        </td> <td>Dining  </td> <td>90    </td> <td>nan   </td> <td>2022-12     </td>\n",
       "        </tr>\n",
       "        <tr>\n",
       "            <td>2022-12-27      </td> <td>2022-12-29 </td> <td>7100    </td> <td>HOMEROOM              </td> <td>Dining  </td> <td>54.86 </td> <td>nan   </td> <td>2022-12     </td>\n",
       "        </tr>\n",
       "        <tr>\n",
       "            <td>2022-12-21      </td> <td>2022-12-22 </td> <td>7100    </td> <td>UTC  #31007           </td> <td>Dining  </td> <td>39    </td> <td>nan   </td> <td>2022-12     </td>\n",
       "        </tr>\n",
       "        <tr>\n",
       "            <td>2022-12-28      </td> <td>2022-12-29 </td> <td>7100    </td> <td>SUPER TACOS           </td> <td>Dining  </td> <td>35    </td> <td>nan   </td> <td>2022-12     </td>\n",
       "        </tr>\n",
       "        <tr>\n",
       "            <td>2022-12-22      </td> <td>2022-12-23 </td> <td>7100    </td> <td>TEN TEN ROOM          </td> <td>Dining  </td> <td>33    </td> <td>nan   </td> <td>2022-12     </td>\n",
       "        </tr>\n",
       "        <tr>\n",
       "            <td>2022-12-12      </td> <td>2022-12-13 </td> <td>7100    </td> <td>DD DOORDASH TOMMYTHAI </td> <td>Dining  </td> <td>25.09 </td> <td>nan   </td> <td>2022-12     </td>\n",
       "        </tr>\n",
       "        <tr>\n",
       "            <td>2022-12-23      </td> <td>2022-12-24 </td> <td>7100    </td> <td>FINNEGANS PUB         </td> <td>Dining  </td> <td>25    </td> <td>nan   </td> <td>2022-12     </td>\n",
       "        </tr>\n",
       "        <tr>\n",
       "            <td>2022-12-12      </td> <td>2022-12-13 </td> <td>7100    </td> <td>DD DOORDASH MENDOCINO </td> <td>Dining  </td> <td>18.25 </td> <td>nan   </td> <td>2022-12     </td>\n",
       "        </tr>\n",
       "        <tr>\n",
       "            <td>2022-12-18      </td> <td>2022-12-20 </td> <td>7100    </td> <td>WENDYS #3959          </td> <td>Dining  </td> <td>17.44 </td> <td>nan   </td> <td>2022-12     </td>\n",
       "        </tr>\n",
       "        <tr>\n",
       "            <td>2022-12-06      </td> <td>2022-12-08 </td> <td>7100    </td> <td>IN N OUT BURGER 257   </td> <td>Dining  </td> <td>10.72 </td> <td>nan   </td> <td>2022-12     </td>\n",
       "        </tr>\n",
       "        <tr>\n",
       "            <td>2022-12-29      </td> <td>2022-12-30 </td> <td>7100    </td> <td>DOORDASH DASHPASS     </td> <td>Dining  </td> <td>9.99  </td> <td>nan   </td> <td>2022-12     </td>\n",
       "        </tr>\n",
       "        <tr>\n",
       "            <td>2022-12-04      </td> <td>2022-12-06 </td> <td>7100    </td> <td>IN N OUT BURGER 213   </td> <td>Dining  </td> <td>9.35  </td> <td>nan   </td> <td>2022-12     </td>\n",
       "        </tr>\n",
       "        <tr>\n",
       "            <td>2022-12-01      </td> <td>2022-12-02 </td> <td>7100    </td> <td>REDWOOD SKYLINE       </td> <td>Dining  </td> <td>8.76  </td> <td>nan   </td> <td>2022-12     </td>\n",
       "        </tr>\n",
       "        <tr>\n",
       "            <td>2022-12-27      </td> <td>2022-12-29 </td> <td>7100    </td> <td>STARBUCKS STORE 08676 </td> <td>Dining  </td> <td>4.25  </td> <td>nan   </td> <td>2022-12     </td>\n",
       "        </tr>\n",
       "        <tr>\n",
       "            <td>2022-12-20      </td> <td>2022-12-22 </td> <td>7100    </td> <td>STARBUCKS STORE 00618 </td> <td>Dining  </td> <td>3.25  </td> <td>nan   </td> <td>2022-12     </td>\n",
       "        </tr>\n",
       "        <tr>\n",
       "            <td>2022-12-19      </td> <td>2022-12-21 </td> <td>7100    </td> <td>STARBUCKS STORE 24132 </td> <td>Dining  </td> <td>3.25  </td> <td>nan   </td> <td>2022-12     </td>\n",
       "        </tr>\n",
       "    </tbody>\n",
       "</table>"
      ],
      "text/plain": [
       "<IPython.core.display.HTML object>"
      ]
     },
     "metadata": {},
     "output_type": "display_data"
    }
   ],
   "source": [
    "spending.where('Category','Dining').where('Trans. Mo/Yr','2022-12').sort('Debit',descending=True).show()"
   ]
  },
  {
   "cell_type": "code",
   "execution_count": 15,
   "id": "84d8609b",
   "metadata": {
    "scrolled": true
   },
   "outputs": [
    {
     "data": {
      "text/html": [
       "<table border=\"1\" class=\"dataframe\">\n",
       "    <thead>\n",
       "        <tr>\n",
       "            <th>Transaction Date</th> <th>Posted Date</th> <th>Card No.</th> <th>Description</th> <th>Category</th> <th>Debit</th> <th>Credit</th> <th>Trans. Mo/Yr</th> <th>Trans. Day</th>\n",
       "        </tr>\n",
       "    </thead>\n",
       "    <tbody>\n",
       "        <tr>\n",
       "            <td>2022-12-29      </td> <td>2022-12-30 </td> <td>7100    </td> <td>DOORDASH DASHPASS      </td> <td>Dining        </td> <td>9.99 </td> <td>nan    </td> <td>2022-12     </td> <td>29        </td>\n",
       "        </tr>\n",
       "        <tr>\n",
       "            <td>2022-12-29      </td> <td>2022-12-29 </td> <td>7100    </td> <td>CAPITAL ONE MOBILE PYMT</td> <td>Payment/Credit</td> <td>nan  </td> <td>4551.43</td> <td>2022-12     </td> <td>29        </td>\n",
       "        </tr>\n",
       "        <tr>\n",
       "            <td>2022-12-27      </td> <td>2022-12-29 </td> <td>7100    </td> <td>HOMEROOM               </td> <td>Dining        </td> <td>54.86</td> <td>nan    </td> <td>2022-12     </td> <td>27        </td>\n",
       "        </tr>\n",
       "        <tr>\n",
       "            <td>2022-12-28      </td> <td>2022-12-29 </td> <td>7100    </td> <td>CHEVRON 0203186        </td> <td>Gas/Automotive</td> <td>40.49</td> <td>nan    </td> <td>2022-12     </td> <td>28        </td>\n",
       "        </tr>\n",
       "        <tr>\n",
       "            <td>2022-12-28      </td> <td>2022-12-29 </td> <td>7100    </td> <td>SUPER TACOS            </td> <td>Dining        </td> <td>35   </td> <td>nan    </td> <td>2022-12     </td> <td>28        </td>\n",
       "        </tr>\n",
       "        <tr>\n",
       "            <td>2022-12-27      </td> <td>2022-12-29 </td> <td>7100    </td> <td>STARBUCKS STORE 08676  </td> <td>Dining        </td> <td>4.25 </td> <td>nan    </td> <td>2022-12     </td> <td>27        </td>\n",
       "        </tr>\n",
       "        <tr>\n",
       "            <td>2022-12-27      </td> <td>2022-12-28 </td> <td>7100    </td> <td>OAKLAND PARK METER IPS </td> <td>Other Services</td> <td>2.25 </td> <td>nan    </td> <td>2022-12     </td> <td>27        </td>\n",
       "        </tr>\n",
       "        <tr>\n",
       "            <td>2022-12-28      </td> <td>2022-12-28 </td> <td>7100    </td> <td>APPLE.COM/BILL         </td> <td>Internet      </td> <td>0.99 </td> <td>nan    </td> <td>2022-12     </td> <td>28        </td>\n",
       "        </tr>\n",
       "        <tr>\n",
       "            <td>2022-12-28      </td> <td>2022-12-28 </td> <td>7100    </td> <td>APPLE.COM/BILL         </td> <td>Internet      </td> <td>14.99</td> <td>nan    </td> <td>2022-12     </td> <td>28        </td>\n",
       "        </tr>\n",
       "        <tr>\n",
       "            <td>2022-12-26      </td> <td>2022-12-27 </td> <td>7100    </td> <td>CHEVRON 0203186        </td> <td>Gas/Automotive</td> <td>13.68</td> <td>nan    </td> <td>2022-12     </td> <td>26        </td>\n",
       "        </tr>\n",
       "    </tbody>\n",
       "</table>\n",
       "<p>... (1088 rows omitted)</p>"
      ],
      "text/plain": [
       "Transaction Date | Posted Date | Card No. | Description             | Category       | Debit | Credit  | Trans. Mo/Yr | Trans. Day\n",
       "2022-12-29       | 2022-12-30  | 7100     | DOORDASH DASHPASS       | Dining         | 9.99  | nan     | 2022-12      | 29\n",
       "2022-12-29       | 2022-12-29  | 7100     | CAPITAL ONE MOBILE PYMT | Payment/Credit | nan   | 4551.43 | 2022-12      | 29\n",
       "2022-12-27       | 2022-12-29  | 7100     | HOMEROOM                | Dining         | 54.86 | nan     | 2022-12      | 27\n",
       "2022-12-28       | 2022-12-29  | 7100     | CHEVRON 0203186         | Gas/Automotive | 40.49 | nan     | 2022-12      | 28\n",
       "2022-12-28       | 2022-12-29  | 7100     | SUPER TACOS             | Dining         | 35    | nan     | 2022-12      | 28\n",
       "2022-12-27       | 2022-12-29  | 7100     | STARBUCKS STORE 08676   | Dining         | 4.25  | nan     | 2022-12      | 27\n",
       "2022-12-27       | 2022-12-28  | 7100     | OAKLAND PARK METER IPS  | Other Services | 2.25  | nan     | 2022-12      | 27\n",
       "2022-12-28       | 2022-12-28  | 7100     | APPLE.COM/BILL          | Internet       | 0.99  | nan     | 2022-12      | 28\n",
       "2022-12-28       | 2022-12-28  | 7100     | APPLE.COM/BILL          | Internet       | 14.99 | nan     | 2022-12      | 28\n",
       "2022-12-26       | 2022-12-27  | 7100     | CHEVRON 0203186         | Gas/Automotive | 13.68 | nan     | 2022-12      | 26\n",
       "... (1088 rows omitted)"
      ]
     },
     "execution_count": 15,
     "metadata": {},
     "output_type": "execute_result"
    }
   ],
   "source": [
    "def extract_day_of_month(date):\n",
    "    return date[8:]\n",
    "#creates the array of outputs from our transaction month/year function\n",
    "transaction_day = spending.apply(extract_day_of_month,'Transaction Date') \n",
    "\n",
    "#Now we add that array to the spending table\n",
    "spending = spending.with_column( 'Trans. Day' , transaction_day)\n",
    "spending"
   ]
  },
  {
   "cell_type": "code",
   "execution_count": 16,
   "id": "b979093e",
   "metadata": {
    "scrolled": false
   },
   "outputs": [
    {
     "data": {
      "image/png": "[encoded data removed]",
      "text/plain": [
       "<Figure size 600x1550 with 1 Axes>"
      ]
     },
     "metadata": {},
     "output_type": "display_data"
    }
   ],
   "source": [
    "spending.group('Trans. Day').barh('Trans. Day')"
   ]
  },
  {
   "cell_type": "code",
   "execution_count": 17,
   "id": "530c2bae",
   "metadata": {},
   "outputs": [
    {
     "data": {
      "image/png": "[encoded data removed]",
      "text/plain": [
       "<Figure size 600x1550 with 1 Axes>"
      ]
     },
     "metadata": {},
     "output_type": "display_data"
    }
   ],
   "source": [
    "spending.where('Debit',are.above(0)).group('Trans. Day',np.average).select(0,'Debit average').barh('Trans. Day')"
   ]
  },
  {
   "cell_type": "code",
   "execution_count": 18,
   "id": "35306155",
   "metadata": {},
   "outputs": [
    {
     "data": {
      "text/html": [
       "<table border=\"1\" class=\"dataframe\">\n",
       "    <thead>\n",
       "        <tr>\n",
       "            <th>Transaction Date</th> <th>Posted Date</th> <th>Card No.</th> <th>Description</th> <th>Category</th> <th>Debit</th> <th>Credit</th> <th>Trans. Mo/Yr</th> <th>Trans. Day</th>\n",
       "        </tr>\n",
       "    </thead>\n",
       "    <tbody>\n",
       "        <tr>\n",
       "            <td>2022-10-25      </td> <td>2022-10-26 </td> <td>7100    </td> <td>MAJIKKU RAMEN         </td> <td>Dining        </td> <td>50     </td> <td>nan   </td> <td>2022-10     </td> <td>25        </td>\n",
       "        </tr>\n",
       "        <tr>\n",
       "            <td>2022-10-25      </td> <td>2022-10-26 </td> <td>7100    </td> <td>AMZN MKTP US*H83TL6XB2</td> <td>Merchandise   </td> <td>10.9   </td> <td>nan   </td> <td>2022-10     </td> <td>25        </td>\n",
       "        </tr>\n",
       "        <tr>\n",
       "            <td>2022-10-25      </td> <td>2022-10-26 </td> <td>7100    </td> <td>SMCCD CSM BOOKSTORE   </td> <td>Merchandise   </td> <td>3.5    </td> <td>nan   </td> <td>2022-10     </td> <td>25        </td>\n",
       "        </tr>\n",
       "        <tr>\n",
       "            <td>2022-10-25      </td> <td>2022-10-26 </td> <td>7100    </td> <td>REDWOOD SKYLINE       </td> <td>Dining        </td> <td>8.99   </td> <td>nan   </td> <td>2022-10     </td> <td>25        </td>\n",
       "        </tr>\n",
       "        <tr>\n",
       "            <td>2022-09-25      </td> <td>2022-09-27 </td> <td>7100    </td> <td>TACO BELL 30796       </td> <td>Dining        </td> <td>10.47  </td> <td>nan   </td> <td>2022-09     </td> <td>25        </td>\n",
       "        </tr>\n",
       "        <tr>\n",
       "            <td>2022-09-25      </td> <td>2022-09-26 </td> <td>7100    </td> <td>CVS/PHARMACY #09216   </td> <td>Health Care   </td> <td>53.01  </td> <td>nan   </td> <td>2022-09     </td> <td>25        </td>\n",
       "        </tr>\n",
       "        <tr>\n",
       "            <td>2022-09-25      </td> <td>2022-09-26 </td> <td>7100    </td> <td>IZUMI SUSHI           </td> <td>Dining        </td> <td>125    </td> <td>nan   </td> <td>2022-09     </td> <td>25        </td>\n",
       "        </tr>\n",
       "        <tr>\n",
       "            <td>2022-09-25      </td> <td>2022-09-26 </td> <td>7100    </td> <td>CHEVRON 0097927       </td> <td>Gas/Automotive</td> <td>28.01  </td> <td>nan   </td> <td>2022-09     </td> <td>25        </td>\n",
       "        </tr>\n",
       "        <tr>\n",
       "            <td>2022-09-25      </td> <td>2022-09-26 </td> <td>7100    </td> <td>APPLE.COM/BILL        </td> <td>Internet      </td> <td>14.99  </td> <td>nan   </td> <td>2022-09     </td> <td>25        </td>\n",
       "        </tr>\n",
       "        <tr>\n",
       "            <td>2022-08-25      </td> <td>2022-08-26 </td> <td>7100    </td> <td>LA CASA MIA           </td> <td>Dining        </td> <td>110    </td> <td>nan   </td> <td>2022-08     </td> <td>25        </td>\n",
       "        </tr>\n",
       "        <tr>\n",
       "            <td>2022-08-25      </td> <td>2022-08-26 </td> <td>7100    </td> <td>SMCCD CSM BOOKSTORE   </td> <td>Merchandise   </td> <td>3.5    </td> <td>nan   </td> <td>2022-08     </td> <td>25        </td>\n",
       "        </tr>\n",
       "        <tr>\n",
       "            <td>2022-08-25      </td> <td>2022-08-26 </td> <td>7100    </td> <td>SMCCD CSM BOOKSTORE   </td> <td>Merchandise   </td> <td>2.5    </td> <td>nan   </td> <td>2022-08     </td> <td>25        </td>\n",
       "        </tr>\n",
       "        <tr>\n",
       "            <td>2022-08-25      </td> <td>2022-08-26 </td> <td>7100    </td> <td>REDWOOD SKYLINE       </td> <td>Dining        </td> <td>8.76   </td> <td>nan   </td> <td>2022-08     </td> <td>25        </td>\n",
       "        </tr>\n",
       "        <tr>\n",
       "            <td>2022-08-25      </td> <td>2022-08-25 </td> <td>7100    </td> <td>SQ *GILMAN BREWING COM</td> <td>Dining        </td> <td>150    </td> <td>nan   </td> <td>2022-08     </td> <td>25        </td>\n",
       "        </tr>\n",
       "        <tr>\n",
       "            <td>2022-07-25      </td> <td>2022-07-27 </td> <td>7100    </td> <td>SAFEWAY #1138         </td> <td>Merchandise   </td> <td>12.36  </td> <td>nan   </td> <td>2022-07     </td> <td>25        </td>\n",
       "        </tr>\n",
       "        <tr>\n",
       "            <td>2022-07-25      </td> <td>2022-07-26 </td> <td>7100    </td> <td>SMCCD CSM BOOKSTORE   </td> <td>Merchandise   </td> <td>2.5    </td> <td>nan   </td> <td>2022-07     </td> <td>25        </td>\n",
       "        </tr>\n",
       "        <tr>\n",
       "            <td>2022-07-25      </td> <td>2022-07-26 </td> <td>7100    </td> <td>SMCCD CSM BOOKSTORE   </td> <td>Merchandise   </td> <td>2.5    </td> <td>nan   </td> <td>2022-07     </td> <td>25        </td>\n",
       "        </tr>\n",
       "        <tr>\n",
       "            <td>2022-07-25      </td> <td>2022-07-26 </td> <td>7100    </td> <td>APPLE STORE  #R231    </td> <td>Merchandise   </td> <td>143.79 </td> <td>nan   </td> <td>2022-07     </td> <td>25        </td>\n",
       "        </tr>\n",
       "        <tr>\n",
       "            <td>2022-07-25      </td> <td>2022-07-26 </td> <td>7100    </td> <td>APPLE STORE  #R231    </td> <td>Merchandise   </td> <td>2239.53</td> <td>nan   </td> <td>2022-07     </td> <td>25        </td>\n",
       "        </tr>\n",
       "        <tr>\n",
       "            <td>2022-07-25      </td> <td>2022-07-26 </td> <td>7100    </td> <td>APPLE STORE R231      </td> <td>Merchandise   </td> <td>163.34 </td> <td>nan   </td> <td>2022-07     </td> <td>25        </td>\n",
       "        </tr>\n",
       "        <tr>\n",
       "            <td>2022-06-25      </td> <td>2022-06-27 </td> <td>7100    </td> <td>WAL-MART #3478        </td> <td>Merchandise   </td> <td>40.73  </td> <td>nan   </td> <td>2022-06     </td> <td>25        </td>\n",
       "        </tr>\n",
       "        <tr>\n",
       "            <td>2022-06-25      </td> <td>2022-06-27 </td> <td>7100    </td> <td>KUKUI SAUSAGE COMPANY </td> <td>Merchandise   </td> <td>12     </td> <td>nan   </td> <td>2022-06     </td> <td>25        </td>\n",
       "        </tr>\n",
       "        <tr>\n",
       "            <td>2022-06-25      </td> <td>2022-06-27 </td> <td>7100    </td> <td>TST* Island Vintage Sh</td> <td>Dining        </td> <td>47.07  </td> <td>nan   </td> <td>2022-06     </td> <td>25        </td>\n",
       "        </tr>\n",
       "        <tr>\n",
       "            <td>2022-05-25      </td> <td>2022-05-27 </td> <td>7100    </td> <td>SMCCD CSM BOOKSTORE   </td> <td>Merchandise   </td> <td>4.5    </td> <td>nan   </td> <td>2022-05     </td> <td>25        </td>\n",
       "        </tr>\n",
       "        <tr>\n",
       "            <td>2022-05-25      </td> <td>2022-05-27 </td> <td>7100    </td> <td>SMCCD CSM BOOKSTORE   </td> <td>Merchandise   </td> <td>2.5    </td> <td>nan   </td> <td>2022-05     </td> <td>25        </td>\n",
       "        </tr>\n",
       "        <tr>\n",
       "            <td>2022-05-25      </td> <td>2022-05-27 </td> <td>7100    </td> <td>LA COSTANERA          </td> <td>Dining        </td> <td>180    </td> <td>nan   </td> <td>2022-05     </td> <td>25        </td>\n",
       "        </tr>\n",
       "        <tr>\n",
       "            <td>2022-05-25      </td> <td>2022-05-26 </td> <td>7100    </td> <td>REDWOOD SKYLINE       </td> <td>Dining        </td> <td>17.57  </td> <td>nan   </td> <td>2022-05     </td> <td>25        </td>\n",
       "        </tr>\n",
       "        <tr>\n",
       "            <td>2022-04-25      </td> <td>2022-04-26 </td> <td>7100    </td> <td>SMCCD CSM BOOKSTORE   </td> <td>Merchandise   </td> <td>1.5    </td> <td>nan   </td> <td>2022-04     </td> <td>25        </td>\n",
       "        </tr>\n",
       "        <tr>\n",
       "            <td>2022-04-25      </td> <td>2022-04-26 </td> <td>7100    </td> <td>SMCCD CSM BOOKSTORE   </td> <td>Merchandise   </td> <td>1.5    </td> <td>nan   </td> <td>2022-04     </td> <td>25        </td>\n",
       "        </tr>\n",
       "        <tr>\n",
       "            <td>2022-04-25      </td> <td>2022-04-26 </td> <td>7100    </td> <td>TST* LUPULO CRAFT BEER</td> <td>Dining        </td> <td>40     </td> <td>nan   </td> <td>2022-04     </td> <td>25        </td>\n",
       "        </tr>\n",
       "        <tr>\n",
       "            <td>2022-04-25      </td> <td>2022-04-25 </td> <td>7100    </td> <td>APPLE.COM/BILL        </td> <td>Internet      </td> <td>14.99  </td> <td>nan   </td> <td>2022-04     </td> <td>25        </td>\n",
       "        </tr>\n",
       "        <tr>\n",
       "            <td>2022-03-25      </td> <td>2022-03-28 </td> <td>7100    </td> <td>SMCCD CSM BOOKSTORE   </td> <td>Merchandise   </td> <td>2.5    </td> <td>nan   </td> <td>2022-03     </td> <td>25        </td>\n",
       "        </tr>\n",
       "        <tr>\n",
       "            <td>2022-03-25      </td> <td>2022-03-26 </td> <td>7100    </td> <td>TST* HALF MOON BAY BRE</td> <td>Dining        </td> <td>190    </td> <td>nan   </td> <td>2022-03     </td> <td>25        </td>\n",
       "        </tr>\n",
       "        <tr>\n",
       "            <td>2022-03-25      </td> <td>2022-03-26 </td> <td>7100    </td> <td>PEET'S #04502         </td> <td>Dining        </td> <td>3.95   </td> <td>nan   </td> <td>2022-03     </td> <td>25        </td>\n",
       "        </tr>\n",
       "        <tr>\n",
       "            <td>2022-03-25      </td> <td>2022-03-25 </td> <td>7100    </td> <td>APPLE.COM/BILL        </td> <td>Internet      </td> <td>14.99  </td> <td>nan   </td> <td>2022-03     </td> <td>25        </td>\n",
       "        </tr>\n",
       "        <tr>\n",
       "            <td>2022-03-25      </td> <td>2022-03-25 </td> <td>7100    </td> <td>APPLE.COM/BILL        </td> <td>Internet      </td> <td>19.99  </td> <td>nan   </td> <td>2022-03     </td> <td>25        </td>\n",
       "        </tr>\n",
       "        <tr>\n",
       "            <td>2022-02-25      </td> <td>2022-02-28 </td> <td>7100    </td> <td>SAFEWAY #1138         </td> <td>Merchandise   </td> <td>9.76   </td> <td>nan   </td> <td>2022-02     </td> <td>25        </td>\n",
       "        </tr>\n",
       "        <tr>\n",
       "            <td>2022-02-25      </td> <td>2022-02-26 </td> <td>7100    </td> <td>PEET'S #04502         </td> <td>Dining        </td> <td>3.25   </td> <td>nan   </td> <td>2022-02     </td> <td>25        </td>\n",
       "        </tr>\n",
       "        <tr>\n",
       "            <td>2022-02-25      </td> <td>2022-02-25 </td> <td>7100    </td> <td>APPLE.COM/BILL        </td> <td>Internet      </td> <td>14.99  </td> <td>nan   </td> <td>2022-02     </td> <td>25        </td>\n",
       "        </tr>\n",
       "        <tr>\n",
       "            <td>2022-01-25      </td> <td>2022-01-26 </td> <td>7100    </td> <td>SMCCD CSM BOOKSTORE   </td> <td>Merchandise   </td> <td>1.99   </td> <td>nan   </td> <td>2022-01     </td> <td>25        </td>\n",
       "        </tr>\n",
       "        <tr>\n",
       "            <td>2022-01-25      </td> <td>2022-01-26 </td> <td>7100    </td> <td>SMCCD CSM BOOKSTORE   </td> <td>Merchandise   </td> <td>2.5    </td> <td>nan   </td> <td>2022-01     </td> <td>25        </td>\n",
       "        </tr>\n",
       "        <tr>\n",
       "            <td>2022-01-25      </td> <td>2022-01-26 </td> <td>7100    </td> <td>NIJIYA MARKET #63     </td> <td>Merchandise   </td> <td>50.74  </td> <td>nan   </td> <td>2022-01     </td> <td>25        </td>\n",
       "        </tr>\n",
       "    </tbody>\n",
       "</table>"
      ],
      "text/plain": [
       "<IPython.core.display.HTML object>"
      ]
     },
     "metadata": {},
     "output_type": "display_data"
    }
   ],
   "source": [
    "spending.where('Trans. Day',\"25\").show()"
   ]
  },
  {
   "cell_type": "code",
   "execution_count": null,
   "id": "8d9ab3ec",
   "metadata": {},
   "outputs": [],
   "source": []
  }
 ],
 "metadata": {
  "kernelspec": {
   "display_name": "Python 3 (ipykernel)",
   "language": "python",
   "name": "python3"
  },
  "language_info": {
   "codemirror_mode": {
    "name": "ipython",
    "version": 3
   },
   "file_extension": ".py",
   "mimetype": "text/x-python",
   "name": "python",
   "nbconvert_exporter": "python",
   "pygments_lexer": "ipython3",
   "version": "3.10.11"
  }
 },
 "nbformat": 4,
 "nbformat_minor": 5
}
