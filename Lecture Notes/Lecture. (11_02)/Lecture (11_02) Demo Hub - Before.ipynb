{
 "cells": [
  {
   "cell_type": "markdown",
   "id": "ec9959b5",
   "metadata": {},
   "source": [
    "# [Python Reference Link](http://www.data8.org/sp20/python-reference.html)\n",
    "*Run the cell below so that we can set our modules up*"
   ]
  },
  {
   "cell_type": "code",
   "execution_count": null,
   "id": "bc35b0b0",
   "metadata": {},
   "outputs": [],
   "source": [
    "import numpy as np\n",
    "from datascience import *\n",
    "\n",
    "# These lines do some fancy plotting magic.\n",
    "import matplotlib\n",
    "%matplotlib inline\n",
    "import matplotlib.pyplot as plt\n",
    "plt.style.use('fivethirtyeight')\n",
    "import warnings\n",
    "warnings.simplefilter('ignore', FutureWarning)"
   ]
  },
  {
   "cell_type": "markdown",
   "id": "4275d98a",
   "metadata": {},
   "source": [
    "# Exploring the percentile function"
   ]
  },
  {
   "cell_type": "code",
   "execution_count": null,
   "id": "86cd4725",
   "metadata": {},
   "outputs": [],
   "source": [
    "an_array_1_to_100 = np.arange(1,101)\n",
    "an_array_1_to_100"
   ]
  },
  {
   "cell_type": "code",
   "execution_count": null,
   "id": "ab4d6324",
   "metadata": {},
   "outputs": [],
   "source": [
    "percentile(25,an_array_1_to_100)"
   ]
  },
  {
   "cell_type": "code",
   "execution_count": null,
   "id": "ecdfcbb1",
   "metadata": {},
   "outputs": [],
   "source": []
  },
  {
   "cell_type": "code",
   "execution_count": null,
   "id": "68666e87",
   "metadata": {},
   "outputs": [],
   "source": []
  },
  {
   "cell_type": "markdown",
   "id": "4d6a07a0",
   "metadata": {},
   "source": [
    "# Constructing Confidence Intervals"
   ]
  },
  {
   "cell_type": "code",
   "execution_count": null,
   "id": "7a19e909",
   "metadata": {},
   "outputs": [],
   "source": [
    "covid_data = Table.read_table(\"Covid Data_subset.csv\")\n",
    "covid_data"
   ]
  },
  {
   "cell_type": "code",
   "execution_count": null,
   "id": "0c8af2d1",
   "metadata": {},
   "outputs": [],
   "source": [
    "#Let's consider this data set to be our population, and calculate the death rate of patients with covid.  \n",
    "#Those with an impossible date for death can be assumed to live in this data set\n",
    "100*(1 - (covid_data.where('DATE_DIED','9999-99-99').num_rows / covid_data.num_rows))"
   ]
  },
  {
   "cell_type": "markdown",
   "id": "f667888e",
   "metadata": {},
   "source": [
    "### Let's play out a scenario"
   ]
  },
  {
   "cell_type": "markdown",
   "id": "099bbefe",
   "metadata": {},
   "source": [
    "Suppose that we are still in the early stages of the covid pandemic. You work for a hospital that has seen 100 patients so far. You want to know how deadly this illness is to the population. "
   ]
  },
  {
   "cell_type": "code",
   "execution_count": null,
   "id": "319a83f9",
   "metadata": {},
   "outputs": [],
   "source": [
    "#we proceed by taking a sample of 100 from the covid table. Let's assume that these are the 100 patients we saw.\n",
    "covid_sample = covid_data.sample(100,with_replacement = False)\n",
    "covid_sample"
   ]
  },
  {
   "cell_type": "markdown",
   "id": "30e96e24",
   "metadata": {},
   "source": [
    "Then we can define the following functions to construct an upper and lower bound for the confidence interval"
   ]
  },
  {
   "cell_type": "code",
   "execution_count": null,
   "id": "d05e53f2",
   "metadata": {},
   "outputs": [],
   "source": [
    "def confidence_interval_for_death_rate(level):\n",
    "    stats = make_array()\n",
    "    for i in np.arange(1000):\n",
    "        stat = 100*(1 - ((covid_sample.sample()).where('DATE_DIED','9999-99-99').num_rows / covid_sample.num_rows))\n",
    "        stats = np.append(stats,stat)\n",
    "    lower_bound = str(percentile((100 - level)/2,stats))\n",
    "    upper_bound = str(percentile( 100 - ((100 - level)/2) , stats))\n",
    "    return 'We are '+ str(level)+'% confident that the true death rate is between '+lower_bound+' and '+upper_bound"
   ]
  },
  {
   "cell_type": "code",
   "execution_count": null,
   "id": "9cd92ba7",
   "metadata": {},
   "outputs": [],
   "source": [
    "confidence_interval_for_death_rate(95)"
   ]
  },
  {
   "cell_type": "code",
   "execution_count": null,
   "id": "572d492c",
   "metadata": {},
   "outputs": [],
   "source": []
  },
  {
   "cell_type": "code",
   "execution_count": null,
   "id": "b6815bc9",
   "metadata": {},
   "outputs": [],
   "source": [
    "def confidence_interval_lower_b(tbl,level,column_label):\n",
    "    stats = make_array()\n",
    "    for i in np.arange(10000):\n",
    "        stat = np.mean(tbl.sample().column(column_label))\n",
    "        stats = np.append(stats,stat)\n",
    "    return percentile( (100 - level)/2 , stats)\n",
    "\n",
    "def confidence_interval_upper_b(tbl,level,column_label):\n",
    "    stats = make_array()\n",
    "    for i in np.arange(10000):\n",
    "        stat = np.mean(tbl.sample().column(column_label))\n",
    "        stats = np.append(stats,stat)\n",
    "    return percentile( 100 - ((100 - level)/2) , stats)"
   ]
  },
  {
   "cell_type": "code",
   "execution_count": null,
   "id": "5a796cdd",
   "metadata": {},
   "outputs": [],
   "source": [
    "column_to_look_at = 'AGE'\n",
    "level = 95\n",
    "print('The confidence interval for',column_to_look_at) \n",
    "print('is from',confidence_interval_lower_b(covid_sample,level,column_to_look_at))\n",
    "print('up to',confidence_interval_upper_b(covid_sample,level,column_to_look_at))"
   ]
  },
  {
   "cell_type": "code",
   "execution_count": null,
   "id": "6ef5b52c",
   "metadata": {},
   "outputs": [],
   "source": [
    "np.mean(covid_data.column('AGE'))"
   ]
  }
 ],
 "metadata": {
  "kernelspec": {
   "display_name": "Python 3 (ipykernel)",
   "language": "python",
   "name": "python3"
  },
  "language_info": {
   "codemirror_mode": {
    "name": "ipython",
    "version": 3
   },
   "file_extension": ".py",
   "mimetype": "text/x-python",
   "name": "python",
   "nbconvert_exporter": "python",
   "pygments_lexer": "ipython3",
   "version": "3.10.11"
  }
 },
 "nbformat": 4,
 "nbformat_minor": 5
}
