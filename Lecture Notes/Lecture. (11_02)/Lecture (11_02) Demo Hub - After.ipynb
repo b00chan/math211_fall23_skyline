{
 "cells": [
  {
   "cell_type": "markdown",
   "id": "ec9959b5",
   "metadata": {},
   "source": [
    "# [Python Reference Link](http://www.data8.org/sp20/python-reference.html)\n",
    "*Run the cell below so that we can set our modules up*"
   ]
  },
  {
   "cell_type": "code",
   "execution_count": 1,
   "id": "bc35b0b0",
   "metadata": {},
   "outputs": [],
   "source": [
    "import numpy as np\n",
    "from datascience import *\n",
    "\n",
    "# These lines do some fancy plotting magic.\n",
    "import matplotlib\n",
    "%matplotlib inline\n",
    "import matplotlib.pyplot as plt\n",
    "plt.style.use('fivethirtyeight')\n",
    "import warnings\n",
    "warnings.simplefilter('ignore', FutureWarning)"
   ]
  },
  {
   "cell_type": "markdown",
   "id": "4275d98a",
   "metadata": {},
   "source": [
    "# Exploring the percentile function"
   ]
  },
  {
   "cell_type": "code",
   "execution_count": 2,
   "id": "86cd4725",
   "metadata": {},
   "outputs": [
    {
     "data": {
      "text/plain": [
       "array([  1,   2,   3,   4,   5,   6,   7,   8,   9,  10,  11,  12,  13,\n",
       "        14,  15,  16,  17,  18,  19,  20,  21,  22,  23,  24,  25,  26,\n",
       "        27,  28,  29,  30,  31,  32,  33,  34,  35,  36,  37,  38,  39,\n",
       "        40,  41,  42,  43,  44,  45,  46,  47,  48,  49,  50,  51,  52,\n",
       "        53,  54,  55,  56,  57,  58,  59,  60,  61,  62,  63,  64,  65,\n",
       "        66,  67,  68,  69,  70,  71,  72,  73,  74,  75,  76,  77,  78,\n",
       "        79,  80,  81,  82,  83,  84,  85,  86,  87,  88,  89,  90,  91,\n",
       "        92,  93,  94,  95,  96,  97,  98,  99, 100])"
      ]
     },
     "execution_count": 2,
     "metadata": {},
     "output_type": "execute_result"
    }
   ],
   "source": [
    "an_array_1_to_100 = np.arange(1,101)\n",
    "an_array_1_to_100"
   ]
  },
  {
   "cell_type": "code",
   "execution_count": 3,
   "id": "ab4d6324",
   "metadata": {},
   "outputs": [
    {
     "data": {
      "text/plain": [
       "25"
      ]
     },
     "execution_count": 3,
     "metadata": {},
     "output_type": "execute_result"
    }
   ],
   "source": [
    "percentile(25,an_array_1_to_100)"
   ]
  },
  {
   "cell_type": "code",
   "execution_count": 4,
   "id": "ecdfcbb1",
   "metadata": {},
   "outputs": [],
   "source": [
    "an_array_1_to_36 = np.arange(1,36+1)"
   ]
  },
  {
   "cell_type": "code",
   "execution_count": 6,
   "id": "68666e87",
   "metadata": {},
   "outputs": [
    {
     "data": {
      "text/plain": [
       "18"
      ]
     },
     "execution_count": 6,
     "metadata": {},
     "output_type": "execute_result"
    }
   ],
   "source": [
    "percentile(50,an_array_1_to_36)"
   ]
  },
  {
   "cell_type": "markdown",
   "id": "4d6a07a0",
   "metadata": {},
   "source": [
    "# Constructing Confidence Intervals"
   ]
  },
  {
   "cell_type": "code",
   "execution_count": 7,
   "id": "7a19e909",
   "metadata": {},
   "outputs": [
    {
     "data": {
      "text/html": [
       "<table border=\"1\" class=\"dataframe\">\n",
       "    <thead>\n",
       "        <tr>\n",
       "            <th>USMER</th> <th>MEDICAL_UNIT</th> <th>SEX</th> <th>PATIENT_TYPE</th> <th>DATE_DIED</th> <th>INTUBED</th> <th>PNEUMONIA</th> <th>AGE</th> <th>PREGNANT</th> <th>DIABETES</th> <th>COPD</th> <th>ASTHMA</th> <th>INMSUPR</th> <th>HIPERTENSION</th> <th>OTHER_DISEASE</th> <th>CARDIOVASCULAR</th> <th>OBESITY</th> <th>RENAL_CHRONIC</th> <th>TOBACCO</th> <th>CLASIFFICATION_FINAL</th> <th>ICU</th>\n",
       "        </tr>\n",
       "    </thead>\n",
       "    <tbody>\n",
       "        <tr>\n",
       "            <td>2    </td> <td>1           </td> <td>1   </td> <td>1           </td> <td>3/5/2020  </td> <td>97     </td> <td>1        </td> <td>65  </td> <td>2       </td> <td>2       </td> <td>2   </td> <td>2     </td> <td>2      </td> <td>1           </td> <td>2            </td> <td>2             </td> <td>2      </td> <td>2            </td> <td>2      </td> <td>3                   </td> <td>97  </td>\n",
       "        </tr>\n",
       "        <tr>\n",
       "            <td>2    </td> <td>1           </td> <td>1   </td> <td>1           </td> <td>12/6/2020 </td> <td>97     </td> <td>2        </td> <td>53  </td> <td>2       </td> <td>2       </td> <td>2   </td> <td>2     </td> <td>2      </td> <td>2           </td> <td>2            </td> <td>2             </td> <td>2      </td> <td>2            </td> <td>2      </td> <td>7                   </td> <td>97  </td>\n",
       "        </tr>\n",
       "        <tr>\n",
       "            <td>2    </td> <td>1           </td> <td>1   </td> <td>1           </td> <td>9999-99-99</td> <td>97     </td> <td>2        </td> <td>64  </td> <td>2       </td> <td>2       </td> <td>2   </td> <td>2     </td> <td>2      </td> <td>2           </td> <td>2            </td> <td>2             </td> <td>2      </td> <td>2            </td> <td>2      </td> <td>3                   </td> <td>97  </td>\n",
       "        </tr>\n",
       "        <tr>\n",
       "            <td>2    </td> <td>1           </td> <td>1   </td> <td>2           </td> <td>9999-99-99</td> <td>2      </td> <td>2        </td> <td>25  </td> <td>2       </td> <td>2       </td> <td>2   </td> <td>2     </td> <td>2      </td> <td>2           </td> <td>2            </td> <td>2             </td> <td>2      </td> <td>2            </td> <td>2      </td> <td>3                   </td> <td>2   </td>\n",
       "        </tr>\n",
       "        <tr>\n",
       "            <td>2    </td> <td>1           </td> <td>2   </td> <td>2           </td> <td>9999-99-99</td> <td>2      </td> <td>2        </td> <td>30  </td> <td>97      </td> <td>2       </td> <td>2   </td> <td>2     </td> <td>2      </td> <td>2           </td> <td>2            </td> <td>2             </td> <td>2      </td> <td>2            </td> <td>2      </td> <td>3                   </td> <td>2   </td>\n",
       "        </tr>\n",
       "        <tr>\n",
       "            <td>2    </td> <td>1           </td> <td>1   </td> <td>1           </td> <td>9999-99-99</td> <td>97     </td> <td>2        </td> <td>23  </td> <td>2       </td> <td>2       </td> <td>2   </td> <td>2     </td> <td>2      </td> <td>2           </td> <td>2            </td> <td>2             </td> <td>2      </td> <td>2            </td> <td>2      </td> <td>3                   </td> <td>97  </td>\n",
       "        </tr>\n",
       "        <tr>\n",
       "            <td>2    </td> <td>1           </td> <td>2   </td> <td>1           </td> <td>9999-99-99</td> <td>97     </td> <td>2        </td> <td>54  </td> <td>97      </td> <td>2       </td> <td>2   </td> <td>2     </td> <td>2      </td> <td>2           </td> <td>2            </td> <td>2             </td> <td>2      </td> <td>2            </td> <td>2      </td> <td>3                   </td> <td>97  </td>\n",
       "        </tr>\n",
       "        <tr>\n",
       "            <td>2    </td> <td>1           </td> <td>2   </td> <td>1           </td> <td>9999-99-99</td> <td>97     </td> <td>2        </td> <td>30  </td> <td>97      </td> <td>2       </td> <td>2   </td> <td>2     </td> <td>2      </td> <td>2           </td> <td>2            </td> <td>2             </td> <td>2      </td> <td>2            </td> <td>2      </td> <td>3                   </td> <td>97  </td>\n",
       "        </tr>\n",
       "        <tr>\n",
       "            <td>2    </td> <td>1           </td> <td>1   </td> <td>1           </td> <td>9999-99-99</td> <td>97     </td> <td>2        </td> <td>38  </td> <td>2       </td> <td>2       </td> <td>2   </td> <td>2     </td> <td>2      </td> <td>2           </td> <td>2            </td> <td>2             </td> <td>2      </td> <td>1            </td> <td>2      </td> <td>3                   </td> <td>97  </td>\n",
       "        </tr>\n",
       "        <tr>\n",
       "            <td>2    </td> <td>1           </td> <td>2   </td> <td>1           </td> <td>9999-99-99</td> <td>97     </td> <td>2        </td> <td>49  </td> <td>97      </td> <td>2       </td> <td>2   </td> <td>2     </td> <td>2      </td> <td>2           </td> <td>2            </td> <td>2             </td> <td>2      </td> <td>2            </td> <td>2      </td> <td>3                   </td> <td>97  </td>\n",
       "        </tr>\n",
       "    </tbody>\n",
       "</table>\n",
       "<p>... (349515 rows omitted)</p>"
      ],
      "text/plain": [
       "USMER | MEDICAL_UNIT | SEX  | PATIENT_TYPE | DATE_DIED  | INTUBED | PNEUMONIA | AGE  | PREGNANT | DIABETES | COPD | ASTHMA | INMSUPR | HIPERTENSION | OTHER_DISEASE | CARDIOVASCULAR | OBESITY | RENAL_CHRONIC | TOBACCO | CLASIFFICATION_FINAL | ICU\n",
       "2     | 1            | 1    | 1            | 3/5/2020   | 97      | 1         | 65   | 2        | 2        | 2    | 2      | 2       | 1            | 2             | 2              | 2       | 2             | 2       | 3                    | 97\n",
       "2     | 1            | 1    | 1            | 12/6/2020  | 97      | 2         | 53   | 2        | 2        | 2    | 2      | 2       | 2            | 2             | 2              | 2       | 2             | 2       | 7                    | 97\n",
       "2     | 1            | 1    | 1            | 9999-99-99 | 97      | 2         | 64   | 2        | 2        | 2    | 2      | 2       | 2            | 2             | 2              | 2       | 2             | 2       | 3                    | 97\n",
       "2     | 1            | 1    | 2            | 9999-99-99 | 2       | 2         | 25   | 2        | 2        | 2    | 2      | 2       | 2            | 2             | 2              | 2       | 2             | 2       | 3                    | 2\n",
       "2     | 1            | 2    | 2            | 9999-99-99 | 2       | 2         | 30   | 97       | 2        | 2    | 2      | 2       | 2            | 2             | 2              | 2       | 2             | 2       | 3                    | 2\n",
       "2     | 1            | 1    | 1            | 9999-99-99 | 97      | 2         | 23   | 2        | 2        | 2    | 2      | 2       | 2            | 2             | 2              | 2       | 2             | 2       | 3                    | 97\n",
       "2     | 1            | 2    | 1            | 9999-99-99 | 97      | 2         | 54   | 97       | 2        | 2    | 2      | 2       | 2            | 2             | 2              | 2       | 2             | 2       | 3                    | 97\n",
       "2     | 1            | 2    | 1            | 9999-99-99 | 97      | 2         | 30   | 97       | 2        | 2    | 2      | 2       | 2            | 2             | 2              | 2       | 2             | 2       | 3                    | 97\n",
       "2     | 1            | 1    | 1            | 9999-99-99 | 97      | 2         | 38   | 2        | 2        | 2    | 2      | 2       | 2            | 2             | 2              | 2       | 1             | 2       | 3                    | 97\n",
       "2     | 1            | 2    | 1            | 9999-99-99 | 97      | 2         | 49   | 97       | 2        | 2    | 2      | 2       | 2            | 2             | 2              | 2       | 2             | 2       | 3                    | 97\n",
       "... (349515 rows omitted)"
      ]
     },
     "execution_count": 7,
     "metadata": {},
     "output_type": "execute_result"
    }
   ],
   "source": [
    "covid_data = Table.read_table(\"Covid Data_subset.csv\")\n",
    "covid_data"
   ]
  },
  {
   "cell_type": "code",
   "execution_count": 8,
   "id": "0c8af2d1",
   "metadata": {},
   "outputs": [
    {
     "data": {
      "text/plain": [
       "7.337672555611185"
      ]
     },
     "execution_count": 8,
     "metadata": {},
     "output_type": "execute_result"
    }
   ],
   "source": [
    "#Let's consider this data set to be our population, and calculate the death rate of patients with covid.  \n",
    "#Those with an impossible date for death can be assumed to live in this data set\n",
    "100*(1 - (covid_data.where('DATE_DIED','9999-99-99').num_rows / covid_data.num_rows))"
   ]
  },
  {
   "cell_type": "markdown",
   "id": "f667888e",
   "metadata": {},
   "source": [
    "### Let's play out a scenario"
   ]
  },
  {
   "cell_type": "markdown",
   "id": "099bbefe",
   "metadata": {},
   "source": [
    "Suppose that we are still in the early stages of the covid pandemic. You work for a hospital that has seen 100 patients so far. You want to know how deadly this illness is to the population. "
   ]
  },
  {
   "cell_type": "code",
   "execution_count": 9,
   "id": "319a83f9",
   "metadata": {},
   "outputs": [
    {
     "data": {
      "text/html": [
       "<table border=\"1\" class=\"dataframe\">\n",
       "    <thead>\n",
       "        <tr>\n",
       "            <th>USMER</th> <th>MEDICAL_UNIT</th> <th>SEX</th> <th>PATIENT_TYPE</th> <th>DATE_DIED</th> <th>INTUBED</th> <th>PNEUMONIA</th> <th>AGE</th> <th>PREGNANT</th> <th>DIABETES</th> <th>COPD</th> <th>ASTHMA</th> <th>INMSUPR</th> <th>HIPERTENSION</th> <th>OTHER_DISEASE</th> <th>CARDIOVASCULAR</th> <th>OBESITY</th> <th>RENAL_CHRONIC</th> <th>TOBACCO</th> <th>CLASIFFICATION_FINAL</th> <th>ICU</th>\n",
       "        </tr>\n",
       "    </thead>\n",
       "    <tbody>\n",
       "        <tr>\n",
       "            <td>2    </td> <td>12          </td> <td>1   </td> <td>1           </td> <td>9999-99-99</td> <td>97     </td> <td>2        </td> <td>48  </td> <td>2       </td> <td>2       </td> <td>2   </td> <td>2     </td> <td>2      </td> <td>1           </td> <td>2            </td> <td>2             </td> <td>2      </td> <td>2            </td> <td>2      </td> <td>7                   </td> <td>97  </td>\n",
       "        </tr>\n",
       "        <tr>\n",
       "            <td>2    </td> <td>12          </td> <td>2   </td> <td>1           </td> <td>9999-99-99</td> <td>97     </td> <td>2        </td> <td>53  </td> <td>97      </td> <td>2       </td> <td>2   </td> <td>2     </td> <td>2      </td> <td>2           </td> <td>2            </td> <td>2             </td> <td>1      </td> <td>2            </td> <td>2      </td> <td>3                   </td> <td>97  </td>\n",
       "        </tr>\n",
       "        <tr>\n",
       "            <td>2    </td> <td>4           </td> <td>2   </td> <td>2           </td> <td>9999-99-99</td> <td>2      </td> <td>2        </td> <td>57  </td> <td>97      </td> <td>1       </td> <td>2   </td> <td>2     </td> <td>2      </td> <td>1           </td> <td>2            </td> <td>2             </td> <td>1      </td> <td>2            </td> <td>2      </td> <td>7                   </td> <td>2   </td>\n",
       "        </tr>\n",
       "        <tr>\n",
       "            <td>2    </td> <td>4           </td> <td>1   </td> <td>1           </td> <td>9999-99-99</td> <td>97     </td> <td>2        </td> <td>47  </td> <td>2       </td> <td>2       </td> <td>2   </td> <td>2     </td> <td>2      </td> <td>2           </td> <td>2            </td> <td>2             </td> <td>2      </td> <td>2            </td> <td>2      </td> <td>7                   </td> <td>97  </td>\n",
       "        </tr>\n",
       "        <tr>\n",
       "            <td>2    </td> <td>12          </td> <td>1   </td> <td>1           </td> <td>9999-99-99</td> <td>97     </td> <td>2        </td> <td>52  </td> <td>2       </td> <td>2       </td> <td>2   </td> <td>2     </td> <td>2      </td> <td>2           </td> <td>2            </td> <td>2             </td> <td>2      </td> <td>2            </td> <td>1      </td> <td>3                   </td> <td>97  </td>\n",
       "        </tr>\n",
       "        <tr>\n",
       "            <td>2    </td> <td>12          </td> <td>2   </td> <td>1           </td> <td>9999-99-99</td> <td>97     </td> <td>2        </td> <td>50  </td> <td>97      </td> <td>2       </td> <td>2   </td> <td>2     </td> <td>2      </td> <td>2           </td> <td>2            </td> <td>2             </td> <td>2      </td> <td>2            </td> <td>2      </td> <td>7                   </td> <td>97  </td>\n",
       "        </tr>\n",
       "        <tr>\n",
       "            <td>1    </td> <td>12          </td> <td>1   </td> <td>1           </td> <td>9999-99-99</td> <td>97     </td> <td>2        </td> <td>28  </td> <td>2       </td> <td>2       </td> <td>2   </td> <td>2     </td> <td>2      </td> <td>2           </td> <td>2            </td> <td>2             </td> <td>2      </td> <td>2            </td> <td>1      </td> <td>3                   </td> <td>97  </td>\n",
       "        </tr>\n",
       "        <tr>\n",
       "            <td>1    </td> <td>9           </td> <td>1   </td> <td>1           </td> <td>8/5/2020  </td> <td>97     </td> <td>2        </td> <td>57  </td> <td>2       </td> <td>1       </td> <td>2   </td> <td>2     </td> <td>2      </td> <td>1           </td> <td>2            </td> <td>2             </td> <td>2      </td> <td>2            </td> <td>2      </td> <td>6                   </td> <td>97  </td>\n",
       "        </tr>\n",
       "        <tr>\n",
       "            <td>2    </td> <td>12          </td> <td>1   </td> <td>1           </td> <td>9999-99-99</td> <td>97     </td> <td>2        </td> <td>44  </td> <td>2       </td> <td>2       </td> <td>2   </td> <td>2     </td> <td>2      </td> <td>2           </td> <td>2            </td> <td>2             </td> <td>2      </td> <td>2            </td> <td>2      </td> <td>7                   </td> <td>97  </td>\n",
       "        </tr>\n",
       "        <tr>\n",
       "            <td>2    </td> <td>12          </td> <td>1   </td> <td>1           </td> <td>9999-99-99</td> <td>97     </td> <td>2        </td> <td>48  </td> <td>2       </td> <td>2       </td> <td>2   </td> <td>2     </td> <td>2      </td> <td>2           </td> <td>2            </td> <td>2             </td> <td>2      </td> <td>2            </td> <td>2      </td> <td>6                   </td> <td>97  </td>\n",
       "        </tr>\n",
       "    </tbody>\n",
       "</table>\n",
       "<p>... (90 rows omitted)</p>"
      ],
      "text/plain": [
       "USMER | MEDICAL_UNIT | SEX  | PATIENT_TYPE | DATE_DIED  | INTUBED | PNEUMONIA | AGE  | PREGNANT | DIABETES | COPD | ASTHMA | INMSUPR | HIPERTENSION | OTHER_DISEASE | CARDIOVASCULAR | OBESITY | RENAL_CHRONIC | TOBACCO | CLASIFFICATION_FINAL | ICU\n",
       "2     | 12           | 1    | 1            | 9999-99-99 | 97      | 2         | 48   | 2        | 2        | 2    | 2      | 2       | 1            | 2             | 2              | 2       | 2             | 2       | 7                    | 97\n",
       "2     | 12           | 2    | 1            | 9999-99-99 | 97      | 2         | 53   | 97       | 2        | 2    | 2      | 2       | 2            | 2             | 2              | 1       | 2             | 2       | 3                    | 97\n",
       "2     | 4            | 2    | 2            | 9999-99-99 | 2       | 2         | 57   | 97       | 1        | 2    | 2      | 2       | 1            | 2             | 2              | 1       | 2             | 2       | 7                    | 2\n",
       "2     | 4            | 1    | 1            | 9999-99-99 | 97      | 2         | 47   | 2        | 2        | 2    | 2      | 2       | 2            | 2             | 2              | 2       | 2             | 2       | 7                    | 97\n",
       "2     | 12           | 1    | 1            | 9999-99-99 | 97      | 2         | 52   | 2        | 2        | 2    | 2      | 2       | 2            | 2             | 2              | 2       | 2             | 1       | 3                    | 97\n",
       "2     | 12           | 2    | 1            | 9999-99-99 | 97      | 2         | 50   | 97       | 2        | 2    | 2      | 2       | 2            | 2             | 2              | 2       | 2             | 2       | 7                    | 97\n",
       "1     | 12           | 1    | 1            | 9999-99-99 | 97      | 2         | 28   | 2        | 2        | 2    | 2      | 2       | 2            | 2             | 2              | 2       | 2             | 1       | 3                    | 97\n",
       "1     | 9            | 1    | 1            | 8/5/2020   | 97      | 2         | 57   | 2        | 1        | 2    | 2      | 2       | 1            | 2             | 2              | 2       | 2             | 2       | 6                    | 97\n",
       "2     | 12           | 1    | 1            | 9999-99-99 | 97      | 2         | 44   | 2        | 2        | 2    | 2      | 2       | 2            | 2             | 2              | 2       | 2             | 2       | 7                    | 97\n",
       "2     | 12           | 1    | 1            | 9999-99-99 | 97      | 2         | 48   | 2        | 2        | 2    | 2      | 2       | 2            | 2             | 2              | 2       | 2             | 2       | 6                    | 97\n",
       "... (90 rows omitted)"
      ]
     },
     "execution_count": 9,
     "metadata": {},
     "output_type": "execute_result"
    }
   ],
   "source": [
    "#we proceed by taking a sample of 100 from the covid table. Let's assume that these are the 100 patients we saw.\n",
    "covid_sample = covid_data.sample(100,with_replacement = False)\n",
    "covid_sample"
   ]
  },
  {
   "cell_type": "markdown",
   "id": "30e96e24",
   "metadata": {},
   "source": [
    "Then we can define the following functions to construct an upper and lower bound for the confidence interval"
   ]
  },
  {
   "cell_type": "code",
   "execution_count": 10,
   "id": "d05e53f2",
   "metadata": {},
   "outputs": [],
   "source": [
    "def confidence_interval_for_death_rate(level):\n",
    "    stats = make_array() #create an empty array, these will contain death rates of re-sampled (size 100) patients\n",
    "    for i in np.arange(1000):\n",
    "        stat = 100*(1 - ((covid_sample.sample()).where('DATE_DIED','9999-99-99').num_rows / covid_sample.num_rows))\n",
    "        # death rate calculated above, from the bootstrapped re-sample\n",
    "        stats = np.append(stats,stat)\n",
    "        # death rate stored in 'stats' array\n",
    "    print(stats)\n",
    "    lower_bound = str(percentile((100 - level)/2,stats))\n",
    "    upper_bound = str(percentile( 100 - ((100 - level)/2) , stats))\n",
    "    return 'We are '+ str(level)+'% confident that the true death rate is between '+lower_bound+' and '+upper_bound"
   ]
  },
  {
   "cell_type": "code",
   "execution_count": 11,
   "id": "9cd92ba7",
   "metadata": {},
   "outputs": [
    {
     "name": "stdout",
     "output_type": "stream",
     "text": [
      "[  9.   8.   6.   5.  10.  14.   6.  14.   6.   7.   8.   8.   3.   5.   9.\n",
      "  11.   8.   8.   7.   5.   8.  10.   6.   6.   8.   6.   8.   8.   5.   7.\n",
      "   9.   4.   3.  10.   6.   7.   5.   7.  12.   7.   7.  11.   8.   8.  10.\n",
      "   9.  10.   9.   7.   7.   9.  10.   9.   7.   9.   6.  10.   5.   8.   8.\n",
      "   7.   9.  12.   8.   6.  15.  11.   9.   9.   8.   8.   7.   3.  10.   6.\n",
      "  10.   4.   8.   9.   6.  11.  10.  11.  14.   8.   6.   3.   9.  10.   8.\n",
      "   3.   7.   8.   4.   6.   8.   8.   9.   3.  12.   7.   5.   6.   6.   7.\n",
      "   6.  12.   9.   4.   9.  10.   9.   6.  11.   6.   7.   8.   7.   4.  10.\n",
      "   9.   5.   7.  12.  12.  15.   5.   7.   9.  10.  14.   9.   7.   4.   9.\n",
      "   6.  10.   7.  10.   9.   6.   9.  12.  11.   9.   5.   8.   7.   9.   6.\n",
      "   5.   5.  12.   8.  11.  10.   8.   9.   9.  10.  10.  10.   7.  11.   8.\n",
      "   8.   6.  10.  12.   8.   6.  10.   9.  10.   7.   5.   5.  11.   2.   7.\n",
      "   9.   6.  10.   6.  12.  10.   9.   8.  10.   5.  11.   7.   4.  12.  15.\n",
      "   7.  12.   6.   5.  11.   5.   6.   9.   6.  10.   5.   7.   6.   7.   6.\n",
      "   6.   4.   3.   7.   6.   7.   8.   6.   8.   9.  10.  10.   6.   9.  12.\n",
      "  13.   7.   4.  15.  10.   5.   8.  10.  11.   5.   5.   9.  11.   8.   5.\n",
      "   6.   8.  10.   6.   7.  10.   9.   9.   2.   5.   9.   9.   5.  10.  11.\n",
      "   6.   9.   6.  12.   7.   5.   8.   3.   6.  12.   9.  10.  12.  10.   8.\n",
      "   7.   7.  16.   4.   3.   4.   8.   8.   9.  11.  14.  10.   5.   8.   9.\n",
      "   8.   4.  13.  16.  10.  10.  13.   6.  10.   8.   8.   5.   4.   8.   3.\n",
      "  11.  11.  10.  12.   6.   7.   6.  10.   8.  12.  11.   8.  11.   8.  13.\n",
      "   9.   7.   5.   7.   5.   8.   1.  13.   7.   5.   5.  12.  11.   6.   9.\n",
      "   8.   4.   7.  11.   7.   7.   5.  10.   3.   8.   8.   5.   9.  10.   7.\n",
      "  11.  10.   5.   8.   9.  14.   4.  10.   8.  11.   4.   8.   6.   3.  10.\n",
      "   7.   6.   5.   6.   4.   6.   6.   2.   7.   9.  11.   9.   8.  10.  10.\n",
      "  11.   8.   9.   7.  10.   6.   9.   8.   5.  10.   6.   6.   9.   6.   3.\n",
      "   6.   6.   6.  10.   7.   9.   9.   5.   6.  10.   8.   8.   6.   7.   3.\n",
      "   3.   9.   7.   7.   4.   5.  12.  11.  12.   8.   8.   8.   9.   6.   8.\n",
      "   5.  14.   2.  13.   5.   9.   5.  13.   3.   6.   9.   6.   5.   2.   6.\n",
      "   3.  10.   4.   7.   6.   4.   4.   8.   6.  13.  12.   5.   6.   3.  15.\n",
      "   6.   5.   6.   7.  13.  13.   6.   9.   8.  11.   7.   5.   5.   6.   9.\n",
      "   9.   7.  10.  13.   8.  10.  12.  12.   5.  11.   8.   7.   7.   7.  13.\n",
      "   7.  10.   5.  14.   6.  11.   7.   6.   8.  12.  14.   6.  11.  10.   6.\n",
      "  11.   7.   6.  14.   7.   5.  10.   4.   4.   5.  10.  11.   7.   5.   4.\n",
      "   5.   4.   8.   8.   6.   9.   4.  11.   9.   5.   4.  11.  10.  10.   9.\n",
      "  10.  10.   9.   7.   8.   6.   8.   9.   6.  12.   9.   9.   8.   6.   7.\n",
      "   9.   5.   5.   3.   8.   9.  12.  11.  10.   6.   6.   7.   9.   6.   8.\n",
      "   7.  10.  12.  13.   6.   5.   6.   5.  10.   7.  10.   4.  11.   8.   5.\n",
      "  12.  12.   6.   6.   5.   7.  10.  12.  11.   6.   7.   7.   9.   5.  12.\n",
      "  11.   8.   4.   9.   8.   8.   5.   9.   9.  12.   7.   6.  13.   7.  12.\n",
      "   8.   8.   8.  10.  12.   7.  10.   8.   9.   9.   6.   9.   8.  10.   7.\n",
      "  10.   8.   7.   8.   8.   3.  10.   4.  12.  10.   9.   9.   9.   9.  16.\n",
      "   8.   9.   7.   8.   7.  13.   9.   4.   6.   9.   4.   5.   4.   9.  10.\n",
      "   7.   5.  10.   6.  12.  10.  12.   5.   7.   3.   9.  10.   6.  11.   7.\n",
      "   9.   3.   8.   8.   5.   6.   4.   5.  12.   6.   4.  11.   4.   8.   6.\n",
      "   9.   7.   6.  11.   7.   6.   9.  12.   6.  10.   6.   9.   7.  11.   9.\n",
      "   9.   7.   4.   9.   6.   9.   9.   6.   8.  10.   3.   9.   7.  11.   6.\n",
      "   7.   9.  11.   5.   7.   7.   6.   7.   6.   8.  11.  10.  10.  10.   8.\n",
      "   7.   7.  11.   6.   8.   7.   6.   5.   9.   4.   7.  14.   8.   5.  10.\n",
      "   4.   8.   9.  10.  13.   8.  10.  12.   7.  11.  16.   4.   7.   3.   9.\n",
      "  11.  10.   9.   7.   8.   7.  15.   6.  12.   6.   8.  10.   8.   7.   7.\n",
      "   6.  11.   5.   6.  10.   7.   9.   7.  11.   1.   8.   6.  15.  10.  11.\n",
      "   7.   5.  12.   6.  10.   6.   7.   8.   6.   8.  11.  12.  15.   8.   6.\n",
      "   8.  10.   7.   7.  12.  10.   5.   7.   9.   9.  10.  10.   9.   7.  12.\n",
      "   3.   3.  12.  11.  11.   7.   6.   7.   7.   6.  11.  10.   6.   3.  10.\n",
      "   3.   6.   6.   4.   9.   5.   8.  12.   9.  10.   6.   6.   7.   7.   6.\n",
      "   8.   6.   9.   9.   8.  11.  12.  10.  10.   9.   7.  11.   4.   8.   9.\n",
      "  10.   4.   6.   8.   7.   5.   6.  10.   8.   5.  11.  10.   9.   9.   7.\n",
      "   6.   6.  11.   6.  15.  11.  11.   9.   3.  11.  12.   8.   8.   8.   4.\n",
      "   7.   5.   7.  14.   9.   6.   6.   4.   8.   9.   6.  13.  13.  14.  14.\n",
      "   9.   8.   7.   7.   4.  12.   4.   3.   6.   9.  10.   5.   5.   8.  12.\n",
      "  15.  11.   6.  13.   5.  11.   9.   7.   7.   5.   7.  12.   9.  14.  13.\n",
      "   7.  11.   9.   7.  14.   6.   6.   7.   6.   5.   6.   5.  10.   8.   8.\n",
      "  13.  11.   7.   8.   9.  10.   7.  10.   8.   7.   6.   8.   7.   8.   3.\n",
      "  14.  13.   9.   4.   8.  14.  10.   7.  10.   8.   9.   7.  15.  10.   9.\n",
      "   5.   2.   9.   9.   4.  10.   7.  10.   8.   3.   2.   9.   9.   7.   9.\n",
      "  12.   8.   8.   8.   9.   9.  11.   8.   7.   6.]\n"
     ]
    },
    {
     "data": {
      "text/plain": [
       "'We are 95% confident that the true death rate is between 3.0 and 14.0'"
      ]
     },
     "execution_count": 11,
     "metadata": {},
     "output_type": "execute_result"
    }
   ],
   "source": [
    "confidence_interval_for_death_rate(95)"
   ]
  },
  {
   "cell_type": "code",
   "execution_count": null,
   "id": "572d492c",
   "metadata": {},
   "outputs": [],
   "source": []
  },
  {
   "cell_type": "code",
   "execution_count": 12,
   "id": "b6815bc9",
   "metadata": {},
   "outputs": [],
   "source": [
    "def confidence_interval_lower_b(tbl,level,column_label):\n",
    "    stats = make_array()\n",
    "    for i in np.arange(10000):\n",
    "        stat = np.mean(tbl.sample().column(column_label))\n",
    "        stats = np.append(stats,stat)\n",
    "    return percentile( (100 - level)/2 , stats)\n",
    "\n",
    "def confidence_interval_upper_b(tbl,level,column_label):\n",
    "    stats = make_array()\n",
    "    for i in np.arange(10000):\n",
    "        stat = np.mean(tbl.sample().column(column_label))\n",
    "        stats = np.append(stats,stat)\n",
    "    return percentile( 100 - ((100 - level)/2) , stats)"
   ]
  },
  {
   "cell_type": "code",
   "execution_count": 13,
   "id": "5a796cdd",
   "metadata": {},
   "outputs": [
    {
     "name": "stdout",
     "output_type": "stream",
     "text": [
      "The confidence interval for AGE\n",
      "is from 41.22\n",
      "up to 47.31\n"
     ]
    }
   ],
   "source": [
    "column_to_look_at = 'AGE'\n",
    "level = 95\n",
    "print('The confidence interval for',column_to_look_at) \n",
    "print('is from',confidence_interval_lower_b(covid_sample,level,column_to_look_at))\n",
    "print('up to',confidence_interval_upper_b(covid_sample,level,column_to_look_at))"
   ]
  },
  {
   "cell_type": "code",
   "execution_count": 14,
   "id": "6ef5b52c",
   "metadata": {},
   "outputs": [
    {
     "data": {
      "text/plain": [
       "41.809072312424007"
      ]
     },
     "execution_count": 14,
     "metadata": {},
     "output_type": "execute_result"
    }
   ],
   "source": [
    "np.mean(covid_data.column('AGE'))"
   ]
  },
  {
   "cell_type": "code",
   "execution_count": null,
   "id": "ff55270a",
   "metadata": {},
   "outputs": [],
   "source": []
  }
 ],
 "metadata": {
  "kernelspec": {
   "display_name": "Python 3 (ipykernel)",
   "language": "python",
   "name": "python3"
  },
  "language_info": {
   "codemirror_mode": {
    "name": "ipython",
    "version": 3
   },
   "file_extension": ".py",
   "mimetype": "text/x-python",
   "name": "python",
   "nbconvert_exporter": "python",
   "pygments_lexer": "ipython3",
   "version": "3.10.11"
  }
 },
 "nbformat": 4,
 "nbformat_minor": 5
}
