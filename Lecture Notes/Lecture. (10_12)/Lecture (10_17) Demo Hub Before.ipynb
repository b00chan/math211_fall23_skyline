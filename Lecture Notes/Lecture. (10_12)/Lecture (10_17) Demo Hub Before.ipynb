{
 "cells": [
  {
   "cell_type": "markdown",
   "id": "b516ef48",
   "metadata": {},
   "source": [
    "# [Python Reference Link](http://www.data8.org/sp20/python-reference.html)\n",
    "*Run the cell below so that we can set our modules up*"
   ]
  },
  {
   "cell_type": "code",
   "execution_count": null,
   "id": "696a8a10",
   "metadata": {},
   "outputs": [],
   "source": [
    "import numpy as np\n",
    "from datascience import *"
   ]
  },
  {
   "cell_type": "code",
   "execution_count": null,
   "id": "95f3f383",
   "metadata": {},
   "outputs": [],
   "source": [
    "# These lines set up graphing capabilities.\n",
    "import matplotlib\n",
    "%matplotlib inline\n",
    "import matplotlib.pyplot as plt\n",
    "plt.style.use('fivethirtyeight')\n",
    "import warnings\n",
    "warnings.simplefilter('ignore', FutureWarning)\n",
    "\n",
    "from ipywidgets import interact, interactive, fixed, interact_manual\n",
    "import ipywidgets as widgets"
   ]
  },
  {
   "cell_type": "markdown",
   "id": "aaeb1c8b",
   "metadata": {},
   "source": [
    "# Comparison Expressions and Operations"
   ]
  },
  {
   "cell_type": "code",
   "execution_count": null,
   "id": "7ba6c879",
   "metadata": {},
   "outputs": [],
   "source": [
    "2>3"
   ]
  },
  {
   "cell_type": "code",
   "execution_count": null,
   "id": "93f2692e",
   "metadata": {},
   "outputs": [],
   "source": [
    "#\n",
    "x = 4\n",
    "x >= 3"
   ]
  },
  {
   "cell_type": "code",
   "execution_count": null,
   "id": "6720b7df",
   "metadata": {},
   "outputs": [],
   "source": [
    "#\n",
    "y = 7\n",
    "x <= y"
   ]
  },
  {
   "cell_type": "code",
   "execution_count": null,
   "id": "98c6eff7",
   "metadata": {},
   "outputs": [],
   "source": [
    "#\n",
    "x == y"
   ]
  },
  {
   "cell_type": "code",
   "execution_count": null,
   "id": "4f79251f",
   "metadata": {},
   "outputs": [],
   "source": [
    "#\n",
    "c = x*3\n",
    "c == 6"
   ]
  },
  {
   "cell_type": "code",
   "execution_count": null,
   "id": "005de3b1",
   "metadata": {},
   "outputs": [],
   "source": [
    "#\n",
    "x != 3"
   ]
  },
  {
   "cell_type": "code",
   "execution_count": null,
   "id": "05afbe3e",
   "metadata": {},
   "outputs": [],
   "source": [
    "#\n",
    "x < c < y"
   ]
  },
  {
   "cell_type": "markdown",
   "id": "9f32dc08",
   "metadata": {},
   "source": [
    "# Aggregating Comparisons"
   ]
  },
  {
   "cell_type": "code",
   "execution_count": null,
   "id": "e6345cd9",
   "metadata": {},
   "outputs": [],
   "source": [
    "#\n",
    "this = make_array(1,2,3,4,5,6,7,8)\n",
    "this >= 5"
   ]
  },
  {
   "cell_type": "code",
   "execution_count": null,
   "id": "a98447f1",
   "metadata": {},
   "outputs": [],
   "source": [
    "#\n",
    "drinks = make_array('Coffee','Latte','Mocha','Coffee','Frappacino')"
   ]
  },
  {
   "cell_type": "code",
   "execution_count": null,
   "id": "0fa4adf9",
   "metadata": {},
   "outputs": [],
   "source": [
    "#\n",
    "drinks == 'Coffee'"
   ]
  },
  {
   "cell_type": "code",
   "execution_count": null,
   "id": "a66f786e",
   "metadata": {},
   "outputs": [],
   "source": [
    "#\n",
    "sum(drinks == 'Coffee')"
   ]
  },
  {
   "cell_type": "markdown",
   "id": "23ed62de",
   "metadata": {},
   "source": [
    "# Practice with `Spotify`"
   ]
  },
  {
   "cell_type": "markdown",
   "id": "84a8f080",
   "metadata": {},
   "source": [
    "About `spotify` \n",
    "\n",
    "One of the biggest music streaming platform, but who's the biggest streamed here? This dataset which is webscrapped and accumulated all the stream metrics of each artist and their respective songs.<br>\n",
    "\n",
    "Position - Spotify Ranking <br>\n",
    "Artist Name - Artist Name <br>\n",
    "Song Name - Song Name <br>\n",
    "Days - No of days since the release of the song (Updated) <br>\n",
    "Top 10 (xTimes) - No of times inside top 10 <br>\n",
    "Peak Position - Peak position attained <br>\n",
    "Peak Position (xTimes) - No of times Peak position attained <br>\n",
    "Peak Streams - Total no of streams during Peak position <br>\n",
    "**Total Streams **- Total song streams"
   ]
  },
  {
   "cell_type": "code",
   "execution_count": null,
   "id": "b4cb9cff",
   "metadata": {},
   "outputs": [],
   "source": [
    "spotify = Table.read_table('Spotify_final_dataset.csv')\n",
    "spotify"
   ]
  },
  {
   "cell_type": "markdown",
   "id": "edac2d7a",
   "metadata": {},
   "source": [
    "## Practice question: "
   ]
  },
  {
   "cell_type": "markdown",
   "id": "7b8094da",
   "metadata": {},
   "source": [
    "#### In the cell above, we saved a data table of Spotify Top 10000 streamed songs. Let's load the cell below with an array containing the peak position of each song."
   ]
  },
  {
   "cell_type": "code",
   "execution_count": null,
   "id": "ec90e6f2",
   "metadata": {},
   "outputs": [],
   "source": []
  },
  {
   "cell_type": "markdown",
   "id": "3a0bd11e",
   "metadata": {},
   "source": [
    "#### Let's construct an array that tells us whether each song reached the #1 peak position."
   ]
  },
  {
   "cell_type": "code",
   "execution_count": null,
   "id": "322f220e",
   "metadata": {},
   "outputs": [],
   "source": []
  },
  {
   "cell_type": "markdown",
   "id": "ad7627ab",
   "metadata": {},
   "source": [
    "#### Now use the sum function to determine the number of songs in this dataset which peaked at #1. "
   ]
  },
  {
   "cell_type": "code",
   "execution_count": null,
   "id": "5fc037b1",
   "metadata": {},
   "outputs": [],
   "source": []
  },
  {
   "cell_type": "markdown",
   "id": "96c70eae",
   "metadata": {},
   "source": [
    "#### This line of thinking is *very similar* to a method we have gotten quite familiar with recently. Use that method to verify our solution we just found."
   ]
  },
  {
   "cell_type": "code",
   "execution_count": null,
   "id": "056b42dd",
   "metadata": {},
   "outputs": [],
   "source": []
  },
  {
   "cell_type": "markdown",
   "id": "7b9d0e32",
   "metadata": {},
   "source": [
    "# Control Statements 'If'"
   ]
  },
  {
   "cell_type": "code",
   "execution_count": null,
   "id": "c69e53c3",
   "metadata": {},
   "outputs": [],
   "source": [
    "x = 20\n",
    "s = 'You are 20'"
   ]
  },
  {
   "cell_type": "code",
   "execution_count": null,
   "id": "39231226",
   "metadata": {},
   "outputs": [],
   "source": [
    "if x >= 18:\n",
    "    s = 'You can legally vote'\n",
    "s"
   ]
  },
  {
   "cell_type": "code",
   "execution_count": null,
   "id": "60e1e555",
   "metadata": {},
   "outputs": [],
   "source": [
    "if x >= 21: \n",
    "    s = 'You may enter this bar/nightclub'\n",
    "s "
   ]
  },
  {
   "cell_type": "code",
   "execution_count": null,
   "id": "8fc796f9",
   "metadata": {},
   "outputs": [],
   "source": [
    "x = 25 "
   ]
  },
  {
   "cell_type": "code",
   "execution_count": null,
   "id": "94dd6ad5",
   "metadata": {},
   "outputs": [],
   "source": [
    "if x >= 21: \n",
    "    s = 'You may enter this bar/nightclub'\n",
    "s "
   ]
  },
  {
   "cell_type": "code",
   "execution_count": null,
   "id": "99ed633f",
   "metadata": {},
   "outputs": [],
   "source": [
    "def age(input_age):\n",
    "    if input_age >= 18:\n",
    "        return 'You can legally vote'\n",
    "    if input_age >= 21:\n",
    "        return 'You can legally drink'"
   ]
  },
  {
   "cell_type": "code",
   "execution_count": null,
   "id": "ce857ee9",
   "metadata": {},
   "outputs": [],
   "source": [
    "age(25)"
   ]
  },
  {
   "cell_type": "code",
   "execution_count": null,
   "id": "ca5893d3",
   "metadata": {},
   "outputs": [],
   "source": [
    "age(20)"
   ]
  },
  {
   "cell_type": "code",
   "execution_count": null,
   "id": "7b8c77fd",
   "metadata": {},
   "outputs": [],
   "source": [
    "age(3)"
   ]
  },
  {
   "cell_type": "markdown",
   "id": "5c395199",
   "metadata": {},
   "source": [
    "awkward.... Let's fix the age function below:"
   ]
  },
  {
   "cell_type": "code",
   "execution_count": null,
   "id": "568e1f7f",
   "metadata": {},
   "outputs": [],
   "source": [
    "def age(input_age):\n",
    "    if input_age >= 21:\n",
    "        return 'You can legally drink'\n",
    "    elif input_age >= 18: #this only gets checked if the 'if' condition above is false\n",
    "        return 'You can legally vote'\n",
    "    else: #only runs if all the if/elif conditions above were false\n",
    "        return 'You can legally drink milk'"
   ]
  },
  {
   "cell_type": "markdown",
   "id": "26079ae4",
   "metadata": {},
   "source": [
    "# Control Statements 'for' a.k.a. the 'for'-loop"
   ]
  },
  {
   "cell_type": "code",
   "execution_count": null,
   "id": "0491f64c",
   "metadata": {},
   "outputs": [],
   "source": [
    "for pet in make_array('cat','dog','rabbit','ferret'):\n",
    "    print('I love my '+ pet)"
   ]
  },
  {
   "cell_type": "code",
   "execution_count": null,
   "id": "3e0c4d0f",
   "metadata": {},
   "outputs": [],
   "source": [
    "for i in np.arange(5):\n",
    "    print(i)"
   ]
  },
  {
   "cell_type": "markdown",
   "id": "fc758e25",
   "metadata": {},
   "source": [
    "#### Exercise:\n",
    "Let's use a for-loop to code for a song that is **extremely** repetitive: \"99 bottles of Beer\"..."
   ]
  },
  {
   "cell_type": "code",
   "execution_count": null,
   "id": "3e5413ae",
   "metadata": {},
   "outputs": [],
   "source": []
  },
  {
   "cell_type": "markdown",
   "id": "2a5b869c",
   "metadata": {},
   "source": [
    "#### Exercise:\n",
    "Consider the following string:"
   ]
  },
  {
   "cell_type": "code",
   "execution_count": null,
   "id": "562bdd3a",
   "metadata": {},
   "outputs": [],
   "source": [
    "STEM_Center_Webpage_string = 'The Skyline College STEM Center brings together academic and student support services for students taking science, technology, engineering and math courses.The center supports student success by ensuring students have access to resources such as academic tutoring, counseling services, a resource depository for STEM pathways and transfer, a hub for internships and work based learning opportunities, as well as a place where students and staff can collaborate and build a community and supportive connection. This STEM Center was brought to campus by a U.S. Department of Education, Title V, Developing Hispanic-Serving Institutions Program “Strengthening Pathways to Success in STEM” grant awarded in 2018.'\n",
    "STEM_Center_Webpage_string"
   ]
  },
  {
   "cell_type": "markdown",
   "id": "fcc8147f",
   "metadata": {},
   "source": [
    "We'll use the `.split()` method to store each word into a list:"
   ]
  },
  {
   "cell_type": "code",
   "execution_count": null,
   "id": "d4fee0b7",
   "metadata": {},
   "outputs": [],
   "source": [
    "STEM_split = STEM_Center_Webpage_string.split()\n",
    "#STEM_split"
   ]
  },
  {
   "cell_type": "markdown",
   "id": "f67adfb3",
   "metadata": {},
   "source": [
    "Now, use a for-loop to check the list to see how many times 'student' is mentioned on the webpage"
   ]
  },
  {
   "cell_type": "code",
   "execution_count": null,
   "id": "8e621cbf",
   "metadata": {},
   "outputs": [],
   "source": []
  },
  {
   "cell_type": "markdown",
   "id": "3105e5b0",
   "metadata": {},
   "source": [
    "# Random Selection\n",
    "\n",
    "## 'np.random.choice' will help us produce arrays that are randomly generated\n",
    "Consider the array of food we could get at the Sky Cafe here on campus: "
   ]
  },
  {
   "cell_type": "code",
   "execution_count": null,
   "id": "61f0c9d7",
   "metadata": {},
   "outputs": [],
   "source": [
    "cafe_lunch_options = make_array('Salad Bar','Chicken Tendies','Quesadilla','Burger','Just hella fries',\n",
    "                                'Daily Special','Sandwich','Cup Noodle')\n",
    "cafe_lunch_options"
   ]
  },
  {
   "cell_type": "markdown",
   "id": "07d74d3b",
   "metadata": {},
   "source": [
    "#### I forgot to bring my lunch from home today, what am I getting? Run the cell below:"
   ]
  },
  {
   "cell_type": "code",
   "execution_count": null,
   "id": "9e02ec05",
   "metadata": {},
   "outputs": [],
   "source": [
    "np.random.choice(cafe_lunch_options)"
   ]
  },
  {
   "cell_type": "markdown",
   "id": "8af614f3",
   "metadata": {},
   "source": [
    "#### Allison also forgot hers. She said, \"I don't know, surprise me.\" What are we each getting?"
   ]
  },
  {
   "cell_type": "code",
   "execution_count": null,
   "id": "35a69235",
   "metadata": {},
   "outputs": [],
   "source": []
  },
  {
   "cell_type": "code",
   "execution_count": null,
   "id": "d8285310",
   "metadata": {},
   "outputs": [],
   "source": []
  },
  {
   "cell_type": "markdown",
   "id": "2c73875a",
   "metadata": {},
   "source": [
    "## Appending items to arrays and other arrays to arrays"
   ]
  },
  {
   "cell_type": "code",
   "execution_count": null,
   "id": "93edb428",
   "metadata": {},
   "outputs": [],
   "source": []
  },
  {
   "cell_type": "code",
   "execution_count": null,
   "id": "89fb488a",
   "metadata": {},
   "outputs": [],
   "source": []
  },
  {
   "cell_type": "markdown",
   "id": "3b2290d7",
   "metadata": {},
   "source": [
    "## 'tbl.sample' will help produce smaller tables that are randomly generated"
   ]
  },
  {
   "cell_type": "code",
   "execution_count": null,
   "id": "aa286c1a",
   "metadata": {},
   "outputs": [],
   "source": []
  },
  {
   "cell_type": "code",
   "execution_count": null,
   "id": "a0c666dd",
   "metadata": {},
   "outputs": [],
   "source": []
  }
 ],
 "metadata": {
  "kernelspec": {
   "display_name": "Python 3 (ipykernel)",
   "language": "python",
   "name": "python3"
  },
  "language_info": {
   "codemirror_mode": {
    "name": "ipython",
    "version": 3
   },
   "file_extension": ".py",
   "mimetype": "text/x-python",
   "name": "python",
   "nbconvert_exporter": "python",
   "pygments_lexer": "ipython3",
   "version": "3.10.11"
  }
 },
 "nbformat": 4,
 "nbformat_minor": 5
}
