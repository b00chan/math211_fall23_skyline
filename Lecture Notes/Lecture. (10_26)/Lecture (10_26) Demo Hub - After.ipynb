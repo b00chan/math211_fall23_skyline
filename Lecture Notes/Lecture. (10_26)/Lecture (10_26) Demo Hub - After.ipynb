{
 "cells": [
  {
   "cell_type": "markdown",
   "id": "8f246f8d",
   "metadata": {},
   "source": [
    "# [Python Reference Link](http://www.data8.org/sp20/python-reference.html)\n",
    "*Run the cell below so that we can set our modules up*"
   ]
  },
  {
   "cell_type": "code",
   "execution_count": 3,
   "id": "b2ff526c",
   "metadata": {},
   "outputs": [],
   "source": [
    "import numpy as np\n",
    "from datascience import *\n",
    "from IPython.display import YouTubeVideo\n",
    "\n",
    "# These lines do some fancy plotting magic.\n",
    "import matplotlib\n",
    "%matplotlib inline\n",
    "import matplotlib.pyplot as plt\n",
    "plt.style.use('fivethirtyeight')\n",
    "import warnings\n",
    "warnings.simplefilter('ignore', FutureWarning)"
   ]
  },
  {
   "cell_type": "markdown",
   "id": "41698929",
   "metadata": {},
   "source": [
    "## Hypothesis Test Simulation: Smelling Parkinson's (Vaccinations Across the Nation)"
   ]
  },
  {
   "cell_type": "code",
   "execution_count": 4,
   "id": "27024a43",
   "metadata": {},
   "outputs": [],
   "source": [
    "yes_no_random_guess = make_array(0.50,0.50)"
   ]
  },
  {
   "cell_type": "code",
   "execution_count": 5,
   "id": "531bb582",
   "metadata": {},
   "outputs": [],
   "source": [
    "observed_parkinson = 11"
   ]
  },
  {
   "cell_type": "code",
   "execution_count": 6,
   "id": "0f7f3c0a",
   "metadata": {},
   "outputs": [
    {
     "data": {
      "text/plain": [
       "7.0"
      ]
     },
     "execution_count": 6,
     "metadata": {},
     "output_type": "execute_result"
    }
   ],
   "source": [
    "#running one simulation of the experiment below \n",
    "12*sample_proportions(12,yes_no_random_guess).item(0)"
   ]
  },
  {
   "cell_type": "code",
   "execution_count": 7,
   "id": "a0e24d62",
   "metadata": {},
   "outputs": [],
   "source": [
    "num_simulations = 10000"
   ]
  },
  {
   "cell_type": "code",
   "execution_count": 8,
   "id": "6cf7dbff",
   "metadata": {},
   "outputs": [],
   "source": [
    "simulated_statistics = make_array()\n",
    "\n",
    "for i in np.arange(num_simulations):\n",
    "    one_statistic = 12*sample_proportions(12,yes_no_random_guess).item(0)\n",
    "    simulated_statistics = np.append(simulated_statistics, one_statistic)"
   ]
  },
  {
   "cell_type": "code",
   "execution_count": 9,
   "id": "593a176d",
   "metadata": {},
   "outputs": [
    {
     "data": {
      "text/plain": [
       "array([ 4.,  7.,  6., ...,  8.,  4.,  5.])"
      ]
     },
     "execution_count": 9,
     "metadata": {},
     "output_type": "execute_result"
    }
   ],
   "source": [
    "simulated_statistics"
   ]
  },
  {
   "cell_type": "code",
   "execution_count": 10,
   "id": "86351629",
   "metadata": {},
   "outputs": [
    {
     "data": {
      "image/png": "[encoded data removed]",
      "text/plain": [
       "<Figure size 600x400 with 1 Axes>"
      ]
     },
     "metadata": {},
     "output_type": "display_data"
    }
   ],
   "source": [
    "Table().with_columns('Simulated Statistic', simulated_statistics).hist()\n",
    "plt.scatter(observed_parkinson, -0.002, color='red', s=40);"
   ]
  },
  {
   "cell_type": "code",
   "execution_count": 11,
   "id": "64fcbe9f",
   "metadata": {},
   "outputs": [
    {
     "data": {
      "text/plain": [
       "0.0026"
      ]
     },
     "execution_count": 11,
     "metadata": {},
     "output_type": "execute_result"
    }
   ],
   "source": [
    "p_value = np.count_nonzero(simulated_statistics >= observed_parkinson) / num_simulations \n",
    "p_value"
   ]
  },
  {
   "cell_type": "markdown",
   "id": "aa6b6032",
   "metadata": {},
   "source": [
    "## Let's look back at our coin flips"
   ]
  },
  {
   "cell_type": "code",
   "execution_count": 12,
   "id": "9c3fce7d",
   "metadata": {},
   "outputs": [
    {
     "data": {
      "text/html": [
       "<table border=\"1\" class=\"dataframe\">\n",
       "    <thead>\n",
       "        <tr>\n",
       "            <th>Coin Flip</th>\n",
       "        </tr>\n",
       "    </thead>\n",
       "    <tbody>\n",
       "        <tr>\n",
       "            <td>H        </td>\n",
       "        </tr>\n",
       "        <tr>\n",
       "            <td>H        </td>\n",
       "        </tr>\n",
       "        <tr>\n",
       "            <td>T        </td>\n",
       "        </tr>\n",
       "        <tr>\n",
       "            <td>T        </td>\n",
       "        </tr>\n",
       "        <tr>\n",
       "            <td>H        </td>\n",
       "        </tr>\n",
       "        <tr>\n",
       "            <td>T        </td>\n",
       "        </tr>\n",
       "        <tr>\n",
       "            <td>T        </td>\n",
       "        </tr>\n",
       "        <tr>\n",
       "            <td>H        </td>\n",
       "        </tr>\n",
       "        <tr>\n",
       "            <td>H        </td>\n",
       "        </tr>\n",
       "        <tr>\n",
       "            <td>T        </td>\n",
       "        </tr>\n",
       "    </tbody>\n",
       "</table>\n",
       "<p>... (991 rows omitted)</p>"
      ],
      "text/plain": [
       "Coin Flip\n",
       "H\n",
       "H\n",
       "T\n",
       "T\n",
       "H\n",
       "T\n",
       "T\n",
       "H\n",
       "H\n",
       "T\n",
       "... (991 rows omitted)"
      ]
     },
     "execution_count": 12,
     "metadata": {},
     "output_type": "execute_result"
    }
   ],
   "source": [
    "coin_flips = Table().read_table('Coin_Flips.csv')\n",
    "coin_flips"
   ]
  },
  {
   "cell_type": "code",
   "execution_count": 13,
   "id": "7f124756",
   "metadata": {},
   "outputs": [
    {
     "data": {
      "text/plain": [
       "array(['T', 'H', 'H', 'H', 'T'],\n",
       "      dtype='<U32')"
      ]
     },
     "execution_count": 13,
     "metadata": {},
     "output_type": "execute_result"
    }
   ],
   "source": [
    "physically_simulated = make_array()\n",
    "twelve_flips = make_array()\n",
    "\n",
    "for i in np.arange(coin_flips.num_rows):\n",
    "    flip_result = coin_flips.row(i).item('Coin Flip')\n",
    "    twelve_flips = np.append(twelve_flips, flip_result)\n",
    "    if len(twelve_flips)==12:\n",
    "        num_heads_in_twelve = np.count_nonzero(twelve_flips == 'H')\n",
    "        physically_simulated = np.append(physically_simulated,num_heads_in_twelve)\n",
    "        #print(twelve_flips)\n",
    "        twelve_flips = make_array()\n",
    "twelve_flips"
   ]
  },
  {
   "cell_type": "code",
   "execution_count": 14,
   "id": "890bd959",
   "metadata": {},
   "outputs": [
    {
     "data": {
      "image/png": "[encoded data removed]",
      "text/plain": [
       "<Figure size 600x400 with 1 Axes>"
      ]
     },
     "metadata": {},
     "output_type": "display_data"
    }
   ],
   "source": [
    "Table().with_columns('Physically Simulated Statistic', physically_simulated).hist()\n",
    "plt.scatter(observed_parkinson, -0.002, color='red', s=40);"
   ]
  },
  {
   "cell_type": "markdown",
   "id": "f743ad86",
   "metadata": {},
   "source": [
    "## Hypothesis Test Simulation: Comparing Distributions (Using TVD as a Test Statistic)\n",
    "\n",
    "We are re-visitng the 'Swain v. Alabama' Supreme Court Case by investigating Jury representation a bit more locally. Consider the following study conducted by the American Civil Liberties Union of Northern California on [Jury representataion in Alameda County](https://www.aclunc.org/sites/default/files/racial_and_ethnic_disparities_in_alameda_county_jury_pools.pdf)"
   ]
  },
  {
   "cell_type": "code",
   "execution_count": 15,
   "id": "112e5b59",
   "metadata": {},
   "outputs": [
    {
     "data": {
      "text/html": [
       "<table border=\"1\" class=\"dataframe\">\n",
       "    <thead>\n",
       "        <tr>\n",
       "            <th>Ethnicity</th> <th>Eligible</th> <th>Panel </th>\n",
       "        </tr>\n",
       "    </thead>\n",
       "    <tbody>\n",
       "        <tr>\n",
       "            <td>Asian / PI </td> <td>0.15    </td> <td>0.26  </td>\n",
       "        </tr>\n",
       "        <tr>\n",
       "            <td>Black / AA </td> <td>0.18    </td> <td>0.08  </td>\n",
       "        </tr>\n",
       "        <tr>\n",
       "            <td>Caucasian  </td> <td>0.54    </td> <td>0.54  </td>\n",
       "        </tr>\n",
       "        <tr>\n",
       "            <td>Hispanic   </td> <td>0.12    </td> <td>0.08  </td>\n",
       "        </tr>\n",
       "        <tr>\n",
       "            <td>Other      </td> <td>0.01    </td> <td>0.04  </td>\n",
       "        </tr>\n",
       "    </tbody>\n",
       "</table>"
      ],
      "text/plain": [
       "Ethnicity   | Eligible | Panel\n",
       "Asian / PI  | 0.15     | 0.26\n",
       "Black / AA  | 0.18     | 0.08\n",
       "Caucasian   | 0.54     | 0.54\n",
       "Hispanic    | 0.12     | 0.08\n",
       "Other       | 0.01     | 0.04"
      ]
     },
     "execution_count": 15,
     "metadata": {},
     "output_type": "execute_result"
    }
   ],
   "source": [
    "jury = Table().read_table('Jury_Alameda.csv')\n",
    "jury"
   ]
  },
  {
   "cell_type": "code",
   "execution_count": 34,
   "id": "35cab78d",
   "metadata": {},
   "outputs": [],
   "source": [
    "def total_variation_distance(distribution1, distribution2):\n",
    "    return sum(np.abs(distribution1 - distribution2))/2"
   ]
  },
  {
   "cell_type": "code",
   "execution_count": 35,
   "id": "997a7a85",
   "metadata": {},
   "outputs": [
    {
     "data": {
      "text/plain": [
       "array([ 0.26,  0.08,  0.54,  0.08,  0.04])"
      ]
     },
     "execution_count": 35,
     "metadata": {},
     "output_type": "execute_result"
    }
   ],
   "source": [
    "jury.column('Panel ')"
   ]
  },
  {
   "cell_type": "code",
   "execution_count": 38,
   "id": "37015f4d",
   "metadata": {},
   "outputs": [
    {
     "data": {
      "text/plain": [
       "0.14000000000000001"
      ]
     },
     "execution_count": 38,
     "metadata": {},
     "output_type": "execute_result"
    }
   ],
   "source": [
    "observed_tvd = total_variation_distance(jury.column('Eligible'),jury.column('Panel '))\n",
    "observed_tvd"
   ]
  },
  {
   "cell_type": "code",
   "execution_count": 39,
   "id": "13d7756e",
   "metadata": {},
   "outputs": [
    {
     "data": {
      "text/plain": [
       "array([ 0.162,  0.18 ,  0.542,  0.102,  0.014])"
      ]
     },
     "execution_count": 39,
     "metadata": {},
     "output_type": "execute_result"
    }
   ],
   "source": [
    "sample_proportions( 500, jury.column('Eligible'))"
   ]
  },
  {
   "cell_type": "code",
   "execution_count": 40,
   "id": "b7a8e523",
   "metadata": {},
   "outputs": [
    {
     "data": {
      "text/plain": [
       "0.016000000000000014"
      ]
     },
     "execution_count": 40,
     "metadata": {},
     "output_type": "execute_result"
    }
   ],
   "source": [
    "#for one simulation\n",
    "simulated_tvd = total_variation_distance(sample_proportions( 500, jury.column('Eligible')),jury.column('Eligible'))\n",
    "simulated_tvd"
   ]
  },
  {
   "cell_type": "code",
   "execution_count": 41,
   "id": "dd1b396c",
   "metadata": {},
   "outputs": [
    {
     "data": {
      "text/plain": [
       "array([ 0.018,  0.022,  0.024, ...,  0.038,  0.066,  0.032])"
      ]
     },
     "execution_count": 41,
     "metadata": {},
     "output_type": "execute_result"
    }
   ],
   "source": [
    "simulated_tvds = make_array()\n",
    "\n",
    "for i in np.arange(10000):\n",
    "    sim_jury = sample_proportions( 500, jury.column('Eligible'))\n",
    "    sim_tvd = total_variation_distance(sim_jury,jury.column('Eligible'))\n",
    "    simulated_tvds = np.append(simulated_tvds,sim_tvd)\n",
    "\n",
    "simulated_tvds"
   ]
  },
  {
   "cell_type": "code",
   "execution_count": 42,
   "id": "7acda711",
   "metadata": {},
   "outputs": [
    {
     "data": {
      "image/png": "[encoded data removed]",
      "text/plain": [
       "<Figure size 600x400 with 1 Axes>"
      ]
     },
     "metadata": {},
     "output_type": "display_data"
    }
   ],
   "source": [
    "Table().with_column(\"Simulated TVDs\", simulated_tvds).hist()\n",
    "plt.scatter(observed_tvd, 0, color='red', s=70, zorder=2);\n",
    "plt.show();"
   ]
  },
  {
   "cell_type": "code",
   "execution_count": 43,
   "id": "38bfa7c6",
   "metadata": {},
   "outputs": [
    {
     "data": {
      "text/plain": [
       "0.0"
      ]
     },
     "execution_count": 43,
     "metadata": {},
     "output_type": "execute_result"
    }
   ],
   "source": [
    "p_value_tvd = np.count_nonzero(simulated_tvds >= observed_tvd) / len(simulated_tvds) \n",
    "p_value_tvd"
   ]
  },
  {
   "cell_type": "markdown",
   "id": "53354e02",
   "metadata": {},
   "source": [
    "## Hypothesis Test Simulation: NBA rigged? (Who is Older? a.k.a. A/B Testing)"
   ]
  },
  {
   "cell_type": "code",
   "execution_count": 24,
   "id": "c25dc441",
   "metadata": {},
   "outputs": [
    {
     "data": {
      "image/jpeg": "[encoded data removed]",
      "text/html": [
       "\n",
       "        <iframe\n",
       "            width=\"400\"\n",
       "            height=\"300\"\n",
       "            src=\"https://www.youtube.com/embed/NU_QFMJD3z0\"\n",
       "            frameborder=\"0\"\n",
       "            allowfullscreen\n",
       "            \n",
       "        ></iframe>\n",
       "        "
      ],
      "text/plain": [
       "<IPython.lib.display.YouTubeVideo at 0x7fb4b861d030>"
      ]
     },
     "execution_count": 24,
     "metadata": {},
     "output_type": "execute_result"
    }
   ],
   "source": [
    "laker_fta = Table().read_table('LAL_2002_FTA_Table.csv')\n",
    "#Claim starts around 3:05\n",
    "YouTubeVideo(\"NU_QFMJD3z0\")"
   ]
  },
  {
   "cell_type": "code",
   "execution_count": 25,
   "id": "d2f4e3f4",
   "metadata": {},
   "outputs": [
    {
     "data": {
      "text/html": [
       "<table border=\"1\" class=\"dataframe\">\n",
       "    <thead>\n",
       "        <tr>\n",
       "            <th>Opponent</th> <th>Date</th> <th>LAL FTA</th> <th>Opp FTA</th> <th>FTA Diff</th>\n",
       "        </tr>\n",
       "    </thead>\n",
       "    <tbody>\n",
       "        <tr>\n",
       "            <td>NJN     </td> <td>6/12/2002</td> <td>10     </td> <td>5      </td> <td>5       </td>\n",
       "        </tr>\n",
       "        <tr>\n",
       "            <td>NJN     </td> <td>6/9/2002 </td> <td>14     </td> <td>3      </td> <td>11      </td>\n",
       "        </tr>\n",
       "        <tr>\n",
       "            <td>NJN     </td> <td>6/7/2002 </td> <td>6      </td> <td>5      </td> <td>1       </td>\n",
       "        </tr>\n",
       "        <tr>\n",
       "            <td>NJN     </td> <td>6/5/2002 </td> <td>25     </td> <td>10     </td> <td>15      </td>\n",
       "        </tr>\n",
       "        <tr>\n",
       "            <td>SAC     </td> <td>6/2/2002 </td> <td>11     </td> <td>9      </td> <td>2       </td>\n",
       "        </tr>\n",
       "        <tr>\n",
       "            <td>SAC     </td> <td>5/31/2002</td> <td>27     </td> <td>9      </td> <td>18      </td>\n",
       "        </tr>\n",
       "        <tr>\n",
       "            <td>SAC     </td> <td>5/28/2002</td> <td>6      </td> <td>10     </td> <td>-4      </td>\n",
       "        </tr>\n",
       "        <tr>\n",
       "            <td>SAC     </td> <td>5/26/2002</td> <td>8      </td> <td>2      </td> <td>6       </td>\n",
       "        </tr>\n",
       "        <tr>\n",
       "            <td>SAC     </td> <td>5/24/2002</td> <td>8      </td> <td>16     </td> <td>-8      </td>\n",
       "        </tr>\n",
       "        <tr>\n",
       "            <td>SAC     </td> <td>5/20/2002</td> <td>16     </td> <td>10     </td> <td>6       </td>\n",
       "        </tr>\n",
       "        <tr>\n",
       "            <td>SAC     </td> <td>5/18/2002</td> <td>14     </td> <td>6      </td> <td>8       </td>\n",
       "        </tr>\n",
       "        <tr>\n",
       "            <td>SAS     </td> <td>5/14/2002</td> <td>6      </td> <td>9      </td> <td>-3      </td>\n",
       "        </tr>\n",
       "        <tr>\n",
       "            <td>SAS     </td> <td>5/12/2002</td> <td>12     </td> <td>6      </td> <td>6       </td>\n",
       "        </tr>\n",
       "        <tr>\n",
       "            <td>SAS     </td> <td>5/10/2002</td> <td>10     </td> <td>3      </td> <td>7       </td>\n",
       "        </tr>\n",
       "        <tr>\n",
       "            <td>SAS     </td> <td>5/7/2002 </td> <td>8      </td> <td>7      </td> <td>1       </td>\n",
       "        </tr>\n",
       "        <tr>\n",
       "            <td>SAS     </td> <td>5/5/2002 </td> <td>12     </td> <td>4      </td> <td>8       </td>\n",
       "        </tr>\n",
       "        <tr>\n",
       "            <td>POR     </td> <td>4/28/2002</td> <td>4      </td> <td>13     </td> <td>-9      </td>\n",
       "        </tr>\n",
       "        <tr>\n",
       "            <td>POR     </td> <td>4/25/2002</td> <td>12     </td> <td>7      </td> <td>5       </td>\n",
       "        </tr>\n",
       "        <tr>\n",
       "            <td>POR     </td> <td>4/21/2002</td> <td>9      </td> <td>10     </td> <td>-1      </td>\n",
       "        </tr>\n",
       "    </tbody>\n",
       "</table>"
      ],
      "text/plain": [
       "<IPython.core.display.HTML object>"
      ]
     },
     "metadata": {},
     "output_type": "display_data"
    }
   ],
   "source": [
    "laker_fta.show()"
   ]
  },
  {
   "cell_type": "code",
   "execution_count": 26,
   "id": "8f9252a7",
   "metadata": {},
   "outputs": [
    {
     "data": {
      "text/html": [
       "<table border=\"1\" class=\"dataframe\">\n",
       "    <thead>\n",
       "        <tr>\n",
       "            <th>Opponent</th> <th>Date</th> <th>LAL FTA</th> <th>Opp FTA</th> <th>FTA Diff</th> <th>A/B Opp</th>\n",
       "        </tr>\n",
       "    </thead>\n",
       "    <tbody>\n",
       "        <tr>\n",
       "            <td>NJN     </td> <td>6/12/2002</td> <td>10     </td> <td>5      </td> <td>5       </td> <td>Not SAC</td>\n",
       "        </tr>\n",
       "        <tr>\n",
       "            <td>NJN     </td> <td>6/9/2002 </td> <td>14     </td> <td>3      </td> <td>11      </td> <td>Not SAC</td>\n",
       "        </tr>\n",
       "        <tr>\n",
       "            <td>NJN     </td> <td>6/7/2002 </td> <td>6      </td> <td>5      </td> <td>1       </td> <td>Not SAC</td>\n",
       "        </tr>\n",
       "        <tr>\n",
       "            <td>NJN     </td> <td>6/5/2002 </td> <td>25     </td> <td>10     </td> <td>15      </td> <td>Not SAC</td>\n",
       "        </tr>\n",
       "        <tr>\n",
       "            <td>SAC     </td> <td>6/2/2002 </td> <td>11     </td> <td>9      </td> <td>2       </td> <td>SAC    </td>\n",
       "        </tr>\n",
       "        <tr>\n",
       "            <td>SAC     </td> <td>5/31/2002</td> <td>27     </td> <td>9      </td> <td>18      </td> <td>SAC    </td>\n",
       "        </tr>\n",
       "        <tr>\n",
       "            <td>SAC     </td> <td>5/28/2002</td> <td>6      </td> <td>10     </td> <td>-4      </td> <td>SAC    </td>\n",
       "        </tr>\n",
       "        <tr>\n",
       "            <td>SAC     </td> <td>5/26/2002</td> <td>8      </td> <td>2      </td> <td>6       </td> <td>SAC    </td>\n",
       "        </tr>\n",
       "        <tr>\n",
       "            <td>SAC     </td> <td>5/24/2002</td> <td>8      </td> <td>16     </td> <td>-8      </td> <td>SAC    </td>\n",
       "        </tr>\n",
       "        <tr>\n",
       "            <td>SAC     </td> <td>5/20/2002</td> <td>16     </td> <td>10     </td> <td>6       </td> <td>SAC    </td>\n",
       "        </tr>\n",
       "    </tbody>\n",
       "</table>\n",
       "<p>... (9 rows omitted)</p>"
      ],
      "text/plain": [
       "Opponent | Date      | LAL FTA | Opp FTA | FTA Diff | A/B Opp\n",
       "NJN      | 6/12/2002 | 10      | 5       | 5        | Not SAC\n",
       "NJN      | 6/9/2002  | 14      | 3       | 11       | Not SAC\n",
       "NJN      | 6/7/2002  | 6       | 5       | 1        | Not SAC\n",
       "NJN      | 6/5/2002  | 25      | 10      | 15       | Not SAC\n",
       "SAC      | 6/2/2002  | 11      | 9       | 2        | SAC\n",
       "SAC      | 5/31/2002 | 27      | 9       | 18       | SAC\n",
       "SAC      | 5/28/2002 | 6       | 10      | -4       | SAC\n",
       "SAC      | 5/26/2002 | 8       | 2       | 6        | SAC\n",
       "SAC      | 5/24/2002 | 8       | 16      | -8       | SAC\n",
       "SAC      | 5/20/2002 | 16      | 10      | 6        | SAC\n",
       "... (9 rows omitted)"
      ]
     },
     "execution_count": 26,
     "metadata": {},
     "output_type": "execute_result"
    }
   ],
   "source": [
    "def sac_or_notsac(opponent):\n",
    "    if opponent == 'SAC':\n",
    "        return opponent\n",
    "    else:\n",
    "        return 'Not SAC'\n",
    "laker_fta = laker_fta.with_column('A/B Opp', laker_fta.apply(sac_or_notsac,'Opponent'))\n",
    "laker_fta"
   ]
  },
  {
   "cell_type": "code",
   "execution_count": 27,
   "id": "f413d0da",
   "metadata": {},
   "outputs": [],
   "source": [
    "observed_diff_ab = 18"
   ]
  },
  {
   "cell_type": "code",
   "execution_count": 28,
   "id": "5cdcbb0e",
   "metadata": {},
   "outputs": [
    {
     "data": {
      "text/html": [
       "<table border=\"1\" class=\"dataframe\">\n",
       "    <thead>\n",
       "        <tr>\n",
       "            <th>Opponent</th> <th>Date</th> <th>LAL FTA</th> <th>Opp FTA</th> <th>FTA Diff</th> <th>A/B Opp</th> <th>Shuffled Opp</th>\n",
       "        </tr>\n",
       "    </thead>\n",
       "    <tbody>\n",
       "        <tr>\n",
       "            <td>NJN     </td> <td>6/12/2002</td> <td>10     </td> <td>5      </td> <td>5       </td> <td>Not SAC</td> <td>Not SAC     </td>\n",
       "        </tr>\n",
       "        <tr>\n",
       "            <td>NJN     </td> <td>6/9/2002 </td> <td>14     </td> <td>3      </td> <td>11      </td> <td>Not SAC</td> <td>SAC         </td>\n",
       "        </tr>\n",
       "        <tr>\n",
       "            <td>NJN     </td> <td>6/7/2002 </td> <td>6      </td> <td>5      </td> <td>1       </td> <td>Not SAC</td> <td>Not SAC     </td>\n",
       "        </tr>\n",
       "        <tr>\n",
       "            <td>NJN     </td> <td>6/5/2002 </td> <td>25     </td> <td>10     </td> <td>15      </td> <td>Not SAC</td> <td>SAC         </td>\n",
       "        </tr>\n",
       "        <tr>\n",
       "            <td>SAC     </td> <td>6/2/2002 </td> <td>11     </td> <td>9      </td> <td>2       </td> <td>SAC    </td> <td>Not SAC     </td>\n",
       "        </tr>\n",
       "        <tr>\n",
       "            <td>SAC     </td> <td>5/31/2002</td> <td>27     </td> <td>9      </td> <td>18      </td> <td>SAC    </td> <td>SAC         </td>\n",
       "        </tr>\n",
       "        <tr>\n",
       "            <td>SAC     </td> <td>5/28/2002</td> <td>6      </td> <td>10     </td> <td>-4      </td> <td>SAC    </td> <td>Not SAC     </td>\n",
       "        </tr>\n",
       "        <tr>\n",
       "            <td>SAC     </td> <td>5/26/2002</td> <td>8      </td> <td>2      </td> <td>6       </td> <td>SAC    </td> <td>SAC         </td>\n",
       "        </tr>\n",
       "        <tr>\n",
       "            <td>SAC     </td> <td>5/24/2002</td> <td>8      </td> <td>16     </td> <td>-8      </td> <td>SAC    </td> <td>SAC         </td>\n",
       "        </tr>\n",
       "        <tr>\n",
       "            <td>SAC     </td> <td>5/20/2002</td> <td>16     </td> <td>10     </td> <td>6       </td> <td>SAC    </td> <td>Not SAC     </td>\n",
       "        </tr>\n",
       "    </tbody>\n",
       "</table>\n",
       "<p>... (9 rows omitted)</p>"
      ],
      "text/plain": [
       "Opponent | Date      | LAL FTA | Opp FTA | FTA Diff | A/B Opp | Shuffled Opp\n",
       "NJN      | 6/12/2002 | 10      | 5       | 5        | Not SAC | Not SAC\n",
       "NJN      | 6/9/2002  | 14      | 3       | 11       | Not SAC | SAC\n",
       "NJN      | 6/7/2002  | 6       | 5       | 1        | Not SAC | Not SAC\n",
       "NJN      | 6/5/2002  | 25      | 10      | 15       | Not SAC | SAC\n",
       "SAC      | 6/2/2002  | 11      | 9       | 2        | SAC     | Not SAC\n",
       "SAC      | 5/31/2002 | 27      | 9       | 18       | SAC     | SAC\n",
       "SAC      | 5/28/2002 | 6       | 10      | -4       | SAC     | Not SAC\n",
       "SAC      | 5/26/2002 | 8       | 2       | 6        | SAC     | SAC\n",
       "SAC      | 5/24/2002 | 8       | 16      | -8       | SAC     | SAC\n",
       "SAC      | 5/20/2002 | 16      | 10      | 6        | SAC     | Not SAC\n",
       "... (9 rows omitted)"
      ]
     },
     "execution_count": 28,
     "metadata": {},
     "output_type": "execute_result"
    }
   ],
   "source": [
    "shuffled_labels = laker_fta.sample(laker_fta.num_rows,with_replacement=False).column('A/B Opp')\n",
    "laker_fta_shuffled = laker_fta.with_column('Shuffled Opp',shuffled_labels)\n",
    "laker_fta_shuffled"
   ]
  },
  {
   "cell_type": "code",
   "execution_count": 29,
   "id": "2db72624",
   "metadata": {},
   "outputs": [
    {
     "data": {
      "text/html": [
       "<table border=\"1\" class=\"dataframe\">\n",
       "    <thead>\n",
       "        <tr>\n",
       "            <th>Shuffled Opp</th> <th>FTA Diff average</th>\n",
       "        </tr>\n",
       "    </thead>\n",
       "    <tbody>\n",
       "        <tr>\n",
       "            <td>Not SAC     </td> <td>3.66667         </td>\n",
       "        </tr>\n",
       "        <tr>\n",
       "            <td>SAC         </td> <td>4.28571         </td>\n",
       "        </tr>\n",
       "    </tbody>\n",
       "</table>"
      ],
      "text/plain": [
       "Shuffled Opp | FTA Diff average\n",
       "Not SAC      | 3.66667\n",
       "SAC          | 4.28571"
      ]
     },
     "execution_count": 29,
     "metadata": {},
     "output_type": "execute_result"
    }
   ],
   "source": [
    "fta_group = laker_fta_shuffled.group('Shuffled Opp',np.average).select('Shuffled Opp','FTA Diff average')\n",
    "fta_group"
   ]
  },
  {
   "cell_type": "code",
   "execution_count": 30,
   "id": "701ee502",
   "metadata": {},
   "outputs": [
    {
     "data": {
      "text/plain": [
       "0.6190476190476191"
      ]
     },
     "execution_count": 30,
     "metadata": {},
     "output_type": "execute_result"
    }
   ],
   "source": [
    "fta_group.column('FTA Diff average').item(1) - fta_group.column('FTA Diff average').item(0)"
   ]
  },
  {
   "cell_type": "code",
   "execution_count": 31,
   "id": "c5e8b2f3",
   "metadata": {},
   "outputs": [
    {
     "data": {
      "text/plain": [
       "array([ 3.10714286, -1.86904762, -1.86904762, ..., -4.35714286,\n",
       "        0.8452381 , -2.77380952])"
      ]
     },
     "execution_count": 31,
     "metadata": {},
     "output_type": "execute_result"
    }
   ],
   "source": [
    "simulated_statistics_ab = make_array()\n",
    "\n",
    "repetitions = 10000\n",
    "\n",
    "for i in np.arange(repetitions):\n",
    "    shuffled_labels = laker_fta.sample(laker_fta.num_rows,with_replacement=False).column('A/B Opp')\n",
    "    laker_fta_shuffled = laker_fta.with_column('Shuffled Opp',shuffled_labels)\n",
    "    fta_group = laker_fta_shuffled.group('Shuffled Opp',np.average).select('Shuffled Opp','FTA Diff average')\n",
    "    simulated_stat = fta_group.column('FTA Diff average').item(1) - fta_group.column('FTA Diff average').item(0)\n",
    "    simulated_statistics_ab = np.append(simulated_statistics_ab,simulated_stat)\n",
    "    \n",
    "simulated_statistics_ab"
   ]
  },
  {
   "cell_type": "code",
   "execution_count": 32,
   "id": "3fa11742",
   "metadata": {},
   "outputs": [
    {
     "data": {
      "image/png": "[encoded data removed]",
      "text/plain": [
       "<Figure size 600x400 with 1 Axes>"
      ]
     },
     "metadata": {},
     "output_type": "display_data"
    }
   ],
   "source": [
    "Table().with_columns('Simulated Statistic', simulated_statistics_ab).hist()\n",
    "plt.scatter(observed_diff_ab, -0.002, color='red', s=70);"
   ]
  },
  {
   "cell_type": "code",
   "execution_count": 33,
   "id": "4387ece7",
   "metadata": {},
   "outputs": [
    {
     "data": {
      "text/plain": [
       "0.0"
      ]
     },
     "execution_count": 33,
     "metadata": {},
     "output_type": "execute_result"
    }
   ],
   "source": [
    "p_val = np.count_nonzero(simulated_statistics_ab >= observed_diff_ab) / repetitions\n",
    "p_val"
   ]
  },
  {
   "cell_type": "code",
   "execution_count": null,
   "id": "ce4b1f3f",
   "metadata": {},
   "outputs": [],
   "source": []
  }
 ],
 "metadata": {
  "kernelspec": {
   "display_name": "Python 3 (ipykernel)",
   "language": "python",
   "name": "python3"
  },
  "language_info": {
   "codemirror_mode": {
    "name": "ipython",
    "version": 3
   },
   "file_extension": ".py",
   "mimetype": "text/x-python",
   "name": "python",
   "nbconvert_exporter": "python",
   "pygments_lexer": "ipython3",
   "version": "3.10.11"
  }
 },
 "nbformat": 4,
 "nbformat_minor": 5
}
