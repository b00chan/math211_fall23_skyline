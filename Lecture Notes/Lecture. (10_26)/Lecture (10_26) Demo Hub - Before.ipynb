{
 "cells": [
  {
   "cell_type": "markdown",
   "id": "8f246f8d",
   "metadata": {},
   "source": [
    "# [Python Reference Link](http://www.data8.org/sp20/python-reference.html)\n",
    "*Run the cell below so that we can set our modules up*"
   ]
  },
  {
   "cell_type": "code",
   "execution_count": 9,
   "id": "b2ff526c",
   "metadata": {},
   "outputs": [],
   "source": [
    "import numpy as np\n",
    "from datascience import *\n",
    "from IPython.display import YouTubeVideo\n",
    "\n",
    "# These lines do some fancy plotting magic.\n",
    "import matplotlib\n",
    "%matplotlib inline\n",
    "import matplotlib.pyplot as plt\n",
    "plt.style.use('fivethirtyeight')\n",
    "import warnings\n",
    "warnings.simplefilter('ignore', FutureWarning)"
   ]
  },
  {
   "cell_type": "markdown",
   "id": "41698929",
   "metadata": {},
   "source": [
    "## Hypothesis Test Simulation: Smelling Parkinson's (Vaccinations Across the Nation)"
   ]
  },
  {
   "cell_type": "code",
   "execution_count": null,
   "id": "27024a43",
   "metadata": {},
   "outputs": [],
   "source": [
    "yes_no_random_guess = make_array(0.50,0.50)"
   ]
  },
  {
   "cell_type": "code",
   "execution_count": 18,
   "id": "531bb582",
   "metadata": {},
   "outputs": [],
   "source": [
    "observed_parkinson = ..."
   ]
  },
  {
   "cell_type": "code",
   "execution_count": null,
   "id": "2a811efe",
   "metadata": {},
   "outputs": [],
   "source": [
    "#running one simulation of the experiment below \n"
   ]
  },
  {
   "cell_type": "code",
   "execution_count": null,
   "id": "a0e24d62",
   "metadata": {},
   "outputs": [],
   "source": [
    "num_simulations = ..."
   ]
  },
  {
   "cell_type": "code",
   "execution_count": null,
   "id": "6cf7dbff",
   "metadata": {},
   "outputs": [],
   "source": []
  },
  {
   "cell_type": "code",
   "execution_count": null,
   "id": "593a176d",
   "metadata": {},
   "outputs": [],
   "source": []
  },
  {
   "cell_type": "code",
   "execution_count": null,
   "id": "86351629",
   "metadata": {},
   "outputs": [],
   "source": [
    "Table().with_columns('Simulated Statistic', simulated_statistics).hist()\n",
    "plt.scatter(observed_parkinson, -0.002, color='red', s=40);"
   ]
  },
  {
   "cell_type": "code",
   "execution_count": null,
   "id": "64fcbe9f",
   "metadata": {},
   "outputs": [],
   "source": [
    "p_value = np.count_nonzero(simulated_statistics >= observed_parkinson) / num_simulations \n",
    "p_value"
   ]
  },
  {
   "cell_type": "markdown",
   "id": "aa6b6032",
   "metadata": {},
   "source": [
    "## Let's look back at our coin flips"
   ]
  },
  {
   "cell_type": "code",
   "execution_count": 11,
   "id": "9c3fce7d",
   "metadata": {},
   "outputs": [
    {
     "data": {
      "text/html": [
       "<table border=\"1\" class=\"dataframe\">\n",
       "    <thead>\n",
       "        <tr>\n",
       "            <th>Coin Flip</th>\n",
       "        </tr>\n",
       "    </thead>\n",
       "    <tbody>\n",
       "        <tr>\n",
       "            <td>H        </td>\n",
       "        </tr>\n",
       "        <tr>\n",
       "            <td>H        </td>\n",
       "        </tr>\n",
       "        <tr>\n",
       "            <td>T        </td>\n",
       "        </tr>\n",
       "        <tr>\n",
       "            <td>T        </td>\n",
       "        </tr>\n",
       "        <tr>\n",
       "            <td>H        </td>\n",
       "        </tr>\n",
       "        <tr>\n",
       "            <td>T        </td>\n",
       "        </tr>\n",
       "        <tr>\n",
       "            <td>T        </td>\n",
       "        </tr>\n",
       "        <tr>\n",
       "            <td>H        </td>\n",
       "        </tr>\n",
       "        <tr>\n",
       "            <td>H        </td>\n",
       "        </tr>\n",
       "        <tr>\n",
       "            <td>T        </td>\n",
       "        </tr>\n",
       "    </tbody>\n",
       "</table>\n",
       "<p>... (991 rows omitted)</p>"
      ],
      "text/plain": [
       "Coin Flip\n",
       "H\n",
       "H\n",
       "T\n",
       "T\n",
       "H\n",
       "T\n",
       "T\n",
       "H\n",
       "H\n",
       "T\n",
       "... (991 rows omitted)"
      ]
     },
     "execution_count": 11,
     "metadata": {},
     "output_type": "execute_result"
    }
   ],
   "source": [
    "coin_flips = Table().read_table('Coin_Flips.csv')\n",
    "coin_flips"
   ]
  },
  {
   "cell_type": "code",
   "execution_count": 15,
   "id": "7f124756",
   "metadata": {},
   "outputs": [],
   "source": [
    "physically_simulated = make_array()\n",
    "twelve_flips = make_array()\n",
    "\n",
    "for i in np.arange(coin_flips.num_rows):\n",
    "    flip_result = coin_flips.row(i).item('Coin Flip')\n",
    "    twelve_flips = np.append(twelve_flips, flip_result)\n",
    "    if len(twelve_flips)==12:\n",
    "        num_heads_in_twelve = np.count_nonzero(twelve_flips == 'H')\n",
    "        physically_simulated = np.append(physically_simulated,num_heads_in_twelve)\n",
    "        twelve_flips = make_array()"
   ]
  },
  {
   "cell_type": "code",
   "execution_count": 19,
   "id": "aa75c32e",
   "metadata": {},
   "outputs": [
    {
     "data": {
      "image/png": "[encoded data removed]",
      "text/plain": [
       "<Figure size 600x400 with 1 Axes>"
      ]
     },
     "metadata": {},
     "output_type": "display_data"
    }
   ],
   "source": [
    "Table().with_columns('Physically Simulated Statistic', physically_simulated).hist()\n",
    "plt.scatter(observed_parkinson, -0.002, color='red', s=40);"
   ]
  },
  {
   "cell_type": "markdown",
   "id": "f743ad86",
   "metadata": {},
   "source": [
    "## Hypothesis Test Simulation: Comparing Distributions (Using TVD as a Test Statistic)\n",
    "\n",
    "We are re-visitng the 'Swain v. Alabama' Supreme Court Case by investigating Jury representation a bit more locally. Consider the following study conducted by the American Civil Liberties Union of Northern California on [Jury representataion in Alameda County](https://www.aclunc.org/sites/default/files/racial_and_ethnic_disparities_in_alameda_county_jury_pools.pdf)"
   ]
  },
  {
   "cell_type": "code",
   "execution_count": null,
   "id": "112e5b59",
   "metadata": {},
   "outputs": [],
   "source": [
    "jury = Table().read_table('Jury_Alameda.csv')\n",
    "jury"
   ]
  },
  {
   "cell_type": "code",
   "execution_count": null,
   "id": "35cab78d",
   "metadata": {},
   "outputs": [],
   "source": [
    "def total_variation_distance(distribuion1 , distribution2):\n",
    "    return sum(np.abs(distribution1 - distribution2))"
   ]
  },
  {
   "cell_type": "code",
   "execution_count": null,
   "id": "37015f4d",
   "metadata": {},
   "outputs": [],
   "source": [
    "observed_tvd = ..."
   ]
  },
  {
   "cell_type": "code",
   "execution_count": null,
   "id": "13d7756e",
   "metadata": {},
   "outputs": [],
   "source": []
  },
  {
   "cell_type": "code",
   "execution_count": null,
   "id": "b7a8e523",
   "metadata": {},
   "outputs": [],
   "source": []
  },
  {
   "cell_type": "code",
   "execution_count": null,
   "id": "dd1b396c",
   "metadata": {},
   "outputs": [],
   "source": []
  },
  {
   "cell_type": "code",
   "execution_count": null,
   "id": "7acda711",
   "metadata": {},
   "outputs": [],
   "source": [
    "Table().with_column(\"Simulated TVDs\", simulated_tvds).hist()\n",
    "plt.scatter(observed_tvd, 0, color='red', s=70, zorder=2);\n",
    "plt.show();"
   ]
  },
  {
   "cell_type": "code",
   "execution_count": null,
   "id": "38bfa7c6",
   "metadata": {},
   "outputs": [],
   "source": [
    "p_value_tvd = np.count_nonzero(simulated_tvds >= observed_tvd) / len(simulated_tvds) \n",
    "p_value_tvd"
   ]
  },
  {
   "cell_type": "markdown",
   "id": "53354e02",
   "metadata": {},
   "source": [
    "## Hypothesis Test Simulation: NBA rigged? (Who is Older? a.k.a. A/B Testing)"
   ]
  },
  {
   "cell_type": "code",
   "execution_count": 2,
   "id": "c25dc441",
   "metadata": {},
   "outputs": [
    {
     "data": {
      "image/jpeg": "[encoded data removed]",
      "text/html": [
       "\n",
       "        <iframe\n",
       "            width=\"400\"\n",
       "            height=\"300\"\n",
       "            src=\"https://www.youtube.com/embed/NU_QFMJD3z0\"\n",
       "            frameborder=\"0\"\n",
       "            allowfullscreen\n",
       "            \n",
       "        ></iframe>\n",
       "        "
      ],
      "text/plain": [
       "<IPython.lib.display.YouTubeVideo at 0x7fe482450490>"
      ]
     },
     "execution_count": 2,
     "metadata": {},
     "output_type": "execute_result"
    }
   ],
   "source": [
    "laker_fta = Table().read_table('LAL_2002_FTA_Table.csv')\n",
    "#Claim starts around 3:05\n",
    "YouTubeVideo(\"NU_QFMJD3z0\")"
   ]
  },
  {
   "cell_type": "code",
   "execution_count": null,
   "id": "d2f4e3f4",
   "metadata": {},
   "outputs": [],
   "source": [
    "laker_fta"
   ]
  },
  {
   "cell_type": "code",
   "execution_count": null,
   "id": "8f9252a7",
   "metadata": {},
   "outputs": [],
   "source": [
    "def sac_or_notsac(opponent):\n",
    "    if opponent == 'SAC':\n",
    "        return opponent\n",
    "    else:\n",
    "        return 'Not SAC'\n",
    "laker_fta = laker_fta.with_column('A/B Opp', laker_fta.apply(sac_or_notsac,'Opponent'))\n",
    "laker_fta.show()"
   ]
  },
  {
   "cell_type": "code",
   "execution_count": null,
   "id": "f413d0da",
   "metadata": {},
   "outputs": [],
   "source": [
    "observed_diff_ab = ..."
   ]
  },
  {
   "cell_type": "code",
   "execution_count": null,
   "id": "5cdcbb0e",
   "metadata": {},
   "outputs": [],
   "source": [
    "shuffled_labels = ..."
   ]
  },
  {
   "cell_type": "code",
   "execution_count": null,
   "id": "2db72624",
   "metadata": {},
   "outputs": [],
   "source": []
  },
  {
   "cell_type": "code",
   "execution_count": null,
   "id": "c5e8b2f3",
   "metadata": {},
   "outputs": [],
   "source": [
    "simulated_statistics_ab = make_array()\n",
    "\n",
    "repetitions = ...\n"
   ]
  },
  {
   "cell_type": "code",
   "execution_count": null,
   "id": "3fa11742",
   "metadata": {},
   "outputs": [],
   "source": [
    "Table().with_columns('Simulated Statistic', simulated_statistics_ab).hist()\n",
    "plt.scatter(observed_diff_ab, -0.002, color='red', s=70);"
   ]
  },
  {
   "cell_type": "code",
   "execution_count": null,
   "id": "4387ece7",
   "metadata": {},
   "outputs": [],
   "source": [
    "p_val = np.count_nonzero(simulated_statistics_ab >= observed_diff_ab) / repetitions\n",
    "p_val"
   ]
  }
 ],
 "metadata": {
  "kernelspec": {
   "display_name": "Python 3 (ipykernel)",
   "language": "python",
   "name": "python3"
  },
  "language_info": {
   "codemirror_mode": {
    "name": "ipython",
    "version": 3
   },
   "file_extension": ".py",
   "mimetype": "text/x-python",
   "name": "python",
   "nbconvert_exporter": "python",
   "pygments_lexer": "ipython3",
   "version": "3.10.11"
  }
 },
 "nbformat": 4,
 "nbformat_minor": 5
}
